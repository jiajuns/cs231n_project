{
 "cells": [
  {
   "cell_type": "code",
   "execution_count": 23,
   "metadata": {
    "collapsed": false
   },
   "outputs": [
    {
     "name": "stdout",
     "output_type": "stream",
     "text": [
      "The autoreload extension is already loaded. To reload it, use:\n",
      "  %reload_ext autoreload\n"
     ]
    }
   ],
   "source": [
    "# !usr/env python 3.5\n",
    "from load_data import Download_Video\n",
    "from pretrained_model import video_classification\n",
    "from datetime import datetime\n",
    "import os\n",
    "import h5py\n",
    "\n",
    "%load_ext autoreload\n",
    "%autoreload 2"
   ]
  },
  {
   "cell_type": "code",
   "execution_count": 2,
   "metadata": {
    "collapsed": true
   },
   "outputs": [
    {
     "name": "stdout",
     "output_type": "stream",
     "text": [
      "video17 url is invalid\n",
      "video23 url is invalid\n",
      "video34 url is invalid\n",
      "video48 url is invalid\n",
      "video50 url is invalid\n",
      "video67 url is invalid\n",
      "video70 url is invalid\n",
      "video72 url is invalid\n",
      "video77 url is invalid\n",
      "video83 url is invalid\n",
      "video91 url is invalid\n",
      "video95 url is invalid\n",
      "video105 url is invalid\n",
      "video118 url is invalid\n",
      "video121 url is invalid\n",
      "video128 url is invalid\n",
      "video131 url is invalid\n",
      "video135 url is invalid\n",
      "video144 url is invalid\n",
      "video152 url is invalid\n",
      "video154 url is invalid\n",
      "video155 url is invalid\n",
      "video170 url is invalid\n",
      "video182 url is invalid\n",
      "video190 url is invalid\n",
      "video194 url is invalid\n",
      "video196 url is invalid\n",
      "video204 url is invalid\n",
      "video215 url is invalid\n",
      "video216 url is invalid\n",
      "video228 url is invalid\n",
      "video250 url is invalid\n",
      "video267 url is invalid\n",
      "video303 url is invalid\n",
      "video311 url is invalid\n",
      "video317 url is invalid\n",
      "video323 url is invalid\n",
      "video324 url is invalid\n",
      "video332 url is invalid\n",
      "video336 url is invalid\n",
      "video337 url is invalid\n",
      "video345 url is invalid\n",
      "video355 url is invalid\n",
      "video360 url is invalid\n",
      "video368 url is invalid\n",
      "video376 url is invalid\n",
      "video405 url is invalid\n",
      "video427 url is invalid\n",
      "video430 url is invalid\n",
      "video434 url is invalid\n",
      "video437 url is invalid\n",
      "video443 url is invalid\n",
      "video444 url is invalid\n",
      "video447 url is invalid\n",
      "video449 url is invalid\n",
      "video454 url is invalid\n",
      "video456 url is invalid\n",
      "video462 url is invalid\n",
      "video495 url is invalid\n",
      "video521 url is invalid\n",
      "video534 url is invalid\n",
      "video536 url is invalid\n",
      "video537 url is invalid\n",
      "video544 url is invalid\n",
      "video545 url is invalid\n",
      "Download time 0:12:30.203815\n"
     ]
    }
   ],
   "source": [
    "# load data\n",
    "video_num = 500\n",
    "frame_count = 10\n",
    "video_time = 10\n",
    "d = Download_Video(video_num, frame_count, video_time)\n",
    "tic = datetime.now()\n",
    "d.download()\n",
    "toc = datetime.now()\n",
    "print('Download time {0}'.format(toc-tic))"
   ]
  },
  {
   "cell_type": "code",
   "execution_count": 3,
   "metadata": {
    "collapsed": true
   },
   "outputs": [
    {
     "name": "stdout",
     "output_type": "stream",
     "text": [
      "\n",
      "[MoviePy] Running:\n",
      ">>> ffmpeg -y -i /home/sunjiajun/cs231n_project/datasets/videos/video0.mp4 -ss 137.72 -t 10.00 -vcodec copy -acodec copy /home/sunjiajun/cs231n_project/datasets/processed/processed_video0.mp4\n",
      "... command successful.\n",
      "\n",
      "[MoviePy] Running:\n",
      ">>> ffmpeg -y -i /home/sunjiajun/cs231n_project/datasets/videos/video1.mp4 -ss 184.33 -t 10.00 -vcodec copy -acodec copy /home/sunjiajun/cs231n_project/datasets/processed/processed_video1.mp4\n",
      "... command successful.\n"
     ]
    },
    {
     "name": "stderr",
     "output_type": "stream",
     "text": [
      "WARNING:py.warnings:/home/sunjiajun/cs231n_project/.env/lib/python3.5/site-packages/moviepy/video/io/ffmpeg_reader.py:132: UserWarning: Warning: in file /home/sunjiajun/cs231n_project/datasets/processed/processed_video1.mp4, 486000 bytes wanted but 0 bytes read,at frame 250/251, at time 10.00/10.01 sec. Using the last valid frame instead.\n",
      "  UserWarning)\n",
      "\n",
      "WARNING:py.warnings:/home/sunjiajun/cs231n_project/.env/lib/python3.5/site-packages/moviepy/video/io/ffmpeg_reader.py:132: UserWarning: Warning: in file /home/sunjiajun/cs231n_project/datasets/processed/processed_video1.mp4, 486000 bytes wanted but 0 bytes read,at frame 250/251, at time 10.00/10.01 sec. Using the last valid frame instead.\n",
      "  UserWarning)\n",
      "\n"
     ]
    },
    {
     "name": "stdout",
     "output_type": "stream",
     "text": [
      "\n",
      "[MoviePy] Running:\n",
      ">>> ffmpeg -y -i /home/sunjiajun/cs231n_project/datasets/videos/video2.mp4 -ss 31.17 -t 10.00 -vcodec copy -acodec copy /home/sunjiajun/cs231n_project/datasets/processed/processed_video2.mp4\n",
      "... command successful.\n"
     ]
    },
    {
     "name": "stderr",
     "output_type": "stream",
     "text": [
      "WARNING:py.warnings:/home/sunjiajun/cs231n_project/.env/lib/python3.5/site-packages/moviepy/video/io/ffmpeg_reader.py:132: UserWarning: Warning: in file /home/sunjiajun/cs231n_project/datasets/processed/processed_video2.mp4, 691200 bytes wanted but 0 bytes read,at frame 299/301, at time 9.98/10.01 sec. Using the last valid frame instead.\n",
      "  UserWarning)\n",
      "\n",
      "WARNING:py.warnings:/home/sunjiajun/cs231n_project/.env/lib/python3.5/site-packages/moviepy/video/io/ffmpeg_reader.py:132: UserWarning: Warning: in file /home/sunjiajun/cs231n_project/datasets/processed/processed_video2.mp4, 691200 bytes wanted but 0 bytes read,at frame 299/301, at time 9.98/10.01 sec. Using the last valid frame instead.\n",
      "  UserWarning)\n",
      "\n"
     ]
    },
    {
     "name": "stdout",
     "output_type": "stream",
     "text": [
      "\n",
      "[MoviePy] Running:\n",
      ">>> ffmpeg -y -i /home/sunjiajun/cs231n_project/datasets/videos/video3.mp4 -ss 48.26 -t 10.00 -vcodec copy -acodec copy /home/sunjiajun/cs231n_project/datasets/processed/processed_video3.mp4\n",
      "... command successful.\n"
     ]
    },
    {
     "name": "stderr",
     "output_type": "stream",
     "text": [
      "WARNING:py.warnings:/home/sunjiajun/cs231n_project/.env/lib/python3.5/site-packages/moviepy/video/io/ffmpeg_reader.py:132: UserWarning: Warning: in file /home/sunjiajun/cs231n_project/datasets/processed/processed_video3.mp4, 691200 bytes wanted but 0 bytes read,at frame 240/241, at time 10.00/10.01 sec. Using the last valid frame instead.\n",
      "  UserWarning)\n",
      "\n",
      "WARNING:py.warnings:/home/sunjiajun/cs231n_project/.env/lib/python3.5/site-packages/moviepy/video/io/ffmpeg_reader.py:132: UserWarning: Warning: in file /home/sunjiajun/cs231n_project/datasets/processed/processed_video3.mp4, 691200 bytes wanted but 0 bytes read,at frame 240/241, at time 10.00/10.01 sec. Using the last valid frame instead.\n",
      "  UserWarning)\n",
      "\n"
     ]
    },
    {
     "name": "stdout",
     "output_type": "stream",
     "text": [
      "\n",
      "[MoviePy] Running:\n",
      ">>> ffmpeg -y -i /home/sunjiajun/cs231n_project/datasets/videos/video4.mp4 -ss 268.58 -t 10.00 -vcodec copy -acodec copy /home/sunjiajun/cs231n_project/datasets/processed/processed_video4.mp4\n",
      "... command successful.\n",
      "\n",
      "[MoviePy] Running:\n",
      ">>> ffmpeg -y -i /home/sunjiajun/cs231n_project/datasets/videos/video5.mp4 -ss 0.00 -t 10.00 -vcodec copy -acodec copy /home/sunjiajun/cs231n_project/datasets/processed/processed_video5.mp4\n",
      "... command successful.\n"
     ]
    },
    {
     "name": "stderr",
     "output_type": "stream",
     "text": [
      "WARNING:py.warnings:/home/sunjiajun/cs231n_project/.env/lib/python3.5/site-packages/moviepy/video/io/ffmpeg_reader.py:132: UserWarning: Warning: in file /home/sunjiajun/cs231n_project/datasets/processed/processed_video5.mp4, 648000 bytes wanted but 0 bytes read,at frame 100/101, at time 10.00/10.01 sec. Using the last valid frame instead.\n",
      "  UserWarning)\n",
      "\n",
      "WARNING:py.warnings:/home/sunjiajun/cs231n_project/.env/lib/python3.5/site-packages/moviepy/video/io/ffmpeg_reader.py:132: UserWarning: Warning: in file /home/sunjiajun/cs231n_project/datasets/processed/processed_video5.mp4, 648000 bytes wanted but 0 bytes read,at frame 100/101, at time 10.00/10.01 sec. Using the last valid frame instead.\n",
      "  UserWarning)\n",
      "\n"
     ]
    },
    {
     "name": "stdout",
     "output_type": "stream",
     "text": [
      "\n",
      "[MoviePy] Running:\n",
      ">>> ffmpeg -y -i /home/sunjiajun/cs231n_project/datasets/videos/video6.mp4 -ss 143.93 -t 10.00 -vcodec copy -acodec copy /home/sunjiajun/cs231n_project/datasets/processed/processed_video6.mp4\n",
      "... command successful.\n"
     ]
    },
    {
     "name": "stderr",
     "output_type": "stream",
     "text": [
      "WARNING:py.warnings:/home/sunjiajun/cs231n_project/.env/lib/python3.5/site-packages/moviepy/video/io/ffmpeg_reader.py:132: UserWarning: Warning: in file /home/sunjiajun/cs231n_project/datasets/processed/processed_video6.mp4, 518400 bytes wanted but 0 bytes read,at frame 300/301, at time 10.00/10.01 sec. Using the last valid frame instead.\n",
      "  UserWarning)\n",
      "\n",
      "WARNING:py.warnings:/home/sunjiajun/cs231n_project/.env/lib/python3.5/site-packages/moviepy/video/io/ffmpeg_reader.py:132: UserWarning: Warning: in file /home/sunjiajun/cs231n_project/datasets/processed/processed_video6.mp4, 518400 bytes wanted but 0 bytes read,at frame 300/301, at time 10.00/10.01 sec. Using the last valid frame instead.\n",
      "  UserWarning)\n",
      "\n"
     ]
    },
    {
     "name": "stdout",
     "output_type": "stream",
     "text": [
      "\n",
      "[MoviePy] Running:\n",
      ">>> ffmpeg -y -i /home/sunjiajun/cs231n_project/datasets/videos/video7.mp4 -ss 81.06 -t 10.00 -vcodec copy -acodec copy /home/sunjiajun/cs231n_project/datasets/processed/processed_video7.mp4\n",
      "... command successful.\n",
      "\n",
      "[MoviePy] Running:\n",
      ">>> ffmpeg -y -i /home/sunjiajun/cs231n_project/datasets/videos/video8.mp4 -ss 0.00 -t 10.00 -vcodec copy -acodec copy /home/sunjiajun/cs231n_project/datasets/processed/processed_video8.mp4\n",
      "... command successful.\n",
      "\n",
      "[MoviePy] Running:\n",
      ">>> ffmpeg -y -i /home/sunjiajun/cs231n_project/datasets/videos/video9.mp4 -ss 0.00 -t 10.00 -vcodec copy -acodec copy /home/sunjiajun/cs231n_project/datasets/processed/processed_video9.mp4\n",
      "... command successful.\n"
     ]
    },
    {
     "name": "stderr",
     "output_type": "stream",
     "text": [
      "WARNING:py.warnings:/home/sunjiajun/cs231n_project/.env/lib/python3.5/site-packages/moviepy/video/io/ffmpeg_reader.py:132: UserWarning: Warning: in file /home/sunjiajun/cs231n_project/datasets/processed/processed_video9.mp4, 691200 bytes wanted but 0 bytes read,at frame 250/251, at time 10.00/10.01 sec. Using the last valid frame instead.\n",
      "  UserWarning)\n",
      "\n",
      "WARNING:py.warnings:/home/sunjiajun/cs231n_project/.env/lib/python3.5/site-packages/moviepy/video/io/ffmpeg_reader.py:132: UserWarning: Warning: in file /home/sunjiajun/cs231n_project/datasets/processed/processed_video9.mp4, 691200 bytes wanted but 0 bytes read,at frame 250/251, at time 10.00/10.01 sec. Using the last valid frame instead.\n",
      "  UserWarning)\n",
      "\n"
     ]
    },
    {
     "name": "stdout",
     "output_type": "stream",
     "text": [
      "\n",
      "[MoviePy] Running:\n",
      ">>> ffmpeg -y -i /home/sunjiajun/cs231n_project/datasets/videos/video10.mp4 -ss 33.33 -t 10.00 -vcodec copy -acodec copy /home/sunjiajun/cs231n_project/datasets/processed/processed_video10.mp4\n",
      "... command successful.\n"
     ]
    },
    {
     "name": "stderr",
     "output_type": "stream",
     "text": [
      "WARNING:py.warnings:/home/sunjiajun/cs231n_project/.env/lib/python3.5/site-packages/moviepy/video/io/ffmpeg_reader.py:132: UserWarning: Warning: in file /home/sunjiajun/cs231n_project/datasets/processed/processed_video10.mp4, 691200 bytes wanted but 0 bytes read,at frame 250/251, at time 10.00/10.01 sec. Using the last valid frame instead.\n",
      "  UserWarning)\n",
      "\n",
      "WARNING:py.warnings:/home/sunjiajun/cs231n_project/.env/lib/python3.5/site-packages/moviepy/video/io/ffmpeg_reader.py:132: UserWarning: Warning: in file /home/sunjiajun/cs231n_project/datasets/processed/processed_video10.mp4, 691200 bytes wanted but 0 bytes read,at frame 250/251, at time 10.00/10.01 sec. Using the last valid frame instead.\n",
      "  UserWarning)\n",
      "\n"
     ]
    },
    {
     "name": "stdout",
     "output_type": "stream",
     "text": [
      "\n",
      "[MoviePy] Running:\n",
      ">>> ffmpeg -y -i /home/sunjiajun/cs231n_project/datasets/videos/video11.mp4 -ss 81.76 -t 10.00 -vcodec copy -acodec copy /home/sunjiajun/cs231n_project/datasets/processed/processed_video11.mp4\n",
      "... command successful.\n",
      "\n",
      "[MoviePy] Running:\n",
      ">>> ffmpeg -y -i /home/sunjiajun/cs231n_project/datasets/videos/video12.mp4 -ss 73.08 -t 10.00 -vcodec copy -acodec copy /home/sunjiajun/cs231n_project/datasets/processed/processed_video12.mp4\n",
      "... command successful.\n"
     ]
    },
    {
     "name": "stderr",
     "output_type": "stream",
     "text": [
      "WARNING:py.warnings:/home/sunjiajun/cs231n_project/.env/lib/python3.5/site-packages/moviepy/video/io/ffmpeg_reader.py:132: UserWarning: Warning: in file /home/sunjiajun/cs231n_project/datasets/processed/processed_video12.mp4, 691200 bytes wanted but 0 bytes read,at frame 239/240, at time 9.97/9.99 sec. Using the last valid frame instead.\n",
      "  UserWarning)\n",
      "\n",
      "WARNING:py.warnings:/home/sunjiajun/cs231n_project/.env/lib/python3.5/site-packages/moviepy/video/io/ffmpeg_reader.py:132: UserWarning: Warning: in file /home/sunjiajun/cs231n_project/datasets/processed/processed_video12.mp4, 691200 bytes wanted but 0 bytes read,at frame 239/240, at time 9.97/9.99 sec. Using the last valid frame instead.\n",
      "  UserWarning)\n",
      "\n"
     ]
    },
    {
     "name": "stdout",
     "output_type": "stream",
     "text": [
      "\n",
      "[MoviePy] Running:\n",
      ">>> ffmpeg -y -i /home/sunjiajun/cs231n_project/datasets/videos/video13.mp4 -ss 682.77 -t 10.00 -vcodec copy -acodec copy /home/sunjiajun/cs231n_project/datasets/processed/processed_video13.mp4\n",
      "... command successful.\n"
     ]
    },
    {
     "name": "stderr",
     "output_type": "stream",
     "text": [
      "WARNING:py.warnings:/home/sunjiajun/cs231n_project/.env/lib/python3.5/site-packages/moviepy/video/io/ffmpeg_reader.py:132: UserWarning: Warning: in file /home/sunjiajun/cs231n_project/datasets/processed/processed_video13.mp4, 691200 bytes wanted but 0 bytes read,at frame 250/251, at time 10.00/10.01 sec. Using the last valid frame instead.\n",
      "  UserWarning)\n",
      "\n",
      "WARNING:py.warnings:/home/sunjiajun/cs231n_project/.env/lib/python3.5/site-packages/moviepy/video/io/ffmpeg_reader.py:132: UserWarning: Warning: in file /home/sunjiajun/cs231n_project/datasets/processed/processed_video13.mp4, 691200 bytes wanted but 0 bytes read,at frame 250/251, at time 10.00/10.01 sec. Using the last valid frame instead.\n",
      "  UserWarning)\n",
      "\n"
     ]
    },
    {
     "name": "stdout",
     "output_type": "stream",
     "text": [
      "\n",
      "[MoviePy] Running:\n",
      ">>> ffmpeg -y -i /home/sunjiajun/cs231n_project/datasets/videos/video14.mp4 -ss 81.69 -t 10.00 -vcodec copy -acodec copy /home/sunjiajun/cs231n_project/datasets/processed/processed_video14.mp4\n",
      "... command successful.\n",
      "\n",
      "[MoviePy] Running:\n",
      ">>> ffmpeg -y -i /home/sunjiajun/cs231n_project/datasets/videos/video15.mp4 -ss 158.11 -t 10.00 -vcodec copy -acodec copy /home/sunjiajun/cs231n_project/datasets/processed/processed_video15.mp4\n",
      "... command successful.\n",
      "\n",
      "[MoviePy] Running:\n",
      ">>> ffmpeg -y -i /home/sunjiajun/cs231n_project/datasets/videos/video16.mp4 -ss 268.85 -t 10.00 -vcodec copy -acodec copy /home/sunjiajun/cs231n_project/datasets/processed/processed_video16.mp4\n",
      "... command successful.\n"
     ]
    },
    {
     "name": "stderr",
     "output_type": "stream",
     "text": [
      "WARNING:py.warnings:/home/sunjiajun/cs231n_project/.env/lib/python3.5/site-packages/moviepy/video/io/ffmpeg_reader.py:132: UserWarning: Warning: in file /home/sunjiajun/cs231n_project/datasets/processed/processed_video16.mp4, 691200 bytes wanted but 0 bytes read,at frame 300/301, at time 10.00/10.01 sec. Using the last valid frame instead.\n",
      "  UserWarning)\n",
      "\n",
      "WARNING:py.warnings:/home/sunjiajun/cs231n_project/.env/lib/python3.5/site-packages/moviepy/video/io/ffmpeg_reader.py:132: UserWarning: Warning: in file /home/sunjiajun/cs231n_project/datasets/processed/processed_video16.mp4, 691200 bytes wanted but 0 bytes read,at frame 300/301, at time 10.00/10.01 sec. Using the last valid frame instead.\n",
      "  UserWarning)\n",
      "\n"
     ]
    },
    {
     "name": "stdout",
     "output_type": "stream",
     "text": [
      "video17 url is invalid\n",
      "\n",
      "[MoviePy] Running:\n",
      ">>> ffmpeg -y -i /home/sunjiajun/cs231n_project/datasets/videos/video18.mp4 -ss 114.16 -t 10.00 -vcodec copy -acodec copy /home/sunjiajun/cs231n_project/datasets/processed/processed_video18.mp4\n",
      "... command successful.\n",
      "\n",
      "[MoviePy] Running:\n",
      ">>> ffmpeg -y -i /home/sunjiajun/cs231n_project/datasets/videos/video19.mp4 -ss 5.05 -t 10.00 -vcodec copy -acodec copy /home/sunjiajun/cs231n_project/datasets/processed/processed_video19.mp4\n",
      "... command successful.\n"
     ]
    },
    {
     "name": "stderr",
     "output_type": "stream",
     "text": [
      "WARNING:py.warnings:/home/sunjiajun/cs231n_project/.env/lib/python3.5/site-packages/moviepy/video/io/ffmpeg_reader.py:132: UserWarning: Warning: in file /home/sunjiajun/cs231n_project/datasets/processed/processed_video19.mp4, 486000 bytes wanted but 0 bytes read,at frame 250/251, at time 10.00/10.01 sec. Using the last valid frame instead.\n",
      "  UserWarning)\n",
      "\n",
      "WARNING:py.warnings:/home/sunjiajun/cs231n_project/.env/lib/python3.5/site-packages/moviepy/video/io/ffmpeg_reader.py:132: UserWarning: Warning: in file /home/sunjiajun/cs231n_project/datasets/processed/processed_video19.mp4, 486000 bytes wanted but 0 bytes read,at frame 250/251, at time 10.00/10.01 sec. Using the last valid frame instead.\n",
      "  UserWarning)\n",
      "\n"
     ]
    },
    {
     "name": "stdout",
     "output_type": "stream",
     "text": [
      "\n",
      "[MoviePy] Running:\n",
      ">>> ffmpeg -y -i /home/sunjiajun/cs231n_project/datasets/videos/video20.mp4 -ss 100.97 -t 10.00 -vcodec copy -acodec copy /home/sunjiajun/cs231n_project/datasets/processed/processed_video20.mp4\n",
      "... command successful.\n"
     ]
    },
    {
     "name": "stderr",
     "output_type": "stream",
     "text": [
      "WARNING:py.warnings:/home/sunjiajun/cs231n_project/.env/lib/python3.5/site-packages/moviepy/video/io/ffmpeg_reader.py:132: UserWarning: Warning: in file /home/sunjiajun/cs231n_project/datasets/processed/processed_video20.mp4, 691200 bytes wanted but 0 bytes read,at frame 250/251, at time 10.00/10.01 sec. Using the last valid frame instead.\n",
      "  UserWarning)\n",
      "\n",
      "WARNING:py.warnings:/home/sunjiajun/cs231n_project/.env/lib/python3.5/site-packages/moviepy/video/io/ffmpeg_reader.py:132: UserWarning: Warning: in file /home/sunjiajun/cs231n_project/datasets/processed/processed_video20.mp4, 691200 bytes wanted but 0 bytes read,at frame 250/251, at time 10.00/10.01 sec. Using the last valid frame instead.\n",
      "  UserWarning)\n",
      "\n"
     ]
    },
    {
     "name": "stdout",
     "output_type": "stream",
     "text": [
      "\n",
      "[MoviePy] Running:\n",
      ">>> ffmpeg -y -i /home/sunjiajun/cs231n_project/datasets/videos/video21.mp4 -ss 75.19 -t 10.00 -vcodec copy -acodec copy /home/sunjiajun/cs231n_project/datasets/processed/processed_video21.mp4\n",
      "... command successful.\n",
      "\n",
      "[MoviePy] Running:\n",
      ">>> ffmpeg -y -i /home/sunjiajun/cs231n_project/datasets/videos/video22.mp4 -ss 20.05 -t 10.00 -vcodec copy -acodec copy /home/sunjiajun/cs231n_project/datasets/processed/processed_video22.mp4\n",
      "... command successful.\n"
     ]
    },
    {
     "name": "stderr",
     "output_type": "stream",
     "text": [
      "WARNING:py.warnings:/home/sunjiajun/cs231n_project/.env/lib/python3.5/site-packages/moviepy/video/io/ffmpeg_reader.py:132: UserWarning: Warning: in file /home/sunjiajun/cs231n_project/datasets/processed/processed_video22.mp4, 691200 bytes wanted but 0 bytes read,at frame 250/251, at time 10.00/10.01 sec. Using the last valid frame instead.\n",
      "  UserWarning)\n",
      "\n",
      "WARNING:py.warnings:/home/sunjiajun/cs231n_project/.env/lib/python3.5/site-packages/moviepy/video/io/ffmpeg_reader.py:132: UserWarning: Warning: in file /home/sunjiajun/cs231n_project/datasets/processed/processed_video22.mp4, 691200 bytes wanted but 0 bytes read,at frame 250/251, at time 10.00/10.01 sec. Using the last valid frame instead.\n",
      "  UserWarning)\n",
      "\n"
     ]
    },
    {
     "name": "stdout",
     "output_type": "stream",
     "text": [
      "video23 url is invalid\n",
      "\n",
      "[MoviePy] Running:\n",
      ">>> ffmpeg -y -i /home/sunjiajun/cs231n_project/datasets/videos/video24.mp4 -ss 33.51 -t 10.00 -vcodec copy -acodec copy /home/sunjiajun/cs231n_project/datasets/processed/processed_video24.mp4\n",
      "... command successful.\n",
      "\n",
      "[MoviePy] Running:\n",
      ">>> ffmpeg -y -i /home/sunjiajun/cs231n_project/datasets/videos/video25.mp4 -ss 146.43 -t 10.00 -vcodec copy -acodec copy /home/sunjiajun/cs231n_project/datasets/processed/processed_video25.mp4\n",
      "... command successful.\n",
      "\n",
      "[MoviePy] Running:\n",
      ">>> ffmpeg -y -i /home/sunjiajun/cs231n_project/datasets/videos/video26.mp4 -ss 45.89 -t 10.00 -vcodec copy -acodec copy /home/sunjiajun/cs231n_project/datasets/processed/processed_video26.mp4\n",
      "... command successful.\n",
      "\n",
      "[MoviePy] Running:\n",
      ">>> ffmpeg -y -i /home/sunjiajun/cs231n_project/datasets/videos/video27.mp4 -ss 97.92 -t 10.00 -vcodec copy -acodec copy /home/sunjiajun/cs231n_project/datasets/processed/processed_video27.mp4\n",
      "... command successful.\n",
      "\n",
      "[MoviePy] Running:\n",
      ">>> ffmpeg -y -i /home/sunjiajun/cs231n_project/datasets/videos/video28.mp4 -ss 50.97 -t 10.00 -vcodec copy -acodec copy /home/sunjiajun/cs231n_project/datasets/processed/processed_video28.mp4\n",
      "... command successful.\n"
     ]
    },
    {
     "name": "stderr",
     "output_type": "stream",
     "text": [
      "WARNING:py.warnings:/home/sunjiajun/cs231n_project/.env/lib/python3.5/site-packages/moviepy/video/io/ffmpeg_reader.py:132: UserWarning: Warning: in file /home/sunjiajun/cs231n_project/datasets/processed/processed_video28.mp4, 691200 bytes wanted but 0 bytes read,at frame 239/240, at time 9.97/9.99 sec. Using the last valid frame instead.\n",
      "  UserWarning)\n",
      "\n",
      "WARNING:py.warnings:/home/sunjiajun/cs231n_project/.env/lib/python3.5/site-packages/moviepy/video/io/ffmpeg_reader.py:132: UserWarning: Warning: in file /home/sunjiajun/cs231n_project/datasets/processed/processed_video28.mp4, 691200 bytes wanted but 0 bytes read,at frame 239/240, at time 9.97/9.99 sec. Using the last valid frame instead.\n",
      "  UserWarning)\n",
      "\n"
     ]
    },
    {
     "name": "stdout",
     "output_type": "stream",
     "text": [
      "\n",
      "[MoviePy] Running:\n",
      ">>> ffmpeg -y -i /home/sunjiajun/cs231n_project/datasets/videos/video29.mp4 -ss 147.08 -t 10.00 -vcodec copy -acodec copy /home/sunjiajun/cs231n_project/datasets/processed/processed_video29.mp4\n",
      "... command successful.\n",
      "\n",
      "[MoviePy] Running:\n",
      ">>> ffmpeg -y -i /home/sunjiajun/cs231n_project/datasets/videos/video30.mp4 -ss 260.16 -t 10.00 -vcodec copy -acodec copy /home/sunjiajun/cs231n_project/datasets/processed/processed_video30.mp4\n",
      "... command successful.\n"
     ]
    },
    {
     "name": "stderr",
     "output_type": "stream",
     "text": [
      "WARNING:py.warnings:/home/sunjiajun/cs231n_project/.env/lib/python3.5/site-packages/moviepy/video/io/ffmpeg_reader.py:132: UserWarning: Warning: in file /home/sunjiajun/cs231n_project/datasets/processed/processed_video30.mp4, 583200 bytes wanted but 0 bytes read,at frame 299/300, at time 9.98/9.99 sec. Using the last valid frame instead.\n",
      "  UserWarning)\n",
      "\n",
      "WARNING:py.warnings:/home/sunjiajun/cs231n_project/.env/lib/python3.5/site-packages/moviepy/video/io/ffmpeg_reader.py:132: UserWarning: Warning: in file /home/sunjiajun/cs231n_project/datasets/processed/processed_video30.mp4, 583200 bytes wanted but 0 bytes read,at frame 299/300, at time 9.98/9.99 sec. Using the last valid frame instead.\n",
      "  UserWarning)\n",
      "\n"
     ]
    },
    {
     "name": "stdout",
     "output_type": "stream",
     "text": [
      "\n",
      "[MoviePy] Running:\n",
      ">>> ffmpeg -y -i /home/sunjiajun/cs231n_project/datasets/videos/video31.mp4 -ss 186.17 -t 10.00 -vcodec copy -acodec copy /home/sunjiajun/cs231n_project/datasets/processed/processed_video31.mp4\n",
      "... command successful.\n",
      "\n",
      "[MoviePy] Running:\n",
      ">>> ffmpeg -y -i /home/sunjiajun/cs231n_project/datasets/videos/video32.mp4 -ss 28.56 -t 10.00 -vcodec copy -acodec copy /home/sunjiajun/cs231n_project/datasets/processed/processed_video32.mp4\n",
      "... command successful.\n"
     ]
    },
    {
     "name": "stderr",
     "output_type": "stream",
     "text": [
      "WARNING:py.warnings:/home/sunjiajun/cs231n_project/.env/lib/python3.5/site-packages/moviepy/video/io/ffmpeg_reader.py:132: UserWarning: Warning: in file /home/sunjiajun/cs231n_project/datasets/processed/processed_video32.mp4, 691200 bytes wanted but 0 bytes read,at frame 250/251, at time 10.00/10.01 sec. Using the last valid frame instead.\n",
      "  UserWarning)\n",
      "\n",
      "WARNING:py.warnings:/home/sunjiajun/cs231n_project/.env/lib/python3.5/site-packages/moviepy/video/io/ffmpeg_reader.py:132: UserWarning: Warning: in file /home/sunjiajun/cs231n_project/datasets/processed/processed_video32.mp4, 691200 bytes wanted but 0 bytes read,at frame 250/251, at time 10.00/10.01 sec. Using the last valid frame instead.\n",
      "  UserWarning)\n",
      "\n"
     ]
    },
    {
     "name": "stdout",
     "output_type": "stream",
     "text": [
      "\n",
      "[MoviePy] Running:\n",
      ">>> ffmpeg -y -i /home/sunjiajun/cs231n_project/datasets/videos/video33.mp4 -ss 122.96 -t 10.00 -vcodec copy -acodec copy /home/sunjiajun/cs231n_project/datasets/processed/processed_video33.mp4\n",
      "... command successful.\n",
      "video34 url is invalid\n",
      "\n",
      "[MoviePy] Running:\n",
      ">>> ffmpeg -y -i /home/sunjiajun/cs231n_project/datasets/videos/video35.mp4 -ss 0.00 -t 10.00 -vcodec copy -acodec copy /home/sunjiajun/cs231n_project/datasets/processed/processed_video35.mp4\n",
      "... command successful.\n",
      "\n",
      "[MoviePy] Running:\n",
      ">>> ffmpeg -y -i /home/sunjiajun/cs231n_project/datasets/videos/video36.mp4 -ss 12.39 -t 10.00 -vcodec copy -acodec copy /home/sunjiajun/cs231n_project/datasets/processed/processed_video36.mp4\n",
      "... command successful.\n",
      "\n",
      "[MoviePy] Running:\n",
      ">>> ffmpeg -y -i /home/sunjiajun/cs231n_project/datasets/videos/video37.mp4 -ss 217.30 -t 10.00 -vcodec copy -acodec copy /home/sunjiajun/cs231n_project/datasets/processed/processed_video37.mp4\n",
      "... command successful.\n",
      "\n",
      "[MoviePy] Running:\n",
      ">>> ffmpeg -y -i /home/sunjiajun/cs231n_project/datasets/videos/video38.mp4 -ss 49.06 -t 10.00 -vcodec copy -acodec copy /home/sunjiajun/cs231n_project/datasets/processed/processed_video38.mp4\n",
      "... command successful.\n",
      "\n",
      "[MoviePy] Running:\n",
      ">>> ffmpeg -y -i /home/sunjiajun/cs231n_project/datasets/videos/video39.mp4 -ss 44.12 -t 10.00 -vcodec copy -acodec copy /home/sunjiajun/cs231n_project/datasets/processed/processed_video39.mp4\n",
      "... command successful.\n"
     ]
    },
    {
     "name": "stderr",
     "output_type": "stream",
     "text": [
      "WARNING:py.warnings:/home/sunjiajun/cs231n_project/.env/lib/python3.5/site-packages/moviepy/video/io/ffmpeg_reader.py:132: UserWarning: Warning: in file /home/sunjiajun/cs231n_project/datasets/processed/processed_video39.mp4, 691200 bytes wanted but 0 bytes read,at frame 299/300, at time 9.98/9.99 sec. Using the last valid frame instead.\n",
      "  UserWarning)\n",
      "\n",
      "WARNING:py.warnings:/home/sunjiajun/cs231n_project/.env/lib/python3.5/site-packages/moviepy/video/io/ffmpeg_reader.py:132: UserWarning: Warning: in file /home/sunjiajun/cs231n_project/datasets/processed/processed_video39.mp4, 691200 bytes wanted but 0 bytes read,at frame 299/300, at time 9.98/9.99 sec. Using the last valid frame instead.\n",
      "  UserWarning)\n",
      "\n"
     ]
    },
    {
     "name": "stdout",
     "output_type": "stream",
     "text": [
      "\n",
      "[MoviePy] Running:\n",
      ">>> ffmpeg -y -i /home/sunjiajun/cs231n_project/datasets/videos/video40.mp4 -ss 336.60 -t 10.00 -vcodec copy -acodec copy /home/sunjiajun/cs231n_project/datasets/processed/processed_video40.mp4\n",
      "... command successful.\n",
      "\n",
      "[MoviePy] Running:\n",
      ">>> ffmpeg -y -i /home/sunjiajun/cs231n_project/datasets/videos/video41.mp4 -ss 3.05 -t 10.00 -vcodec copy -acodec copy /home/sunjiajun/cs231n_project/datasets/processed/processed_video41.mp4\n",
      "... command successful.\n",
      "\n",
      "[MoviePy] Running:\n",
      ">>> ffmpeg -y -i /home/sunjiajun/cs231n_project/datasets/videos/video42.mp4 -ss 81.00 -t 10.00 -vcodec copy -acodec copy /home/sunjiajun/cs231n_project/datasets/processed/processed_video42.mp4\n",
      "... command successful.\n",
      "\n",
      "[MoviePy] Running:\n",
      ">>> ffmpeg -y -i /home/sunjiajun/cs231n_project/datasets/videos/video43.mp4 -ss 92.68 -t 10.00 -vcodec copy -acodec copy /home/sunjiajun/cs231n_project/datasets/processed/processed_video43.mp4\n",
      "... command successful.\n",
      "\n",
      "[MoviePy] Running:\n",
      ">>> ffmpeg -y -i /home/sunjiajun/cs231n_project/datasets/videos/video44.mp4 -ss 74.16 -t 10.00 -vcodec copy -acodec copy /home/sunjiajun/cs231n_project/datasets/processed/processed_video44.mp4\n",
      "... command successful.\n",
      "\n",
      "[MoviePy] Running:\n",
      ">>> ffmpeg -y -i /home/sunjiajun/cs231n_project/datasets/videos/video45.mp4 -ss 43.36 -t 10.00 -vcodec copy -acodec copy /home/sunjiajun/cs231n_project/datasets/processed/processed_video45.mp4\n",
      "... command successful.\n",
      "\n",
      "[MoviePy] Running:\n",
      ">>> ffmpeg -y -i /home/sunjiajun/cs231n_project/datasets/videos/video46.mp4 -ss 565.37 -t 10.00 -vcodec copy -acodec copy /home/sunjiajun/cs231n_project/datasets/processed/processed_video46.mp4\n",
      "... command successful.\n"
     ]
    },
    {
     "name": "stderr",
     "output_type": "stream",
     "text": [
      "WARNING:py.warnings:/home/sunjiajun/cs231n_project/.env/lib/python3.5/site-packages/moviepy/video/io/ffmpeg_reader.py:132: UserWarning: Warning: in file /home/sunjiajun/cs231n_project/datasets/processed/processed_video46.mp4, 691200 bytes wanted but 0 bytes read,at frame 250/251, at time 10.00/10.01 sec. Using the last valid frame instead.\n",
      "  UserWarning)\n",
      "\n",
      "WARNING:py.warnings:/home/sunjiajun/cs231n_project/.env/lib/python3.5/site-packages/moviepy/video/io/ffmpeg_reader.py:132: UserWarning: Warning: in file /home/sunjiajun/cs231n_project/datasets/processed/processed_video46.mp4, 691200 bytes wanted but 0 bytes read,at frame 250/251, at time 10.00/10.01 sec. Using the last valid frame instead.\n",
      "  UserWarning)\n",
      "\n"
     ]
    },
    {
     "name": "stdout",
     "output_type": "stream",
     "text": [
      "\n",
      "[MoviePy] Running:\n",
      ">>> ffmpeg -y -i /home/sunjiajun/cs231n_project/datasets/videos/video47.mp4 -ss 154.41 -t 10.00 -vcodec copy -acodec copy /home/sunjiajun/cs231n_project/datasets/processed/processed_video47.mp4\n",
      "... command successful.\n",
      "video48 url is invalid\n",
      "\n",
      "[MoviePy] Running:\n",
      ">>> ffmpeg -y -i /home/sunjiajun/cs231n_project/datasets/videos/video49.mp4 -ss 52.97 -t 10.00 -vcodec copy -acodec copy /home/sunjiajun/cs231n_project/datasets/processed/processed_video49.mp4\n",
      "... command successful.\n",
      "video50 url is invalid\n",
      "\n",
      "[MoviePy] Running:\n",
      ">>> ffmpeg -y -i /home/sunjiajun/cs231n_project/datasets/videos/video51.mp4 -ss 288.13 -t 10.00 -vcodec copy -acodec copy /home/sunjiajun/cs231n_project/datasets/processed/processed_video51.mp4\n",
      "... command successful.\n"
     ]
    },
    {
     "name": "stderr",
     "output_type": "stream",
     "text": [
      "WARNING:py.warnings:/home/sunjiajun/cs231n_project/.env/lib/python3.5/site-packages/moviepy/video/io/ffmpeg_reader.py:132: UserWarning: Warning: in file /home/sunjiajun/cs231n_project/datasets/processed/processed_video51.mp4, 529200 bytes wanted but 0 bytes read,at frame 300/301, at time 10.00/10.01 sec. Using the last valid frame instead.\n",
      "  UserWarning)\n",
      "\n",
      "WARNING:py.warnings:/home/sunjiajun/cs231n_project/.env/lib/python3.5/site-packages/moviepy/video/io/ffmpeg_reader.py:132: UserWarning: Warning: in file /home/sunjiajun/cs231n_project/datasets/processed/processed_video51.mp4, 529200 bytes wanted but 0 bytes read,at frame 300/301, at time 10.00/10.01 sec. Using the last valid frame instead.\n",
      "  UserWarning)\n",
      "\n"
     ]
    },
    {
     "name": "stdout",
     "output_type": "stream",
     "text": [
      "\n",
      "[MoviePy] Running:\n",
      ">>> ffmpeg -y -i /home/sunjiajun/cs231n_project/datasets/videos/video52.mp4 -ss 705.95 -t 10.00 -vcodec copy -acodec copy /home/sunjiajun/cs231n_project/datasets/processed/processed_video52.mp4\n",
      "... command successful.\n"
     ]
    },
    {
     "name": "stderr",
     "output_type": "stream",
     "text": [
      "WARNING:py.warnings:/home/sunjiajun/cs231n_project/.env/lib/python3.5/site-packages/moviepy/video/io/ffmpeg_reader.py:132: UserWarning: Warning: in file /home/sunjiajun/cs231n_project/datasets/processed/processed_video52.mp4, 691200 bytes wanted but 0 bytes read,at frame 300/301, at time 10.00/10.01 sec. Using the last valid frame instead.\n",
      "  UserWarning)\n",
      "\n",
      "WARNING:py.warnings:/home/sunjiajun/cs231n_project/.env/lib/python3.5/site-packages/moviepy/video/io/ffmpeg_reader.py:132: UserWarning: Warning: in file /home/sunjiajun/cs231n_project/datasets/processed/processed_video52.mp4, 691200 bytes wanted but 0 bytes read,at frame 300/301, at time 10.00/10.01 sec. Using the last valid frame instead.\n",
      "  UserWarning)\n",
      "\n"
     ]
    },
    {
     "name": "stdout",
     "output_type": "stream",
     "text": [
      "\n",
      "[MoviePy] Running:\n",
      ">>> ffmpeg -y -i /home/sunjiajun/cs231n_project/datasets/videos/video53.mp4 -ss 11.00 -t 10.00 -vcodec copy -acodec copy /home/sunjiajun/cs231n_project/datasets/processed/processed_video53.mp4\n",
      "... command successful.\n"
     ]
    },
    {
     "name": "stderr",
     "output_type": "stream",
     "text": [
      "WARNING:py.warnings:/home/sunjiajun/cs231n_project/.env/lib/python3.5/site-packages/moviepy/video/io/ffmpeg_reader.py:132: UserWarning: Warning: in file /home/sunjiajun/cs231n_project/datasets/processed/processed_video53.mp4, 691200 bytes wanted but 0 bytes read,at frame 250/251, at time 10.00/10.01 sec. Using the last valid frame instead.\n",
      "  UserWarning)\n",
      "\n",
      "WARNING:py.warnings:/home/sunjiajun/cs231n_project/.env/lib/python3.5/site-packages/moviepy/video/io/ffmpeg_reader.py:132: UserWarning: Warning: in file /home/sunjiajun/cs231n_project/datasets/processed/processed_video53.mp4, 691200 bytes wanted but 0 bytes read,at frame 250/251, at time 10.00/10.01 sec. Using the last valid frame instead.\n",
      "  UserWarning)\n",
      "\n"
     ]
    },
    {
     "name": "stdout",
     "output_type": "stream",
     "text": [
      "\n",
      "[MoviePy] Running:\n",
      ">>> ffmpeg -y -i /home/sunjiajun/cs231n_project/datasets/videos/video54.mp4 -ss 109.76 -t 10.00 -vcodec copy -acodec copy /home/sunjiajun/cs231n_project/datasets/processed/processed_video54.mp4\n",
      "... command successful.\n",
      "\n",
      "[MoviePy] Running:\n",
      ">>> ffmpeg -y -i /home/sunjiajun/cs231n_project/datasets/videos/video55.mp4 -ss 1.55 -t 10.00 -vcodec copy -acodec copy /home/sunjiajun/cs231n_project/datasets/processed/processed_video55.mp4\n",
      "... command successful.\n",
      "\n",
      "[MoviePy] Running:\n",
      ">>> ffmpeg -y -i /home/sunjiajun/cs231n_project/datasets/videos/video56.mp4 -ss 99.81 -t 10.00 -vcodec copy -acodec copy /home/sunjiajun/cs231n_project/datasets/processed/processed_video56.mp4\n",
      "... command successful.\n",
      "\n",
      "[MoviePy] Running:\n",
      ">>> ffmpeg -y -i /home/sunjiajun/cs231n_project/datasets/videos/video57.mp4 -ss 90.61 -t 10.00 -vcodec copy -acodec copy /home/sunjiajun/cs231n_project/datasets/processed/processed_video57.mp4\n",
      "... command successful.\n",
      "\n",
      "[MoviePy] Running:\n",
      ">>> ffmpeg -y -i /home/sunjiajun/cs231n_project/datasets/videos/video58.mp4 -ss 181.46 -t 10.00 -vcodec copy -acodec copy /home/sunjiajun/cs231n_project/datasets/processed/processed_video58.mp4\n",
      "... command successful.\n",
      "\n",
      "[MoviePy] Running:\n",
      ">>> ffmpeg -y -i /home/sunjiajun/cs231n_project/datasets/videos/video59.mp4 -ss 228.94 -t 10.00 -vcodec copy -acodec copy /home/sunjiajun/cs231n_project/datasets/processed/processed_video59.mp4\n",
      "... command successful.\n",
      "\n",
      "[MoviePy] Running:\n",
      ">>> ffmpeg -y -i /home/sunjiajun/cs231n_project/datasets/videos/video60.mp4 -ss 140.39 -t 10.00 -vcodec copy -acodec copy /home/sunjiajun/cs231n_project/datasets/processed/processed_video60.mp4\n",
      "... command successful.\n",
      "\n",
      "[MoviePy] Running:\n",
      ">>> ffmpeg -y -i /home/sunjiajun/cs231n_project/datasets/videos/video61.mp4 -ss 159.24 -t 10.00 -vcodec copy -acodec copy /home/sunjiajun/cs231n_project/datasets/processed/processed_video61.mp4\n",
      "... command successful.\n",
      "\n",
      "[MoviePy] Running:\n",
      ">>> ffmpeg -y -i /home/sunjiajun/cs231n_project/datasets/videos/video62.mp4 -ss 704.38 -t 10.00 -vcodec copy -acodec copy /home/sunjiajun/cs231n_project/datasets/processed/processed_video62.mp4\n",
      "... command successful.\n"
     ]
    },
    {
     "name": "stderr",
     "output_type": "stream",
     "text": [
      "WARNING:py.warnings:/home/sunjiajun/cs231n_project/.env/lib/python3.5/site-packages/moviepy/video/io/ffmpeg_reader.py:132: UserWarning: Warning: in file /home/sunjiajun/cs231n_project/datasets/processed/processed_video62.mp4, 691200 bytes wanted but 0 bytes read,at frame 299/300, at time 9.98/9.99 sec. Using the last valid frame instead.\n",
      "  UserWarning)\n",
      "\n",
      "WARNING:py.warnings:/home/sunjiajun/cs231n_project/.env/lib/python3.5/site-packages/moviepy/video/io/ffmpeg_reader.py:132: UserWarning: Warning: in file /home/sunjiajun/cs231n_project/datasets/processed/processed_video62.mp4, 691200 bytes wanted but 0 bytes read,at frame 299/300, at time 9.98/9.99 sec. Using the last valid frame instead.\n",
      "  UserWarning)\n",
      "\n"
     ]
    },
    {
     "name": "stdout",
     "output_type": "stream",
     "text": [
      "\n",
      "[MoviePy] Running:\n",
      ">>> ffmpeg -y -i /home/sunjiajun/cs231n_project/datasets/videos/video63.mp4 -ss 274.93 -t 10.00 -vcodec copy -acodec copy /home/sunjiajun/cs231n_project/datasets/processed/processed_video63.mp4\n",
      "... command successful.\n",
      "\n",
      "[MoviePy] Running:\n",
      ">>> ffmpeg -y -i /home/sunjiajun/cs231n_project/datasets/videos/video64.mp4 -ss 156.80 -t 10.00 -vcodec copy -acodec copy /home/sunjiajun/cs231n_project/datasets/processed/processed_video64.mp4\n",
      "... command successful.\n"
     ]
    },
    {
     "name": "stderr",
     "output_type": "stream",
     "text": [
      "WARNING:py.warnings:/home/sunjiajun/cs231n_project/.env/lib/python3.5/site-packages/moviepy/video/io/ffmpeg_reader.py:132: UserWarning: Warning: in file /home/sunjiajun/cs231n_project/datasets/processed/processed_video64.mp4, 691200 bytes wanted but 0 bytes read,at frame 300/301, at time 10.00/10.01 sec. Using the last valid frame instead.\n",
      "  UserWarning)\n",
      "\n",
      "WARNING:py.warnings:/home/sunjiajun/cs231n_project/.env/lib/python3.5/site-packages/moviepy/video/io/ffmpeg_reader.py:132: UserWarning: Warning: in file /home/sunjiajun/cs231n_project/datasets/processed/processed_video64.mp4, 691200 bytes wanted but 0 bytes read,at frame 300/301, at time 10.00/10.01 sec. Using the last valid frame instead.\n",
      "  UserWarning)\n",
      "\n"
     ]
    },
    {
     "name": "stdout",
     "output_type": "stream",
     "text": [
      "\n",
      "[MoviePy] Running:\n",
      ">>> ffmpeg -y -i /home/sunjiajun/cs231n_project/datasets/videos/video65.mp4 -ss 48.33 -t 10.00 -vcodec copy -acodec copy /home/sunjiajun/cs231n_project/datasets/processed/processed_video65.mp4\n",
      "... command successful.\n"
     ]
    },
    {
     "name": "stderr",
     "output_type": "stream",
     "text": [
      "WARNING:py.warnings:/home/sunjiajun/cs231n_project/.env/lib/python3.5/site-packages/moviepy/video/io/ffmpeg_reader.py:132: UserWarning: Warning: in file /home/sunjiajun/cs231n_project/datasets/processed/processed_video65.mp4, 691200 bytes wanted but 0 bytes read,at frame 250/251, at time 10.00/10.01 sec. Using the last valid frame instead.\n",
      "  UserWarning)\n",
      "\n",
      "WARNING:py.warnings:/home/sunjiajun/cs231n_project/.env/lib/python3.5/site-packages/moviepy/video/io/ffmpeg_reader.py:132: UserWarning: Warning: in file /home/sunjiajun/cs231n_project/datasets/processed/processed_video65.mp4, 691200 bytes wanted but 0 bytes read,at frame 250/251, at time 10.00/10.01 sec. Using the last valid frame instead.\n",
      "  UserWarning)\n",
      "\n"
     ]
    },
    {
     "name": "stdout",
     "output_type": "stream",
     "text": [
      "\n",
      "[MoviePy] Running:\n",
      ">>> ffmpeg -y -i /home/sunjiajun/cs231n_project/datasets/videos/video66.mp4 -ss 20.69 -t 10.00 -vcodec copy -acodec copy /home/sunjiajun/cs231n_project/datasets/processed/processed_video66.mp4\n",
      "... command successful.\n"
     ]
    },
    {
     "name": "stderr",
     "output_type": "stream",
     "text": [
      "WARNING:py.warnings:/home/sunjiajun/cs231n_project/.env/lib/python3.5/site-packages/moviepy/video/io/ffmpeg_reader.py:132: UserWarning: Warning: in file /home/sunjiajun/cs231n_project/datasets/processed/processed_video66.mp4, 691200 bytes wanted but 0 bytes read,at frame 248/250, at time 9.92/9.99 sec. Using the last valid frame instead.\n",
      "  UserWarning)\n",
      "\n",
      "WARNING:py.warnings:/home/sunjiajun/cs231n_project/.env/lib/python3.5/site-packages/moviepy/video/io/ffmpeg_reader.py:132: UserWarning: Warning: in file /home/sunjiajun/cs231n_project/datasets/processed/processed_video66.mp4, 691200 bytes wanted but 0 bytes read,at frame 249/250, at time 9.96/9.99 sec. Using the last valid frame instead.\n",
      "  UserWarning)\n",
      "\n",
      "WARNING:py.warnings:/home/sunjiajun/cs231n_project/.env/lib/python3.5/site-packages/moviepy/video/io/ffmpeg_reader.py:132: UserWarning: Warning: in file /home/sunjiajun/cs231n_project/datasets/processed/processed_video66.mp4, 691200 bytes wanted but 0 bytes read,at frame 248/250, at time 9.92/9.99 sec. Using the last valid frame instead.\n",
      "  UserWarning)\n",
      "\n",
      "WARNING:py.warnings:/home/sunjiajun/cs231n_project/.env/lib/python3.5/site-packages/moviepy/video/io/ffmpeg_reader.py:132: UserWarning: Warning: in file /home/sunjiajun/cs231n_project/datasets/processed/processed_video66.mp4, 691200 bytes wanted but 0 bytes read,at frame 249/250, at time 9.96/9.99 sec. Using the last valid frame instead.\n",
      "  UserWarning)\n",
      "\n"
     ]
    },
    {
     "name": "stdout",
     "output_type": "stream",
     "text": [
      "video67 url is invalid\n",
      "\n",
      "[MoviePy] Running:\n",
      ">>> ffmpeg -y -i /home/sunjiajun/cs231n_project/datasets/videos/video68.mp4 -ss 66.49 -t 10.00 -vcodec copy -acodec copy /home/sunjiajun/cs231n_project/datasets/processed/processed_video68.mp4\n",
      "... command successful.\n"
     ]
    },
    {
     "name": "stderr",
     "output_type": "stream",
     "text": [
      "WARNING:py.warnings:/home/sunjiajun/cs231n_project/.env/lib/python3.5/site-packages/moviepy/video/io/ffmpeg_reader.py:132: UserWarning: Warning: in file /home/sunjiajun/cs231n_project/datasets/processed/processed_video68.mp4, 691200 bytes wanted but 0 bytes read,at frame 250/251, at time 10.00/10.01 sec. Using the last valid frame instead.\n",
      "  UserWarning)\n",
      "\n",
      "WARNING:py.warnings:/home/sunjiajun/cs231n_project/.env/lib/python3.5/site-packages/moviepy/video/io/ffmpeg_reader.py:132: UserWarning: Warning: in file /home/sunjiajun/cs231n_project/datasets/processed/processed_video68.mp4, 691200 bytes wanted but 0 bytes read,at frame 250/251, at time 10.00/10.01 sec. Using the last valid frame instead.\n",
      "  UserWarning)\n",
      "\n"
     ]
    },
    {
     "name": "stdout",
     "output_type": "stream",
     "text": [
      "\n",
      "[MoviePy] Running:\n",
      ">>> ffmpeg -y -i /home/sunjiajun/cs231n_project/datasets/videos/video69.mp4 -ss 9.64 -t 10.00 -vcodec copy -acodec copy /home/sunjiajun/cs231n_project/datasets/processed/processed_video69.mp4\n",
      "... command successful.\n"
     ]
    },
    {
     "name": "stderr",
     "output_type": "stream",
     "text": [
      "WARNING:py.warnings:/home/sunjiajun/cs231n_project/.env/lib/python3.5/site-packages/moviepy/video/io/ffmpeg_reader.py:132: UserWarning: Warning: in file /home/sunjiajun/cs231n_project/datasets/processed/processed_video69.mp4, 614400 bytes wanted but 0 bytes read,at frame 239/240, at time 9.97/9.99 sec. Using the last valid frame instead.\n",
      "  UserWarning)\n",
      "\n",
      "WARNING:py.warnings:/home/sunjiajun/cs231n_project/.env/lib/python3.5/site-packages/moviepy/video/io/ffmpeg_reader.py:132: UserWarning: Warning: in file /home/sunjiajun/cs231n_project/datasets/processed/processed_video69.mp4, 614400 bytes wanted but 0 bytes read,at frame 239/240, at time 9.97/9.99 sec. Using the last valid frame instead.\n",
      "  UserWarning)\n",
      "\n"
     ]
    },
    {
     "name": "stdout",
     "output_type": "stream",
     "text": [
      "video70 url is invalid\n",
      "\n",
      "[MoviePy] Running:\n",
      ">>> ffmpeg -y -i /home/sunjiajun/cs231n_project/datasets/videos/video71.mp4 -ss 50.41 -t 10.00 -vcodec copy -acodec copy /home/sunjiajun/cs231n_project/datasets/processed/processed_video71.mp4\n",
      "... command successful.\n",
      "video72 url is invalid\n",
      "\n",
      "[MoviePy] Running:\n",
      ">>> ffmpeg -y -i /home/sunjiajun/cs231n_project/datasets/videos/video73.mp4 -ss 1339.71 -t 10.00 -vcodec copy -acodec copy /home/sunjiajun/cs231n_project/datasets/processed/processed_video73.mp4\n",
      "... command successful.\n",
      "\n",
      "[MoviePy] Running:\n",
      ">>> ffmpeg -y -i /home/sunjiajun/cs231n_project/datasets/videos/video74.mp4 -ss 180.23 -t 10.00 -vcodec copy -acodec copy /home/sunjiajun/cs231n_project/datasets/processed/processed_video74.mp4\n",
      "... command successful.\n",
      "\n",
      "[MoviePy] Running:\n",
      ">>> ffmpeg -y -i /home/sunjiajun/cs231n_project/datasets/videos/video75.mp4 -ss 0.00 -t 10.00 -vcodec copy -acodec copy /home/sunjiajun/cs231n_project/datasets/processed/processed_video75.mp4\n",
      "... command successful.\n",
      "\n",
      "[MoviePy] Running:\n",
      ">>> ffmpeg -y -i /home/sunjiajun/cs231n_project/datasets/videos/video76.mp4 -ss 186.65 -t 10.00 -vcodec copy -acodec copy /home/sunjiajun/cs231n_project/datasets/processed/processed_video76.mp4\n",
      "... command successful.\n"
     ]
    },
    {
     "name": "stderr",
     "output_type": "stream",
     "text": [
      "WARNING:py.warnings:/home/sunjiajun/cs231n_project/.env/lib/python3.5/site-packages/moviepy/video/io/ffmpeg_reader.py:132: UserWarning: Warning: in file /home/sunjiajun/cs231n_project/datasets/processed/processed_video76.mp4, 691200 bytes wanted but 0 bytes read,at frame 250/251, at time 10.00/10.01 sec. Using the last valid frame instead.\n",
      "  UserWarning)\n",
      "\n",
      "WARNING:py.warnings:/home/sunjiajun/cs231n_project/.env/lib/python3.5/site-packages/moviepy/video/io/ffmpeg_reader.py:132: UserWarning: Warning: in file /home/sunjiajun/cs231n_project/datasets/processed/processed_video76.mp4, 691200 bytes wanted but 0 bytes read,at frame 250/251, at time 10.00/10.01 sec. Using the last valid frame instead.\n",
      "  UserWarning)\n",
      "\n"
     ]
    },
    {
     "name": "stdout",
     "output_type": "stream",
     "text": [
      "video77 url is invalid\n",
      "\n",
      "[MoviePy] Running:\n",
      ">>> ffmpeg -y -i /home/sunjiajun/cs231n_project/datasets/videos/video78.mp4 -ss 27.71 -t 10.00 -vcodec copy -acodec copy /home/sunjiajun/cs231n_project/datasets/processed/processed_video78.mp4\n",
      "... command successful.\n",
      "\n",
      "[MoviePy] Running:\n",
      ">>> ffmpeg -y -i /home/sunjiajun/cs231n_project/datasets/videos/video79.mp4 -ss 81.95 -t 10.00 -vcodec copy -acodec copy /home/sunjiajun/cs231n_project/datasets/processed/processed_video79.mp4\n",
      "... command successful.\n",
      "\n",
      "[MoviePy] Running:\n",
      ">>> ffmpeg -y -i /home/sunjiajun/cs231n_project/datasets/videos/video80.mp4 -ss 9.06 -t 10.00 -vcodec copy -acodec copy /home/sunjiajun/cs231n_project/datasets/processed/processed_video80.mp4\n",
      "... command successful.\n",
      "\n",
      "[MoviePy] Running:\n",
      ">>> ffmpeg -y -i /home/sunjiajun/cs231n_project/datasets/videos/video81.mp4 -ss 143.82 -t 10.00 -vcodec copy -acodec copy /home/sunjiajun/cs231n_project/datasets/processed/processed_video81.mp4\n",
      "... command successful.\n",
      "\n",
      "[MoviePy] Running:\n",
      ">>> ffmpeg -y -i /home/sunjiajun/cs231n_project/datasets/videos/video82.mp4 -ss 501.68 -t 10.00 -vcodec copy -acodec copy /home/sunjiajun/cs231n_project/datasets/processed/processed_video82.mp4\n",
      "... command successful.\n",
      "video83 url is invalid\n",
      "\n",
      "[MoviePy] Running:\n",
      ">>> ffmpeg -y -i /home/sunjiajun/cs231n_project/datasets/videos/video84.mp4 -ss 127.78 -t 10.00 -vcodec copy -acodec copy /home/sunjiajun/cs231n_project/datasets/processed/processed_video84.mp4\n",
      "... command successful.\n",
      "\n",
      "[MoviePy] Running:\n",
      ">>> ffmpeg -y -i /home/sunjiajun/cs231n_project/datasets/videos/video85.mp4 -ss 1492.37 -t 10.00 -vcodec copy -acodec copy /home/sunjiajun/cs231n_project/datasets/processed/processed_video85.mp4\n",
      "... command successful.\n",
      "\n",
      "[MoviePy] Running:\n",
      ">>> ffmpeg -y -i /home/sunjiajun/cs231n_project/datasets/videos/video86.mp4 -ss 67.55 -t 10.00 -vcodec copy -acodec copy /home/sunjiajun/cs231n_project/datasets/processed/processed_video86.mp4\n",
      "... command successful.\n",
      "\n",
      "[MoviePy] Running:\n",
      ">>> ffmpeg -y -i /home/sunjiajun/cs231n_project/datasets/videos/video87.mp4 -ss 31.88 -t 10.00 -vcodec copy -acodec copy /home/sunjiajun/cs231n_project/datasets/processed/processed_video87.mp4\n",
      "... command successful.\n"
     ]
    },
    {
     "name": "stderr",
     "output_type": "stream",
     "text": [
      "WARNING:py.warnings:/home/sunjiajun/cs231n_project/.env/lib/python3.5/site-packages/moviepy/video/io/ffmpeg_reader.py:132: UserWarning: Warning: in file /home/sunjiajun/cs231n_project/datasets/processed/processed_video87.mp4, 691200 bytes wanted but 0 bytes read,at frame 250/251, at time 10.00/10.01 sec. Using the last valid frame instead.\n",
      "  UserWarning)\n",
      "\n",
      "WARNING:py.warnings:/home/sunjiajun/cs231n_project/.env/lib/python3.5/site-packages/moviepy/video/io/ffmpeg_reader.py:132: UserWarning: Warning: in file /home/sunjiajun/cs231n_project/datasets/processed/processed_video87.mp4, 691200 bytes wanted but 0 bytes read,at frame 250/251, at time 10.00/10.01 sec. Using the last valid frame instead.\n",
      "  UserWarning)\n",
      "\n"
     ]
    },
    {
     "name": "stdout",
     "output_type": "stream",
     "text": [
      "\n",
      "[MoviePy] Running:\n",
      ">>> ffmpeg -y -i /home/sunjiajun/cs231n_project/datasets/videos/video88.mp4 -ss 131.60 -t 10.00 -vcodec copy -acodec copy /home/sunjiajun/cs231n_project/datasets/processed/processed_video88.mp4\n",
      "... command successful.\n",
      "\n",
      "[MoviePy] Running:\n",
      ">>> ffmpeg -y -i /home/sunjiajun/cs231n_project/datasets/videos/video89.mp4 -ss 159.21 -t 10.00 -vcodec copy -acodec copy /home/sunjiajun/cs231n_project/datasets/processed/processed_video89.mp4\n",
      "... command successful.\n",
      "\n",
      "[MoviePy] Running:\n",
      ">>> ffmpeg -y -i /home/sunjiajun/cs231n_project/datasets/videos/video90.mp4 -ss 73.20 -t 10.00 -vcodec copy -acodec copy /home/sunjiajun/cs231n_project/datasets/processed/processed_video90.mp4\n",
      "... command successful.\n"
     ]
    },
    {
     "name": "stderr",
     "output_type": "stream",
     "text": [
      "WARNING:py.warnings:/home/sunjiajun/cs231n_project/.env/lib/python3.5/site-packages/moviepy/video/io/ffmpeg_reader.py:132: UserWarning: Warning: in file /home/sunjiajun/cs231n_project/datasets/processed/processed_video90.mp4, 518400 bytes wanted but 0 bytes read,at frame 300/301, at time 10.00/10.01 sec. Using the last valid frame instead.\n",
      "  UserWarning)\n",
      "\n",
      "WARNING:py.warnings:/home/sunjiajun/cs231n_project/.env/lib/python3.5/site-packages/moviepy/video/io/ffmpeg_reader.py:132: UserWarning: Warning: in file /home/sunjiajun/cs231n_project/datasets/processed/processed_video90.mp4, 518400 bytes wanted but 0 bytes read,at frame 300/301, at time 10.00/10.01 sec. Using the last valid frame instead.\n",
      "  UserWarning)\n",
      "\n"
     ]
    },
    {
     "name": "stdout",
     "output_type": "stream",
     "text": [
      "video91 url is invalid\n",
      "\n",
      "[MoviePy] Running:\n",
      ">>> ffmpeg -y -i /home/sunjiajun/cs231n_project/datasets/videos/video92.mp4 -ss 145.43 -t 10.00 -vcodec copy -acodec copy /home/sunjiajun/cs231n_project/datasets/processed/processed_video92.mp4\n",
      "... command successful.\n",
      "\n",
      "[MoviePy] Running:\n",
      ">>> ffmpeg -y -i /home/sunjiajun/cs231n_project/datasets/videos/video93.mp4 -ss 714.86 -t 10.00 -vcodec copy -acodec copy /home/sunjiajun/cs231n_project/datasets/processed/processed_video93.mp4\n",
      "... command successful.\n",
      "\n",
      "[MoviePy] Running:\n",
      ">>> ffmpeg -y -i /home/sunjiajun/cs231n_project/datasets/videos/video94.mp4 -ss 0.00 -t 10.00 -vcodec copy -acodec copy /home/sunjiajun/cs231n_project/datasets/processed/processed_video94.mp4\n",
      "... command successful.\n",
      "video95 url is invalid\n",
      "\n",
      "[MoviePy] Running:\n",
      ">>> ffmpeg -y -i /home/sunjiajun/cs231n_project/datasets/videos/video96.mp4 -ss 116.55 -t 10.00 -vcodec copy -acodec copy /home/sunjiajun/cs231n_project/datasets/processed/processed_video96.mp4\n",
      "... command successful.\n"
     ]
    },
    {
     "name": "stderr",
     "output_type": "stream",
     "text": [
      "WARNING:py.warnings:/home/sunjiajun/cs231n_project/.env/lib/python3.5/site-packages/moviepy/video/io/ffmpeg_reader.py:132: UserWarning: Warning: in file /home/sunjiajun/cs231n_project/datasets/processed/processed_video96.mp4, 622080 bytes wanted but 0 bytes read,at frame 300/301, at time 10.00/10.01 sec. Using the last valid frame instead.\n",
      "  UserWarning)\n",
      "\n",
      "WARNING:py.warnings:/home/sunjiajun/cs231n_project/.env/lib/python3.5/site-packages/moviepy/video/io/ffmpeg_reader.py:132: UserWarning: Warning: in file /home/sunjiajun/cs231n_project/datasets/processed/processed_video96.mp4, 622080 bytes wanted but 0 bytes read,at frame 300/301, at time 10.00/10.01 sec. Using the last valid frame instead.\n",
      "  UserWarning)\n",
      "\n"
     ]
    },
    {
     "name": "stdout",
     "output_type": "stream",
     "text": [
      "\n",
      "[MoviePy] Running:\n",
      ">>> ffmpeg -y -i /home/sunjiajun/cs231n_project/datasets/videos/video97.mp4 -ss 125.21 -t 10.00 -vcodec copy -acodec copy /home/sunjiajun/cs231n_project/datasets/processed/processed_video97.mp4\n",
      "... command successful.\n",
      "\n",
      "[MoviePy] Running:\n",
      ">>> ffmpeg -y -i /home/sunjiajun/cs231n_project/datasets/videos/video98.mp4 -ss 358.24 -t 10.00 -vcodec copy -acodec copy /home/sunjiajun/cs231n_project/datasets/processed/processed_video98.mp4\n",
      "... command successful.\n",
      "\n",
      "[MoviePy] Running:\n",
      ">>> ffmpeg -y -i /home/sunjiajun/cs231n_project/datasets/videos/video99.mp4 -ss 31.31 -t 10.00 -vcodec copy -acodec copy /home/sunjiajun/cs231n_project/datasets/processed/processed_video99.mp4\n",
      "... command successful.\n",
      "\n",
      "[MoviePy] Running:\n",
      ">>> ffmpeg -y -i /home/sunjiajun/cs231n_project/datasets/videos/video100.mp4 -ss 1146.06 -t 10.00 -vcodec copy -acodec copy /home/sunjiajun/cs231n_project/datasets/processed/processed_video100.mp4\n",
      "... command successful.\n",
      "\n",
      "[MoviePy] Running:\n",
      ">>> ffmpeg -y -i /home/sunjiajun/cs231n_project/datasets/videos/video101.mp4 -ss 448.85 -t 10.00 -vcodec copy -acodec copy /home/sunjiajun/cs231n_project/datasets/processed/processed_video101.mp4\n",
      "... command successful.\n",
      "\n",
      "[MoviePy] Running:\n",
      ">>> ffmpeg -y -i /home/sunjiajun/cs231n_project/datasets/videos/video102.mp4 -ss 45.76 -t 10.00 -vcodec copy -acodec copy /home/sunjiajun/cs231n_project/datasets/processed/processed_video102.mp4\n",
      "... command successful.\n",
      "\n",
      "[MoviePy] Running:\n",
      ">>> ffmpeg -y -i /home/sunjiajun/cs231n_project/datasets/videos/video103.mp4 -ss 203.18 -t 10.00 -vcodec copy -acodec copy /home/sunjiajun/cs231n_project/datasets/processed/processed_video103.mp4\n",
      "... command successful.\n",
      "\n",
      "[MoviePy] Running:\n",
      ">>> ffmpeg -y -i /home/sunjiajun/cs231n_project/datasets/videos/video104.mp4 -ss 591.65 -t 10.00 -vcodec copy -acodec copy /home/sunjiajun/cs231n_project/datasets/processed/processed_video104.mp4\n",
      "... command successful.\n",
      "video105 url is invalid\n",
      "\n",
      "[MoviePy] Running:\n",
      ">>> ffmpeg -y -i /home/sunjiajun/cs231n_project/datasets/videos/video106.mp4 -ss 14.52 -t 10.00 -vcodec copy -acodec copy /home/sunjiajun/cs231n_project/datasets/processed/processed_video106.mp4\n",
      "... command successful.\n"
     ]
    },
    {
     "name": "stderr",
     "output_type": "stream",
     "text": [
      "WARNING:py.warnings:/home/sunjiajun/cs231n_project/.env/lib/python3.5/site-packages/moviepy/video/io/ffmpeg_reader.py:132: UserWarning: Warning: in file /home/sunjiajun/cs231n_project/datasets/processed/processed_video106.mp4, 518400 bytes wanted but 0 bytes read,at frame 299/300, at time 9.98/9.99 sec. Using the last valid frame instead.\n",
      "  UserWarning)\n",
      "\n",
      "WARNING:py.warnings:/home/sunjiajun/cs231n_project/.env/lib/python3.5/site-packages/moviepy/video/io/ffmpeg_reader.py:132: UserWarning: Warning: in file /home/sunjiajun/cs231n_project/datasets/processed/processed_video106.mp4, 518400 bytes wanted but 0 bytes read,at frame 299/300, at time 9.98/9.99 sec. Using the last valid frame instead.\n",
      "  UserWarning)\n",
      "\n"
     ]
    },
    {
     "name": "stdout",
     "output_type": "stream",
     "text": [
      "\n",
      "[MoviePy] Running:\n",
      ">>> ffmpeg -y -i /home/sunjiajun/cs231n_project/datasets/videos/video107.mp4 -ss 255.34 -t 10.00 -vcodec copy -acodec copy /home/sunjiajun/cs231n_project/datasets/processed/processed_video107.mp4\n",
      "... command successful.\n",
      "\n",
      "[MoviePy] Running:\n",
      ">>> ffmpeg -y -i /home/sunjiajun/cs231n_project/datasets/videos/video108.mp4 -ss 312.53 -t 10.00 -vcodec copy -acodec copy /home/sunjiajun/cs231n_project/datasets/processed/processed_video108.mp4\n",
      "... command successful.\n",
      "\n",
      "[MoviePy] Running:\n",
      ">>> ffmpeg -y -i /home/sunjiajun/cs231n_project/datasets/videos/video109.mp4 -ss 17.29 -t 10.00 -vcodec copy -acodec copy /home/sunjiajun/cs231n_project/datasets/processed/processed_video109.mp4\n",
      "... command successful.\n",
      "\n",
      "[MoviePy] Running:\n",
      ">>> ffmpeg -y -i /home/sunjiajun/cs231n_project/datasets/videos/video110.mp4 -ss 102.94 -t 10.00 -vcodec copy -acodec copy /home/sunjiajun/cs231n_project/datasets/processed/processed_video110.mp4\n",
      "... command successful.\n",
      "\n",
      "[MoviePy] Running:\n",
      ">>> ffmpeg -y -i /home/sunjiajun/cs231n_project/datasets/videos/video111.mp4 -ss 11.53 -t 10.00 -vcodec copy -acodec copy /home/sunjiajun/cs231n_project/datasets/processed/processed_video111.mp4\n",
      "... command successful.\n",
      "\n",
      "[MoviePy] Running:\n",
      ">>> ffmpeg -y -i /home/sunjiajun/cs231n_project/datasets/videos/video112.mp4 -ss 181.56 -t 10.00 -vcodec copy -acodec copy /home/sunjiajun/cs231n_project/datasets/processed/processed_video112.mp4\n",
      "... command successful.\n"
     ]
    },
    {
     "name": "stderr",
     "output_type": "stream",
     "text": [
      "WARNING:py.warnings:/home/sunjiajun/cs231n_project/.env/lib/python3.5/site-packages/moviepy/video/io/ffmpeg_reader.py:132: UserWarning: Warning: in file /home/sunjiajun/cs231n_project/datasets/processed/processed_video112.mp4, 691200 bytes wanted but 0 bytes read,at frame 239/240, at time 9.97/9.99 sec. Using the last valid frame instead.\n",
      "  UserWarning)\n",
      "\n",
      "WARNING:py.warnings:/home/sunjiajun/cs231n_project/.env/lib/python3.5/site-packages/moviepy/video/io/ffmpeg_reader.py:132: UserWarning: Warning: in file /home/sunjiajun/cs231n_project/datasets/processed/processed_video112.mp4, 691200 bytes wanted but 0 bytes read,at frame 239/240, at time 9.97/9.99 sec. Using the last valid frame instead.\n",
      "  UserWarning)\n",
      "\n"
     ]
    },
    {
     "name": "stdout",
     "output_type": "stream",
     "text": [
      "\n",
      "[MoviePy] Running:\n",
      ">>> ffmpeg -y -i /home/sunjiajun/cs231n_project/datasets/videos/video113.mp4 -ss 166.21 -t 10.00 -vcodec copy -acodec copy /home/sunjiajun/cs231n_project/datasets/processed/processed_video113.mp4\n",
      "... command successful.\n",
      "\n",
      "[MoviePy] Running:\n",
      ">>> ffmpeg -y -i /home/sunjiajun/cs231n_project/datasets/videos/video114.mp4 -ss 83.53 -t 10.00 -vcodec copy -acodec copy /home/sunjiajun/cs231n_project/datasets/processed/processed_video114.mp4\n",
      "... command successful.\n",
      "\n",
      "[MoviePy] Running:\n",
      ">>> ffmpeg -y -i /home/sunjiajun/cs231n_project/datasets/videos/video115.mp4 -ss 358.54 -t 10.00 -vcodec copy -acodec copy /home/sunjiajun/cs231n_project/datasets/processed/processed_video115.mp4\n",
      "... command successful.\n",
      "\n",
      "[MoviePy] Running:\n",
      ">>> ffmpeg -y -i /home/sunjiajun/cs231n_project/datasets/videos/video116.mp4 -ss 80.73 -t 10.00 -vcodec copy -acodec copy /home/sunjiajun/cs231n_project/datasets/processed/processed_video116.mp4\n",
      "... command successful.\n",
      "\n",
      "[MoviePy] Running:\n",
      ">>> ffmpeg -y -i /home/sunjiajun/cs231n_project/datasets/videos/video117.mp4 -ss 68.74 -t 10.00 -vcodec copy -acodec copy /home/sunjiajun/cs231n_project/datasets/processed/processed_video117.mp4\n",
      "... command successful.\n",
      "video118 url is invalid\n",
      "\n",
      "[MoviePy] Running:\n",
      ">>> ffmpeg -y -i /home/sunjiajun/cs231n_project/datasets/videos/video119.mp4 -ss 21.49 -t 10.00 -vcodec copy -acodec copy /home/sunjiajun/cs231n_project/datasets/processed/processed_video119.mp4\n",
      "... command successful.\n",
      "\n",
      "[MoviePy] Running:\n",
      ">>> ffmpeg -y -i /home/sunjiajun/cs231n_project/datasets/videos/video120.mp4 -ss 206.89 -t 10.00 -vcodec copy -acodec copy /home/sunjiajun/cs231n_project/datasets/processed/processed_video120.mp4\n",
      "... command successful.\n",
      "video121 url is invalid\n",
      "\n",
      "[MoviePy] Running:\n",
      ">>> ffmpeg -y -i /home/sunjiajun/cs231n_project/datasets/videos/video122.mp4 -ss 265.41 -t 10.00 -vcodec copy -acodec copy /home/sunjiajun/cs231n_project/datasets/processed/processed_video122.mp4\n",
      "... command successful.\n",
      "\n",
      "[MoviePy] Running:\n",
      ">>> ffmpeg -y -i /home/sunjiajun/cs231n_project/datasets/videos/video123.mp4 -ss 35.97 -t 10.00 -vcodec copy -acodec copy /home/sunjiajun/cs231n_project/datasets/processed/processed_video123.mp4\n",
      "... command successful.\n",
      "\n",
      "[MoviePy] Running:\n",
      ">>> ffmpeg -y -i /home/sunjiajun/cs231n_project/datasets/videos/video124.mp4 -ss 45.56 -t 10.00 -vcodec copy -acodec copy /home/sunjiajun/cs231n_project/datasets/processed/processed_video124.mp4\n",
      "... command successful.\n",
      "\n",
      "[MoviePy] Running:\n",
      ">>> ffmpeg -y -i /home/sunjiajun/cs231n_project/datasets/videos/video125.mp4 -ss 91.07 -t 10.00 -vcodec copy -acodec copy /home/sunjiajun/cs231n_project/datasets/processed/processed_video125.mp4\n",
      "... command successful.\n",
      "\n",
      "[MoviePy] Running:\n",
      ">>> ffmpeg -y -i /home/sunjiajun/cs231n_project/datasets/videos/video126.mp4 -ss 233.13 -t 10.00 -vcodec copy -acodec copy /home/sunjiajun/cs231n_project/datasets/processed/processed_video126.mp4\n",
      "... command successful.\n",
      "\n",
      "[MoviePy] Running:\n",
      ">>> ffmpeg -y -i /home/sunjiajun/cs231n_project/datasets/videos/video127.mp4 -ss 220.76 -t 10.00 -vcodec copy -acodec copy /home/sunjiajun/cs231n_project/datasets/processed/processed_video127.mp4\n",
      "... command successful.\n"
     ]
    },
    {
     "name": "stderr",
     "output_type": "stream",
     "text": [
      "WARNING:py.warnings:/home/sunjiajun/cs231n_project/.env/lib/python3.5/site-packages/moviepy/video/io/ffmpeg_reader.py:132: UserWarning: Warning: in file /home/sunjiajun/cs231n_project/datasets/processed/processed_video127.mp4, 531360 bytes wanted but 0 bytes read,at frame 299/301, at time 9.98/10.01 sec. Using the last valid frame instead.\n",
      "  UserWarning)\n",
      "\n",
      "WARNING:py.warnings:/home/sunjiajun/cs231n_project/.env/lib/python3.5/site-packages/moviepy/video/io/ffmpeg_reader.py:132: UserWarning: Warning: in file /home/sunjiajun/cs231n_project/datasets/processed/processed_video127.mp4, 531360 bytes wanted but 0 bytes read,at frame 299/301, at time 9.98/10.01 sec. Using the last valid frame instead.\n",
      "  UserWarning)\n",
      "\n"
     ]
    },
    {
     "name": "stdout",
     "output_type": "stream",
     "text": [
      "video128 url is invalid\n",
      "\n",
      "[MoviePy] Running:\n",
      ">>> ffmpeg -y -i /home/sunjiajun/cs231n_project/datasets/videos/video129.mp4 -ss 541.05 -t 10.00 -vcodec copy -acodec copy /home/sunjiajun/cs231n_project/datasets/processed/processed_video129.mp4\n",
      "... command successful.\n"
     ]
    },
    {
     "name": "stderr",
     "output_type": "stream",
     "text": [
      "WARNING:py.warnings:/home/sunjiajun/cs231n_project/.env/lib/python3.5/site-packages/moviepy/video/io/ffmpeg_reader.py:132: UserWarning: Warning: in file /home/sunjiajun/cs231n_project/datasets/processed/processed_video129.mp4, 691200 bytes wanted but 0 bytes read,at frame 299/300, at time 9.98/9.99 sec. Using the last valid frame instead.\n",
      "  UserWarning)\n",
      "\n",
      "WARNING:py.warnings:/home/sunjiajun/cs231n_project/.env/lib/python3.5/site-packages/moviepy/video/io/ffmpeg_reader.py:132: UserWarning: Warning: in file /home/sunjiajun/cs231n_project/datasets/processed/processed_video129.mp4, 691200 bytes wanted but 0 bytes read,at frame 299/300, at time 9.98/9.99 sec. Using the last valid frame instead.\n",
      "  UserWarning)\n",
      "\n"
     ]
    },
    {
     "name": "stdout",
     "output_type": "stream",
     "text": [
      "\n",
      "[MoviePy] Running:\n",
      ">>> ffmpeg -y -i /home/sunjiajun/cs231n_project/datasets/videos/video130.mp4 -ss 887.53 -t 10.00 -vcodec copy -acodec copy /home/sunjiajun/cs231n_project/datasets/processed/processed_video130.mp4\n",
      "... command successful.\n",
      "video131 url is invalid\n",
      "\n",
      "[MoviePy] Running:\n",
      ">>> ffmpeg -y -i /home/sunjiajun/cs231n_project/datasets/videos/video132.mp4 -ss 342.29 -t 10.00 -vcodec copy -acodec copy /home/sunjiajun/cs231n_project/datasets/processed/processed_video132.mp4\n",
      "... command successful.\n",
      "\n",
      "[MoviePy] Running:\n",
      ">>> ffmpeg -y -i /home/sunjiajun/cs231n_project/datasets/videos/video133.mp4 -ss 192.71 -t 10.00 -vcodec copy -acodec copy /home/sunjiajun/cs231n_project/datasets/processed/processed_video133.mp4\n",
      "... command successful.\n",
      "\n",
      "[MoviePy] Running:\n",
      ">>> ffmpeg -y -i /home/sunjiajun/cs231n_project/datasets/videos/video134.mp4 -ss 5.01 -t 10.00 -vcodec copy -acodec copy /home/sunjiajun/cs231n_project/datasets/processed/processed_video134.mp4\n",
      "... command successful.\n",
      "video135 url is invalid\n",
      "\n",
      "[MoviePy] Running:\n",
      ">>> ffmpeg -y -i /home/sunjiajun/cs231n_project/datasets/videos/video136.mp4 -ss 4.39 -t 10.00 -vcodec copy -acodec copy /home/sunjiajun/cs231n_project/datasets/processed/processed_video136.mp4\n",
      "... command successful.\n",
      "\n",
      "[MoviePy] Running:\n",
      ">>> ffmpeg -y -i /home/sunjiajun/cs231n_project/datasets/videos/video137.mp4 -ss 17.19 -t 10.00 -vcodec copy -acodec copy /home/sunjiajun/cs231n_project/datasets/processed/processed_video137.mp4\n",
      "... command successful.\n"
     ]
    },
    {
     "name": "stderr",
     "output_type": "stream",
     "text": [
      "WARNING:py.warnings:/home/sunjiajun/cs231n_project/.env/lib/python3.5/site-packages/moviepy/video/io/ffmpeg_reader.py:132: UserWarning: Warning: in file /home/sunjiajun/cs231n_project/datasets/processed/processed_video137.mp4, 691200 bytes wanted but 0 bytes read,at frame 239/240, at time 9.97/9.99 sec. Using the last valid frame instead.\n",
      "  UserWarning)\n",
      "\n",
      "WARNING:py.warnings:/home/sunjiajun/cs231n_project/.env/lib/python3.5/site-packages/moviepy/video/io/ffmpeg_reader.py:132: UserWarning: Warning: in file /home/sunjiajun/cs231n_project/datasets/processed/processed_video137.mp4, 691200 bytes wanted but 0 bytes read,at frame 239/240, at time 9.97/9.99 sec. Using the last valid frame instead.\n",
      "  UserWarning)\n",
      "\n"
     ]
    },
    {
     "name": "stdout",
     "output_type": "stream",
     "text": [
      "\n",
      "[MoviePy] Running:\n",
      ">>> ffmpeg -y -i /home/sunjiajun/cs231n_project/datasets/videos/video138.mp4 -ss 478.36 -t 10.00 -vcodec copy -acodec copy /home/sunjiajun/cs231n_project/datasets/processed/processed_video138.mp4\n",
      "... command successful.\n",
      "\n",
      "[MoviePy] Running:\n",
      ">>> ffmpeg -y -i /home/sunjiajun/cs231n_project/datasets/videos/video139.mp4 -ss 82.71 -t 10.00 -vcodec copy -acodec copy /home/sunjiajun/cs231n_project/datasets/processed/processed_video139.mp4\n",
      "... command successful.\n",
      "\n",
      "[MoviePy] Running:\n",
      ">>> ffmpeg -y -i /home/sunjiajun/cs231n_project/datasets/videos/video140.mp4 -ss 94.21 -t 10.00 -vcodec copy -acodec copy /home/sunjiajun/cs231n_project/datasets/processed/processed_video140.mp4\n",
      "... command successful.\n",
      "\n",
      "[MoviePy] Running:\n",
      ">>> ffmpeg -y -i /home/sunjiajun/cs231n_project/datasets/videos/video141.mp4 -ss 233.21 -t 10.00 -vcodec copy -acodec copy /home/sunjiajun/cs231n_project/datasets/processed/processed_video141.mp4\n",
      "... command successful.\n"
     ]
    },
    {
     "name": "stderr",
     "output_type": "stream",
     "text": [
      "WARNING:py.warnings:/home/sunjiajun/cs231n_project/.env/lib/python3.5/site-packages/moviepy/video/io/ffmpeg_reader.py:132: UserWarning: Warning: in file /home/sunjiajun/cs231n_project/datasets/processed/processed_video141.mp4, 230400 bytes wanted but 0 bytes read,at frame 250/251, at time 10.00/10.01 sec. Using the last valid frame instead.\n",
      "  UserWarning)\n",
      "\n",
      "WARNING:py.warnings:/home/sunjiajun/cs231n_project/.env/lib/python3.5/site-packages/moviepy/video/io/ffmpeg_reader.py:132: UserWarning: Warning: in file /home/sunjiajun/cs231n_project/datasets/processed/processed_video141.mp4, 230400 bytes wanted but 0 bytes read,at frame 250/251, at time 10.00/10.01 sec. Using the last valid frame instead.\n",
      "  UserWarning)\n",
      "\n"
     ]
    },
    {
     "name": "stdout",
     "output_type": "stream",
     "text": [
      "\n",
      "[MoviePy] Running:\n",
      ">>> ffmpeg -y -i /home/sunjiajun/cs231n_project/datasets/videos/video142.mp4 -ss 186.07 -t 10.00 -vcodec copy -acodec copy /home/sunjiajun/cs231n_project/datasets/processed/processed_video142.mp4\n",
      "... command successful.\n",
      "\n",
      "[MoviePy] Running:\n",
      ">>> ffmpeg -y -i /home/sunjiajun/cs231n_project/datasets/videos/video143.mp4 -ss 102.98 -t 10.00 -vcodec copy -acodec copy /home/sunjiajun/cs231n_project/datasets/processed/processed_video143.mp4\n",
      "... command successful.\n",
      "video144 url is invalid\n",
      "\n",
      "[MoviePy] Running:\n",
      ">>> ffmpeg -y -i /home/sunjiajun/cs231n_project/datasets/videos/video145.mp4 -ss 73.27 -t 10.00 -vcodec copy -acodec copy /home/sunjiajun/cs231n_project/datasets/processed/processed_video145.mp4\n",
      "... command successful.\n"
     ]
    },
    {
     "name": "stderr",
     "output_type": "stream",
     "text": [
      "WARNING:py.warnings:/home/sunjiajun/cs231n_project/.env/lib/python3.5/site-packages/moviepy/video/io/ffmpeg_reader.py:132: UserWarning: Warning: in file /home/sunjiajun/cs231n_project/datasets/processed/processed_video145.mp4, 231840 bytes wanted but 0 bytes read,at frame 180/181, at time 10.00/10.01 sec. Using the last valid frame instead.\n",
      "  UserWarning)\n",
      "\n",
      "WARNING:py.warnings:/home/sunjiajun/cs231n_project/.env/lib/python3.5/site-packages/moviepy/video/io/ffmpeg_reader.py:132: UserWarning: Warning: in file /home/sunjiajun/cs231n_project/datasets/processed/processed_video145.mp4, 231840 bytes wanted but 0 bytes read,at frame 180/181, at time 10.00/10.01 sec. Using the last valid frame instead.\n",
      "  UserWarning)\n",
      "\n"
     ]
    },
    {
     "name": "stdout",
     "output_type": "stream",
     "text": [
      "\n",
      "[MoviePy] Running:\n",
      ">>> ffmpeg -y -i /home/sunjiajun/cs231n_project/datasets/videos/video146.mp4 -ss 11.88 -t 10.00 -vcodec copy -acodec copy /home/sunjiajun/cs231n_project/datasets/processed/processed_video146.mp4\n",
      "... command successful.\n"
     ]
    },
    {
     "name": "stderr",
     "output_type": "stream",
     "text": [
      "WARNING:py.warnings:/home/sunjiajun/cs231n_project/.env/lib/python3.5/site-packages/moviepy/video/io/ffmpeg_reader.py:132: UserWarning: Warning: in file /home/sunjiajun/cs231n_project/datasets/processed/processed_video146.mp4, 518400 bytes wanted but 0 bytes read,at frame 250/251, at time 10.00/10.01 sec. Using the last valid frame instead.\n",
      "  UserWarning)\n",
      "\n",
      "WARNING:py.warnings:/home/sunjiajun/cs231n_project/.env/lib/python3.5/site-packages/moviepy/video/io/ffmpeg_reader.py:132: UserWarning: Warning: in file /home/sunjiajun/cs231n_project/datasets/processed/processed_video146.mp4, 518400 bytes wanted but 0 bytes read,at frame 250/251, at time 10.00/10.01 sec. Using the last valid frame instead.\n",
      "  UserWarning)\n",
      "\n"
     ]
    },
    {
     "name": "stdout",
     "output_type": "stream",
     "text": [
      "\n",
      "[MoviePy] Running:\n",
      ">>> ffmpeg -y -i /home/sunjiajun/cs231n_project/datasets/videos/video147.mp4 -ss 511.73 -t 10.00 -vcodec copy -acodec copy /home/sunjiajun/cs231n_project/datasets/processed/processed_video147.mp4\n",
      "... command successful.\n",
      "\n",
      "[MoviePy] Running:\n",
      ">>> ffmpeg -y -i /home/sunjiajun/cs231n_project/datasets/videos/video148.mp4 -ss 49.58 -t 10.00 -vcodec copy -acodec copy /home/sunjiajun/cs231n_project/datasets/processed/processed_video148.mp4\n",
      "... command successful.\n",
      "\n",
      "[MoviePy] Running:\n",
      ">>> ffmpeg -y -i /home/sunjiajun/cs231n_project/datasets/videos/video149.mp4 -ss 72.62 -t 10.00 -vcodec copy -acodec copy /home/sunjiajun/cs231n_project/datasets/processed/processed_video149.mp4\n",
      "... command successful.\n",
      "\n",
      "[MoviePy] Running:\n",
      ">>> ffmpeg -y -i /home/sunjiajun/cs231n_project/datasets/videos/video150.mp4 -ss 93.30 -t 10.00 -vcodec copy -acodec copy /home/sunjiajun/cs231n_project/datasets/processed/processed_video150.mp4\n",
      "... command successful.\n",
      "\n",
      "[MoviePy] Running:\n",
      ">>> ffmpeg -y -i /home/sunjiajun/cs231n_project/datasets/videos/video151.mp4 -ss 53.64 -t 10.00 -vcodec copy -acodec copy /home/sunjiajun/cs231n_project/datasets/processed/processed_video151.mp4\n",
      "... command successful.\n"
     ]
    },
    {
     "name": "stderr",
     "output_type": "stream",
     "text": [
      "WARNING:py.warnings:/home/sunjiajun/cs231n_project/.env/lib/python3.5/site-packages/moviepy/video/io/ffmpeg_reader.py:132: UserWarning: Warning: in file /home/sunjiajun/cs231n_project/datasets/processed/processed_video151.mp4, 522240 bytes wanted but 0 bytes read,at frame 239/240, at time 9.97/9.99 sec. Using the last valid frame instead.\n",
      "  UserWarning)\n",
      "\n",
      "WARNING:py.warnings:/home/sunjiajun/cs231n_project/.env/lib/python3.5/site-packages/moviepy/video/io/ffmpeg_reader.py:132: UserWarning: Warning: in file /home/sunjiajun/cs231n_project/datasets/processed/processed_video151.mp4, 522240 bytes wanted but 0 bytes read,at frame 239/240, at time 9.97/9.99 sec. Using the last valid frame instead.\n",
      "  UserWarning)\n",
      "\n"
     ]
    },
    {
     "name": "stdout",
     "output_type": "stream",
     "text": [
      "video152 url is invalid\n",
      "\n",
      "[MoviePy] Running:\n",
      ">>> ffmpeg -y -i /home/sunjiajun/cs231n_project/datasets/videos/video153.mp4 -ss 206.52 -t 10.00 -vcodec copy -acodec copy /home/sunjiajun/cs231n_project/datasets/processed/processed_video153.mp4\n",
      "... command successful.\n",
      "video154 url is invalid\n",
      "video155 url is invalid\n",
      "\n",
      "[MoviePy] Running:\n",
      ">>> ffmpeg -y -i /home/sunjiajun/cs231n_project/datasets/videos/video156.mp4 -ss 655.94 -t 10.00 -vcodec copy -acodec copy /home/sunjiajun/cs231n_project/datasets/processed/processed_video156.mp4\n",
      "... command successful.\n",
      "\n",
      "[MoviePy] Running:\n",
      ">>> ffmpeg -y -i /home/sunjiajun/cs231n_project/datasets/videos/video157.mp4 -ss 213.61 -t 10.00 -vcodec copy -acodec copy /home/sunjiajun/cs231n_project/datasets/processed/processed_video157.mp4\n",
      "... command successful.\n"
     ]
    },
    {
     "name": "stderr",
     "output_type": "stream",
     "text": [
      "WARNING:py.warnings:/home/sunjiajun/cs231n_project/.env/lib/python3.5/site-packages/moviepy/video/io/ffmpeg_reader.py:132: UserWarning: Warning: in file /home/sunjiajun/cs231n_project/datasets/processed/processed_video157.mp4, 691200 bytes wanted but 0 bytes read,at frame 300/301, at time 10.00/10.01 sec. Using the last valid frame instead.\n",
      "  UserWarning)\n",
      "\n",
      "WARNING:py.warnings:/home/sunjiajun/cs231n_project/.env/lib/python3.5/site-packages/moviepy/video/io/ffmpeg_reader.py:132: UserWarning: Warning: in file /home/sunjiajun/cs231n_project/datasets/processed/processed_video157.mp4, 691200 bytes wanted but 0 bytes read,at frame 300/301, at time 10.00/10.01 sec. Using the last valid frame instead.\n",
      "  UserWarning)\n",
      "\n"
     ]
    },
    {
     "name": "stdout",
     "output_type": "stream",
     "text": [
      "\n",
      "[MoviePy] Running:\n",
      ">>> ffmpeg -y -i /home/sunjiajun/cs231n_project/datasets/videos/video158.mp4 -ss 0.00 -t 10.00 -vcodec copy -acodec copy /home/sunjiajun/cs231n_project/datasets/processed/processed_video158.mp4\n",
      "... command successful.\n",
      "\n",
      "[MoviePy] Running:\n",
      ">>> ffmpeg -y -i /home/sunjiajun/cs231n_project/datasets/videos/video159.mp4 -ss 105.99 -t 10.00 -vcodec copy -acodec copy /home/sunjiajun/cs231n_project/datasets/processed/processed_video159.mp4\n",
      "... command successful.\n",
      "\n",
      "[MoviePy] Running:\n",
      ">>> ffmpeg -y -i /home/sunjiajun/cs231n_project/datasets/videos/video160.mp4 -ss 86.72 -t 10.00 -vcodec copy -acodec copy /home/sunjiajun/cs231n_project/datasets/processed/processed_video160.mp4\n",
      "... command successful.\n",
      "\n",
      "[MoviePy] Running:\n",
      ">>> ffmpeg -y -i /home/sunjiajun/cs231n_project/datasets/videos/video161.mp4 -ss 275.20 -t 10.00 -vcodec copy -acodec copy /home/sunjiajun/cs231n_project/datasets/processed/processed_video161.mp4\n",
      "... command successful.\n"
     ]
    },
    {
     "name": "stderr",
     "output_type": "stream",
     "text": [
      "WARNING:py.warnings:/home/sunjiajun/cs231n_project/.env/lib/python3.5/site-packages/moviepy/video/io/ffmpeg_reader.py:132: UserWarning: Warning: in file /home/sunjiajun/cs231n_project/datasets/processed/processed_video161.mp4, 518400 bytes wanted but 0 bytes read,at frame 250/251, at time 10.00/10.01 sec. Using the last valid frame instead.\n",
      "  UserWarning)\n",
      "\n",
      "WARNING:py.warnings:/home/sunjiajun/cs231n_project/.env/lib/python3.5/site-packages/moviepy/video/io/ffmpeg_reader.py:132: UserWarning: Warning: in file /home/sunjiajun/cs231n_project/datasets/processed/processed_video161.mp4, 518400 bytes wanted but 0 bytes read,at frame 250/251, at time 10.00/10.01 sec. Using the last valid frame instead.\n",
      "  UserWarning)\n",
      "\n"
     ]
    },
    {
     "name": "stdout",
     "output_type": "stream",
     "text": [
      "\n",
      "[MoviePy] Running:\n",
      ">>> ffmpeg -y -i /home/sunjiajun/cs231n_project/datasets/videos/video162.mp4 -ss 47.63 -t 10.00 -vcodec copy -acodec copy /home/sunjiajun/cs231n_project/datasets/processed/processed_video162.mp4\n",
      "... command successful.\n",
      "\n",
      "[MoviePy] Running:\n",
      ">>> ffmpeg -y -i /home/sunjiajun/cs231n_project/datasets/videos/video163.mp4 -ss 210.88 -t 10.00 -vcodec copy -acodec copy /home/sunjiajun/cs231n_project/datasets/processed/processed_video163.mp4\n",
      "... command successful.\n",
      "\n",
      "[MoviePy] Running:\n",
      ">>> ffmpeg -y -i /home/sunjiajun/cs231n_project/datasets/videos/video164.mp4 -ss 363.01 -t 10.00 -vcodec copy -acodec copy /home/sunjiajun/cs231n_project/datasets/processed/processed_video164.mp4\n",
      "... command successful.\n",
      "\n",
      "[MoviePy] Running:\n",
      ">>> ffmpeg -y -i /home/sunjiajun/cs231n_project/datasets/videos/video165.mp4 -ss 214.58 -t 10.00 -vcodec copy -acodec copy /home/sunjiajun/cs231n_project/datasets/processed/processed_video165.mp4\n",
      "... command successful.\n",
      "\n",
      "[MoviePy] Running:\n",
      ">>> ffmpeg -y -i /home/sunjiajun/cs231n_project/datasets/videos/video166.mp4 -ss 132.34 -t 10.00 -vcodec copy -acodec copy /home/sunjiajun/cs231n_project/datasets/processed/processed_video166.mp4\n",
      "... command successful.\n",
      "\n",
      "[MoviePy] Running:\n",
      ">>> ffmpeg -y -i /home/sunjiajun/cs231n_project/datasets/videos/video167.mp4 -ss 88.26 -t 10.00 -vcodec copy -acodec copy /home/sunjiajun/cs231n_project/datasets/processed/processed_video167.mp4\n",
      "... command successful.\n"
     ]
    },
    {
     "name": "stderr",
     "output_type": "stream",
     "text": [
      "WARNING:py.warnings:/home/sunjiajun/cs231n_project/.env/lib/python3.5/site-packages/moviepy/video/io/ffmpeg_reader.py:132: UserWarning: Warning: in file /home/sunjiajun/cs231n_project/datasets/processed/processed_video167.mp4, 691200 bytes wanted but 0 bytes read,at frame 239/240, at time 9.97/9.99 sec. Using the last valid frame instead.\n",
      "  UserWarning)\n",
      "\n",
      "WARNING:py.warnings:/home/sunjiajun/cs231n_project/.env/lib/python3.5/site-packages/moviepy/video/io/ffmpeg_reader.py:132: UserWarning: Warning: in file /home/sunjiajun/cs231n_project/datasets/processed/processed_video167.mp4, 691200 bytes wanted but 0 bytes read,at frame 239/240, at time 9.97/9.99 sec. Using the last valid frame instead.\n",
      "  UserWarning)\n",
      "\n"
     ]
    },
    {
     "name": "stdout",
     "output_type": "stream",
     "text": [
      "\n",
      "[MoviePy] Running:\n",
      ">>> ffmpeg -y -i /home/sunjiajun/cs231n_project/datasets/videos/video168.mp4 -ss 4.80 -t 10.00 -vcodec copy -acodec copy /home/sunjiajun/cs231n_project/datasets/processed/processed_video168.mp4\n",
      "... command successful.\n"
     ]
    },
    {
     "name": "stderr",
     "output_type": "stream",
     "text": [
      "WARNING:py.warnings:/home/sunjiajun/cs231n_project/.env/lib/python3.5/site-packages/moviepy/video/io/ffmpeg_reader.py:132: UserWarning: Warning: in file /home/sunjiajun/cs231n_project/datasets/processed/processed_video168.mp4, 518400 bytes wanted but 0 bytes read,at frame 250/251, at time 10.00/10.01 sec. Using the last valid frame instead.\n",
      "  UserWarning)\n",
      "\n",
      "WARNING:py.warnings:/home/sunjiajun/cs231n_project/.env/lib/python3.5/site-packages/moviepy/video/io/ffmpeg_reader.py:132: UserWarning: Warning: in file /home/sunjiajun/cs231n_project/datasets/processed/processed_video168.mp4, 518400 bytes wanted but 0 bytes read,at frame 250/251, at time 10.00/10.01 sec. Using the last valid frame instead.\n",
      "  UserWarning)\n",
      "\n"
     ]
    },
    {
     "name": "stdout",
     "output_type": "stream",
     "text": [
      "\n",
      "[MoviePy] Running:\n",
      ">>> ffmpeg -y -i /home/sunjiajun/cs231n_project/datasets/videos/video169.mp4 -ss 47.63 -t 10.00 -vcodec copy -acodec copy /home/sunjiajun/cs231n_project/datasets/processed/processed_video169.mp4\n",
      "... command successful.\n",
      "video170 url is invalid\n",
      "\n",
      "[MoviePy] Running:\n",
      ">>> ffmpeg -y -i /home/sunjiajun/cs231n_project/datasets/videos/video171.mp4 -ss 437.11 -t 10.00 -vcodec copy -acodec copy /home/sunjiajun/cs231n_project/datasets/processed/processed_video171.mp4\n",
      "... command successful.\n",
      "\n",
      "[MoviePy] Running:\n",
      ">>> ffmpeg -y -i /home/sunjiajun/cs231n_project/datasets/videos/video172.mp4 -ss 2.20 -t 10.00 -vcodec copy -acodec copy /home/sunjiajun/cs231n_project/datasets/processed/processed_video172.mp4\n",
      "... command successful.\n",
      "\n",
      "[MoviePy] Running:\n",
      ">>> ffmpeg -y -i /home/sunjiajun/cs231n_project/datasets/videos/video173.mp4 -ss 70.35 -t 10.00 -vcodec copy -acodec copy /home/sunjiajun/cs231n_project/datasets/processed/processed_video173.mp4\n",
      "... command successful.\n"
     ]
    },
    {
     "name": "stderr",
     "output_type": "stream",
     "text": [
      "WARNING:py.warnings:/home/sunjiajun/cs231n_project/.env/lib/python3.5/site-packages/moviepy/video/io/ffmpeg_reader.py:132: UserWarning: Warning: in file /home/sunjiajun/cs231n_project/datasets/processed/processed_video173.mp4, 691200 bytes wanted but 0 bytes read,at frame 300/301, at time 10.00/10.01 sec. Using the last valid frame instead.\n",
      "  UserWarning)\n",
      "\n",
      "WARNING:py.warnings:/home/sunjiajun/cs231n_project/.env/lib/python3.5/site-packages/moviepy/video/io/ffmpeg_reader.py:132: UserWarning: Warning: in file /home/sunjiajun/cs231n_project/datasets/processed/processed_video173.mp4, 691200 bytes wanted but 0 bytes read,at frame 300/301, at time 10.00/10.01 sec. Using the last valid frame instead.\n",
      "  UserWarning)\n",
      "\n"
     ]
    },
    {
     "name": "stdout",
     "output_type": "stream",
     "text": [
      "\n",
      "[MoviePy] Running:\n",
      ">>> ffmpeg -y -i /home/sunjiajun/cs231n_project/datasets/videos/video174.mp4 -ss 163.41 -t 10.00 -vcodec copy -acodec copy /home/sunjiajun/cs231n_project/datasets/processed/processed_video174.mp4\n",
      "... command successful.\n",
      "\n",
      "[MoviePy] Running:\n",
      ">>> ffmpeg -y -i /home/sunjiajun/cs231n_project/datasets/videos/video175.mp4 -ss 58.94 -t 10.00 -vcodec copy -acodec copy /home/sunjiajun/cs231n_project/datasets/processed/processed_video175.mp4\n",
      "... command successful.\n",
      "\n",
      "[MoviePy] Running:\n",
      ">>> ffmpeg -y -i /home/sunjiajun/cs231n_project/datasets/videos/video176.mp4 -ss 440.17 -t 10.00 -vcodec copy -acodec copy /home/sunjiajun/cs231n_project/datasets/processed/processed_video176.mp4\n",
      "... command successful.\n",
      "\n",
      "[MoviePy] Running:\n",
      ">>> ffmpeg -y -i /home/sunjiajun/cs231n_project/datasets/videos/video177.mp4 -ss 409.54 -t 10.00 -vcodec copy -acodec copy /home/sunjiajun/cs231n_project/datasets/processed/processed_video177.mp4\n",
      "... command successful.\n",
      "\n",
      "[MoviePy] Running:\n",
      ">>> ffmpeg -y -i /home/sunjiajun/cs231n_project/datasets/videos/video178.mp4 -ss 59.57 -t 10.00 -vcodec copy -acodec copy /home/sunjiajun/cs231n_project/datasets/processed/processed_video178.mp4\n",
      "... command successful.\n",
      "\n",
      "[MoviePy] Running:\n",
      ">>> ffmpeg -y -i /home/sunjiajun/cs231n_project/datasets/videos/video179.mp4 -ss 109.11 -t 10.00 -vcodec copy -acodec copy /home/sunjiajun/cs231n_project/datasets/processed/processed_video179.mp4\n",
      "... command successful.\n",
      "\n",
      "[MoviePy] Running:\n",
      ">>> ffmpeg -y -i /home/sunjiajun/cs231n_project/datasets/videos/video180.mp4 -ss 301.96 -t 10.00 -vcodec copy -acodec copy /home/sunjiajun/cs231n_project/datasets/processed/processed_video180.mp4\n",
      "... command successful.\n"
     ]
    },
    {
     "name": "stderr",
     "output_type": "stream",
     "text": [
      "WARNING:py.warnings:/home/sunjiajun/cs231n_project/.env/lib/python3.5/site-packages/moviepy/video/io/ffmpeg_reader.py:132: UserWarning: Warning: in file /home/sunjiajun/cs231n_project/datasets/processed/processed_video180.mp4, 687360 bytes wanted but 0 bytes read,at frame 270/271, at time 9.99/9.99 sec. Using the last valid frame instead.\n",
      "  UserWarning)\n",
      "\n",
      "WARNING:py.warnings:/home/sunjiajun/cs231n_project/.env/lib/python3.5/site-packages/moviepy/video/io/ffmpeg_reader.py:132: UserWarning: Warning: in file /home/sunjiajun/cs231n_project/datasets/processed/processed_video180.mp4, 687360 bytes wanted but 0 bytes read,at frame 270/271, at time 9.99/9.99 sec. Using the last valid frame instead.\n",
      "  UserWarning)\n",
      "\n"
     ]
    },
    {
     "name": "stdout",
     "output_type": "stream",
     "text": [
      "\n",
      "[MoviePy] Running:\n",
      ">>> ffmpeg -y -i /home/sunjiajun/cs231n_project/datasets/videos/video181.mp4 -ss 69.61 -t 10.00 -vcodec copy -acodec copy /home/sunjiajun/cs231n_project/datasets/processed/processed_video181.mp4\n",
      "... command successful.\n",
      "video182 url is invalid\n",
      "\n",
      "[MoviePy] Running:\n",
      ">>> ffmpeg -y -i /home/sunjiajun/cs231n_project/datasets/videos/video183.mp4 -ss 23.98 -t 10.00 -vcodec copy -acodec copy /home/sunjiajun/cs231n_project/datasets/processed/processed_video183.mp4\n",
      "... command successful.\n"
     ]
    },
    {
     "name": "stderr",
     "output_type": "stream",
     "text": [
      "WARNING:py.warnings:/home/sunjiajun/cs231n_project/.env/lib/python3.5/site-packages/moviepy/video/io/ffmpeg_reader.py:132: UserWarning: Warning: in file /home/sunjiajun/cs231n_project/datasets/processed/processed_video183.mp4, 686880 bytes wanted but 0 bytes read,at frame 300/301, at time 10.00/10.01 sec. Using the last valid frame instead.\n",
      "  UserWarning)\n",
      "\n",
      "WARNING:py.warnings:/home/sunjiajun/cs231n_project/.env/lib/python3.5/site-packages/moviepy/video/io/ffmpeg_reader.py:132: UserWarning: Warning: in file /home/sunjiajun/cs231n_project/datasets/processed/processed_video183.mp4, 686880 bytes wanted but 0 bytes read,at frame 300/301, at time 10.00/10.01 sec. Using the last valid frame instead.\n",
      "  UserWarning)\n",
      "\n"
     ]
    },
    {
     "name": "stdout",
     "output_type": "stream",
     "text": [
      "\n",
      "[MoviePy] Running:\n",
      ">>> ffmpeg -y -i /home/sunjiajun/cs231n_project/datasets/videos/video184.mp4 -ss 21.90 -t 10.00 -vcodec copy -acodec copy /home/sunjiajun/cs231n_project/datasets/processed/processed_video184.mp4\n",
      "... command successful.\n",
      "\n",
      "[MoviePy] Running:\n",
      ">>> ffmpeg -y -i /home/sunjiajun/cs231n_project/datasets/videos/video185.mp4 -ss 22.44 -t 10.00 -vcodec copy -acodec copy /home/sunjiajun/cs231n_project/datasets/processed/processed_video185.mp4\n",
      "... command successful.\n",
      "\n",
      "[MoviePy] Running:\n",
      ">>> ffmpeg -y -i /home/sunjiajun/cs231n_project/datasets/videos/video186.mp4 -ss 50.77 -t 10.00 -vcodec copy -acodec copy /home/sunjiajun/cs231n_project/datasets/processed/processed_video186.mp4\n",
      "... command successful.\n"
     ]
    },
    {
     "name": "stderr",
     "output_type": "stream",
     "text": [
      "WARNING:py.warnings:/home/sunjiajun/cs231n_project/.env/lib/python3.5/site-packages/moviepy/video/io/ffmpeg_reader.py:132: UserWarning: Warning: in file /home/sunjiajun/cs231n_project/datasets/processed/processed_video186.mp4, 691200 bytes wanted but 0 bytes read,at frame 250/251, at time 10.00/10.01 sec. Using the last valid frame instead.\n",
      "  UserWarning)\n",
      "\n",
      "WARNING:py.warnings:/home/sunjiajun/cs231n_project/.env/lib/python3.5/site-packages/moviepy/video/io/ffmpeg_reader.py:132: UserWarning: Warning: in file /home/sunjiajun/cs231n_project/datasets/processed/processed_video186.mp4, 691200 bytes wanted but 0 bytes read,at frame 250/251, at time 10.00/10.01 sec. Using the last valid frame instead.\n",
      "  UserWarning)\n",
      "\n"
     ]
    },
    {
     "name": "stdout",
     "output_type": "stream",
     "text": [
      "\n",
      "[MoviePy] Running:\n",
      ">>> ffmpeg -y -i /home/sunjiajun/cs231n_project/datasets/videos/video187.mp4 -ss 380.63 -t 10.00 -vcodec copy -acodec copy /home/sunjiajun/cs231n_project/datasets/processed/processed_video187.mp4\n",
      "... command successful.\n",
      "\n",
      "[MoviePy] Running:\n",
      ">>> ffmpeg -y -i /home/sunjiajun/cs231n_project/datasets/videos/video188.mp4 -ss 163.81 -t 10.00 -vcodec copy -acodec copy /home/sunjiajun/cs231n_project/datasets/processed/processed_video188.mp4\n",
      "... command successful.\n",
      "\n",
      "[MoviePy] Running:\n",
      ">>> ffmpeg -y -i /home/sunjiajun/cs231n_project/datasets/videos/video189.mp4 -ss 325.57 -t 10.00 -vcodec copy -acodec copy /home/sunjiajun/cs231n_project/datasets/processed/processed_video189.mp4\n",
      "... command successful.\n",
      "video190 url is invalid\n",
      "\n",
      "[MoviePy] Running:\n",
      ">>> ffmpeg -y -i /home/sunjiajun/cs231n_project/datasets/videos/video191.mp4 -ss 256.97 -t 10.00 -vcodec copy -acodec copy /home/sunjiajun/cs231n_project/datasets/processed/processed_video191.mp4\n",
      "... command successful.\n",
      "\n",
      "[MoviePy] Running:\n",
      ">>> ffmpeg -y -i /home/sunjiajun/cs231n_project/datasets/videos/video192.mp4 -ss 154.27 -t 10.00 -vcodec copy -acodec copy /home/sunjiajun/cs231n_project/datasets/processed/processed_video192.mp4\n",
      "... command successful.\n",
      "\n",
      "[MoviePy] Running:\n",
      ">>> ffmpeg -y -i /home/sunjiajun/cs231n_project/datasets/videos/video193.mp4 -ss 26.34 -t 10.00 -vcodec copy -acodec copy /home/sunjiajun/cs231n_project/datasets/processed/processed_video193.mp4\n",
      "... command successful.\n"
     ]
    },
    {
     "name": "stderr",
     "output_type": "stream",
     "text": [
      "WARNING:py.warnings:/home/sunjiajun/cs231n_project/.env/lib/python3.5/site-packages/moviepy/video/io/ffmpeg_reader.py:132: UserWarning: Warning: in file /home/sunjiajun/cs231n_project/datasets/processed/processed_video193.mp4, 691200 bytes wanted but 0 bytes read,at frame 240/241, at time 10.00/10.01 sec. Using the last valid frame instead.\n",
      "  UserWarning)\n",
      "\n",
      "WARNING:py.warnings:/home/sunjiajun/cs231n_project/.env/lib/python3.5/site-packages/moviepy/video/io/ffmpeg_reader.py:132: UserWarning: Warning: in file /home/sunjiajun/cs231n_project/datasets/processed/processed_video193.mp4, 691200 bytes wanted but 0 bytes read,at frame 240/241, at time 10.00/10.01 sec. Using the last valid frame instead.\n",
      "  UserWarning)\n",
      "\n"
     ]
    },
    {
     "name": "stdout",
     "output_type": "stream",
     "text": [
      "video194 url is invalid\n",
      "\n",
      "[MoviePy] Running:\n",
      ">>> ffmpeg -y -i /home/sunjiajun/cs231n_project/datasets/videos/video195.mp4 -ss 1266.45 -t 10.00 -vcodec copy -acodec copy /home/sunjiajun/cs231n_project/datasets/processed/processed_video195.mp4\n",
      "... command successful.\n",
      "video196 url is invalid\n",
      "\n",
      "[MoviePy] Running:\n",
      ">>> ffmpeg -y -i /home/sunjiajun/cs231n_project/datasets/videos/video197.mp4 -ss 1406.62 -t 10.00 -vcodec copy -acodec copy /home/sunjiajun/cs231n_project/datasets/processed/processed_video197.mp4\n",
      "... command successful.\n"
     ]
    },
    {
     "name": "stderr",
     "output_type": "stream",
     "text": [
      "WARNING:py.warnings:/home/sunjiajun/cs231n_project/.env/lib/python3.5/site-packages/moviepy/video/io/ffmpeg_reader.py:132: UserWarning: Warning: in file /home/sunjiajun/cs231n_project/datasets/processed/processed_video197.mp4, 691200 bytes wanted but 0 bytes read,at frame 239/240, at time 9.97/9.99 sec. Using the last valid frame instead.\n",
      "  UserWarning)\n",
      "\n",
      "WARNING:py.warnings:/home/sunjiajun/cs231n_project/.env/lib/python3.5/site-packages/moviepy/video/io/ffmpeg_reader.py:132: UserWarning: Warning: in file /home/sunjiajun/cs231n_project/datasets/processed/processed_video197.mp4, 691200 bytes wanted but 0 bytes read,at frame 239/240, at time 9.97/9.99 sec. Using the last valid frame instead.\n",
      "  UserWarning)\n",
      "\n"
     ]
    },
    {
     "name": "stdout",
     "output_type": "stream",
     "text": [
      "\n",
      "[MoviePy] Running:\n",
      ">>> ffmpeg -y -i /home/sunjiajun/cs231n_project/datasets/videos/video198.mp4 -ss 44.09 -t 10.00 -vcodec copy -acodec copy /home/sunjiajun/cs231n_project/datasets/processed/processed_video198.mp4\n",
      "... command successful.\n",
      "\n",
      "[MoviePy] Running:\n",
      ">>> ffmpeg -y -i /home/sunjiajun/cs231n_project/datasets/videos/video199.mp4 -ss 0.00 -t 10.00 -vcodec copy -acodec copy /home/sunjiajun/cs231n_project/datasets/processed/processed_video199.mp4\n",
      "... command successful.\n"
     ]
    },
    {
     "name": "stderr",
     "output_type": "stream",
     "text": [
      "WARNING:py.warnings:/home/sunjiajun/cs231n_project/.env/lib/python3.5/site-packages/moviepy/video/io/ffmpeg_reader.py:132: UserWarning: Warning: in file /home/sunjiajun/cs231n_project/datasets/processed/processed_video199.mp4, 518400 bytes wanted but 0 bytes read,at frame 300/301, at time 10.03/10.03 sec. Using the last valid frame instead.\n",
      "  UserWarning)\n",
      "\n",
      "WARNING:py.warnings:/home/sunjiajun/cs231n_project/.env/lib/python3.5/site-packages/moviepy/video/io/ffmpeg_reader.py:132: UserWarning: Warning: in file /home/sunjiajun/cs231n_project/datasets/processed/processed_video199.mp4, 518400 bytes wanted but 0 bytes read,at frame 300/301, at time 10.03/10.03 sec. Using the last valid frame instead.\n",
      "  UserWarning)\n",
      "\n"
     ]
    },
    {
     "name": "stdout",
     "output_type": "stream",
     "text": [
      "\n",
      "[MoviePy] Running:\n",
      ">>> ffmpeg -y -i /home/sunjiajun/cs231n_project/datasets/videos/video200.mp4 -ss 445.43 -t 10.00 -vcodec copy -acodec copy /home/sunjiajun/cs231n_project/datasets/processed/processed_video200.mp4\n",
      "... command successful.\n",
      "\n",
      "[MoviePy] Running:\n",
      ">>> ffmpeg -y -i /home/sunjiajun/cs231n_project/datasets/videos/video201.mp4 -ss 129.18 -t 10.00 -vcodec copy -acodec copy /home/sunjiajun/cs231n_project/datasets/processed/processed_video201.mp4\n",
      "... command successful.\n"
     ]
    },
    {
     "name": "stderr",
     "output_type": "stream",
     "text": [
      "WARNING:py.warnings:/home/sunjiajun/cs231n_project/.env/lib/python3.5/site-packages/moviepy/video/io/ffmpeg_reader.py:132: UserWarning: Warning: in file /home/sunjiajun/cs231n_project/datasets/processed/processed_video201.mp4, 691200 bytes wanted but 0 bytes read,at frame 239/240, at time 9.97/9.99 sec. Using the last valid frame instead.\n",
      "  UserWarning)\n",
      "\n",
      "WARNING:py.warnings:/home/sunjiajun/cs231n_project/.env/lib/python3.5/site-packages/moviepy/video/io/ffmpeg_reader.py:132: UserWarning: Warning: in file /home/sunjiajun/cs231n_project/datasets/processed/processed_video201.mp4, 691200 bytes wanted but 0 bytes read,at frame 239/240, at time 9.97/9.99 sec. Using the last valid frame instead.\n",
      "  UserWarning)\n",
      "\n"
     ]
    },
    {
     "name": "stdout",
     "output_type": "stream",
     "text": [
      "\n",
      "[MoviePy] Running:\n",
      ">>> ffmpeg -y -i /home/sunjiajun/cs231n_project/datasets/videos/video202.mp4 -ss 318.89 -t 10.00 -vcodec copy -acodec copy /home/sunjiajun/cs231n_project/datasets/processed/processed_video202.mp4\n",
      "... command successful.\n"
     ]
    },
    {
     "name": "stderr",
     "output_type": "stream",
     "text": [
      "WARNING:py.warnings:/home/sunjiajun/cs231n_project/.env/lib/python3.5/site-packages/moviepy/video/io/ffmpeg_reader.py:132: UserWarning: Warning: in file /home/sunjiajun/cs231n_project/datasets/processed/processed_video202.mp4, 691200 bytes wanted but 0 bytes read,at frame 250/251, at time 10.00/10.01 sec. Using the last valid frame instead.\n",
      "  UserWarning)\n",
      "\n",
      "WARNING:py.warnings:/home/sunjiajun/cs231n_project/.env/lib/python3.5/site-packages/moviepy/video/io/ffmpeg_reader.py:132: UserWarning: Warning: in file /home/sunjiajun/cs231n_project/datasets/processed/processed_video202.mp4, 691200 bytes wanted but 0 bytes read,at frame 250/251, at time 10.00/10.01 sec. Using the last valid frame instead.\n",
      "  UserWarning)\n",
      "\n"
     ]
    },
    {
     "name": "stdout",
     "output_type": "stream",
     "text": [
      "\n",
      "[MoviePy] Running:\n",
      ">>> ffmpeg -y -i /home/sunjiajun/cs231n_project/datasets/videos/video203.mp4 -ss 24.37 -t 10.00 -vcodec copy -acodec copy /home/sunjiajun/cs231n_project/datasets/processed/processed_video203.mp4\n",
      "... command successful.\n",
      "video204 url is invalid\n",
      "\n",
      "[MoviePy] Running:\n",
      ">>> ffmpeg -y -i /home/sunjiajun/cs231n_project/datasets/videos/video205.mp4 -ss 4.47 -t 10.00 -vcodec copy -acodec copy /home/sunjiajun/cs231n_project/datasets/processed/processed_video205.mp4\n",
      "... command successful.\n",
      "\n",
      "[MoviePy] Running:\n",
      ">>> ffmpeg -y -i /home/sunjiajun/cs231n_project/datasets/videos/video206.mp4 -ss 15.88 -t 10.00 -vcodec copy -acodec copy /home/sunjiajun/cs231n_project/datasets/processed/processed_video206.mp4\n",
      "... command successful.\n",
      "\n",
      "[MoviePy] Running:\n",
      ">>> ffmpeg -y -i /home/sunjiajun/cs231n_project/datasets/videos/video207.mp4 -ss 27.66 -t 10.00 -vcodec copy -acodec copy /home/sunjiajun/cs231n_project/datasets/processed/processed_video207.mp4\n",
      "... command successful.\n"
     ]
    },
    {
     "name": "stderr",
     "output_type": "stream",
     "text": [
      "WARNING:py.warnings:/home/sunjiajun/cs231n_project/.env/lib/python3.5/site-packages/moviepy/video/io/ffmpeg_reader.py:132: UserWarning: Warning: in file /home/sunjiajun/cs231n_project/datasets/processed/processed_video207.mp4, 664320 bytes wanted but 0 bytes read,at frame 239/240, at time 9.97/9.99 sec. Using the last valid frame instead.\n",
      "  UserWarning)\n",
      "\n",
      "WARNING:py.warnings:/home/sunjiajun/cs231n_project/.env/lib/python3.5/site-packages/moviepy/video/io/ffmpeg_reader.py:132: UserWarning: Warning: in file /home/sunjiajun/cs231n_project/datasets/processed/processed_video207.mp4, 664320 bytes wanted but 0 bytes read,at frame 239/240, at time 9.97/9.99 sec. Using the last valid frame instead.\n",
      "  UserWarning)\n",
      "\n"
     ]
    },
    {
     "name": "stdout",
     "output_type": "stream",
     "text": [
      "\n",
      "[MoviePy] Running:\n",
      ">>> ffmpeg -y -i /home/sunjiajun/cs231n_project/datasets/videos/video208.mp4 -ss 18.99 -t 10.00 -vcodec copy -acodec copy /home/sunjiajun/cs231n_project/datasets/processed/processed_video208.mp4\n",
      "... command successful.\n",
      "\n",
      "[MoviePy] Running:\n",
      ">>> ffmpeg -y -i /home/sunjiajun/cs231n_project/datasets/videos/video209.mp4 -ss 126.64 -t 10.00 -vcodec copy -acodec copy /home/sunjiajun/cs231n_project/datasets/processed/processed_video209.mp4\n",
      "... command successful.\n",
      "\n",
      "[MoviePy] Running:\n",
      ">>> ffmpeg -y -i /home/sunjiajun/cs231n_project/datasets/videos/video210.mp4 -ss 39.15 -t 10.00 -vcodec copy -acodec copy /home/sunjiajun/cs231n_project/datasets/processed/processed_video210.mp4\n",
      "... command successful.\n",
      "\n",
      "[MoviePy] Running:\n",
      ">>> ffmpeg -y -i /home/sunjiajun/cs231n_project/datasets/videos/video211.mp4 -ss 41.21 -t 10.00 -vcodec copy -acodec copy /home/sunjiajun/cs231n_project/datasets/processed/processed_video211.mp4\n",
      "... command successful.\n",
      "\n",
      "[MoviePy] Running:\n",
      ">>> ffmpeg -y -i /home/sunjiajun/cs231n_project/datasets/videos/video212.mp4 -ss 39.18 -t 10.00 -vcodec copy -acodec copy /home/sunjiajun/cs231n_project/datasets/processed/processed_video212.mp4\n",
      "... command successful.\n"
     ]
    },
    {
     "name": "stderr",
     "output_type": "stream",
     "text": [
      "WARNING:py.warnings:/home/sunjiajun/cs231n_project/.env/lib/python3.5/site-packages/moviepy/video/io/ffmpeg_reader.py:132: UserWarning: Warning: in file /home/sunjiajun/cs231n_project/datasets/processed/processed_video212.mp4, 691200 bytes wanted but 0 bytes read,at frame 300/301, at time 10.00/10.01 sec. Using the last valid frame instead.\n",
      "  UserWarning)\n",
      "\n",
      "WARNING:py.warnings:/home/sunjiajun/cs231n_project/.env/lib/python3.5/site-packages/moviepy/video/io/ffmpeg_reader.py:132: UserWarning: Warning: in file /home/sunjiajun/cs231n_project/datasets/processed/processed_video212.mp4, 691200 bytes wanted but 0 bytes read,at frame 300/301, at time 10.00/10.01 sec. Using the last valid frame instead.\n",
      "  UserWarning)\n",
      "\n"
     ]
    },
    {
     "name": "stdout",
     "output_type": "stream",
     "text": [
      "\n",
      "[MoviePy] Running:\n",
      ">>> ffmpeg -y -i /home/sunjiajun/cs231n_project/datasets/videos/video213.mp4 -ss 37.08 -t 10.00 -vcodec copy -acodec copy /home/sunjiajun/cs231n_project/datasets/processed/processed_video213.mp4\n",
      "... command successful.\n",
      "\n",
      "[MoviePy] Running:\n",
      ">>> ffmpeg -y -i /home/sunjiajun/cs231n_project/datasets/videos/video214.mp4 -ss 453.25 -t 10.00 -vcodec copy -acodec copy /home/sunjiajun/cs231n_project/datasets/processed/processed_video214.mp4\n",
      "... command successful.\n",
      "video215 url is invalid\n",
      "video216 url is invalid\n",
      "\n",
      "[MoviePy] Running:\n",
      ">>> ffmpeg -y -i /home/sunjiajun/cs231n_project/datasets/videos/video217.mp4 -ss 294.13 -t 10.00 -vcodec copy -acodec copy /home/sunjiajun/cs231n_project/datasets/processed/processed_video217.mp4\n",
      "... command successful.\n",
      "\n",
      "[MoviePy] Running:\n",
      ">>> ffmpeg -y -i /home/sunjiajun/cs231n_project/datasets/videos/video218.mp4 -ss 136.02 -t 10.00 -vcodec copy -acodec copy /home/sunjiajun/cs231n_project/datasets/processed/processed_video218.mp4\n",
      "... command successful.\n",
      "\n",
      "[MoviePy] Running:\n",
      ">>> ffmpeg -y -i /home/sunjiajun/cs231n_project/datasets/videos/video219.mp4 -ss 39.39 -t 10.00 -vcodec copy -acodec copy /home/sunjiajun/cs231n_project/datasets/processed/processed_video219.mp4\n",
      "... command successful.\n",
      "\n",
      "[MoviePy] Running:\n",
      ">>> ffmpeg -y -i /home/sunjiajun/cs231n_project/datasets/videos/video220.mp4 -ss 174.79 -t 10.00 -vcodec copy -acodec copy /home/sunjiajun/cs231n_project/datasets/processed/processed_video220.mp4\n",
      "... command successful.\n",
      "\n",
      "[MoviePy] Running:\n",
      ">>> ffmpeg -y -i /home/sunjiajun/cs231n_project/datasets/videos/video221.mp4 -ss 0.00 -t 10.00 -vcodec copy -acodec copy /home/sunjiajun/cs231n_project/datasets/processed/processed_video221.mp4\n",
      "... command successful.\n",
      "\n",
      "[MoviePy] Running:\n",
      ">>> ffmpeg -y -i /home/sunjiajun/cs231n_project/datasets/videos/video222.mp4 -ss 116.63 -t 10.00 -vcodec copy -acodec copy /home/sunjiajun/cs231n_project/datasets/processed/processed_video222.mp4\n",
      "... command successful.\n",
      "\n",
      "[MoviePy] Running:\n",
      ">>> ffmpeg -y -i /home/sunjiajun/cs231n_project/datasets/videos/video223.mp4 -ss 195.18 -t 10.00 -vcodec copy -acodec copy /home/sunjiajun/cs231n_project/datasets/processed/processed_video223.mp4\n",
      "... command successful.\n"
     ]
    },
    {
     "name": "stderr",
     "output_type": "stream",
     "text": [
      "WARNING:py.warnings:/home/sunjiajun/cs231n_project/.env/lib/python3.5/site-packages/moviepy/video/io/ffmpeg_reader.py:132: UserWarning: Warning: in file /home/sunjiajun/cs231n_project/datasets/processed/processed_video223.mp4, 522240 bytes wanted but 0 bytes read,at frame 300/301, at time 10.00/10.01 sec. Using the last valid frame instead.\n",
      "  UserWarning)\n",
      "\n",
      "WARNING:py.warnings:/home/sunjiajun/cs231n_project/.env/lib/python3.5/site-packages/moviepy/video/io/ffmpeg_reader.py:132: UserWarning: Warning: in file /home/sunjiajun/cs231n_project/datasets/processed/processed_video223.mp4, 522240 bytes wanted but 0 bytes read,at frame 300/301, at time 10.00/10.01 sec. Using the last valid frame instead.\n",
      "  UserWarning)\n",
      "\n"
     ]
    },
    {
     "name": "stdout",
     "output_type": "stream",
     "text": [
      "\n",
      "[MoviePy] Running:\n",
      ">>> ffmpeg -y -i /home/sunjiajun/cs231n_project/datasets/videos/video224.mp4 -ss 922.10 -t 10.00 -vcodec copy -acodec copy /home/sunjiajun/cs231n_project/datasets/processed/processed_video224.mp4\n",
      "... command successful.\n",
      "\n",
      "[MoviePy] Running:\n",
      ">>> ffmpeg -y -i /home/sunjiajun/cs231n_project/datasets/videos/video225.mp4 -ss 530.65 -t 10.00 -vcodec copy -acodec copy /home/sunjiajun/cs231n_project/datasets/processed/processed_video225.mp4\n",
      "... command successful.\n",
      "\n",
      "[MoviePy] Running:\n",
      ">>> ffmpeg -y -i /home/sunjiajun/cs231n_project/datasets/videos/video226.mp4 -ss 225.90 -t 10.00 -vcodec copy -acodec copy /home/sunjiajun/cs231n_project/datasets/processed/processed_video226.mp4\n",
      "... command successful.\n",
      "\n",
      "[MoviePy] Running:\n",
      ">>> ffmpeg -y -i /home/sunjiajun/cs231n_project/datasets/videos/video227.mp4 -ss 86.83 -t 10.00 -vcodec copy -acodec copy /home/sunjiajun/cs231n_project/datasets/processed/processed_video227.mp4\n",
      "... command successful.\n"
     ]
    },
    {
     "name": "stderr",
     "output_type": "stream",
     "text": [
      "WARNING:py.warnings:/home/sunjiajun/cs231n_project/.env/lib/python3.5/site-packages/moviepy/video/io/ffmpeg_reader.py:132: UserWarning: Warning: in file /home/sunjiajun/cs231n_project/datasets/processed/processed_video227.mp4, 691200 bytes wanted but 0 bytes read,at frame 299/301, at time 9.98/10.01 sec. Using the last valid frame instead.\n",
      "  UserWarning)\n",
      "\n",
      "WARNING:py.warnings:/home/sunjiajun/cs231n_project/.env/lib/python3.5/site-packages/moviepy/video/io/ffmpeg_reader.py:132: UserWarning: Warning: in file /home/sunjiajun/cs231n_project/datasets/processed/processed_video227.mp4, 691200 bytes wanted but 0 bytes read,at frame 299/301, at time 9.98/10.01 sec. Using the last valid frame instead.\n",
      "  UserWarning)\n",
      "\n"
     ]
    },
    {
     "name": "stdout",
     "output_type": "stream",
     "text": [
      "video228 url is invalid\n",
      "\n",
      "[MoviePy] Running:\n",
      ">>> ffmpeg -y -i /home/sunjiajun/cs231n_project/datasets/videos/video229.mp4 -ss 488.85 -t 10.00 -vcodec copy -acodec copy /home/sunjiajun/cs231n_project/datasets/processed/processed_video229.mp4\n",
      "... command successful.\n",
      "\n",
      "[MoviePy] Running:\n",
      ">>> ffmpeg -y -i /home/sunjiajun/cs231n_project/datasets/videos/video230.mp4 -ss 24.27 -t 10.00 -vcodec copy -acodec copy /home/sunjiajun/cs231n_project/datasets/processed/processed_video230.mp4\n",
      "... command successful.\n",
      "\n",
      "[MoviePy] Running:\n",
      ">>> ffmpeg -y -i /home/sunjiajun/cs231n_project/datasets/videos/video231.mp4 -ss 76.87 -t 10.00 -vcodec copy -acodec copy /home/sunjiajun/cs231n_project/datasets/processed/processed_video231.mp4\n",
      "... command successful.\n",
      "\n",
      "[MoviePy] Running:\n",
      ">>> ffmpeg -y -i /home/sunjiajun/cs231n_project/datasets/videos/video232.mp4 -ss 15.36 -t 10.00 -vcodec copy -acodec copy /home/sunjiajun/cs231n_project/datasets/processed/processed_video232.mp4\n",
      "... command successful.\n",
      "\n",
      "[MoviePy] Running:\n",
      ">>> ffmpeg -y -i /home/sunjiajun/cs231n_project/datasets/videos/video233.mp4 -ss 312.28 -t 10.00 -vcodec copy -acodec copy /home/sunjiajun/cs231n_project/datasets/processed/processed_video233.mp4\n",
      "... command successful.\n"
     ]
    },
    {
     "name": "stderr",
     "output_type": "stream",
     "text": [
      "WARNING:py.warnings:/home/sunjiajun/cs231n_project/.env/lib/python3.5/site-packages/moviepy/video/io/ffmpeg_reader.py:132: UserWarning: Warning: in file /home/sunjiajun/cs231n_project/datasets/processed/processed_video233.mp4, 691200 bytes wanted but 0 bytes read,at frame 300/301, at time 10.00/10.01 sec. Using the last valid frame instead.\n",
      "  UserWarning)\n",
      "\n",
      "WARNING:py.warnings:/home/sunjiajun/cs231n_project/.env/lib/python3.5/site-packages/moviepy/video/io/ffmpeg_reader.py:132: UserWarning: Warning: in file /home/sunjiajun/cs231n_project/datasets/processed/processed_video233.mp4, 691200 bytes wanted but 0 bytes read,at frame 300/301, at time 10.00/10.01 sec. Using the last valid frame instead.\n",
      "  UserWarning)\n",
      "\n"
     ]
    },
    {
     "name": "stdout",
     "output_type": "stream",
     "text": [
      "\n",
      "[MoviePy] Running:\n",
      ">>> ffmpeg -y -i /home/sunjiajun/cs231n_project/datasets/videos/video234.mp4 -ss 275.99 -t 10.00 -vcodec copy -acodec copy /home/sunjiajun/cs231n_project/datasets/processed/processed_video234.mp4\n",
      "... command successful.\n",
      "\n",
      "[MoviePy] Running:\n",
      ">>> ffmpeg -y -i /home/sunjiajun/cs231n_project/datasets/videos/video235.mp4 -ss 135.92 -t 10.00 -vcodec copy -acodec copy /home/sunjiajun/cs231n_project/datasets/processed/processed_video235.mp4\n",
      "... command successful.\n",
      "\n",
      "[MoviePy] Running:\n",
      ">>> ffmpeg -y -i /home/sunjiajun/cs231n_project/datasets/videos/video236.mp4 -ss 81.32 -t 10.00 -vcodec copy -acodec copy /home/sunjiajun/cs231n_project/datasets/processed/processed_video236.mp4\n",
      "... command successful.\n",
      "\n",
      "[MoviePy] Running:\n",
      ">>> ffmpeg -y -i /home/sunjiajun/cs231n_project/datasets/videos/video237.mp4 -ss 142.77 -t 10.00 -vcodec copy -acodec copy /home/sunjiajun/cs231n_project/datasets/processed/processed_video237.mp4\n",
      "... command successful.\n",
      "\n",
      "[MoviePy] Running:\n",
      ">>> ffmpeg -y -i /home/sunjiajun/cs231n_project/datasets/videos/video238.mp4 -ss 210.12 -t 10.00 -vcodec copy -acodec copy /home/sunjiajun/cs231n_project/datasets/processed/processed_video238.mp4\n",
      "... command successful.\n",
      "\n",
      "[MoviePy] Running:\n",
      ">>> ffmpeg -y -i /home/sunjiajun/cs231n_project/datasets/videos/video239.mp4 -ss 197.85 -t 10.00 -vcodec copy -acodec copy /home/sunjiajun/cs231n_project/datasets/processed/processed_video239.mp4\n",
      "... command successful.\n"
     ]
    },
    {
     "name": "stderr",
     "output_type": "stream",
     "text": [
      "WARNING:py.warnings:/home/sunjiajun/cs231n_project/.env/lib/python3.5/site-packages/moviepy/video/io/ffmpeg_reader.py:132: UserWarning: Warning: in file /home/sunjiajun/cs231n_project/datasets/processed/processed_video239.mp4, 230400 bytes wanted but 0 bytes read,at frame 150/151, at time 10.01/10.01 sec. Using the last valid frame instead.\n",
      "  UserWarning)\n",
      "\n",
      "WARNING:py.warnings:/home/sunjiajun/cs231n_project/.env/lib/python3.5/site-packages/moviepy/video/io/ffmpeg_reader.py:132: UserWarning: Warning: in file /home/sunjiajun/cs231n_project/datasets/processed/processed_video239.mp4, 230400 bytes wanted but 0 bytes read,at frame 150/151, at time 10.01/10.01 sec. Using the last valid frame instead.\n",
      "  UserWarning)\n",
      "\n"
     ]
    },
    {
     "name": "stdout",
     "output_type": "stream",
     "text": [
      "\n",
      "[MoviePy] Running:\n",
      ">>> ffmpeg -y -i /home/sunjiajun/cs231n_project/datasets/videos/video240.mp4 -ss 16.41 -t 10.00 -vcodec copy -acodec copy /home/sunjiajun/cs231n_project/datasets/processed/processed_video240.mp4\n",
      "... command successful.\n",
      "\n",
      "[MoviePy] Running:\n",
      ">>> ffmpeg -y -i /home/sunjiajun/cs231n_project/datasets/videos/video241.mp4 -ss 1357.31 -t 10.00 -vcodec copy -acodec copy /home/sunjiajun/cs231n_project/datasets/processed/processed_video241.mp4\n",
      "... command successful.\n"
     ]
    },
    {
     "name": "stderr",
     "output_type": "stream",
     "text": [
      "WARNING:py.warnings:/home/sunjiajun/cs231n_project/.env/lib/python3.5/site-packages/moviepy/video/io/ffmpeg_reader.py:132: UserWarning: Warning: in file /home/sunjiajun/cs231n_project/datasets/processed/processed_video241.mp4, 691200 bytes wanted but 0 bytes read,at frame 300/301, at time 10.00/10.01 sec. Using the last valid frame instead.\n",
      "  UserWarning)\n",
      "\n",
      "WARNING:py.warnings:/home/sunjiajun/cs231n_project/.env/lib/python3.5/site-packages/moviepy/video/io/ffmpeg_reader.py:132: UserWarning: Warning: in file /home/sunjiajun/cs231n_project/datasets/processed/processed_video241.mp4, 691200 bytes wanted but 0 bytes read,at frame 300/301, at time 10.00/10.01 sec. Using the last valid frame instead.\n",
      "  UserWarning)\n",
      "\n"
     ]
    },
    {
     "name": "stdout",
     "output_type": "stream",
     "text": [
      "\n",
      "[MoviePy] Running:\n",
      ">>> ffmpeg -y -i /home/sunjiajun/cs231n_project/datasets/videos/video242.mp4 -ss 54.25 -t 10.00 -vcodec copy -acodec copy /home/sunjiajun/cs231n_project/datasets/processed/processed_video242.mp4\n",
      "... command successful.\n"
     ]
    },
    {
     "name": "stderr",
     "output_type": "stream",
     "text": [
      "WARNING:py.warnings:/home/sunjiajun/cs231n_project/.env/lib/python3.5/site-packages/moviepy/video/io/ffmpeg_reader.py:132: UserWarning: Warning: in file /home/sunjiajun/cs231n_project/datasets/processed/processed_video242.mp4, 230400 bytes wanted but 0 bytes read,at frame 150/151, at time 10.00/10.01 sec. Using the last valid frame instead.\n",
      "  UserWarning)\n",
      "\n",
      "WARNING:py.warnings:/home/sunjiajun/cs231n_project/.env/lib/python3.5/site-packages/moviepy/video/io/ffmpeg_reader.py:132: UserWarning: Warning: in file /home/sunjiajun/cs231n_project/datasets/processed/processed_video242.mp4, 230400 bytes wanted but 0 bytes read,at frame 150/151, at time 10.00/10.01 sec. Using the last valid frame instead.\n",
      "  UserWarning)\n",
      "\n"
     ]
    },
    {
     "name": "stdout",
     "output_type": "stream",
     "text": [
      "\n",
      "[MoviePy] Running:\n",
      ">>> ffmpeg -y -i /home/sunjiajun/cs231n_project/datasets/videos/video243.mp4 -ss 43.78 -t 10.00 -vcodec copy -acodec copy /home/sunjiajun/cs231n_project/datasets/processed/processed_video243.mp4\n",
      "... command successful.\n",
      "\n",
      "[MoviePy] Running:\n",
      ">>> ffmpeg -y -i /home/sunjiajun/cs231n_project/datasets/videos/video244.mp4 -ss 157.48 -t 10.00 -vcodec copy -acodec copy /home/sunjiajun/cs231n_project/datasets/processed/processed_video244.mp4\n",
      "... command successful.\n",
      "\n",
      "[MoviePy] Running:\n",
      ">>> ffmpeg -y -i /home/sunjiajun/cs231n_project/datasets/videos/video245.mp4 -ss 138.17 -t 10.00 -vcodec copy -acodec copy /home/sunjiajun/cs231n_project/datasets/processed/processed_video245.mp4\n",
      "... command successful.\n"
     ]
    },
    {
     "name": "stderr",
     "output_type": "stream",
     "text": [
      "WARNING:py.warnings:/home/sunjiajun/cs231n_project/.env/lib/python3.5/site-packages/moviepy/video/io/ffmpeg_reader.py:132: UserWarning: Warning: in file /home/sunjiajun/cs231n_project/datasets/processed/processed_video245.mp4, 691200 bytes wanted but 0 bytes read,at frame 250/251, at time 10.00/10.01 sec. Using the last valid frame instead.\n",
      "  UserWarning)\n",
      "\n",
      "WARNING:py.warnings:/home/sunjiajun/cs231n_project/.env/lib/python3.5/site-packages/moviepy/video/io/ffmpeg_reader.py:132: UserWarning: Warning: in file /home/sunjiajun/cs231n_project/datasets/processed/processed_video245.mp4, 691200 bytes wanted but 0 bytes read,at frame 250/251, at time 10.00/10.01 sec. Using the last valid frame instead.\n",
      "  UserWarning)\n",
      "\n"
     ]
    },
    {
     "name": "stdout",
     "output_type": "stream",
     "text": [
      "\n",
      "[MoviePy] Running:\n",
      ">>> ffmpeg -y -i /home/sunjiajun/cs231n_project/datasets/videos/video246.mp4 -ss 54.84 -t 10.00 -vcodec copy -acodec copy /home/sunjiajun/cs231n_project/datasets/processed/processed_video246.mp4\n",
      "... command successful.\n",
      "\n",
      "[MoviePy] Running:\n",
      ">>> ffmpeg -y -i /home/sunjiajun/cs231n_project/datasets/videos/video247.mp4 -ss 37.33 -t 10.00 -vcodec copy -acodec copy /home/sunjiajun/cs231n_project/datasets/processed/processed_video247.mp4\n",
      "... command successful.\n"
     ]
    },
    {
     "name": "stderr",
     "output_type": "stream",
     "text": [
      "WARNING:py.warnings:/home/sunjiajun/cs231n_project/.env/lib/python3.5/site-packages/moviepy/video/io/ffmpeg_reader.py:132: UserWarning: Warning: in file /home/sunjiajun/cs231n_project/datasets/processed/processed_video247.mp4, 643680 bytes wanted but 0 bytes read,at frame 300/301, at time 10.00/10.01 sec. Using the last valid frame instead.\n",
      "  UserWarning)\n",
      "\n",
      "WARNING:py.warnings:/home/sunjiajun/cs231n_project/.env/lib/python3.5/site-packages/moviepy/video/io/ffmpeg_reader.py:132: UserWarning: Warning: in file /home/sunjiajun/cs231n_project/datasets/processed/processed_video247.mp4, 643680 bytes wanted but 0 bytes read,at frame 300/301, at time 10.00/10.01 sec. Using the last valid frame instead.\n",
      "  UserWarning)\n",
      "\n"
     ]
    },
    {
     "name": "stdout",
     "output_type": "stream",
     "text": [
      "\n",
      "[MoviePy] Running:\n",
      ">>> ffmpeg -y -i /home/sunjiajun/cs231n_project/datasets/videos/video248.mp4 -ss 36.82 -t 10.00 -vcodec copy -acodec copy /home/sunjiajun/cs231n_project/datasets/processed/processed_video248.mp4\n",
      "... command successful.\n",
      "\n",
      "[MoviePy] Running:\n",
      ">>> ffmpeg -y -i /home/sunjiajun/cs231n_project/datasets/videos/video249.mp4 -ss 164.01 -t 10.00 -vcodec copy -acodec copy /home/sunjiajun/cs231n_project/datasets/processed/processed_video249.mp4\n",
      "... command successful.\n",
      "video250 url is invalid\n",
      "\n",
      "[MoviePy] Running:\n",
      ">>> ffmpeg -y -i /home/sunjiajun/cs231n_project/datasets/videos/video251.mp4 -ss 51.81 -t 10.00 -vcodec copy -acodec copy /home/sunjiajun/cs231n_project/datasets/processed/processed_video251.mp4\n",
      "... command successful.\n"
     ]
    },
    {
     "name": "stderr",
     "output_type": "stream",
     "text": [
      "WARNING:py.warnings:/home/sunjiajun/cs231n_project/.env/lib/python3.5/site-packages/moviepy/video/io/ffmpeg_reader.py:132: UserWarning: Warning: in file /home/sunjiajun/cs231n_project/datasets/processed/processed_video251.mp4, 691200 bytes wanted but 0 bytes read,at frame 239/240, at time 9.97/9.99 sec. Using the last valid frame instead.\n",
      "  UserWarning)\n",
      "\n",
      "WARNING:py.warnings:/home/sunjiajun/cs231n_project/.env/lib/python3.5/site-packages/moviepy/video/io/ffmpeg_reader.py:132: UserWarning: Warning: in file /home/sunjiajun/cs231n_project/datasets/processed/processed_video251.mp4, 691200 bytes wanted but 0 bytes read,at frame 239/240, at time 9.97/9.99 sec. Using the last valid frame instead.\n",
      "  UserWarning)\n",
      "\n"
     ]
    },
    {
     "name": "stdout",
     "output_type": "stream",
     "text": [
      "\n",
      "[MoviePy] Running:\n",
      ">>> ffmpeg -y -i /home/sunjiajun/cs231n_project/datasets/videos/video252.mp4 -ss 399.85 -t 10.00 -vcodec copy -acodec copy /home/sunjiajun/cs231n_project/datasets/processed/processed_video252.mp4\n",
      "... command successful.\n",
      "\n",
      "[MoviePy] Running:\n",
      ">>> ffmpeg -y -i /home/sunjiajun/cs231n_project/datasets/videos/video253.mp4 -ss 19.63 -t 10.00 -vcodec copy -acodec copy /home/sunjiajun/cs231n_project/datasets/processed/processed_video253.mp4\n",
      "... command successful.\n",
      "\n",
      "[MoviePy] Running:\n",
      ">>> ffmpeg -y -i /home/sunjiajun/cs231n_project/datasets/videos/video254.mp4 -ss 137.99 -t 10.00 -vcodec copy -acodec copy /home/sunjiajun/cs231n_project/datasets/processed/processed_video254.mp4\n",
      "... command successful.\n",
      "\n",
      "[MoviePy] Running:\n",
      ">>> ffmpeg -y -i /home/sunjiajun/cs231n_project/datasets/videos/video255.mp4 -ss 0.00 -t 10.00 -vcodec copy -acodec copy /home/sunjiajun/cs231n_project/datasets/processed/processed_video255.mp4\n",
      "... command successful.\n"
     ]
    },
    {
     "name": "stderr",
     "output_type": "stream",
     "text": [
      "WARNING:py.warnings:/home/sunjiajun/cs231n_project/.env/lib/python3.5/site-packages/moviepy/video/io/ffmpeg_reader.py:132: UserWarning: Warning: in file /home/sunjiajun/cs231n_project/datasets/processed/processed_video255.mp4, 518400 bytes wanted but 0 bytes read,at frame 180/181, at time 10.00/10.01 sec. Using the last valid frame instead.\n",
      "  UserWarning)\n",
      "\n",
      "WARNING:py.warnings:/home/sunjiajun/cs231n_project/.env/lib/python3.5/site-packages/moviepy/video/io/ffmpeg_reader.py:132: UserWarning: Warning: in file /home/sunjiajun/cs231n_project/datasets/processed/processed_video255.mp4, 518400 bytes wanted but 0 bytes read,at frame 180/181, at time 10.00/10.01 sec. Using the last valid frame instead.\n",
      "  UserWarning)\n",
      "\n"
     ]
    },
    {
     "name": "stdout",
     "output_type": "stream",
     "text": [
      "\n",
      "[MoviePy] Running:\n",
      ">>> ffmpeg -y -i /home/sunjiajun/cs231n_project/datasets/videos/video256.mp4 -ss 522.45 -t 10.00 -vcodec copy -acodec copy /home/sunjiajun/cs231n_project/datasets/processed/processed_video256.mp4\n",
      "... command successful.\n",
      "\n",
      "[MoviePy] Running:\n",
      ">>> ffmpeg -y -i /home/sunjiajun/cs231n_project/datasets/videos/video257.mp4 -ss 13.85 -t 10.00 -vcodec copy -acodec copy /home/sunjiajun/cs231n_project/datasets/processed/processed_video257.mp4\n",
      "... command successful.\n"
     ]
    },
    {
     "name": "stderr",
     "output_type": "stream",
     "text": [
      "WARNING:py.warnings:/home/sunjiajun/cs231n_project/.env/lib/python3.5/site-packages/moviepy/video/io/ffmpeg_reader.py:132: UserWarning: Warning: in file /home/sunjiajun/cs231n_project/datasets/processed/processed_video257.mp4, 691200 bytes wanted but 0 bytes read,at frame 250/251, at time 10.00/10.01 sec. Using the last valid frame instead.\n",
      "  UserWarning)\n",
      "\n",
      "WARNING:py.warnings:/home/sunjiajun/cs231n_project/.env/lib/python3.5/site-packages/moviepy/video/io/ffmpeg_reader.py:132: UserWarning: Warning: in file /home/sunjiajun/cs231n_project/datasets/processed/processed_video257.mp4, 691200 bytes wanted but 0 bytes read,at frame 250/251, at time 10.00/10.01 sec. Using the last valid frame instead.\n",
      "  UserWarning)\n",
      "\n"
     ]
    },
    {
     "name": "stdout",
     "output_type": "stream",
     "text": [
      "\n",
      "[MoviePy] Running:\n",
      ">>> ffmpeg -y -i /home/sunjiajun/cs231n_project/datasets/videos/video258.mp4 -ss 206.05 -t 10.00 -vcodec copy -acodec copy /home/sunjiajun/cs231n_project/datasets/processed/processed_video258.mp4\n",
      "... command successful.\n"
     ]
    },
    {
     "name": "stderr",
     "output_type": "stream",
     "text": [
      "WARNING:py.warnings:/home/sunjiajun/cs231n_project/.env/lib/python3.5/site-packages/moviepy/video/io/ffmpeg_reader.py:132: UserWarning: Warning: in file /home/sunjiajun/cs231n_project/datasets/processed/processed_video258.mp4, 230400 bytes wanted but 0 bytes read,at frame 300/301, at time 10.00/10.01 sec. Using the last valid frame instead.\n",
      "  UserWarning)\n",
      "\n",
      "WARNING:py.warnings:/home/sunjiajun/cs231n_project/.env/lib/python3.5/site-packages/moviepy/video/io/ffmpeg_reader.py:132: UserWarning: Warning: in file /home/sunjiajun/cs231n_project/datasets/processed/processed_video258.mp4, 230400 bytes wanted but 0 bytes read,at frame 300/301, at time 10.00/10.01 sec. Using the last valid frame instead.\n",
      "  UserWarning)\n",
      "\n"
     ]
    },
    {
     "name": "stdout",
     "output_type": "stream",
     "text": [
      "\n",
      "[MoviePy] Running:\n",
      ">>> ffmpeg -y -i /home/sunjiajun/cs231n_project/datasets/videos/video259.mp4 -ss 19.85 -t 10.00 -vcodec copy -acodec copy /home/sunjiajun/cs231n_project/datasets/processed/processed_video259.mp4\n",
      "... command successful.\n",
      "\n",
      "[MoviePy] Running:\n",
      ">>> ffmpeg -y -i /home/sunjiajun/cs231n_project/datasets/videos/video260.mp4 -ss 601.25 -t 10.00 -vcodec copy -acodec copy /home/sunjiajun/cs231n_project/datasets/processed/processed_video260.mp4\n",
      "... command successful.\n",
      "\n",
      "[MoviePy] Running:\n",
      ">>> ffmpeg -y -i /home/sunjiajun/cs231n_project/datasets/videos/video261.mp4 -ss 50.60 -t 10.00 -vcodec copy -acodec copy /home/sunjiajun/cs231n_project/datasets/processed/processed_video261.mp4\n",
      "... command successful.\n",
      "\n",
      "[MoviePy] Running:\n",
      ">>> ffmpeg -y -i /home/sunjiajun/cs231n_project/datasets/videos/video262.mp4 -ss 598.48 -t 10.00 -vcodec copy -acodec copy /home/sunjiajun/cs231n_project/datasets/processed/processed_video262.mp4\n",
      "... command successful.\n"
     ]
    },
    {
     "name": "stderr",
     "output_type": "stream",
     "text": [
      "WARNING:py.warnings:/home/sunjiajun/cs231n_project/.env/lib/python3.5/site-packages/moviepy/video/io/ffmpeg_reader.py:132: UserWarning: Warning: in file /home/sunjiajun/cs231n_project/datasets/processed/processed_video262.mp4, 691200 bytes wanted but 0 bytes read,at frame 300/301, at time 10.00/10.01 sec. Using the last valid frame instead.\n",
      "  UserWarning)\n",
      "\n",
      "WARNING:py.warnings:/home/sunjiajun/cs231n_project/.env/lib/python3.5/site-packages/moviepy/video/io/ffmpeg_reader.py:132: UserWarning: Warning: in file /home/sunjiajun/cs231n_project/datasets/processed/processed_video262.mp4, 691200 bytes wanted but 0 bytes read,at frame 300/301, at time 10.00/10.01 sec. Using the last valid frame instead.\n",
      "  UserWarning)\n",
      "\n"
     ]
    },
    {
     "name": "stdout",
     "output_type": "stream",
     "text": [
      "\n",
      "[MoviePy] Running:\n",
      ">>> ffmpeg -y -i /home/sunjiajun/cs231n_project/datasets/videos/video263.mp4 -ss 34.92 -t 10.00 -vcodec copy -acodec copy /home/sunjiajun/cs231n_project/datasets/processed/processed_video263.mp4\n",
      "... command successful.\n",
      "\n",
      "[MoviePy] Running:\n",
      ">>> ffmpeg -y -i /home/sunjiajun/cs231n_project/datasets/videos/video264.mp4 -ss 291.64 -t 10.00 -vcodec copy -acodec copy /home/sunjiajun/cs231n_project/datasets/processed/processed_video264.mp4\n",
      "... command successful.\n",
      "\n",
      "[MoviePy] Running:\n",
      ">>> ffmpeg -y -i /home/sunjiajun/cs231n_project/datasets/videos/video265.mp4 -ss 71.05 -t 10.00 -vcodec copy -acodec copy /home/sunjiajun/cs231n_project/datasets/processed/processed_video265.mp4\n",
      "... command successful.\n",
      "\n",
      "[MoviePy] Running:\n",
      ">>> ffmpeg -y -i /home/sunjiajun/cs231n_project/datasets/videos/video266.mp4 -ss 388.37 -t 10.00 -vcodec copy -acodec copy /home/sunjiajun/cs231n_project/datasets/processed/processed_video266.mp4\n",
      "... command successful.\n",
      "video267 url is invalid\n",
      "\n",
      "[MoviePy] Running:\n",
      ">>> ffmpeg -y -i /home/sunjiajun/cs231n_project/datasets/videos/video268.mp4 -ss 261.78 -t 10.00 -vcodec copy -acodec copy /home/sunjiajun/cs231n_project/datasets/processed/processed_video268.mp4\n",
      "... command successful.\n",
      "\n",
      "[MoviePy] Running:\n",
      ">>> ffmpeg -y -i /home/sunjiajun/cs231n_project/datasets/videos/video269.mp4 -ss 14.03 -t 10.00 -vcodec copy -acodec copy /home/sunjiajun/cs231n_project/datasets/processed/processed_video269.mp4\n",
      "... command successful.\n",
      "\n",
      "[MoviePy] Running:\n",
      ">>> ffmpeg -y -i /home/sunjiajun/cs231n_project/datasets/videos/video270.mp4 -ss 107.25 -t 10.00 -vcodec copy -acodec copy /home/sunjiajun/cs231n_project/datasets/processed/processed_video270.mp4\n",
      "... command successful.\n",
      "\n",
      "[MoviePy] Running:\n",
      ">>> ffmpeg -y -i /home/sunjiajun/cs231n_project/datasets/videos/video271.mp4 -ss 222.45 -t 10.00 -vcodec copy -acodec copy /home/sunjiajun/cs231n_project/datasets/processed/processed_video271.mp4\n",
      "... command successful.\n",
      "\n",
      "[MoviePy] Running:\n",
      ">>> ffmpeg -y -i /home/sunjiajun/cs231n_project/datasets/videos/video272.mp4 -ss 1198.54 -t 10.00 -vcodec copy -acodec copy /home/sunjiajun/cs231n_project/datasets/processed/processed_video272.mp4\n",
      "... command successful.\n",
      "\n",
      "[MoviePy] Running:\n",
      ">>> ffmpeg -y -i /home/sunjiajun/cs231n_project/datasets/videos/video273.mp4 -ss 1005.75 -t 10.00 -vcodec copy -acodec copy /home/sunjiajun/cs231n_project/datasets/processed/processed_video273.mp4\n",
      "... command successful.\n",
      "\n",
      "[MoviePy] Running:\n",
      ">>> ffmpeg -y -i /home/sunjiajun/cs231n_project/datasets/videos/video274.mp4 -ss 8.45 -t 10.00 -vcodec copy -acodec copy /home/sunjiajun/cs231n_project/datasets/processed/processed_video274.mp4\n",
      "... command successful.\n"
     ]
    },
    {
     "name": "stderr",
     "output_type": "stream",
     "text": [
      "WARNING:py.warnings:/home/sunjiajun/cs231n_project/.env/lib/python3.5/site-packages/moviepy/video/io/ffmpeg_reader.py:132: UserWarning: Warning: in file /home/sunjiajun/cs231n_project/datasets/processed/processed_video274.mp4, 518400 bytes wanted but 0 bytes read,at frame 300/301, at time 10.00/10.01 sec. Using the last valid frame instead.\n",
      "  UserWarning)\n",
      "\n",
      "WARNING:py.warnings:/home/sunjiajun/cs231n_project/.env/lib/python3.5/site-packages/moviepy/video/io/ffmpeg_reader.py:132: UserWarning: Warning: in file /home/sunjiajun/cs231n_project/datasets/processed/processed_video274.mp4, 518400 bytes wanted but 0 bytes read,at frame 300/301, at time 10.00/10.01 sec. Using the last valid frame instead.\n",
      "  UserWarning)\n",
      "\n"
     ]
    },
    {
     "name": "stdout",
     "output_type": "stream",
     "text": [
      "\n",
      "[MoviePy] Running:\n",
      ">>> ffmpeg -y -i /home/sunjiajun/cs231n_project/datasets/videos/video275.mp4 -ss 276.93 -t 10.00 -vcodec copy -acodec copy /home/sunjiajun/cs231n_project/datasets/processed/processed_video275.mp4\n",
      "... command successful.\n"
     ]
    },
    {
     "name": "stderr",
     "output_type": "stream",
     "text": [
      "WARNING:py.warnings:/home/sunjiajun/cs231n_project/.env/lib/python3.5/site-packages/moviepy/video/io/ffmpeg_reader.py:132: UserWarning: Warning: in file /home/sunjiajun/cs231n_project/datasets/processed/processed_video275.mp4, 587520 bytes wanted but 0 bytes read,at frame 250/251, at time 10.00/10.01 sec. Using the last valid frame instead.\n",
      "  UserWarning)\n",
      "\n",
      "WARNING:py.warnings:/home/sunjiajun/cs231n_project/.env/lib/python3.5/site-packages/moviepy/video/io/ffmpeg_reader.py:132: UserWarning: Warning: in file /home/sunjiajun/cs231n_project/datasets/processed/processed_video275.mp4, 587520 bytes wanted but 0 bytes read,at frame 250/251, at time 10.00/10.01 sec. Using the last valid frame instead.\n",
      "  UserWarning)\n",
      "\n"
     ]
    },
    {
     "name": "stdout",
     "output_type": "stream",
     "text": [
      "\n",
      "[MoviePy] Running:\n",
      ">>> ffmpeg -y -i /home/sunjiajun/cs231n_project/datasets/videos/video276.mp4 -ss 80.75 -t 10.00 -vcodec copy -acodec copy /home/sunjiajun/cs231n_project/datasets/processed/processed_video276.mp4\n",
      "... command successful.\n"
     ]
    },
    {
     "name": "stderr",
     "output_type": "stream",
     "text": [
      "WARNING:py.warnings:/home/sunjiajun/cs231n_project/.env/lib/python3.5/site-packages/moviepy/video/io/ffmpeg_reader.py:132: UserWarning: Warning: in file /home/sunjiajun/cs231n_project/datasets/processed/processed_video276.mp4, 689040 bytes wanted but 0 bytes read,at frame 300/301, at time 10.00/10.01 sec. Using the last valid frame instead.\n",
      "  UserWarning)\n",
      "\n",
      "WARNING:py.warnings:/home/sunjiajun/cs231n_project/.env/lib/python3.5/site-packages/moviepy/video/io/ffmpeg_reader.py:132: UserWarning: Warning: in file /home/sunjiajun/cs231n_project/datasets/processed/processed_video276.mp4, 689040 bytes wanted but 0 bytes read,at frame 300/301, at time 10.00/10.01 sec. Using the last valid frame instead.\n",
      "  UserWarning)\n",
      "\n"
     ]
    },
    {
     "name": "stdout",
     "output_type": "stream",
     "text": [
      "\n",
      "[MoviePy] Running:\n",
      ">>> ffmpeg -y -i /home/sunjiajun/cs231n_project/datasets/videos/video277.mp4 -ss 131.21 -t 10.00 -vcodec copy -acodec copy /home/sunjiajun/cs231n_project/datasets/processed/processed_video277.mp4\n",
      "... command successful.\n",
      "\n",
      "[MoviePy] Running:\n",
      ">>> ffmpeg -y -i /home/sunjiajun/cs231n_project/datasets/videos/video278.mp4 -ss 523.42 -t 10.00 -vcodec copy -acodec copy /home/sunjiajun/cs231n_project/datasets/processed/processed_video278.mp4\n",
      "... command successful.\n",
      "\n",
      "[MoviePy] Running:\n",
      ">>> ffmpeg -y -i /home/sunjiajun/cs231n_project/datasets/videos/video279.mp4 -ss 238.09 -t 10.00 -vcodec copy -acodec copy /home/sunjiajun/cs231n_project/datasets/processed/processed_video279.mp4\n",
      "... command successful.\n",
      "\n",
      "[MoviePy] Running:\n",
      ">>> ffmpeg -y -i /home/sunjiajun/cs231n_project/datasets/videos/video280.mp4 -ss 24.70 -t 10.00 -vcodec copy -acodec copy /home/sunjiajun/cs231n_project/datasets/processed/processed_video280.mp4\n",
      "... command successful.\n",
      "\n",
      "[MoviePy] Running:\n",
      ">>> ffmpeg -y -i /home/sunjiajun/cs231n_project/datasets/videos/video281.mp4 -ss 198.37 -t 10.00 -vcodec copy -acodec copy /home/sunjiajun/cs231n_project/datasets/processed/processed_video281.mp4\n",
      "... command successful.\n"
     ]
    },
    {
     "name": "stderr",
     "output_type": "stream",
     "text": [
      "WARNING:py.warnings:/home/sunjiajun/cs231n_project/.env/lib/python3.5/site-packages/moviepy/video/io/ffmpeg_reader.py:132: UserWarning: Warning: in file /home/sunjiajun/cs231n_project/datasets/processed/processed_video281.mp4, 691200 bytes wanted but 0 bytes read,at frame 239/240, at time 9.97/9.99 sec. Using the last valid frame instead.\n",
      "  UserWarning)\n",
      "\n",
      "WARNING:py.warnings:/home/sunjiajun/cs231n_project/.env/lib/python3.5/site-packages/moviepy/video/io/ffmpeg_reader.py:132: UserWarning: Warning: in file /home/sunjiajun/cs231n_project/datasets/processed/processed_video281.mp4, 691200 bytes wanted but 0 bytes read,at frame 239/240, at time 9.97/9.99 sec. Using the last valid frame instead.\n",
      "  UserWarning)\n",
      "\n"
     ]
    },
    {
     "name": "stdout",
     "output_type": "stream",
     "text": [
      "\n",
      "[MoviePy] Running:\n",
      ">>> ffmpeg -y -i /home/sunjiajun/cs231n_project/datasets/videos/video282.mp4 -ss 546.05 -t 10.00 -vcodec copy -acodec copy /home/sunjiajun/cs231n_project/datasets/processed/processed_video282.mp4\n",
      "... command successful.\n"
     ]
    },
    {
     "name": "stderr",
     "output_type": "stream",
     "text": [
      "WARNING:py.warnings:/home/sunjiajun/cs231n_project/.env/lib/python3.5/site-packages/moviepy/video/io/ffmpeg_reader.py:132: UserWarning: Warning: in file /home/sunjiajun/cs231n_project/datasets/processed/processed_video282.mp4, 691200 bytes wanted but 0 bytes read,at frame 250/251, at time 10.00/10.01 sec. Using the last valid frame instead.\n",
      "  UserWarning)\n",
      "\n",
      "WARNING:py.warnings:/home/sunjiajun/cs231n_project/.env/lib/python3.5/site-packages/moviepy/video/io/ffmpeg_reader.py:132: UserWarning: Warning: in file /home/sunjiajun/cs231n_project/datasets/processed/processed_video282.mp4, 691200 bytes wanted but 0 bytes read,at frame 250/251, at time 10.00/10.01 sec. Using the last valid frame instead.\n",
      "  UserWarning)\n",
      "\n"
     ]
    },
    {
     "name": "stdout",
     "output_type": "stream",
     "text": [
      "\n",
      "[MoviePy] Running:\n",
      ">>> ffmpeg -y -i /home/sunjiajun/cs231n_project/datasets/videos/video283.mp4 -ss 537.45 -t 10.00 -vcodec copy -acodec copy /home/sunjiajun/cs231n_project/datasets/processed/processed_video283.mp4\n",
      "... command successful.\n",
      "\n",
      "[MoviePy] Running:\n",
      ">>> ffmpeg -y -i /home/sunjiajun/cs231n_project/datasets/videos/video284.mp4 -ss 68.41 -t 10.00 -vcodec copy -acodec copy /home/sunjiajun/cs231n_project/datasets/processed/processed_video284.mp4\n",
      "... command successful.\n",
      "\n",
      "[MoviePy] Running:\n",
      ">>> ffmpeg -y -i /home/sunjiajun/cs231n_project/datasets/videos/video285.mp4 -ss 53.39 -t 10.00 -vcodec copy -acodec copy /home/sunjiajun/cs231n_project/datasets/processed/processed_video285.mp4\n",
      "... command successful.\n",
      "\n",
      "[MoviePy] Running:\n",
      ">>> ffmpeg -y -i /home/sunjiajun/cs231n_project/datasets/videos/video286.mp4 -ss 6.75 -t 10.00 -vcodec copy -acodec copy /home/sunjiajun/cs231n_project/datasets/processed/processed_video286.mp4\n",
      "... command successful.\n"
     ]
    },
    {
     "name": "stderr",
     "output_type": "stream",
     "text": [
      "WARNING:py.warnings:/home/sunjiajun/cs231n_project/.env/lib/python3.5/site-packages/moviepy/video/io/ffmpeg_reader.py:132: UserWarning: Warning: in file /home/sunjiajun/cs231n_project/datasets/processed/processed_video286.mp4, 691200 bytes wanted but 0 bytes read,at frame 299/301, at time 9.98/10.01 sec. Using the last valid frame instead.\n",
      "  UserWarning)\n",
      "\n",
      "WARNING:py.warnings:/home/sunjiajun/cs231n_project/.env/lib/python3.5/site-packages/moviepy/video/io/ffmpeg_reader.py:132: UserWarning: Warning: in file /home/sunjiajun/cs231n_project/datasets/processed/processed_video286.mp4, 691200 bytes wanted but 0 bytes read,at frame 299/301, at time 9.98/10.01 sec. Using the last valid frame instead.\n",
      "  UserWarning)\n",
      "\n"
     ]
    },
    {
     "name": "stdout",
     "output_type": "stream",
     "text": [
      "\n",
      "[MoviePy] Running:\n",
      ">>> ffmpeg -y -i /home/sunjiajun/cs231n_project/datasets/videos/video287.mp4 -ss 142.06 -t 10.00 -vcodec copy -acodec copy /home/sunjiajun/cs231n_project/datasets/processed/processed_video287.mp4\n",
      "... command successful.\n",
      "\n",
      "[MoviePy] Running:\n",
      ">>> ffmpeg -y -i /home/sunjiajun/cs231n_project/datasets/videos/video288.mp4 -ss 118.07 -t 10.00 -vcodec copy -acodec copy /home/sunjiajun/cs231n_project/datasets/processed/processed_video288.mp4\n",
      "... command successful.\n",
      "\n",
      "[MoviePy] Running:\n",
      ">>> ffmpeg -y -i /home/sunjiajun/cs231n_project/datasets/videos/video289.mp4 -ss 20.99 -t 10.00 -vcodec copy -acodec copy /home/sunjiajun/cs231n_project/datasets/processed/processed_video289.mp4\n",
      "... command successful.\n",
      "\n",
      "[MoviePy] Running:\n",
      ">>> ffmpeg -y -i /home/sunjiajun/cs231n_project/datasets/videos/video290.mp4 -ss 215.16 -t 10.00 -vcodec copy -acodec copy /home/sunjiajun/cs231n_project/datasets/processed/processed_video290.mp4\n",
      "... command successful.\n",
      "\n",
      "[MoviePy] Running:\n",
      ">>> ffmpeg -y -i /home/sunjiajun/cs231n_project/datasets/videos/video291.mp4 -ss 1456.75 -t 10.00 -vcodec copy -acodec copy /home/sunjiajun/cs231n_project/datasets/processed/processed_video291.mp4\n",
      "... command successful.\n",
      "\n",
      "[MoviePy] Running:\n",
      ">>> ffmpeg -y -i /home/sunjiajun/cs231n_project/datasets/videos/video292.mp4 -ss 56.10 -t 10.00 -vcodec copy -acodec copy /home/sunjiajun/cs231n_project/datasets/processed/processed_video292.mp4\n",
      "... command successful.\n",
      "\n",
      "[MoviePy] Running:\n",
      ">>> ffmpeg -y -i /home/sunjiajun/cs231n_project/datasets/videos/video293.mp4 -ss 10.69 -t 10.00 -vcodec copy -acodec copy /home/sunjiajun/cs231n_project/datasets/processed/processed_video293.mp4\n",
      "... command successful.\n"
     ]
    },
    {
     "name": "stderr",
     "output_type": "stream",
     "text": [
      "WARNING:py.warnings:/home/sunjiajun/cs231n_project/.env/lib/python3.5/site-packages/moviepy/video/io/ffmpeg_reader.py:132: UserWarning: Warning: in file /home/sunjiajun/cs231n_project/datasets/processed/processed_video293.mp4, 691200 bytes wanted but 0 bytes read,at frame 250/251, at time 10.00/10.01 sec. Using the last valid frame instead.\n",
      "  UserWarning)\n",
      "\n",
      "WARNING:py.warnings:/home/sunjiajun/cs231n_project/.env/lib/python3.5/site-packages/moviepy/video/io/ffmpeg_reader.py:132: UserWarning: Warning: in file /home/sunjiajun/cs231n_project/datasets/processed/processed_video293.mp4, 691200 bytes wanted but 0 bytes read,at frame 250/251, at time 10.00/10.01 sec. Using the last valid frame instead.\n",
      "  UserWarning)\n",
      "\n"
     ]
    },
    {
     "name": "stdout",
     "output_type": "stream",
     "text": [
      "\n",
      "[MoviePy] Running:\n",
      ">>> ffmpeg -y -i /home/sunjiajun/cs231n_project/datasets/videos/video294.mp4 -ss 23.36 -t 10.00 -vcodec copy -acodec copy /home/sunjiajun/cs231n_project/datasets/processed/processed_video294.mp4\n",
      "... command successful.\n"
     ]
    },
    {
     "name": "stderr",
     "output_type": "stream",
     "text": [
      "WARNING:py.warnings:/home/sunjiajun/cs231n_project/.env/lib/python3.5/site-packages/moviepy/video/io/ffmpeg_reader.py:132: UserWarning: Warning: in file /home/sunjiajun/cs231n_project/datasets/processed/processed_video294.mp4, 691200 bytes wanted but 0 bytes read,at frame 239/240, at time 9.97/9.99 sec. Using the last valid frame instead.\n",
      "  UserWarning)\n",
      "\n",
      "WARNING:py.warnings:/home/sunjiajun/cs231n_project/.env/lib/python3.5/site-packages/moviepy/video/io/ffmpeg_reader.py:132: UserWarning: Warning: in file /home/sunjiajun/cs231n_project/datasets/processed/processed_video294.mp4, 691200 bytes wanted but 0 bytes read,at frame 239/240, at time 9.97/9.99 sec. Using the last valid frame instead.\n",
      "  UserWarning)\n",
      "\n"
     ]
    },
    {
     "name": "stdout",
     "output_type": "stream",
     "text": [
      "\n",
      "[MoviePy] Running:\n",
      ">>> ffmpeg -y -i /home/sunjiajun/cs231n_project/datasets/videos/video295.mp4 -ss 82.06 -t 10.00 -vcodec copy -acodec copy /home/sunjiajun/cs231n_project/datasets/processed/processed_video295.mp4\n",
      "... command successful.\n",
      "\n",
      "[MoviePy] Running:\n",
      ">>> ffmpeg -y -i /home/sunjiajun/cs231n_project/datasets/videos/video296.mp4 -ss 25.05 -t 10.00 -vcodec copy -acodec copy /home/sunjiajun/cs231n_project/datasets/processed/processed_video296.mp4\n",
      "... command successful.\n",
      "\n",
      "[MoviePy] Running:\n",
      ">>> ffmpeg -y -i /home/sunjiajun/cs231n_project/datasets/videos/video297.mp4 -ss 94.34 -t 10.00 -vcodec copy -acodec copy /home/sunjiajun/cs231n_project/datasets/processed/processed_video297.mp4\n",
      "... command successful.\n",
      "\n",
      "[MoviePy] Running:\n",
      ">>> ffmpeg -y -i /home/sunjiajun/cs231n_project/datasets/videos/video298.mp4 -ss 163.01 -t 10.00 -vcodec copy -acodec copy /home/sunjiajun/cs231n_project/datasets/processed/processed_video298.mp4\n",
      "... command successful.\n",
      "\n",
      "[MoviePy] Running:\n",
      ">>> ffmpeg -y -i /home/sunjiajun/cs231n_project/datasets/videos/video299.mp4 -ss 678.18 -t 10.00 -vcodec copy -acodec copy /home/sunjiajun/cs231n_project/datasets/processed/processed_video299.mp4\n",
      "... command successful.\n",
      "\n",
      "[MoviePy] Running:\n",
      ">>> ffmpeg -y -i /home/sunjiajun/cs231n_project/datasets/videos/video300.mp4 -ss 360.70 -t 10.00 -vcodec copy -acodec copy /home/sunjiajun/cs231n_project/datasets/processed/processed_video300.mp4\n",
      "... command successful.\n"
     ]
    },
    {
     "name": "stderr",
     "output_type": "stream",
     "text": [
      "WARNING:py.warnings:/home/sunjiajun/cs231n_project/.env/lib/python3.5/site-packages/moviepy/video/io/ffmpeg_reader.py:132: UserWarning: Warning: in file /home/sunjiajun/cs231n_project/datasets/processed/processed_video300.mp4, 691200 bytes wanted but 0 bytes read,at frame 239/240, at time 9.97/9.99 sec. Using the last valid frame instead.\n",
      "  UserWarning)\n",
      "\n",
      "WARNING:py.warnings:/home/sunjiajun/cs231n_project/.env/lib/python3.5/site-packages/moviepy/video/io/ffmpeg_reader.py:132: UserWarning: Warning: in file /home/sunjiajun/cs231n_project/datasets/processed/processed_video300.mp4, 691200 bytes wanted but 0 bytes read,at frame 239/240, at time 9.97/9.99 sec. Using the last valid frame instead.\n",
      "  UserWarning)\n",
      "\n"
     ]
    },
    {
     "name": "stdout",
     "output_type": "stream",
     "text": [
      "\n",
      "[MoviePy] Running:\n",
      ">>> ffmpeg -y -i /home/sunjiajun/cs231n_project/datasets/videos/video301.mp4 -ss 168.32 -t 10.00 -vcodec copy -acodec copy /home/sunjiajun/cs231n_project/datasets/processed/processed_video301.mp4\n",
      "... command successful.\n",
      "\n",
      "[MoviePy] Running:\n",
      ">>> ffmpeg -y -i /home/sunjiajun/cs231n_project/datasets/videos/video302.mp4 -ss 220.90 -t 10.00 -vcodec copy -acodec copy /home/sunjiajun/cs231n_project/datasets/processed/processed_video302.mp4\n",
      "... command successful.\n",
      "video303 url is invalid\n",
      "\n",
      "[MoviePy] Running:\n",
      ">>> ffmpeg -y -i /home/sunjiajun/cs231n_project/datasets/videos/video304.mp4 -ss 126.69 -t 10.00 -vcodec copy -acodec copy /home/sunjiajun/cs231n_project/datasets/processed/processed_video304.mp4\n",
      "... command successful.\n",
      "\n",
      "[MoviePy] Running:\n",
      ">>> ffmpeg -y -i /home/sunjiajun/cs231n_project/datasets/videos/video305.mp4 -ss 501.57 -t 10.00 -vcodec copy -acodec copy /home/sunjiajun/cs231n_project/datasets/processed/processed_video305.mp4\n",
      "... command successful.\n",
      "\n",
      "[MoviePy] Running:\n",
      ">>> ffmpeg -y -i /home/sunjiajun/cs231n_project/datasets/videos/video306.mp4 -ss 4.41 -t 10.00 -vcodec copy -acodec copy /home/sunjiajun/cs231n_project/datasets/processed/processed_video306.mp4\n",
      "... command successful.\n",
      "\n",
      "[MoviePy] Running:\n",
      ">>> ffmpeg -y -i /home/sunjiajun/cs231n_project/datasets/videos/video307.mp4 -ss 126.09 -t 10.00 -vcodec copy -acodec copy /home/sunjiajun/cs231n_project/datasets/processed/processed_video307.mp4\n",
      "... command successful.\n",
      "\n",
      "[MoviePy] Running:\n",
      ">>> ffmpeg -y -i /home/sunjiajun/cs231n_project/datasets/videos/video308.mp4 -ss 675.88 -t 10.00 -vcodec copy -acodec copy /home/sunjiajun/cs231n_project/datasets/processed/processed_video308.mp4\n",
      "... command successful.\n"
     ]
    },
    {
     "name": "stderr",
     "output_type": "stream",
     "text": [
      "WARNING:py.warnings:/home/sunjiajun/cs231n_project/.env/lib/python3.5/site-packages/moviepy/video/io/ffmpeg_reader.py:132: UserWarning: Warning: in file /home/sunjiajun/cs231n_project/datasets/processed/processed_video308.mp4, 691200 bytes wanted but 0 bytes read,at frame 300/301, at time 10.00/10.01 sec. Using the last valid frame instead.\n",
      "  UserWarning)\n",
      "\n",
      "WARNING:py.warnings:/home/sunjiajun/cs231n_project/.env/lib/python3.5/site-packages/moviepy/video/io/ffmpeg_reader.py:132: UserWarning: Warning: in file /home/sunjiajun/cs231n_project/datasets/processed/processed_video308.mp4, 691200 bytes wanted but 0 bytes read,at frame 300/301, at time 10.00/10.01 sec. Using the last valid frame instead.\n",
      "  UserWarning)\n",
      "\n"
     ]
    },
    {
     "name": "stdout",
     "output_type": "stream",
     "text": [
      "\n",
      "[MoviePy] Running:\n",
      ">>> ffmpeg -y -i /home/sunjiajun/cs231n_project/datasets/videos/video309.mp4 -ss 114.92 -t 10.00 -vcodec copy -acodec copy /home/sunjiajun/cs231n_project/datasets/processed/processed_video309.mp4\n",
      "... command successful.\n",
      "\n",
      "[MoviePy] Running:\n",
      ">>> ffmpeg -y -i /home/sunjiajun/cs231n_project/datasets/videos/video310.mp4 -ss 345.76 -t 10.00 -vcodec copy -acodec copy /home/sunjiajun/cs231n_project/datasets/processed/processed_video310.mp4\n",
      "... command successful.\n",
      "video311 url is invalid\n",
      "\n",
      "[MoviePy] Running:\n",
      ">>> ffmpeg -y -i /home/sunjiajun/cs231n_project/datasets/videos/video312.mp4 -ss 8.13 -t 10.00 -vcodec copy -acodec copy /home/sunjiajun/cs231n_project/datasets/processed/processed_video312.mp4\n",
      "... command successful.\n",
      "\n",
      "[MoviePy] Running:\n",
      ">>> ffmpeg -y -i /home/sunjiajun/cs231n_project/datasets/videos/video313.mp4 -ss 2320.10 -t 10.00 -vcodec copy -acodec copy /home/sunjiajun/cs231n_project/datasets/processed/processed_video313.mp4\n",
      "... command successful.\n",
      "\n",
      "[MoviePy] Running:\n",
      ">>> ffmpeg -y -i /home/sunjiajun/cs231n_project/datasets/videos/video314.mp4 -ss 119.40 -t 10.00 -vcodec copy -acodec copy /home/sunjiajun/cs231n_project/datasets/processed/processed_video314.mp4\n",
      "... command successful.\n",
      "\n",
      "[MoviePy] Running:\n",
      ">>> ffmpeg -y -i /home/sunjiajun/cs231n_project/datasets/videos/video315.mp4 -ss 167.26 -t 10.00 -vcodec copy -acodec copy /home/sunjiajun/cs231n_project/datasets/processed/processed_video315.mp4\n",
      "... command successful.\n",
      "\n",
      "[MoviePy] Running:\n",
      ">>> ffmpeg -y -i /home/sunjiajun/cs231n_project/datasets/videos/video316.mp4 -ss 6.00 -t 10.00 -vcodec copy -acodec copy /home/sunjiajun/cs231n_project/datasets/processed/processed_video316.mp4\n",
      "... command successful.\n"
     ]
    },
    {
     "name": "stderr",
     "output_type": "stream",
     "text": [
      "WARNING:py.warnings:/home/sunjiajun/cs231n_project/.env/lib/python3.5/site-packages/moviepy/video/io/ffmpeg_reader.py:132: UserWarning: Warning: in file /home/sunjiajun/cs231n_project/datasets/processed/processed_video316.mp4, 691200 bytes wanted but 0 bytes read,at frame 250/251, at time 10.00/10.01 sec. Using the last valid frame instead.\n",
      "  UserWarning)\n",
      "\n",
      "WARNING:py.warnings:/home/sunjiajun/cs231n_project/.env/lib/python3.5/site-packages/moviepy/video/io/ffmpeg_reader.py:132: UserWarning: Warning: in file /home/sunjiajun/cs231n_project/datasets/processed/processed_video316.mp4, 691200 bytes wanted but 0 bytes read,at frame 250/251, at time 10.00/10.01 sec. Using the last valid frame instead.\n",
      "  UserWarning)\n",
      "\n"
     ]
    },
    {
     "name": "stdout",
     "output_type": "stream",
     "text": [
      "video317 url is invalid\n",
      "\n",
      "[MoviePy] Running:\n",
      ">>> ffmpeg -y -i /home/sunjiajun/cs231n_project/datasets/videos/video318.mp4 -ss 28.69 -t 10.00 -vcodec copy -acodec copy /home/sunjiajun/cs231n_project/datasets/processed/processed_video318.mp4\n",
      "... command successful.\n",
      "\n",
      "[MoviePy] Running:\n",
      ">>> ffmpeg -y -i /home/sunjiajun/cs231n_project/datasets/videos/video319.mp4 -ss 494.93 -t 10.00 -vcodec copy -acodec copy /home/sunjiajun/cs231n_project/datasets/processed/processed_video319.mp4\n",
      "... command successful.\n",
      "\n",
      "[MoviePy] Running:\n",
      ">>> ffmpeg -y -i /home/sunjiajun/cs231n_project/datasets/videos/video320.mp4 -ss 60.93 -t 10.00 -vcodec copy -acodec copy /home/sunjiajun/cs231n_project/datasets/processed/processed_video320.mp4\n",
      "... command successful.\n",
      "\n",
      "[MoviePy] Running:\n",
      ">>> ffmpeg -y -i /home/sunjiajun/cs231n_project/datasets/videos/video321.mp4 -ss 112.86 -t 10.00 -vcodec copy -acodec copy /home/sunjiajun/cs231n_project/datasets/processed/processed_video321.mp4\n",
      "... command successful.\n",
      "\n",
      "[MoviePy] Running:\n",
      ">>> ffmpeg -y -i /home/sunjiajun/cs231n_project/datasets/videos/video322.mp4 -ss 181.16 -t 10.00 -vcodec copy -acodec copy /home/sunjiajun/cs231n_project/datasets/processed/processed_video322.mp4\n",
      "... command successful.\n",
      "video323 url is invalid\n",
      "video324 url is invalid\n",
      "\n",
      "[MoviePy] Running:\n",
      ">>> ffmpeg -y -i /home/sunjiajun/cs231n_project/datasets/videos/video325.mp4 -ss 21.49 -t 10.00 -vcodec copy -acodec copy /home/sunjiajun/cs231n_project/datasets/processed/processed_video325.mp4\n",
      "... command successful.\n"
     ]
    },
    {
     "name": "stderr",
     "output_type": "stream",
     "text": [
      "WARNING:py.warnings:/home/sunjiajun/cs231n_project/.env/lib/python3.5/site-packages/moviepy/video/io/ffmpeg_reader.py:132: UserWarning: Warning: in file /home/sunjiajun/cs231n_project/datasets/processed/processed_video325.mp4, 691200 bytes wanted but 0 bytes read,at frame 250/251, at time 10.00/10.01 sec. Using the last valid frame instead.\n",
      "  UserWarning)\n",
      "\n",
      "WARNING:py.warnings:/home/sunjiajun/cs231n_project/.env/lib/python3.5/site-packages/moviepy/video/io/ffmpeg_reader.py:132: UserWarning: Warning: in file /home/sunjiajun/cs231n_project/datasets/processed/processed_video325.mp4, 691200 bytes wanted but 0 bytes read,at frame 250/251, at time 10.00/10.01 sec. Using the last valid frame instead.\n",
      "  UserWarning)\n",
      "\n"
     ]
    },
    {
     "name": "stdout",
     "output_type": "stream",
     "text": [
      "\n",
      "[MoviePy] Running:\n",
      ">>> ffmpeg -y -i /home/sunjiajun/cs231n_project/datasets/videos/video326.mp4 -ss 114.78 -t 10.00 -vcodec copy -acodec copy /home/sunjiajun/cs231n_project/datasets/processed/processed_video326.mp4\n",
      "... command successful.\n"
     ]
    },
    {
     "name": "stderr",
     "output_type": "stream",
     "text": [
      "WARNING:py.warnings:/home/sunjiajun/cs231n_project/.env/lib/python3.5/site-packages/moviepy/video/io/ffmpeg_reader.py:132: UserWarning: Warning: in file /home/sunjiajun/cs231n_project/datasets/processed/processed_video326.mp4, 518400 bytes wanted but 0 bytes read,at frame 299/300, at time 9.98/9.99 sec. Using the last valid frame instead.\n",
      "  UserWarning)\n",
      "\n",
      "WARNING:py.warnings:/home/sunjiajun/cs231n_project/.env/lib/python3.5/site-packages/moviepy/video/io/ffmpeg_reader.py:132: UserWarning: Warning: in file /home/sunjiajun/cs231n_project/datasets/processed/processed_video326.mp4, 518400 bytes wanted but 0 bytes read,at frame 299/300, at time 9.98/9.99 sec. Using the last valid frame instead.\n",
      "  UserWarning)\n",
      "\n"
     ]
    },
    {
     "name": "stdout",
     "output_type": "stream",
     "text": [
      "\n",
      "[MoviePy] Running:\n",
      ">>> ffmpeg -y -i /home/sunjiajun/cs231n_project/datasets/videos/video327.mp4 -ss 32.05 -t 10.00 -vcodec copy -acodec copy /home/sunjiajun/cs231n_project/datasets/processed/processed_video327.mp4\n",
      "... command successful.\n",
      "\n",
      "[MoviePy] Running:\n",
      ">>> ffmpeg -y -i /home/sunjiajun/cs231n_project/datasets/videos/video328.mp4 -ss 169.77 -t 10.00 -vcodec copy -acodec copy /home/sunjiajun/cs231n_project/datasets/processed/processed_video328.mp4\n",
      "... command successful.\n",
      "\n",
      "[MoviePy] Running:\n",
      ">>> ffmpeg -y -i /home/sunjiajun/cs231n_project/datasets/videos/video329.mp4 -ss 141.09 -t 10.00 -vcodec copy -acodec copy /home/sunjiajun/cs231n_project/datasets/processed/processed_video329.mp4\n",
      "... command successful.\n",
      "\n",
      "[MoviePy] Running:\n",
      ">>> ffmpeg -y -i /home/sunjiajun/cs231n_project/datasets/videos/video330.mp4 -ss 109.25 -t 10.00 -vcodec copy -acodec copy /home/sunjiajun/cs231n_project/datasets/processed/processed_video330.mp4\n",
      "... command successful.\n",
      "\n",
      "[MoviePy] Running:\n",
      ">>> ffmpeg -y -i /home/sunjiajun/cs231n_project/datasets/videos/video331.mp4 -ss 44.85 -t 10.00 -vcodec copy -acodec copy /home/sunjiajun/cs231n_project/datasets/processed/processed_video331.mp4\n",
      "... command successful.\n",
      "video332 url is invalid\n",
      "\n",
      "[MoviePy] Running:\n",
      ">>> ffmpeg -y -i /home/sunjiajun/cs231n_project/datasets/videos/video333.mp4 -ss 13.88 -t 10.00 -vcodec copy -acodec copy /home/sunjiajun/cs231n_project/datasets/processed/processed_video333.mp4\n",
      "... command successful.\n",
      "\n",
      "[MoviePy] Running:\n",
      ">>> ffmpeg -y -i /home/sunjiajun/cs231n_project/datasets/videos/video334.mp4 -ss 13.26 -t 10.00 -vcodec copy -acodec copy /home/sunjiajun/cs231n_project/datasets/processed/processed_video334.mp4\n",
      "... command successful.\n",
      "\n",
      "[MoviePy] Running:\n",
      ">>> ffmpeg -y -i /home/sunjiajun/cs231n_project/datasets/videos/video335.mp4 -ss 329.01 -t 10.00 -vcodec copy -acodec copy /home/sunjiajun/cs231n_project/datasets/processed/processed_video335.mp4\n",
      "... command successful.\n",
      "video336 url is invalid\n",
      "video337 url is invalid\n",
      "\n",
      "[MoviePy] Running:\n",
      ">>> ffmpeg -y -i /home/sunjiajun/cs231n_project/datasets/videos/video338.mp4 -ss 205.55 -t 10.00 -vcodec copy -acodec copy /home/sunjiajun/cs231n_project/datasets/processed/processed_video338.mp4\n",
      "... command successful.\n",
      "\n",
      "[MoviePy] Running:\n",
      ">>> ffmpeg -y -i /home/sunjiajun/cs231n_project/datasets/videos/video339.mp4 -ss 432.53 -t 10.00 -vcodec copy -acodec copy /home/sunjiajun/cs231n_project/datasets/processed/processed_video339.mp4\n",
      "... command successful.\n"
     ]
    },
    {
     "name": "stderr",
     "output_type": "stream",
     "text": [
      "WARNING:py.warnings:/home/sunjiajun/cs231n_project/.env/lib/python3.5/site-packages/moviepy/video/io/ffmpeg_reader.py:132: UserWarning: Warning: in file /home/sunjiajun/cs231n_project/datasets/processed/processed_video339.mp4, 518400 bytes wanted but 0 bytes read,at frame 250/251, at time 10.00/10.01 sec. Using the last valid frame instead.\n",
      "  UserWarning)\n",
      "\n",
      "WARNING:py.warnings:/home/sunjiajun/cs231n_project/.env/lib/python3.5/site-packages/moviepy/video/io/ffmpeg_reader.py:132: UserWarning: Warning: in file /home/sunjiajun/cs231n_project/datasets/processed/processed_video339.mp4, 518400 bytes wanted but 0 bytes read,at frame 250/251, at time 10.00/10.01 sec. Using the last valid frame instead.\n",
      "  UserWarning)\n",
      "\n"
     ]
    },
    {
     "name": "stdout",
     "output_type": "stream",
     "text": [
      "\n",
      "[MoviePy] Running:\n",
      ">>> ffmpeg -y -i /home/sunjiajun/cs231n_project/datasets/videos/video340.mp4 -ss 157.41 -t 10.00 -vcodec copy -acodec copy /home/sunjiajun/cs231n_project/datasets/processed/processed_video340.mp4\n",
      "... command successful.\n"
     ]
    },
    {
     "name": "stderr",
     "output_type": "stream",
     "text": [
      "WARNING:py.warnings:/home/sunjiajun/cs231n_project/.env/lib/python3.5/site-packages/moviepy/video/io/ffmpeg_reader.py:132: UserWarning: Warning: in file /home/sunjiajun/cs231n_project/datasets/processed/processed_video340.mp4, 518400 bytes wanted but 0 bytes read,at frame 239/240, at time 9.97/9.99 sec. Using the last valid frame instead.\n",
      "  UserWarning)\n",
      "\n",
      "WARNING:py.warnings:/home/sunjiajun/cs231n_project/.env/lib/python3.5/site-packages/moviepy/video/io/ffmpeg_reader.py:132: UserWarning: Warning: in file /home/sunjiajun/cs231n_project/datasets/processed/processed_video340.mp4, 518400 bytes wanted but 0 bytes read,at frame 239/240, at time 9.97/9.99 sec. Using the last valid frame instead.\n",
      "  UserWarning)\n",
      "\n"
     ]
    },
    {
     "name": "stdout",
     "output_type": "stream",
     "text": [
      "\n",
      "[MoviePy] Running:\n",
      ">>> ffmpeg -y -i /home/sunjiajun/cs231n_project/datasets/videos/video341.mp4 -ss 74.86 -t 10.00 -vcodec copy -acodec copy /home/sunjiajun/cs231n_project/datasets/processed/processed_video341.mp4\n",
      "... command successful.\n",
      "\n",
      "[MoviePy] Running:\n",
      ">>> ffmpeg -y -i /home/sunjiajun/cs231n_project/datasets/videos/video342.mp4 -ss 989.62 -t 10.00 -vcodec copy -acodec copy /home/sunjiajun/cs231n_project/datasets/processed/processed_video342.mp4\n",
      "... command successful.\n",
      "\n",
      "[MoviePy] Running:\n",
      ">>> ffmpeg -y -i /home/sunjiajun/cs231n_project/datasets/videos/video343.mp4 -ss 985.80 -t 10.00 -vcodec copy -acodec copy /home/sunjiajun/cs231n_project/datasets/processed/processed_video343.mp4\n",
      "... command successful.\n",
      "\n",
      "[MoviePy] Running:\n",
      ">>> ffmpeg -y -i /home/sunjiajun/cs231n_project/datasets/videos/video344.mp4 -ss 138.49 -t 10.00 -vcodec copy -acodec copy /home/sunjiajun/cs231n_project/datasets/processed/processed_video344.mp4\n",
      "... command successful.\n",
      "video345 url is invalid\n",
      "\n",
      "[MoviePy] Running:\n",
      ">>> ffmpeg -y -i /home/sunjiajun/cs231n_project/datasets/videos/video346.mp4 -ss 47.87 -t 10.00 -vcodec copy -acodec copy /home/sunjiajun/cs231n_project/datasets/processed/processed_video346.mp4\n",
      "... command successful.\n",
      "\n",
      "[MoviePy] Running:\n",
      ">>> ffmpeg -y -i /home/sunjiajun/cs231n_project/datasets/videos/video347.mp4 -ss 276.99 -t 10.00 -vcodec copy -acodec copy /home/sunjiajun/cs231n_project/datasets/processed/processed_video347.mp4\n",
      "... command successful.\n",
      "\n",
      "[MoviePy] Running:\n",
      ">>> ffmpeg -y -i /home/sunjiajun/cs231n_project/datasets/videos/video348.mp4 -ss 652.61 -t 10.00 -vcodec copy -acodec copy /home/sunjiajun/cs231n_project/datasets/processed/processed_video348.mp4\n",
      "... command successful.\n",
      "\n",
      "[MoviePy] Running:\n",
      ">>> ffmpeg -y -i /home/sunjiajun/cs231n_project/datasets/videos/video349.mp4 -ss 128.84 -t 10.00 -vcodec copy -acodec copy /home/sunjiajun/cs231n_project/datasets/processed/processed_video349.mp4\n",
      "... command successful.\n"
     ]
    },
    {
     "name": "stderr",
     "output_type": "stream",
     "text": [
      "WARNING:py.warnings:/home/sunjiajun/cs231n_project/.env/lib/python3.5/site-packages/moviepy/video/io/ffmpeg_reader.py:132: UserWarning: Warning: in file /home/sunjiajun/cs231n_project/datasets/processed/processed_video349.mp4, 518400 bytes wanted but 0 bytes read,at frame 250/251, at time 10.00/10.01 sec. Using the last valid frame instead.\n",
      "  UserWarning)\n",
      "\n",
      "WARNING:py.warnings:/home/sunjiajun/cs231n_project/.env/lib/python3.5/site-packages/moviepy/video/io/ffmpeg_reader.py:132: UserWarning: Warning: in file /home/sunjiajun/cs231n_project/datasets/processed/processed_video349.mp4, 518400 bytes wanted but 0 bytes read,at frame 250/251, at time 10.00/10.01 sec. Using the last valid frame instead.\n",
      "  UserWarning)\n",
      "\n"
     ]
    },
    {
     "name": "stdout",
     "output_type": "stream",
     "text": [
      "\n",
      "[MoviePy] Running:\n",
      ">>> ffmpeg -y -i /home/sunjiajun/cs231n_project/datasets/videos/video350.mp4 -ss 921.11 -t 10.00 -vcodec copy -acodec copy /home/sunjiajun/cs231n_project/datasets/processed/processed_video350.mp4\n",
      "... command successful.\n",
      "\n",
      "[MoviePy] Running:\n",
      ">>> ffmpeg -y -i /home/sunjiajun/cs231n_project/datasets/videos/video351.mp4 -ss 337.59 -t 10.00 -vcodec copy -acodec copy /home/sunjiajun/cs231n_project/datasets/processed/processed_video351.mp4\n",
      "... command successful.\n",
      "\n",
      "[MoviePy] Running:\n",
      ">>> ffmpeg -y -i /home/sunjiajun/cs231n_project/datasets/videos/video352.mp4 -ss 49.30 -t 10.00 -vcodec copy -acodec copy /home/sunjiajun/cs231n_project/datasets/processed/processed_video352.mp4\n",
      "... command successful.\n",
      "\n",
      "[MoviePy] Running:\n",
      ">>> ffmpeg -y -i /home/sunjiajun/cs231n_project/datasets/videos/video353.mp4 -ss 760.56 -t 10.00 -vcodec copy -acodec copy /home/sunjiajun/cs231n_project/datasets/processed/processed_video353.mp4\n",
      "... command successful.\n",
      "\n",
      "[MoviePy] Running:\n",
      ">>> ffmpeg -y -i /home/sunjiajun/cs231n_project/datasets/videos/video354.mp4 -ss 1244.73 -t 10.00 -vcodec copy -acodec copy /home/sunjiajun/cs231n_project/datasets/processed/processed_video354.mp4\n",
      "... command successful.\n",
      "video355 url is invalid\n",
      "\n",
      "[MoviePy] Running:\n",
      ">>> ffmpeg -y -i /home/sunjiajun/cs231n_project/datasets/videos/video356.mp4 -ss 147.63 -t 10.00 -vcodec copy -acodec copy /home/sunjiajun/cs231n_project/datasets/processed/processed_video356.mp4\n",
      "... command successful.\n",
      "\n",
      "[MoviePy] Running:\n",
      ">>> ffmpeg -y -i /home/sunjiajun/cs231n_project/datasets/videos/video357.mp4 -ss 81.13 -t 10.00 -vcodec copy -acodec copy /home/sunjiajun/cs231n_project/datasets/processed/processed_video357.mp4\n",
      "... command successful.\n",
      "\n",
      "[MoviePy] Running:\n",
      ">>> ffmpeg -y -i /home/sunjiajun/cs231n_project/datasets/videos/video358.mp4 -ss 51.97 -t 10.00 -vcodec copy -acodec copy /home/sunjiajun/cs231n_project/datasets/processed/processed_video358.mp4\n",
      "... command successful.\n",
      "\n",
      "[MoviePy] Running:\n",
      ">>> ffmpeg -y -i /home/sunjiajun/cs231n_project/datasets/videos/video359.mp4 -ss 127.51 -t 10.00 -vcodec copy -acodec copy /home/sunjiajun/cs231n_project/datasets/processed/processed_video359.mp4\n",
      "... command successful.\n",
      "video360 url is invalid\n",
      "\n",
      "[MoviePy] Running:\n",
      ">>> ffmpeg -y -i /home/sunjiajun/cs231n_project/datasets/videos/video361.mp4 -ss 488.31 -t 10.00 -vcodec copy -acodec copy /home/sunjiajun/cs231n_project/datasets/processed/processed_video361.mp4\n",
      "... command successful.\n",
      "\n",
      "[MoviePy] Running:\n",
      ">>> ffmpeg -y -i /home/sunjiajun/cs231n_project/datasets/videos/video362.mp4 -ss 101.85 -t 10.00 -vcodec copy -acodec copy /home/sunjiajun/cs231n_project/datasets/processed/processed_video362.mp4\n",
      "... command successful.\n",
      "\n",
      "[MoviePy] Running:\n",
      ">>> ffmpeg -y -i /home/sunjiajun/cs231n_project/datasets/videos/video363.mp4 -ss 836.34 -t 10.00 -vcodec copy -acodec copy /home/sunjiajun/cs231n_project/datasets/processed/processed_video363.mp4\n",
      "... command successful.\n",
      "\n",
      "[MoviePy] Running:\n",
      ">>> ffmpeg -y -i /home/sunjiajun/cs231n_project/datasets/videos/video364.mp4 -ss 105.92 -t 10.00 -vcodec copy -acodec copy /home/sunjiajun/cs231n_project/datasets/processed/processed_video364.mp4\n",
      "... command successful.\n",
      "\n",
      "[MoviePy] Running:\n",
      ">>> ffmpeg -y -i /home/sunjiajun/cs231n_project/datasets/videos/video365.mp4 -ss 7.99 -t 10.00 -vcodec copy -acodec copy /home/sunjiajun/cs231n_project/datasets/processed/processed_video365.mp4\n",
      "... command successful.\n",
      "\n",
      "[MoviePy] Running:\n",
      ">>> ffmpeg -y -i /home/sunjiajun/cs231n_project/datasets/videos/video366.mp4 -ss 354.97 -t 10.00 -vcodec copy -acodec copy /home/sunjiajun/cs231n_project/datasets/processed/processed_video366.mp4\n",
      "... command successful.\n",
      "\n",
      "[MoviePy] Running:\n",
      ">>> ffmpeg -y -i /home/sunjiajun/cs231n_project/datasets/videos/video367.mp4 -ss 103.61 -t 10.00 -vcodec copy -acodec copy /home/sunjiajun/cs231n_project/datasets/processed/processed_video367.mp4\n",
      "... command successful.\n",
      "video368 url is invalid\n",
      "\n",
      "[MoviePy] Running:\n",
      ">>> ffmpeg -y -i /home/sunjiajun/cs231n_project/datasets/videos/video369.mp4 -ss 93.57 -t 10.00 -vcodec copy -acodec copy /home/sunjiajun/cs231n_project/datasets/processed/processed_video369.mp4\n",
      "... command successful.\n",
      "\n",
      "[MoviePy] Running:\n",
      ">>> ffmpeg -y -i /home/sunjiajun/cs231n_project/datasets/videos/video370.mp4 -ss 149.80 -t 10.00 -vcodec copy -acodec copy /home/sunjiajun/cs231n_project/datasets/processed/processed_video370.mp4\n",
      "... command successful.\n",
      "\n",
      "[MoviePy] Running:\n",
      ">>> ffmpeg -y -i /home/sunjiajun/cs231n_project/datasets/videos/video371.mp4 -ss 300.41 -t 10.00 -vcodec copy -acodec copy /home/sunjiajun/cs231n_project/datasets/processed/processed_video371.mp4\n",
      "... command successful.\n",
      "\n",
      "[MoviePy] Running:\n",
      ">>> ffmpeg -y -i /home/sunjiajun/cs231n_project/datasets/videos/video372.mp4 -ss 40.57 -t 10.00 -vcodec copy -acodec copy /home/sunjiajun/cs231n_project/datasets/processed/processed_video372.mp4\n",
      "... command successful.\n",
      "\n",
      "[MoviePy] Running:\n",
      ">>> ffmpeg -y -i /home/sunjiajun/cs231n_project/datasets/videos/video373.mp4 -ss 132.39 -t 10.00 -vcodec copy -acodec copy /home/sunjiajun/cs231n_project/datasets/processed/processed_video373.mp4\n",
      "... command successful.\n",
      "\n",
      "[MoviePy] Running:\n",
      ">>> ffmpeg -y -i /home/sunjiajun/cs231n_project/datasets/videos/video374.mp4 -ss 132.04 -t 10.00 -vcodec copy -acodec copy /home/sunjiajun/cs231n_project/datasets/processed/processed_video374.mp4\n",
      "... command successful.\n"
     ]
    },
    {
     "name": "stderr",
     "output_type": "stream",
     "text": [
      "WARNING:py.warnings:/home/sunjiajun/cs231n_project/.env/lib/python3.5/site-packages/moviepy/video/io/ffmpeg_reader.py:132: UserWarning: Warning: in file /home/sunjiajun/cs231n_project/datasets/processed/processed_video374.mp4, 518400 bytes wanted but 0 bytes read,at frame 250/251, at time 10.00/10.01 sec. Using the last valid frame instead.\n",
      "  UserWarning)\n",
      "\n",
      "WARNING:py.warnings:/home/sunjiajun/cs231n_project/.env/lib/python3.5/site-packages/moviepy/video/io/ffmpeg_reader.py:132: UserWarning: Warning: in file /home/sunjiajun/cs231n_project/datasets/processed/processed_video374.mp4, 518400 bytes wanted but 0 bytes read,at frame 250/251, at time 10.00/10.01 sec. Using the last valid frame instead.\n",
      "  UserWarning)\n",
      "\n"
     ]
    },
    {
     "name": "stdout",
     "output_type": "stream",
     "text": [
      "\n",
      "[MoviePy] Running:\n",
      ">>> ffmpeg -y -i /home/sunjiajun/cs231n_project/datasets/videos/video375.mp4 -ss 61.78 -t 10.00 -vcodec copy -acodec copy /home/sunjiajun/cs231n_project/datasets/processed/processed_video375.mp4\n",
      "... command successful.\n",
      "video376 url is invalid\n",
      "\n",
      "[MoviePy] Running:\n",
      ">>> ffmpeg -y -i /home/sunjiajun/cs231n_project/datasets/videos/video377.mp4 -ss 10.49 -t 10.00 -vcodec copy -acodec copy /home/sunjiajun/cs231n_project/datasets/processed/processed_video377.mp4\n",
      "... command successful.\n",
      "\n",
      "[MoviePy] Running:\n",
      ">>> ffmpeg -y -i /home/sunjiajun/cs231n_project/datasets/videos/video378.mp4 -ss 8.05 -t 10.00 -vcodec copy -acodec copy /home/sunjiajun/cs231n_project/datasets/processed/processed_video378.mp4\n",
      "... command successful.\n",
      "\n",
      "[MoviePy] Running:\n",
      ">>> ffmpeg -y -i /home/sunjiajun/cs231n_project/datasets/videos/video379.mp4 -ss 44.49 -t 10.00 -vcodec copy -acodec copy /home/sunjiajun/cs231n_project/datasets/processed/processed_video379.mp4\n",
      "... command successful.\n",
      "\n",
      "[MoviePy] Running:\n",
      ">>> ffmpeg -y -i /home/sunjiajun/cs231n_project/datasets/videos/video380.mp4 -ss 90.05 -t 10.00 -vcodec copy -acodec copy /home/sunjiajun/cs231n_project/datasets/processed/processed_video380.mp4\n",
      "... command successful.\n",
      "\n",
      "[MoviePy] Running:\n",
      ">>> ffmpeg -y -i /home/sunjiajun/cs231n_project/datasets/videos/video381.mp4 -ss 168.51 -t 10.00 -vcodec copy -acodec copy /home/sunjiajun/cs231n_project/datasets/processed/processed_video381.mp4\n",
      "... command successful.\n",
      "\n",
      "[MoviePy] Running:\n",
      ">>> ffmpeg -y -i /home/sunjiajun/cs231n_project/datasets/videos/video382.mp4 -ss 113.65 -t 10.00 -vcodec copy -acodec copy /home/sunjiajun/cs231n_project/datasets/processed/processed_video382.mp4\n",
      "... command successful.\n"
     ]
    },
    {
     "name": "stderr",
     "output_type": "stream",
     "text": [
      "WARNING:py.warnings:/home/sunjiajun/cs231n_project/.env/lib/python3.5/site-packages/moviepy/video/io/ffmpeg_reader.py:132: UserWarning: Warning: in file /home/sunjiajun/cs231n_project/datasets/processed/processed_video382.mp4, 691200 bytes wanted but 0 bytes read,at frame 250/251, at time 10.00/10.01 sec. Using the last valid frame instead.\n",
      "  UserWarning)\n",
      "\n",
      "WARNING:py.warnings:/home/sunjiajun/cs231n_project/.env/lib/python3.5/site-packages/moviepy/video/io/ffmpeg_reader.py:132: UserWarning: Warning: in file /home/sunjiajun/cs231n_project/datasets/processed/processed_video382.mp4, 691200 bytes wanted but 0 bytes read,at frame 250/251, at time 10.00/10.01 sec. Using the last valid frame instead.\n",
      "  UserWarning)\n",
      "\n"
     ]
    },
    {
     "name": "stdout",
     "output_type": "stream",
     "text": [
      "\n",
      "[MoviePy] Running:\n",
      ">>> ffmpeg -y -i /home/sunjiajun/cs231n_project/datasets/videos/video383.mp4 -ss 282.28 -t 10.00 -vcodec copy -acodec copy /home/sunjiajun/cs231n_project/datasets/processed/processed_video383.mp4\n",
      "... command successful.\n"
     ]
    },
    {
     "name": "stderr",
     "output_type": "stream",
     "text": [
      "WARNING:py.warnings:/home/sunjiajun/cs231n_project/.env/lib/python3.5/site-packages/moviepy/video/io/ffmpeg_reader.py:132: UserWarning: Warning: in file /home/sunjiajun/cs231n_project/datasets/processed/processed_video383.mp4, 691200 bytes wanted but 0 bytes read,at frame 300/301, at time 10.00/10.01 sec. Using the last valid frame instead.\n",
      "  UserWarning)\n",
      "\n",
      "WARNING:py.warnings:/home/sunjiajun/cs231n_project/.env/lib/python3.5/site-packages/moviepy/video/io/ffmpeg_reader.py:132: UserWarning: Warning: in file /home/sunjiajun/cs231n_project/datasets/processed/processed_video383.mp4, 691200 bytes wanted but 0 bytes read,at frame 300/301, at time 10.00/10.01 sec. Using the last valid frame instead.\n",
      "  UserWarning)\n",
      "\n"
     ]
    },
    {
     "name": "stdout",
     "output_type": "stream",
     "text": [
      "\n",
      "[MoviePy] Running:\n",
      ">>> ffmpeg -y -i /home/sunjiajun/cs231n_project/datasets/videos/video384.mp4 -ss 57.23 -t 10.00 -vcodec copy -acodec copy /home/sunjiajun/cs231n_project/datasets/processed/processed_video384.mp4\n",
      "... command successful.\n",
      "\n",
      "[MoviePy] Running:\n",
      ">>> ffmpeg -y -i /home/sunjiajun/cs231n_project/datasets/videos/video385.mp4 -ss 3.20 -t 10.00 -vcodec copy -acodec copy /home/sunjiajun/cs231n_project/datasets/processed/processed_video385.mp4\n",
      "... command successful.\n"
     ]
    },
    {
     "name": "stderr",
     "output_type": "stream",
     "text": [
      "WARNING:py.warnings:/home/sunjiajun/cs231n_project/.env/lib/python3.5/site-packages/moviepy/video/io/ffmpeg_reader.py:132: UserWarning: Warning: in file /home/sunjiajun/cs231n_project/datasets/processed/processed_video385.mp4, 518400 bytes wanted but 0 bytes read,at frame 250/251, at time 10.00/10.01 sec. Using the last valid frame instead.\n",
      "  UserWarning)\n",
      "\n",
      "WARNING:py.warnings:/home/sunjiajun/cs231n_project/.env/lib/python3.5/site-packages/moviepy/video/io/ffmpeg_reader.py:132: UserWarning: Warning: in file /home/sunjiajun/cs231n_project/datasets/processed/processed_video385.mp4, 518400 bytes wanted but 0 bytes read,at frame 250/251, at time 10.00/10.01 sec. Using the last valid frame instead.\n",
      "  UserWarning)\n",
      "\n"
     ]
    },
    {
     "name": "stdout",
     "output_type": "stream",
     "text": [
      "\n",
      "[MoviePy] Running:\n",
      ">>> ffmpeg -y -i /home/sunjiajun/cs231n_project/datasets/videos/video386.mp4 -ss 39.84 -t 10.00 -vcodec copy -acodec copy /home/sunjiajun/cs231n_project/datasets/processed/processed_video386.mp4\n",
      "... command successful.\n",
      "\n",
      "[MoviePy] Running:\n",
      ">>> ffmpeg -y -i /home/sunjiajun/cs231n_project/datasets/videos/video387.mp4 -ss 116.00 -t 10.00 -vcodec copy -acodec copy /home/sunjiajun/cs231n_project/datasets/processed/processed_video387.mp4\n",
      "... command successful.\n",
      "\n",
      "[MoviePy] Running:\n",
      ">>> ffmpeg -y -i /home/sunjiajun/cs231n_project/datasets/videos/video388.mp4 -ss 125.42 -t 10.00 -vcodec copy -acodec copy /home/sunjiajun/cs231n_project/datasets/processed/processed_video388.mp4\n",
      "... command successful.\n",
      "\n",
      "[MoviePy] Running:\n",
      ">>> ffmpeg -y -i /home/sunjiajun/cs231n_project/datasets/videos/video389.mp4 -ss 317.37 -t 10.00 -vcodec copy -acodec copy /home/sunjiajun/cs231n_project/datasets/processed/processed_video389.mp4\n",
      "... command successful.\n",
      "\n",
      "[MoviePy] Running:\n",
      ">>> ffmpeg -y -i /home/sunjiajun/cs231n_project/datasets/videos/video390.mp4 -ss 211.25 -t 10.00 -vcodec copy -acodec copy /home/sunjiajun/cs231n_project/datasets/processed/processed_video390.mp4\n",
      "... command successful.\n",
      "\n",
      "[MoviePy] Running:\n",
      ">>> ffmpeg -y -i /home/sunjiajun/cs231n_project/datasets/videos/video391.mp4 -ss 16.25 -t 10.00 -vcodec copy -acodec copy /home/sunjiajun/cs231n_project/datasets/processed/processed_video391.mp4\n",
      "... command successful.\n"
     ]
    },
    {
     "name": "stderr",
     "output_type": "stream",
     "text": [
      "WARNING:py.warnings:/home/sunjiajun/cs231n_project/.env/lib/python3.5/site-packages/moviepy/video/io/ffmpeg_reader.py:132: UserWarning: Warning: in file /home/sunjiajun/cs231n_project/datasets/processed/processed_video391.mp4, 691200 bytes wanted but 0 bytes read,at frame 300/301, at time 10.00/10.01 sec. Using the last valid frame instead.\n",
      "  UserWarning)\n",
      "\n",
      "WARNING:py.warnings:/home/sunjiajun/cs231n_project/.env/lib/python3.5/site-packages/moviepy/video/io/ffmpeg_reader.py:132: UserWarning: Warning: in file /home/sunjiajun/cs231n_project/datasets/processed/processed_video391.mp4, 691200 bytes wanted but 0 bytes read,at frame 300/301, at time 10.00/10.01 sec. Using the last valid frame instead.\n",
      "  UserWarning)\n",
      "\n"
     ]
    },
    {
     "name": "stdout",
     "output_type": "stream",
     "text": [
      "\n",
      "[MoviePy] Running:\n",
      ">>> ffmpeg -y -i /home/sunjiajun/cs231n_project/datasets/videos/video392.mp4 -ss 382.60 -t 10.00 -vcodec copy -acodec copy /home/sunjiajun/cs231n_project/datasets/processed/processed_video392.mp4\n",
      "... command successful.\n"
     ]
    },
    {
     "name": "stderr",
     "output_type": "stream",
     "text": [
      "WARNING:py.warnings:/home/sunjiajun/cs231n_project/.env/lib/python3.5/site-packages/moviepy/video/io/ffmpeg_reader.py:132: UserWarning: Warning: in file /home/sunjiajun/cs231n_project/datasets/processed/processed_video392.mp4, 691200 bytes wanted but 0 bytes read,at frame 239/240, at time 9.97/9.99 sec. Using the last valid frame instead.\n",
      "  UserWarning)\n",
      "\n",
      "WARNING:py.warnings:/home/sunjiajun/cs231n_project/.env/lib/python3.5/site-packages/moviepy/video/io/ffmpeg_reader.py:132: UserWarning: Warning: in file /home/sunjiajun/cs231n_project/datasets/processed/processed_video392.mp4, 691200 bytes wanted but 0 bytes read,at frame 239/240, at time 9.97/9.99 sec. Using the last valid frame instead.\n",
      "  UserWarning)\n",
      "\n"
     ]
    },
    {
     "name": "stdout",
     "output_type": "stream",
     "text": [
      "\n",
      "[MoviePy] Running:\n",
      ">>> ffmpeg -y -i /home/sunjiajun/cs231n_project/datasets/videos/video393.mp4 -ss 4.68 -t 10.00 -vcodec copy -acodec copy /home/sunjiajun/cs231n_project/datasets/processed/processed_video393.mp4\n",
      "... command successful.\n",
      "\n",
      "[MoviePy] Running:\n",
      ">>> ffmpeg -y -i /home/sunjiajun/cs231n_project/datasets/videos/video394.mp4 -ss 549.05 -t 10.00 -vcodec copy -acodec copy /home/sunjiajun/cs231n_project/datasets/processed/processed_video394.mp4\n",
      "... command successful.\n"
     ]
    },
    {
     "name": "stderr",
     "output_type": "stream",
     "text": [
      "WARNING:py.warnings:/home/sunjiajun/cs231n_project/.env/lib/python3.5/site-packages/moviepy/video/io/ffmpeg_reader.py:132: UserWarning: Warning: in file /home/sunjiajun/cs231n_project/datasets/processed/processed_video394.mp4, 622080 bytes wanted but 0 bytes read,at frame 300/301, at time 10.00/10.01 sec. Using the last valid frame instead.\n",
      "  UserWarning)\n",
      "\n",
      "WARNING:py.warnings:/home/sunjiajun/cs231n_project/.env/lib/python3.5/site-packages/moviepy/video/io/ffmpeg_reader.py:132: UserWarning: Warning: in file /home/sunjiajun/cs231n_project/datasets/processed/processed_video394.mp4, 622080 bytes wanted but 0 bytes read,at frame 300/301, at time 10.00/10.01 sec. Using the last valid frame instead.\n",
      "  UserWarning)\n",
      "\n"
     ]
    },
    {
     "name": "stdout",
     "output_type": "stream",
     "text": [
      "\n",
      "[MoviePy] Running:\n",
      ">>> ffmpeg -y -i /home/sunjiajun/cs231n_project/datasets/videos/video395.mp4 -ss 71.57 -t 10.00 -vcodec copy -acodec copy /home/sunjiajun/cs231n_project/datasets/processed/processed_video395.mp4\n",
      "... command successful.\n",
      "\n",
      "[MoviePy] Running:\n",
      ">>> ffmpeg -y -i /home/sunjiajun/cs231n_project/datasets/videos/video396.mp4 -ss 79.41 -t 10.00 -vcodec copy -acodec copy /home/sunjiajun/cs231n_project/datasets/processed/processed_video396.mp4\n",
      "... command successful.\n",
      "\n",
      "[MoviePy] Running:\n",
      ">>> ffmpeg -y -i /home/sunjiajun/cs231n_project/datasets/videos/video397.mp4 -ss 185.82 -t 10.00 -vcodec copy -acodec copy /home/sunjiajun/cs231n_project/datasets/processed/processed_video397.mp4\n",
      "... command successful.\n",
      "\n",
      "[MoviePy] Running:\n",
      ">>> ffmpeg -y -i /home/sunjiajun/cs231n_project/datasets/videos/video398.mp4 -ss 0.00 -t 10.00 -vcodec copy -acodec copy /home/sunjiajun/cs231n_project/datasets/processed/processed_video398.mp4\n",
      "... command successful.\n",
      "\n",
      "[MoviePy] Running:\n",
      ">>> ffmpeg -y -i /home/sunjiajun/cs231n_project/datasets/videos/video399.mp4 -ss 29.85 -t 10.00 -vcodec copy -acodec copy /home/sunjiajun/cs231n_project/datasets/processed/processed_video399.mp4\n",
      "... command successful.\n",
      "\n",
      "[MoviePy] Running:\n",
      ">>> ffmpeg -y -i /home/sunjiajun/cs231n_project/datasets/videos/video400.mp4 -ss 129.81 -t 10.00 -vcodec copy -acodec copy /home/sunjiajun/cs231n_project/datasets/processed/processed_video400.mp4\n",
      "... command successful.\n",
      "\n",
      "[MoviePy] Running:\n",
      ">>> ffmpeg -y -i /home/sunjiajun/cs231n_project/datasets/videos/video401.mp4 -ss 27.87 -t 10.00 -vcodec copy -acodec copy /home/sunjiajun/cs231n_project/datasets/processed/processed_video401.mp4\n",
      "... command successful.\n"
     ]
    },
    {
     "name": "stderr",
     "output_type": "stream",
     "text": [
      "WARNING:py.warnings:/home/sunjiajun/cs231n_project/.env/lib/python3.5/site-packages/moviepy/video/io/ffmpeg_reader.py:132: UserWarning: Warning: in file /home/sunjiajun/cs231n_project/datasets/processed/processed_video401.mp4, 691200 bytes wanted but 0 bytes read,at frame 239/240, at time 9.97/9.99 sec. Using the last valid frame instead.\n",
      "  UserWarning)\n",
      "\n",
      "WARNING:py.warnings:/home/sunjiajun/cs231n_project/.env/lib/python3.5/site-packages/moviepy/video/io/ffmpeg_reader.py:132: UserWarning: Warning: in file /home/sunjiajun/cs231n_project/datasets/processed/processed_video401.mp4, 691200 bytes wanted but 0 bytes read,at frame 239/240, at time 9.97/9.99 sec. Using the last valid frame instead.\n",
      "  UserWarning)\n",
      "\n"
     ]
    },
    {
     "name": "stdout",
     "output_type": "stream",
     "text": [
      "\n",
      "[MoviePy] Running:\n",
      ">>> ffmpeg -y -i /home/sunjiajun/cs231n_project/datasets/videos/video402.mp4 -ss 251.21 -t 10.00 -vcodec copy -acodec copy /home/sunjiajun/cs231n_project/datasets/processed/processed_video402.mp4\n",
      "... command successful.\n",
      "\n",
      "[MoviePy] Running:\n",
      ">>> ffmpeg -y -i /home/sunjiajun/cs231n_project/datasets/videos/video403.mp4 -ss 556.98 -t 10.00 -vcodec copy -acodec copy /home/sunjiajun/cs231n_project/datasets/processed/processed_video403.mp4\n",
      "... command successful.\n",
      "\n",
      "[MoviePy] Running:\n",
      ">>> ffmpeg -y -i /home/sunjiajun/cs231n_project/datasets/videos/video404.mp4 -ss 44.17 -t 10.00 -vcodec copy -acodec copy /home/sunjiajun/cs231n_project/datasets/processed/processed_video404.mp4\n",
      "... command successful.\n",
      "video405 url is invalid\n",
      "\n",
      "[MoviePy] Running:\n",
      ">>> ffmpeg -y -i /home/sunjiajun/cs231n_project/datasets/videos/video406.mp4 -ss 130.68 -t 10.00 -vcodec copy -acodec copy /home/sunjiajun/cs231n_project/datasets/processed/processed_video406.mp4\n",
      "... command successful.\n",
      "\n",
      "[MoviePy] Running:\n",
      ">>> ffmpeg -y -i /home/sunjiajun/cs231n_project/datasets/videos/video407.mp4 -ss 2.18 -t 10.00 -vcodec copy -acodec copy /home/sunjiajun/cs231n_project/datasets/processed/processed_video407.mp4\n",
      "... command successful.\n",
      "\n",
      "[MoviePy] Running:\n",
      ">>> ffmpeg -y -i /home/sunjiajun/cs231n_project/datasets/videos/video408.mp4 -ss 151.67 -t 10.00 -vcodec copy -acodec copy /home/sunjiajun/cs231n_project/datasets/processed/processed_video408.mp4\n",
      "... command successful.\n",
      "\n",
      "[MoviePy] Running:\n",
      ">>> ffmpeg -y -i /home/sunjiajun/cs231n_project/datasets/videos/video409.mp4 -ss 37.90 -t 10.00 -vcodec copy -acodec copy /home/sunjiajun/cs231n_project/datasets/processed/processed_video409.mp4\n",
      "... command successful.\n",
      "\n",
      "[MoviePy] Running:\n",
      ">>> ffmpeg -y -i /home/sunjiajun/cs231n_project/datasets/videos/video410.mp4 -ss 76.79 -t 10.00 -vcodec copy -acodec copy /home/sunjiajun/cs231n_project/datasets/processed/processed_video410.mp4\n",
      "... command successful.\n",
      "\n",
      "[MoviePy] Running:\n",
      ">>> ffmpeg -y -i /home/sunjiajun/cs231n_project/datasets/videos/video411.mp4 -ss 89.89 -t 10.00 -vcodec copy -acodec copy /home/sunjiajun/cs231n_project/datasets/processed/processed_video411.mp4\n",
      "... command successful.\n"
     ]
    },
    {
     "name": "stderr",
     "output_type": "stream",
     "text": [
      "WARNING:py.warnings:/home/sunjiajun/cs231n_project/.env/lib/python3.5/site-packages/moviepy/video/io/ffmpeg_reader.py:132: UserWarning: Warning: in file /home/sunjiajun/cs231n_project/datasets/processed/processed_video411.mp4, 691200 bytes wanted but 0 bytes read,at frame 239/240, at time 9.97/9.99 sec. Using the last valid frame instead.\n",
      "  UserWarning)\n",
      "\n",
      "WARNING:py.warnings:/home/sunjiajun/cs231n_project/.env/lib/python3.5/site-packages/moviepy/video/io/ffmpeg_reader.py:132: UserWarning: Warning: in file /home/sunjiajun/cs231n_project/datasets/processed/processed_video411.mp4, 691200 bytes wanted but 0 bytes read,at frame 239/240, at time 9.97/9.99 sec. Using the last valid frame instead.\n",
      "  UserWarning)\n",
      "\n"
     ]
    },
    {
     "name": "stdout",
     "output_type": "stream",
     "text": [
      "\n",
      "[MoviePy] Running:\n",
      ">>> ffmpeg -y -i /home/sunjiajun/cs231n_project/datasets/videos/video412.mp4 -ss 305.02 -t 10.00 -vcodec copy -acodec copy /home/sunjiajun/cs231n_project/datasets/processed/processed_video412.mp4\n",
      "... command successful.\n"
     ]
    },
    {
     "name": "stderr",
     "output_type": "stream",
     "text": [
      "WARNING:py.warnings:/home/sunjiajun/cs231n_project/.env/lib/python3.5/site-packages/moviepy/video/io/ffmpeg_reader.py:132: UserWarning: Warning: in file /home/sunjiajun/cs231n_project/datasets/processed/processed_video412.mp4, 691200 bytes wanted but 0 bytes read,at frame 239/240, at time 9.97/9.99 sec. Using the last valid frame instead.\n",
      "  UserWarning)\n",
      "\n",
      "WARNING:py.warnings:/home/sunjiajun/cs231n_project/.env/lib/python3.5/site-packages/moviepy/video/io/ffmpeg_reader.py:132: UserWarning: Warning: in file /home/sunjiajun/cs231n_project/datasets/processed/processed_video412.mp4, 691200 bytes wanted but 0 bytes read,at frame 239/240, at time 9.97/9.99 sec. Using the last valid frame instead.\n",
      "  UserWarning)\n",
      "\n"
     ]
    },
    {
     "name": "stdout",
     "output_type": "stream",
     "text": [
      "\n",
      "[MoviePy] Running:\n",
      ">>> ffmpeg -y -i /home/sunjiajun/cs231n_project/datasets/videos/video413.mp4 -ss 3.05 -t 10.00 -vcodec copy -acodec copy /home/sunjiajun/cs231n_project/datasets/processed/processed_video413.mp4\n",
      "... command successful.\n"
     ]
    },
    {
     "name": "stderr",
     "output_type": "stream",
     "text": [
      "WARNING:py.warnings:/home/sunjiajun/cs231n_project/.env/lib/python3.5/site-packages/moviepy/video/io/ffmpeg_reader.py:132: UserWarning: Warning: in file /home/sunjiajun/cs231n_project/datasets/processed/processed_video413.mp4, 691200 bytes wanted but 0 bytes read,at frame 250/251, at time 10.00/10.01 sec. Using the last valid frame instead.\n",
      "  UserWarning)\n",
      "\n",
      "WARNING:py.warnings:/home/sunjiajun/cs231n_project/.env/lib/python3.5/site-packages/moviepy/video/io/ffmpeg_reader.py:132: UserWarning: Warning: in file /home/sunjiajun/cs231n_project/datasets/processed/processed_video413.mp4, 691200 bytes wanted but 0 bytes read,at frame 250/251, at time 10.00/10.01 sec. Using the last valid frame instead.\n",
      "  UserWarning)\n",
      "\n"
     ]
    },
    {
     "name": "stdout",
     "output_type": "stream",
     "text": [
      "\n",
      "[MoviePy] Running:\n",
      ">>> ffmpeg -y -i /home/sunjiajun/cs231n_project/datasets/videos/video414.mp4 -ss 53.77 -t 10.00 -vcodec copy -acodec copy /home/sunjiajun/cs231n_project/datasets/processed/processed_video414.mp4\n",
      "... command successful.\n",
      "\n",
      "[MoviePy] Running:\n",
      ">>> ffmpeg -y -i /home/sunjiajun/cs231n_project/datasets/videos/video415.mp4 -ss 9.69 -t 10.00 -vcodec copy -acodec copy /home/sunjiajun/cs231n_project/datasets/processed/processed_video415.mp4\n",
      "... command successful.\n",
      "\n",
      "[MoviePy] Running:\n",
      ">>> ffmpeg -y -i /home/sunjiajun/cs231n_project/datasets/videos/video416.mp4 -ss 204.18 -t 10.00 -vcodec copy -acodec copy /home/sunjiajun/cs231n_project/datasets/processed/processed_video416.mp4\n",
      "... command successful.\n",
      "\n",
      "[MoviePy] Running:\n",
      ">>> ffmpeg -y -i /home/sunjiajun/cs231n_project/datasets/videos/video417.mp4 -ss 30.41 -t 10.00 -vcodec copy -acodec copy /home/sunjiajun/cs231n_project/datasets/processed/processed_video417.mp4\n",
      "... command successful.\n"
     ]
    },
    {
     "name": "stderr",
     "output_type": "stream",
     "text": [
      "WARNING:py.warnings:/home/sunjiajun/cs231n_project/.env/lib/python3.5/site-packages/moviepy/video/io/ffmpeg_reader.py:132: UserWarning: Warning: in file /home/sunjiajun/cs231n_project/datasets/processed/processed_video417.mp4, 691200 bytes wanted but 0 bytes read,at frame 300/301, at time 10.00/10.01 sec. Using the last valid frame instead.\n",
      "  UserWarning)\n",
      "\n",
      "WARNING:py.warnings:/home/sunjiajun/cs231n_project/.env/lib/python3.5/site-packages/moviepy/video/io/ffmpeg_reader.py:132: UserWarning: Warning: in file /home/sunjiajun/cs231n_project/datasets/processed/processed_video417.mp4, 691200 bytes wanted but 0 bytes read,at frame 300/301, at time 10.00/10.01 sec. Using the last valid frame instead.\n",
      "  UserWarning)\n",
      "\n"
     ]
    },
    {
     "name": "stdout",
     "output_type": "stream",
     "text": [
      "\n",
      "[MoviePy] Running:\n",
      ">>> ffmpeg -y -i /home/sunjiajun/cs231n_project/datasets/videos/video418.mp4 -ss 132.60 -t 10.00 -vcodec copy -acodec copy /home/sunjiajun/cs231n_project/datasets/processed/processed_video418.mp4\n",
      "... command successful.\n"
     ]
    },
    {
     "name": "stderr",
     "output_type": "stream",
     "text": [
      "WARNING:py.warnings:/home/sunjiajun/cs231n_project/.env/lib/python3.5/site-packages/moviepy/video/io/ffmpeg_reader.py:132: UserWarning: Warning: in file /home/sunjiajun/cs231n_project/datasets/processed/processed_video418.mp4, 691200 bytes wanted but 0 bytes read,at frame 250/251, at time 10.00/10.01 sec. Using the last valid frame instead.\n",
      "  UserWarning)\n",
      "\n",
      "WARNING:py.warnings:/home/sunjiajun/cs231n_project/.env/lib/python3.5/site-packages/moviepy/video/io/ffmpeg_reader.py:132: UserWarning: Warning: in file /home/sunjiajun/cs231n_project/datasets/processed/processed_video418.mp4, 691200 bytes wanted but 0 bytes read,at frame 250/251, at time 10.00/10.01 sec. Using the last valid frame instead.\n",
      "  UserWarning)\n",
      "\n"
     ]
    },
    {
     "name": "stdout",
     "output_type": "stream",
     "text": [
      "\n",
      "[MoviePy] Running:\n",
      ">>> ffmpeg -y -i /home/sunjiajun/cs231n_project/datasets/videos/video419.mp4 -ss 90.44 -t 10.00 -vcodec copy -acodec copy /home/sunjiajun/cs231n_project/datasets/processed/processed_video419.mp4\n",
      "... command successful.\n",
      "\n",
      "[MoviePy] Running:\n",
      ">>> ffmpeg -y -i /home/sunjiajun/cs231n_project/datasets/videos/video420.mp4 -ss 61.81 -t 10.00 -vcodec copy -acodec copy /home/sunjiajun/cs231n_project/datasets/processed/processed_video420.mp4\n",
      "... command successful.\n",
      "\n",
      "[MoviePy] Running:\n",
      ">>> ffmpeg -y -i /home/sunjiajun/cs231n_project/datasets/videos/video421.mp4 -ss 113.99 -t 10.00 -vcodec copy -acodec copy /home/sunjiajun/cs231n_project/datasets/processed/processed_video421.mp4\n",
      "... command successful.\n",
      "\n",
      "[MoviePy] Running:\n",
      ">>> ffmpeg -y -i /home/sunjiajun/cs231n_project/datasets/videos/video422.mp4 -ss 100.61 -t 10.00 -vcodec copy -acodec copy /home/sunjiajun/cs231n_project/datasets/processed/processed_video422.mp4\n",
      "... command successful.\n",
      "\n",
      "[MoviePy] Running:\n",
      ">>> ffmpeg -y -i /home/sunjiajun/cs231n_project/datasets/videos/video423.mp4 -ss 141.66 -t 10.00 -vcodec copy -acodec copy /home/sunjiajun/cs231n_project/datasets/processed/processed_video423.mp4\n",
      "... command successful.\n",
      "\n",
      "[MoviePy] Running:\n",
      ">>> ffmpeg -y -i /home/sunjiajun/cs231n_project/datasets/videos/video424.mp4 -ss 34.92 -t 10.00 -vcodec copy -acodec copy /home/sunjiajun/cs231n_project/datasets/processed/processed_video424.mp4\n",
      "... command successful.\n",
      "\n",
      "[MoviePy] Running:\n",
      ">>> ffmpeg -y -i /home/sunjiajun/cs231n_project/datasets/videos/video425.mp4 -ss 24.38 -t 10.00 -vcodec copy -acodec copy /home/sunjiajun/cs231n_project/datasets/processed/processed_video425.mp4\n",
      "... command successful.\n",
      "\n",
      "[MoviePy] Running:\n",
      ">>> ffmpeg -y -i /home/sunjiajun/cs231n_project/datasets/videos/video426.mp4 -ss 0.00 -t 10.00 -vcodec copy -acodec copy /home/sunjiajun/cs231n_project/datasets/processed/processed_video426.mp4\n",
      "... command successful.\n"
     ]
    },
    {
     "name": "stderr",
     "output_type": "stream",
     "text": [
      "WARNING:py.warnings:/home/sunjiajun/cs231n_project/.env/lib/python3.5/site-packages/moviepy/video/io/ffmpeg_reader.py:132: UserWarning: Warning: in file /home/sunjiajun/cs231n_project/datasets/processed/processed_video426.mp4, 691200 bytes wanted but 0 bytes read,at frame 240/241, at time 10.00/10.01 sec. Using the last valid frame instead.\n",
      "  UserWarning)\n",
      "\n",
      "WARNING:py.warnings:/home/sunjiajun/cs231n_project/.env/lib/python3.5/site-packages/moviepy/video/io/ffmpeg_reader.py:132: UserWarning: Warning: in file /home/sunjiajun/cs231n_project/datasets/processed/processed_video426.mp4, 691200 bytes wanted but 0 bytes read,at frame 240/241, at time 10.00/10.01 sec. Using the last valid frame instead.\n",
      "  UserWarning)\n",
      "\n"
     ]
    },
    {
     "name": "stdout",
     "output_type": "stream",
     "text": [
      "video427 url is invalid\n",
      "\n",
      "[MoviePy] Running:\n",
      ">>> ffmpeg -y -i /home/sunjiajun/cs231n_project/datasets/videos/video428.mp4 -ss 41.05 -t 10.00 -vcodec copy -acodec copy /home/sunjiajun/cs231n_project/datasets/processed/processed_video428.mp4\n",
      "... command successful.\n"
     ]
    },
    {
     "name": "stderr",
     "output_type": "stream",
     "text": [
      "WARNING:py.warnings:/home/sunjiajun/cs231n_project/.env/lib/python3.5/site-packages/moviepy/video/io/ffmpeg_reader.py:132: UserWarning: Warning: in file /home/sunjiajun/cs231n_project/datasets/processed/processed_video428.mp4, 691200 bytes wanted but 0 bytes read,at frame 300/301, at time 10.00/10.01 sec. Using the last valid frame instead.\n",
      "  UserWarning)\n",
      "\n",
      "WARNING:py.warnings:/home/sunjiajun/cs231n_project/.env/lib/python3.5/site-packages/moviepy/video/io/ffmpeg_reader.py:132: UserWarning: Warning: in file /home/sunjiajun/cs231n_project/datasets/processed/processed_video428.mp4, 691200 bytes wanted but 0 bytes read,at frame 300/301, at time 10.00/10.01 sec. Using the last valid frame instead.\n",
      "  UserWarning)\n",
      "\n"
     ]
    },
    {
     "name": "stdout",
     "output_type": "stream",
     "text": [
      "\n",
      "[MoviePy] Running:\n",
      ">>> ffmpeg -y -i /home/sunjiajun/cs231n_project/datasets/videos/video429.mp4 -ss 925.77 -t 10.00 -vcodec copy -acodec copy /home/sunjiajun/cs231n_project/datasets/processed/processed_video429.mp4\n",
      "... command successful.\n",
      "video430 url is invalid\n",
      "\n",
      "[MoviePy] Running:\n",
      ">>> ffmpeg -y -i /home/sunjiajun/cs231n_project/datasets/videos/video431.mp4 -ss 167.93 -t 10.00 -vcodec copy -acodec copy /home/sunjiajun/cs231n_project/datasets/processed/processed_video431.mp4\n",
      "... command successful.\n",
      "\n",
      "[MoviePy] Running:\n",
      ">>> ffmpeg -y -i /home/sunjiajun/cs231n_project/datasets/videos/video432.mp4 -ss 115.69 -t 10.00 -vcodec copy -acodec copy /home/sunjiajun/cs231n_project/datasets/processed/processed_video432.mp4\n",
      "... command successful.\n"
     ]
    },
    {
     "name": "stderr",
     "output_type": "stream",
     "text": [
      "WARNING:py.warnings:/home/sunjiajun/cs231n_project/.env/lib/python3.5/site-packages/moviepy/video/io/ffmpeg_reader.py:132: UserWarning: Warning: in file /home/sunjiajun/cs231n_project/datasets/processed/processed_video432.mp4, 691200 bytes wanted but 0 bytes read,at frame 250/251, at time 10.00/10.01 sec. Using the last valid frame instead.\n",
      "  UserWarning)\n",
      "\n",
      "WARNING:py.warnings:/home/sunjiajun/cs231n_project/.env/lib/python3.5/site-packages/moviepy/video/io/ffmpeg_reader.py:132: UserWarning: Warning: in file /home/sunjiajun/cs231n_project/datasets/processed/processed_video432.mp4, 691200 bytes wanted but 0 bytes read,at frame 250/251, at time 10.00/10.01 sec. Using the last valid frame instead.\n",
      "  UserWarning)\n",
      "\n"
     ]
    },
    {
     "name": "stdout",
     "output_type": "stream",
     "text": [
      "\n",
      "[MoviePy] Running:\n",
      ">>> ffmpeg -y -i /home/sunjiajun/cs231n_project/datasets/videos/video433.mp4 -ss 346.76 -t 10.00 -vcodec copy -acodec copy /home/sunjiajun/cs231n_project/datasets/processed/processed_video433.mp4\n",
      "... command successful.\n",
      "video434 url is invalid\n",
      "\n",
      "[MoviePy] Running:\n",
      ">>> ffmpeg -y -i /home/sunjiajun/cs231n_project/datasets/videos/video435.mp4 -ss 29.24 -t 10.00 -vcodec copy -acodec copy /home/sunjiajun/cs231n_project/datasets/processed/processed_video435.mp4\n",
      "... command successful.\n",
      "\n",
      "[MoviePy] Running:\n",
      ">>> ffmpeg -y -i /home/sunjiajun/cs231n_project/datasets/videos/video436.mp4 -ss 48.72 -t 10.00 -vcodec copy -acodec copy /home/sunjiajun/cs231n_project/datasets/processed/processed_video436.mp4\n",
      "... command successful.\n"
     ]
    },
    {
     "name": "stderr",
     "output_type": "stream",
     "text": [
      "WARNING:py.warnings:/home/sunjiajun/cs231n_project/.env/lib/python3.5/site-packages/moviepy/video/io/ffmpeg_reader.py:132: UserWarning: Warning: in file /home/sunjiajun/cs231n_project/datasets/processed/processed_video436.mp4, 691200 bytes wanted but 0 bytes read,at frame 239/240, at time 9.97/9.99 sec. Using the last valid frame instead.\n",
      "  UserWarning)\n",
      "\n",
      "WARNING:py.warnings:/home/sunjiajun/cs231n_project/.env/lib/python3.5/site-packages/moviepy/video/io/ffmpeg_reader.py:132: UserWarning: Warning: in file /home/sunjiajun/cs231n_project/datasets/processed/processed_video436.mp4, 691200 bytes wanted but 0 bytes read,at frame 239/240, at time 9.97/9.99 sec. Using the last valid frame instead.\n",
      "  UserWarning)\n",
      "\n"
     ]
    },
    {
     "name": "stdout",
     "output_type": "stream",
     "text": [
      "video437 url is invalid\n",
      "\n",
      "[MoviePy] Running:\n",
      ">>> ffmpeg -y -i /home/sunjiajun/cs231n_project/datasets/videos/video438.mp4 -ss 173.89 -t 10.00 -vcodec copy -acodec copy /home/sunjiajun/cs231n_project/datasets/processed/processed_video438.mp4\n",
      "... command successful.\n",
      "\n",
      "[MoviePy] Running:\n",
      ">>> ffmpeg -y -i /home/sunjiajun/cs231n_project/datasets/videos/video439.mp4 -ss 187.57 -t 10.00 -vcodec copy -acodec copy /home/sunjiajun/cs231n_project/datasets/processed/processed_video439.mp4\n",
      "... command successful.\n",
      "\n",
      "[MoviePy] Running:\n",
      ">>> ffmpeg -y -i /home/sunjiajun/cs231n_project/datasets/videos/video440.mp4 -ss 16.06 -t 10.00 -vcodec copy -acodec copy /home/sunjiajun/cs231n_project/datasets/processed/processed_video440.mp4\n",
      "... command successful.\n",
      "\n",
      "[MoviePy] Running:\n",
      ">>> ffmpeg -y -i /home/sunjiajun/cs231n_project/datasets/videos/video441.mp4 -ss 351.16 -t 10.00 -vcodec copy -acodec copy /home/sunjiajun/cs231n_project/datasets/processed/processed_video441.mp4\n",
      "... command successful.\n"
     ]
    },
    {
     "name": "stderr",
     "output_type": "stream",
     "text": [
      "WARNING:py.warnings:/home/sunjiajun/cs231n_project/.env/lib/python3.5/site-packages/moviepy/video/io/ffmpeg_reader.py:132: UserWarning: Warning: in file /home/sunjiajun/cs231n_project/datasets/processed/processed_video441.mp4, 691200 bytes wanted but 0 bytes read,at frame 299/300, at time 9.98/9.99 sec. Using the last valid frame instead.\n",
      "  UserWarning)\n",
      "\n",
      "WARNING:py.warnings:/home/sunjiajun/cs231n_project/.env/lib/python3.5/site-packages/moviepy/video/io/ffmpeg_reader.py:132: UserWarning: Warning: in file /home/sunjiajun/cs231n_project/datasets/processed/processed_video441.mp4, 691200 bytes wanted but 0 bytes read,at frame 299/300, at time 9.98/9.99 sec. Using the last valid frame instead.\n",
      "  UserWarning)\n",
      "\n"
     ]
    },
    {
     "name": "stdout",
     "output_type": "stream",
     "text": [
      "\n",
      "[MoviePy] Running:\n",
      ">>> ffmpeg -y -i /home/sunjiajun/cs231n_project/datasets/videos/video442.mp4 -ss 279.95 -t 10.00 -vcodec copy -acodec copy /home/sunjiajun/cs231n_project/datasets/processed/processed_video442.mp4\n",
      "... command successful.\n",
      "video443 url is invalid\n",
      "video444 url is invalid\n",
      "\n",
      "[MoviePy] Running:\n",
      ">>> ffmpeg -y -i /home/sunjiajun/cs231n_project/datasets/videos/video445.mp4 -ss 135.32 -t 10.00 -vcodec copy -acodec copy /home/sunjiajun/cs231n_project/datasets/processed/processed_video445.mp4\n",
      "... command successful.\n",
      "\n",
      "[MoviePy] Running:\n",
      ">>> ffmpeg -y -i /home/sunjiajun/cs231n_project/datasets/videos/video446.mp4 -ss 415.69 -t 10.00 -vcodec copy -acodec copy /home/sunjiajun/cs231n_project/datasets/processed/processed_video446.mp4\n",
      "... command successful.\n",
      "video447 url is invalid\n",
      "\n",
      "[MoviePy] Running:\n",
      ">>> ffmpeg -y -i /home/sunjiajun/cs231n_project/datasets/videos/video448.mp4 -ss 108.76 -t 10.00 -vcodec copy -acodec copy /home/sunjiajun/cs231n_project/datasets/processed/processed_video448.mp4\n",
      "... command successful.\n",
      "video449 url is invalid\n",
      "\n",
      "[MoviePy] Running:\n",
      ">>> ffmpeg -y -i /home/sunjiajun/cs231n_project/datasets/videos/video450.mp4 -ss 421.89 -t 10.00 -vcodec copy -acodec copy /home/sunjiajun/cs231n_project/datasets/processed/processed_video450.mp4\n",
      "... command successful.\n"
     ]
    },
    {
     "name": "stderr",
     "output_type": "stream",
     "text": [
      "WARNING:py.warnings:/home/sunjiajun/cs231n_project/.env/lib/python3.5/site-packages/moviepy/video/io/ffmpeg_reader.py:132: UserWarning: Warning: in file /home/sunjiajun/cs231n_project/datasets/processed/processed_video450.mp4, 691200 bytes wanted but 0 bytes read,at frame 299/300, at time 9.98/9.99 sec. Using the last valid frame instead.\n",
      "  UserWarning)\n",
      "\n",
      "WARNING:py.warnings:/home/sunjiajun/cs231n_project/.env/lib/python3.5/site-packages/moviepy/video/io/ffmpeg_reader.py:132: UserWarning: Warning: in file /home/sunjiajun/cs231n_project/datasets/processed/processed_video450.mp4, 691200 bytes wanted but 0 bytes read,at frame 299/300, at time 9.98/9.99 sec. Using the last valid frame instead.\n",
      "  UserWarning)\n",
      "\n"
     ]
    },
    {
     "name": "stdout",
     "output_type": "stream",
     "text": [
      "\n",
      "[MoviePy] Running:\n",
      ">>> ffmpeg -y -i /home/sunjiajun/cs231n_project/datasets/videos/video451.mp4 -ss 57.20 -t 10.00 -vcodec copy -acodec copy /home/sunjiajun/cs231n_project/datasets/processed/processed_video451.mp4\n",
      "... command successful.\n"
     ]
    },
    {
     "name": "stderr",
     "output_type": "stream",
     "text": [
      "WARNING:py.warnings:/home/sunjiajun/cs231n_project/.env/lib/python3.5/site-packages/moviepy/video/io/ffmpeg_reader.py:132: UserWarning: Warning: in file /home/sunjiajun/cs231n_project/datasets/processed/processed_video451.mp4, 691200 bytes wanted but 0 bytes read,at frame 299/301, at time 9.98/10.01 sec. Using the last valid frame instead.\n",
      "  UserWarning)\n",
      "\n",
      "WARNING:py.warnings:/home/sunjiajun/cs231n_project/.env/lib/python3.5/site-packages/moviepy/video/io/ffmpeg_reader.py:132: UserWarning: Warning: in file /home/sunjiajun/cs231n_project/datasets/processed/processed_video451.mp4, 691200 bytes wanted but 0 bytes read,at frame 299/301, at time 9.98/10.01 sec. Using the last valid frame instead.\n",
      "  UserWarning)\n",
      "\n"
     ]
    },
    {
     "name": "stdout",
     "output_type": "stream",
     "text": [
      "\n",
      "[MoviePy] Running:\n",
      ">>> ffmpeg -y -i /home/sunjiajun/cs231n_project/datasets/videos/video452.mp4 -ss 198.87 -t 10.00 -vcodec copy -acodec copy /home/sunjiajun/cs231n_project/datasets/processed/processed_video452.mp4\n",
      "... command successful.\n",
      "\n",
      "[MoviePy] Running:\n",
      ">>> ffmpeg -y -i /home/sunjiajun/cs231n_project/datasets/videos/video453.mp4 -ss 158.35 -t 10.00 -vcodec copy -acodec copy /home/sunjiajun/cs231n_project/datasets/processed/processed_video453.mp4\n",
      "... command successful.\n"
     ]
    },
    {
     "name": "stderr",
     "output_type": "stream",
     "text": [
      "WARNING:py.warnings:/home/sunjiajun/cs231n_project/.env/lib/python3.5/site-packages/moviepy/video/io/ffmpeg_reader.py:132: UserWarning: Warning: in file /home/sunjiajun/cs231n_project/datasets/processed/processed_video453.mp4, 691200 bytes wanted but 0 bytes read,at frame 300/301, at time 10.00/10.01 sec. Using the last valid frame instead.\n",
      "  UserWarning)\n",
      "\n",
      "WARNING:py.warnings:/home/sunjiajun/cs231n_project/.env/lib/python3.5/site-packages/moviepy/video/io/ffmpeg_reader.py:132: UserWarning: Warning: in file /home/sunjiajun/cs231n_project/datasets/processed/processed_video453.mp4, 691200 bytes wanted but 0 bytes read,at frame 300/301, at time 10.00/10.01 sec. Using the last valid frame instead.\n",
      "  UserWarning)\n",
      "\n"
     ]
    },
    {
     "name": "stdout",
     "output_type": "stream",
     "text": [
      "video454 url is invalid\n",
      "\n",
      "[MoviePy] Running:\n",
      ">>> ffmpeg -y -i /home/sunjiajun/cs231n_project/datasets/videos/video455.mp4 -ss 69.05 -t 10.00 -vcodec copy -acodec copy /home/sunjiajun/cs231n_project/datasets/processed/processed_video455.mp4\n",
      "... command successful.\n",
      "video456 url is invalid\n",
      "\n",
      "[MoviePy] Running:\n",
      ">>> ffmpeg -y -i /home/sunjiajun/cs231n_project/datasets/videos/video457.mp4 -ss 10.02 -t 10.00 -vcodec copy -acodec copy /home/sunjiajun/cs231n_project/datasets/processed/processed_video457.mp4\n",
      "... command successful.\n"
     ]
    },
    {
     "name": "stderr",
     "output_type": "stream",
     "text": [
      "WARNING:py.warnings:/home/sunjiajun/cs231n_project/.env/lib/python3.5/site-packages/moviepy/video/io/ffmpeg_reader.py:132: UserWarning: Warning: in file /home/sunjiajun/cs231n_project/datasets/processed/processed_video457.mp4, 691200 bytes wanted but 0 bytes read,at frame 239/241, at time 9.97/10.01 sec. Using the last valid frame instead.\n",
      "  UserWarning)\n",
      "\n",
      "WARNING:py.warnings:/home/sunjiajun/cs231n_project/.env/lib/python3.5/site-packages/moviepy/video/io/ffmpeg_reader.py:132: UserWarning: Warning: in file /home/sunjiajun/cs231n_project/datasets/processed/processed_video457.mp4, 691200 bytes wanted but 0 bytes read,at frame 239/241, at time 9.97/10.01 sec. Using the last valid frame instead.\n",
      "  UserWarning)\n",
      "\n"
     ]
    },
    {
     "name": "stdout",
     "output_type": "stream",
     "text": [
      "\n",
      "[MoviePy] Running:\n",
      ">>> ffmpeg -y -i /home/sunjiajun/cs231n_project/datasets/videos/video458.mp4 -ss 118.82 -t 10.00 -vcodec copy -acodec copy /home/sunjiajun/cs231n_project/datasets/processed/processed_video458.mp4\n",
      "... command successful.\n"
     ]
    },
    {
     "name": "stderr",
     "output_type": "stream",
     "text": [
      "WARNING:py.warnings:/home/sunjiajun/cs231n_project/.env/lib/python3.5/site-packages/moviepy/video/io/ffmpeg_reader.py:132: UserWarning: Warning: in file /home/sunjiajun/cs231n_project/datasets/processed/processed_video458.mp4, 691200 bytes wanted but 0 bytes read,at frame 299/300, at time 9.98/9.99 sec. Using the last valid frame instead.\n",
      "  UserWarning)\n",
      "\n",
      "WARNING:py.warnings:/home/sunjiajun/cs231n_project/.env/lib/python3.5/site-packages/moviepy/video/io/ffmpeg_reader.py:132: UserWarning: Warning: in file /home/sunjiajun/cs231n_project/datasets/processed/processed_video458.mp4, 691200 bytes wanted but 0 bytes read,at frame 299/300, at time 9.98/9.99 sec. Using the last valid frame instead.\n",
      "  UserWarning)\n",
      "\n"
     ]
    },
    {
     "name": "stdout",
     "output_type": "stream",
     "text": [
      "\n",
      "[MoviePy] Running:\n",
      ">>> ffmpeg -y -i /home/sunjiajun/cs231n_project/datasets/videos/video459.mp4 -ss 1583.95 -t 10.00 -vcodec copy -acodec copy /home/sunjiajun/cs231n_project/datasets/processed/processed_video459.mp4\n",
      "... command successful.\n"
     ]
    },
    {
     "name": "stderr",
     "output_type": "stream",
     "text": [
      "WARNING:py.warnings:/home/sunjiajun/cs231n_project/.env/lib/python3.5/site-packages/moviepy/video/io/ffmpeg_reader.py:132: UserWarning: Warning: in file /home/sunjiajun/cs231n_project/datasets/processed/processed_video459.mp4, 518400 bytes wanted but 0 bytes read,at frame 299/300, at time 9.98/9.99 sec. Using the last valid frame instead.\n",
      "  UserWarning)\n",
      "\n",
      "WARNING:py.warnings:/home/sunjiajun/cs231n_project/.env/lib/python3.5/site-packages/moviepy/video/io/ffmpeg_reader.py:132: UserWarning: Warning: in file /home/sunjiajun/cs231n_project/datasets/processed/processed_video459.mp4, 518400 bytes wanted but 0 bytes read,at frame 299/300, at time 9.98/9.99 sec. Using the last valid frame instead.\n",
      "  UserWarning)\n",
      "\n"
     ]
    },
    {
     "name": "stdout",
     "output_type": "stream",
     "text": [
      "\n",
      "[MoviePy] Running:\n",
      ">>> ffmpeg -y -i /home/sunjiajun/cs231n_project/datasets/videos/video460.mp4 -ss 0.00 -t 10.00 -vcodec copy -acodec copy /home/sunjiajun/cs231n_project/datasets/processed/processed_video460.mp4\n",
      "... command successful.\n"
     ]
    },
    {
     "name": "stderr",
     "output_type": "stream",
     "text": [
      "WARNING:py.warnings:/home/sunjiajun/cs231n_project/.env/lib/python3.5/site-packages/moviepy/video/io/ffmpeg_reader.py:132: UserWarning: Warning: in file /home/sunjiajun/cs231n_project/datasets/processed/processed_video460.mp4, 683520 bytes wanted but 0 bytes read,at frame 300/301, at time 10.00/10.01 sec. Using the last valid frame instead.\n",
      "  UserWarning)\n",
      "\n",
      "WARNING:py.warnings:/home/sunjiajun/cs231n_project/.env/lib/python3.5/site-packages/moviepy/video/io/ffmpeg_reader.py:132: UserWarning: Warning: in file /home/sunjiajun/cs231n_project/datasets/processed/processed_video460.mp4, 683520 bytes wanted but 0 bytes read,at frame 300/301, at time 10.00/10.01 sec. Using the last valid frame instead.\n",
      "  UserWarning)\n",
      "\n"
     ]
    },
    {
     "name": "stdout",
     "output_type": "stream",
     "text": [
      "\n",
      "[MoviePy] Running:\n",
      ">>> ffmpeg -y -i /home/sunjiajun/cs231n_project/datasets/videos/video461.mp4 -ss 142.69 -t 10.00 -vcodec copy -acodec copy /home/sunjiajun/cs231n_project/datasets/processed/processed_video461.mp4\n",
      "... command successful.\n",
      "video462 url is invalid\n",
      "\n",
      "[MoviePy] Running:\n",
      ">>> ffmpeg -y -i /home/sunjiajun/cs231n_project/datasets/videos/video463.mp4 -ss 1453.37 -t 10.00 -vcodec copy -acodec copy /home/sunjiajun/cs231n_project/datasets/processed/processed_video463.mp4\n",
      "... command successful.\n",
      "\n",
      "[MoviePy] Running:\n",
      ">>> ffmpeg -y -i /home/sunjiajun/cs231n_project/datasets/videos/video464.mp4 -ss 274.39 -t 10.00 -vcodec copy -acodec copy /home/sunjiajun/cs231n_project/datasets/processed/processed_video464.mp4\n",
      "... command successful.\n",
      "\n",
      "[MoviePy] Running:\n",
      ">>> ffmpeg -y -i /home/sunjiajun/cs231n_project/datasets/videos/video465.mp4 -ss 108.48 -t 10.00 -vcodec copy -acodec copy /home/sunjiajun/cs231n_project/datasets/processed/processed_video465.mp4\n",
      "... command successful.\n"
     ]
    },
    {
     "name": "stderr",
     "output_type": "stream",
     "text": [
      "WARNING:py.warnings:/home/sunjiajun/cs231n_project/.env/lib/python3.5/site-packages/moviepy/video/io/ffmpeg_reader.py:132: UserWarning: Warning: in file /home/sunjiajun/cs231n_project/datasets/processed/processed_video465.mp4, 518400 bytes wanted but 0 bytes read,at frame 300/301, at time 10.00/10.01 sec. Using the last valid frame instead.\n",
      "  UserWarning)\n",
      "\n",
      "WARNING:py.warnings:/home/sunjiajun/cs231n_project/.env/lib/python3.5/site-packages/moviepy/video/io/ffmpeg_reader.py:132: UserWarning: Warning: in file /home/sunjiajun/cs231n_project/datasets/processed/processed_video465.mp4, 518400 bytes wanted but 0 bytes read,at frame 300/301, at time 10.00/10.01 sec. Using the last valid frame instead.\n",
      "  UserWarning)\n",
      "\n"
     ]
    },
    {
     "name": "stdout",
     "output_type": "stream",
     "text": [
      "\n",
      "[MoviePy] Running:\n",
      ">>> ffmpeg -y -i /home/sunjiajun/cs231n_project/datasets/videos/video466.mp4 -ss 418.67 -t 10.00 -vcodec copy -acodec copy /home/sunjiajun/cs231n_project/datasets/processed/processed_video466.mp4\n",
      "... command successful.\n",
      "\n",
      "[MoviePy] Running:\n",
      ">>> ffmpeg -y -i /home/sunjiajun/cs231n_project/datasets/videos/video467.mp4 -ss 60.40 -t 10.00 -vcodec copy -acodec copy /home/sunjiajun/cs231n_project/datasets/processed/processed_video467.mp4\n",
      "... command successful.\n"
     ]
    },
    {
     "name": "stderr",
     "output_type": "stream",
     "text": [
      "WARNING:py.warnings:/home/sunjiajun/cs231n_project/.env/lib/python3.5/site-packages/moviepy/video/io/ffmpeg_reader.py:132: UserWarning: Warning: in file /home/sunjiajun/cs231n_project/datasets/processed/processed_video467.mp4, 691200 bytes wanted but 0 bytes read,at frame 299/300, at time 9.98/9.99 sec. Using the last valid frame instead.\n",
      "  UserWarning)\n",
      "\n",
      "WARNING:py.warnings:/home/sunjiajun/cs231n_project/.env/lib/python3.5/site-packages/moviepy/video/io/ffmpeg_reader.py:132: UserWarning: Warning: in file /home/sunjiajun/cs231n_project/datasets/processed/processed_video467.mp4, 691200 bytes wanted but 0 bytes read,at frame 299/300, at time 9.98/9.99 sec. Using the last valid frame instead.\n",
      "  UserWarning)\n",
      "\n"
     ]
    },
    {
     "name": "stdout",
     "output_type": "stream",
     "text": [
      "\n",
      "[MoviePy] Running:\n",
      ">>> ffmpeg -y -i /home/sunjiajun/cs231n_project/datasets/videos/video468.mp4 -ss 86.68 -t 10.00 -vcodec copy -acodec copy /home/sunjiajun/cs231n_project/datasets/processed/processed_video468.mp4\n",
      "... command successful.\n"
     ]
    },
    {
     "name": "stderr",
     "output_type": "stream",
     "text": [
      "WARNING:py.warnings:/home/sunjiajun/cs231n_project/.env/lib/python3.5/site-packages/moviepy/video/io/ffmpeg_reader.py:132: UserWarning: Warning: in file /home/sunjiajun/cs231n_project/datasets/processed/processed_video468.mp4, 518400 bytes wanted but 0 bytes read,at frame 250/251, at time 10.00/10.01 sec. Using the last valid frame instead.\n",
      "  UserWarning)\n",
      "\n",
      "WARNING:py.warnings:/home/sunjiajun/cs231n_project/.env/lib/python3.5/site-packages/moviepy/video/io/ffmpeg_reader.py:132: UserWarning: Warning: in file /home/sunjiajun/cs231n_project/datasets/processed/processed_video468.mp4, 518400 bytes wanted but 0 bytes read,at frame 250/251, at time 10.00/10.01 sec. Using the last valid frame instead.\n",
      "  UserWarning)\n",
      "\n"
     ]
    },
    {
     "name": "stdout",
     "output_type": "stream",
     "text": [
      "\n",
      "[MoviePy] Running:\n",
      ">>> ffmpeg -y -i /home/sunjiajun/cs231n_project/datasets/videos/video469.mp4 -ss 24.73 -t 10.00 -vcodec copy -acodec copy /home/sunjiajun/cs231n_project/datasets/processed/processed_video469.mp4\n",
      "... command successful.\n",
      "\n",
      "[MoviePy] Running:\n",
      ">>> ffmpeg -y -i /home/sunjiajun/cs231n_project/datasets/videos/video470.mp4 -ss 206.34 -t 10.00 -vcodec copy -acodec copy /home/sunjiajun/cs231n_project/datasets/processed/processed_video470.mp4\n",
      "... command successful.\n"
     ]
    },
    {
     "name": "stderr",
     "output_type": "stream",
     "text": [
      "WARNING:py.warnings:/home/sunjiajun/cs231n_project/.env/lib/python3.5/site-packages/moviepy/video/io/ffmpeg_reader.py:132: UserWarning: Warning: in file /home/sunjiajun/cs231n_project/datasets/processed/processed_video470.mp4, 691200 bytes wanted but 0 bytes read,at frame 239/240, at time 9.97/9.99 sec. Using the last valid frame instead.\n",
      "  UserWarning)\n",
      "\n",
      "WARNING:py.warnings:/home/sunjiajun/cs231n_project/.env/lib/python3.5/site-packages/moviepy/video/io/ffmpeg_reader.py:132: UserWarning: Warning: in file /home/sunjiajun/cs231n_project/datasets/processed/processed_video470.mp4, 691200 bytes wanted but 0 bytes read,at frame 239/240, at time 9.97/9.99 sec. Using the last valid frame instead.\n",
      "  UserWarning)\n",
      "\n"
     ]
    },
    {
     "name": "stdout",
     "output_type": "stream",
     "text": [
      "\n",
      "[MoviePy] Running:\n",
      ">>> ffmpeg -y -i /home/sunjiajun/cs231n_project/datasets/videos/video471.mp4 -ss 1085.20 -t 10.00 -vcodec copy -acodec copy /home/sunjiajun/cs231n_project/datasets/processed/processed_video471.mp4\n",
      "... command successful.\n",
      "\n",
      "[MoviePy] Running:\n",
      ">>> ffmpeg -y -i /home/sunjiajun/cs231n_project/datasets/videos/video472.mp4 -ss 5.75 -t 10.00 -vcodec copy -acodec copy /home/sunjiajun/cs231n_project/datasets/processed/processed_video472.mp4\n",
      "... command successful.\n",
      "\n",
      "[MoviePy] Running:\n",
      ">>> ffmpeg -y -i /home/sunjiajun/cs231n_project/datasets/videos/video473.mp4 -ss 73.62 -t 10.00 -vcodec copy -acodec copy /home/sunjiajun/cs231n_project/datasets/processed/processed_video473.mp4\n",
      "... command successful.\n",
      "\n",
      "[MoviePy] Running:\n",
      ">>> ffmpeg -y -i /home/sunjiajun/cs231n_project/datasets/videos/video474.mp4 -ss 303.75 -t 10.00 -vcodec copy -acodec copy /home/sunjiajun/cs231n_project/datasets/processed/processed_video474.mp4\n",
      "... command successful.\n",
      "\n",
      "[MoviePy] Running:\n",
      ">>> ffmpeg -y -i /home/sunjiajun/cs231n_project/datasets/videos/video475.mp4 -ss 88.76 -t 10.00 -vcodec copy -acodec copy /home/sunjiajun/cs231n_project/datasets/processed/processed_video475.mp4\n",
      "... command successful.\n"
     ]
    },
    {
     "name": "stderr",
     "output_type": "stream",
     "text": [
      "WARNING:py.warnings:/home/sunjiajun/cs231n_project/.env/lib/python3.5/site-packages/moviepy/video/io/ffmpeg_reader.py:132: UserWarning: Warning: in file /home/sunjiajun/cs231n_project/datasets/processed/processed_video475.mp4, 460800 bytes wanted but 0 bytes read,at frame 250/251, at time 10.00/10.01 sec. Using the last valid frame instead.\n",
      "  UserWarning)\n",
      "\n",
      "WARNING:py.warnings:/home/sunjiajun/cs231n_project/.env/lib/python3.5/site-packages/moviepy/video/io/ffmpeg_reader.py:132: UserWarning: Warning: in file /home/sunjiajun/cs231n_project/datasets/processed/processed_video475.mp4, 460800 bytes wanted but 0 bytes read,at frame 250/251, at time 10.00/10.01 sec. Using the last valid frame instead.\n",
      "  UserWarning)\n",
      "\n"
     ]
    },
    {
     "name": "stdout",
     "output_type": "stream",
     "text": [
      "\n",
      "[MoviePy] Running:\n",
      ">>> ffmpeg -y -i /home/sunjiajun/cs231n_project/datasets/videos/video476.mp4 -ss 1175.77 -t 10.00 -vcodec copy -acodec copy /home/sunjiajun/cs231n_project/datasets/processed/processed_video476.mp4\n",
      "... command successful.\n",
      "\n",
      "[MoviePy] Running:\n",
      ">>> ffmpeg -y -i /home/sunjiajun/cs231n_project/datasets/videos/video477.mp4 -ss 250.28 -t 10.00 -vcodec copy -acodec copy /home/sunjiajun/cs231n_project/datasets/processed/processed_video477.mp4\n",
      "... command successful.\n"
     ]
    },
    {
     "name": "stderr",
     "output_type": "stream",
     "text": [
      "WARNING:py.warnings:/home/sunjiajun/cs231n_project/.env/lib/python3.5/site-packages/moviepy/video/io/ffmpeg_reader.py:132: UserWarning: Warning: in file /home/sunjiajun/cs231n_project/datasets/processed/processed_video477.mp4, 675840 bytes wanted but 0 bytes read,at frame 250/251, at time 10.00/10.01 sec. Using the last valid frame instead.\n",
      "  UserWarning)\n",
      "\n",
      "WARNING:py.warnings:/home/sunjiajun/cs231n_project/.env/lib/python3.5/site-packages/moviepy/video/io/ffmpeg_reader.py:132: UserWarning: Warning: in file /home/sunjiajun/cs231n_project/datasets/processed/processed_video477.mp4, 675840 bytes wanted but 0 bytes read,at frame 250/251, at time 10.00/10.01 sec. Using the last valid frame instead.\n",
      "  UserWarning)\n",
      "\n"
     ]
    },
    {
     "name": "stdout",
     "output_type": "stream",
     "text": [
      "\n",
      "[MoviePy] Running:\n",
      ">>> ffmpeg -y -i /home/sunjiajun/cs231n_project/datasets/videos/video478.mp4 -ss 225.88 -t 10.00 -vcodec copy -acodec copy /home/sunjiajun/cs231n_project/datasets/processed/processed_video478.mp4\n",
      "... command successful.\n",
      "\n",
      "[MoviePy] Running:\n",
      ">>> ffmpeg -y -i /home/sunjiajun/cs231n_project/datasets/videos/video479.mp4 -ss 212.28 -t 10.00 -vcodec copy -acodec copy /home/sunjiajun/cs231n_project/datasets/processed/processed_video479.mp4\n",
      "... command successful.\n",
      "\n",
      "[MoviePy] Running:\n",
      ">>> ffmpeg -y -i /home/sunjiajun/cs231n_project/datasets/videos/video480.mp4 -ss 46.33 -t 10.00 -vcodec copy -acodec copy /home/sunjiajun/cs231n_project/datasets/processed/processed_video480.mp4\n",
      "... command successful.\n",
      "\n",
      "[MoviePy] Running:\n",
      ">>> ffmpeg -y -i /home/sunjiajun/cs231n_project/datasets/videos/video481.mp4 -ss 249.83 -t 10.00 -vcodec copy -acodec copy /home/sunjiajun/cs231n_project/datasets/processed/processed_video481.mp4\n",
      "... command successful.\n",
      "\n",
      "[MoviePy] Running:\n",
      ">>> ffmpeg -y -i /home/sunjiajun/cs231n_project/datasets/videos/video482.mp4 -ss 125.64 -t 10.00 -vcodec copy -acodec copy /home/sunjiajun/cs231n_project/datasets/processed/processed_video482.mp4\n",
      "... command successful.\n"
     ]
    },
    {
     "name": "stderr",
     "output_type": "stream",
     "text": [
      "WARNING:py.warnings:/home/sunjiajun/cs231n_project/.env/lib/python3.5/site-packages/moviepy/video/io/ffmpeg_reader.py:132: UserWarning: Warning: in file /home/sunjiajun/cs231n_project/datasets/processed/processed_video482.mp4, 230400 bytes wanted but 0 bytes read,at frame 150/151, at time 10.01/10.01 sec. Using the last valid frame instead.\n",
      "  UserWarning)\n",
      "\n",
      "WARNING:py.warnings:/home/sunjiajun/cs231n_project/.env/lib/python3.5/site-packages/moviepy/video/io/ffmpeg_reader.py:132: UserWarning: Warning: in file /home/sunjiajun/cs231n_project/datasets/processed/processed_video482.mp4, 230400 bytes wanted but 0 bytes read,at frame 150/151, at time 10.01/10.01 sec. Using the last valid frame instead.\n",
      "  UserWarning)\n",
      "\n"
     ]
    },
    {
     "name": "stdout",
     "output_type": "stream",
     "text": [
      "\n",
      "[MoviePy] Running:\n",
      ">>> ffmpeg -y -i /home/sunjiajun/cs231n_project/datasets/videos/video483.mp4 -ss 410.06 -t 10.00 -vcodec copy -acodec copy /home/sunjiajun/cs231n_project/datasets/processed/processed_video483.mp4\n",
      "... command successful.\n",
      "\n",
      "[MoviePy] Running:\n",
      ">>> ffmpeg -y -i /home/sunjiajun/cs231n_project/datasets/videos/video484.mp4 -ss 133.25 -t 10.00 -vcodec copy -acodec copy /home/sunjiajun/cs231n_project/datasets/processed/processed_video484.mp4\n",
      "... command successful.\n"
     ]
    },
    {
     "name": "stderr",
     "output_type": "stream",
     "text": [
      "WARNING:py.warnings:/home/sunjiajun/cs231n_project/.env/lib/python3.5/site-packages/moviepy/video/io/ffmpeg_reader.py:132: UserWarning: Warning: in file /home/sunjiajun/cs231n_project/datasets/processed/processed_video484.mp4, 691200 bytes wanted but 0 bytes read,at frame 299/300, at time 9.99/10.01 sec. Using the last valid frame instead.\n",
      "  UserWarning)\n",
      "\n",
      "WARNING:py.warnings:/home/sunjiajun/cs231n_project/.env/lib/python3.5/site-packages/moviepy/video/io/ffmpeg_reader.py:132: UserWarning: Warning: in file /home/sunjiajun/cs231n_project/datasets/processed/processed_video484.mp4, 691200 bytes wanted but 0 bytes read,at frame 299/300, at time 9.99/10.01 sec. Using the last valid frame instead.\n",
      "  UserWarning)\n",
      "\n"
     ]
    },
    {
     "name": "stdout",
     "output_type": "stream",
     "text": [
      "\n",
      "[MoviePy] Running:\n",
      ">>> ffmpeg -y -i /home/sunjiajun/cs231n_project/datasets/videos/video485.mp4 -ss 77.83 -t 10.00 -vcodec copy -acodec copy /home/sunjiajun/cs231n_project/datasets/processed/processed_video485.mp4\n",
      "... command successful.\n",
      "\n",
      "[MoviePy] Running:\n",
      ">>> ffmpeg -y -i /home/sunjiajun/cs231n_project/datasets/videos/video486.mp4 -ss 620.13 -t 10.00 -vcodec copy -acodec copy /home/sunjiajun/cs231n_project/datasets/processed/processed_video486.mp4\n",
      "... command successful.\n",
      "\n",
      "[MoviePy] Running:\n",
      ">>> ffmpeg -y -i /home/sunjiajun/cs231n_project/datasets/videos/video487.mp4 -ss 571.95 -t 10.00 -vcodec copy -acodec copy /home/sunjiajun/cs231n_project/datasets/processed/processed_video487.mp4\n",
      "... command successful.\n",
      "\n",
      "[MoviePy] Running:\n",
      ">>> ffmpeg -y -i /home/sunjiajun/cs231n_project/datasets/videos/video488.mp4 -ss 205.64 -t 10.00 -vcodec copy -acodec copy /home/sunjiajun/cs231n_project/datasets/processed/processed_video488.mp4\n",
      "... command successful.\n"
     ]
    },
    {
     "name": "stderr",
     "output_type": "stream",
     "text": [
      "WARNING:py.warnings:/home/sunjiajun/cs231n_project/.env/lib/python3.5/site-packages/moviepy/video/io/ffmpeg_reader.py:132: UserWarning: Warning: in file /home/sunjiajun/cs231n_project/datasets/processed/processed_video488.mp4, 518400 bytes wanted but 0 bytes read,at frame 299/300, at time 9.98/9.99 sec. Using the last valid frame instead.\n",
      "  UserWarning)\n",
      "\n",
      "WARNING:py.warnings:/home/sunjiajun/cs231n_project/.env/lib/python3.5/site-packages/moviepy/video/io/ffmpeg_reader.py:132: UserWarning: Warning: in file /home/sunjiajun/cs231n_project/datasets/processed/processed_video488.mp4, 518400 bytes wanted but 0 bytes read,at frame 299/300, at time 9.98/9.99 sec. Using the last valid frame instead.\n",
      "  UserWarning)\n",
      "\n"
     ]
    },
    {
     "name": "stdout",
     "output_type": "stream",
     "text": [
      "\n",
      "[MoviePy] Running:\n",
      ">>> ffmpeg -y -i /home/sunjiajun/cs231n_project/datasets/videos/video489.mp4 -ss 0.00 -t 10.00 -vcodec copy -acodec copy /home/sunjiajun/cs231n_project/datasets/processed/processed_video489.mp4\n",
      "... command successful.\n",
      "\n",
      "[MoviePy] Running:\n",
      ">>> ffmpeg -y -i /home/sunjiajun/cs231n_project/datasets/videos/video490.mp4 -ss 17.60 -t 10.00 -vcodec copy -acodec copy /home/sunjiajun/cs231n_project/datasets/processed/processed_video490.mp4\n",
      "... command successful.\n"
     ]
    },
    {
     "name": "stderr",
     "output_type": "stream",
     "text": [
      "WARNING:py.warnings:/home/sunjiajun/cs231n_project/.env/lib/python3.5/site-packages/moviepy/video/io/ffmpeg_reader.py:132: UserWarning: Warning: in file /home/sunjiajun/cs231n_project/datasets/processed/processed_video490.mp4, 291600 bytes wanted but 0 bytes read,at frame 300/301, at time 10.00/10.01 sec. Using the last valid frame instead.\n",
      "  UserWarning)\n",
      "\n",
      "WARNING:py.warnings:/home/sunjiajun/cs231n_project/.env/lib/python3.5/site-packages/moviepy/video/io/ffmpeg_reader.py:132: UserWarning: Warning: in file /home/sunjiajun/cs231n_project/datasets/processed/processed_video490.mp4, 291600 bytes wanted but 0 bytes read,at frame 300/301, at time 10.00/10.01 sec. Using the last valid frame instead.\n",
      "  UserWarning)\n",
      "\n"
     ]
    },
    {
     "name": "stdout",
     "output_type": "stream",
     "text": [
      "\n",
      "[MoviePy] Running:\n",
      ">>> ffmpeg -y -i /home/sunjiajun/cs231n_project/datasets/videos/video491.mp4 -ss 1351.73 -t 10.00 -vcodec copy -acodec copy /home/sunjiajun/cs231n_project/datasets/processed/processed_video491.mp4\n",
      "... command successful.\n"
     ]
    },
    {
     "name": "stderr",
     "output_type": "stream",
     "text": [
      "WARNING:py.warnings:/home/sunjiajun/cs231n_project/.env/lib/python3.5/site-packages/moviepy/video/io/ffmpeg_reader.py:132: UserWarning: Warning: in file /home/sunjiajun/cs231n_project/datasets/processed/processed_video491.mp4, 691200 bytes wanted but 0 bytes read,at frame 239/240, at time 9.97/9.99 sec. Using the last valid frame instead.\n",
      "  UserWarning)\n",
      "\n",
      "WARNING:py.warnings:/home/sunjiajun/cs231n_project/.env/lib/python3.5/site-packages/moviepy/video/io/ffmpeg_reader.py:132: UserWarning: Warning: in file /home/sunjiajun/cs231n_project/datasets/processed/processed_video491.mp4, 691200 bytes wanted but 0 bytes read,at frame 239/240, at time 9.97/9.99 sec. Using the last valid frame instead.\n",
      "  UserWarning)\n",
      "\n"
     ]
    },
    {
     "name": "stdout",
     "output_type": "stream",
     "text": [
      "\n",
      "[MoviePy] Running:\n",
      ">>> ffmpeg -y -i /home/sunjiajun/cs231n_project/datasets/videos/video492.mp4 -ss 51.13 -t 10.00 -vcodec copy -acodec copy /home/sunjiajun/cs231n_project/datasets/processed/processed_video492.mp4\n",
      "... command successful.\n",
      "\n",
      "[MoviePy] Running:\n",
      ">>> ffmpeg -y -i /home/sunjiajun/cs231n_project/datasets/videos/video493.mp4 -ss 1079.38 -t 10.00 -vcodec copy -acodec copy /home/sunjiajun/cs231n_project/datasets/processed/processed_video493.mp4\n",
      "... command successful.\n",
      "\n",
      "[MoviePy] Running:\n",
      ">>> ffmpeg -y -i /home/sunjiajun/cs231n_project/datasets/videos/video494.mp4 -ss 75.53 -t 10.00 -vcodec copy -acodec copy /home/sunjiajun/cs231n_project/datasets/processed/processed_video494.mp4\n",
      "... command successful.\n",
      "video495 url is invalid\n",
      "\n",
      "[MoviePy] Running:\n",
      ">>> ffmpeg -y -i /home/sunjiajun/cs231n_project/datasets/videos/video496.mp4 -ss 43.11 -t 10.00 -vcodec copy -acodec copy /home/sunjiajun/cs231n_project/datasets/processed/processed_video496.mp4\n",
      "... command successful.\n"
     ]
    },
    {
     "name": "stderr",
     "output_type": "stream",
     "text": [
      "WARNING:py.warnings:/home/sunjiajun/cs231n_project/.env/lib/python3.5/site-packages/moviepy/video/io/ffmpeg_reader.py:132: UserWarning: Warning: in file /home/sunjiajun/cs231n_project/datasets/processed/processed_video496.mp4, 691200 bytes wanted but 0 bytes read,at frame 300/301, at time 10.00/10.01 sec. Using the last valid frame instead.\n",
      "  UserWarning)\n",
      "\n",
      "WARNING:py.warnings:/home/sunjiajun/cs231n_project/.env/lib/python3.5/site-packages/moviepy/video/io/ffmpeg_reader.py:132: UserWarning: Warning: in file /home/sunjiajun/cs231n_project/datasets/processed/processed_video496.mp4, 691200 bytes wanted but 0 bytes read,at frame 300/301, at time 10.00/10.01 sec. Using the last valid frame instead.\n",
      "  UserWarning)\n",
      "\n"
     ]
    },
    {
     "name": "stdout",
     "output_type": "stream",
     "text": [
      "\n",
      "[MoviePy] Running:\n",
      ">>> ffmpeg -y -i /home/sunjiajun/cs231n_project/datasets/videos/video497.mp4 -ss 151.37 -t 10.00 -vcodec copy -acodec copy /home/sunjiajun/cs231n_project/datasets/processed/processed_video497.mp4\n",
      "... command successful.\n",
      "\n",
      "[MoviePy] Running:\n",
      ">>> ffmpeg -y -i /home/sunjiajun/cs231n_project/datasets/videos/video498.mp4 -ss 39.01 -t 10.00 -vcodec copy -acodec copy /home/sunjiajun/cs231n_project/datasets/processed/processed_video498.mp4\n",
      "... command successful.\n",
      "\n",
      "[MoviePy] Running:\n",
      ">>> ffmpeg -y -i /home/sunjiajun/cs231n_project/datasets/videos/video499.mp4 -ss 30.69 -t 10.00 -vcodec copy -acodec copy /home/sunjiajun/cs231n_project/datasets/processed/processed_video499.mp4\n",
      "... command successful.\n",
      "\n",
      "[MoviePy] Running:\n",
      ">>> ffmpeg -y -i /home/sunjiajun/cs231n_project/datasets/videos/video500.mp4 -ss 27.26 -t 10.00 -vcodec copy -acodec copy /home/sunjiajun/cs231n_project/datasets/processed/processed_video500.mp4\n",
      "... command successful.\n",
      "\n",
      "[MoviePy] Running:\n",
      ">>> ffmpeg -y -i /home/sunjiajun/cs231n_project/datasets/videos/video501.mp4 -ss 68.52 -t 10.00 -vcodec copy -acodec copy /home/sunjiajun/cs231n_project/datasets/processed/processed_video501.mp4\n",
      "... command successful.\n",
      "\n",
      "[MoviePy] Running:\n",
      ">>> ffmpeg -y -i /home/sunjiajun/cs231n_project/datasets/videos/video502.mp4 -ss 1404.55 -t 10.00 -vcodec copy -acodec copy /home/sunjiajun/cs231n_project/datasets/processed/processed_video502.mp4\n",
      "... command successful.\n"
     ]
    },
    {
     "name": "stderr",
     "output_type": "stream",
     "text": [
      "WARNING:py.warnings:/home/sunjiajun/cs231n_project/.env/lib/python3.5/site-packages/moviepy/video/io/ffmpeg_reader.py:132: UserWarning: Warning: in file /home/sunjiajun/cs231n_project/datasets/processed/processed_video502.mp4, 691200 bytes wanted but 0 bytes read,at frame 300/301, at time 10.00/10.01 sec. Using the last valid frame instead.\n",
      "  UserWarning)\n",
      "\n",
      "WARNING:py.warnings:/home/sunjiajun/cs231n_project/.env/lib/python3.5/site-packages/moviepy/video/io/ffmpeg_reader.py:132: UserWarning: Warning: in file /home/sunjiajun/cs231n_project/datasets/processed/processed_video502.mp4, 691200 bytes wanted but 0 bytes read,at frame 300/301, at time 10.00/10.01 sec. Using the last valid frame instead.\n",
      "  UserWarning)\n",
      "\n"
     ]
    },
    {
     "name": "stdout",
     "output_type": "stream",
     "text": [
      "\n",
      "[MoviePy] Running:\n",
      ">>> ffmpeg -y -i /home/sunjiajun/cs231n_project/datasets/videos/video503.mp4 -ss 128.73 -t 10.00 -vcodec copy -acodec copy /home/sunjiajun/cs231n_project/datasets/processed/processed_video503.mp4\n",
      "... command successful.\n",
      "\n",
      "[MoviePy] Running:\n",
      ">>> ffmpeg -y -i /home/sunjiajun/cs231n_project/datasets/videos/video504.mp4 -ss 259.38 -t 10.00 -vcodec copy -acodec copy /home/sunjiajun/cs231n_project/datasets/processed/processed_video504.mp4\n",
      "... command successful.\n"
     ]
    },
    {
     "name": "stderr",
     "output_type": "stream",
     "text": [
      "WARNING:py.warnings:/home/sunjiajun/cs231n_project/.env/lib/python3.5/site-packages/moviepy/video/io/ffmpeg_reader.py:132: UserWarning: Warning: in file /home/sunjiajun/cs231n_project/datasets/processed/processed_video504.mp4, 691200 bytes wanted but 0 bytes read,at frame 300/301, at time 10.00/10.01 sec. Using the last valid frame instead.\n",
      "  UserWarning)\n",
      "\n",
      "WARNING:py.warnings:/home/sunjiajun/cs231n_project/.env/lib/python3.5/site-packages/moviepy/video/io/ffmpeg_reader.py:132: UserWarning: Warning: in file /home/sunjiajun/cs231n_project/datasets/processed/processed_video504.mp4, 691200 bytes wanted but 0 bytes read,at frame 300/301, at time 10.00/10.01 sec. Using the last valid frame instead.\n",
      "  UserWarning)\n",
      "\n"
     ]
    },
    {
     "name": "stdout",
     "output_type": "stream",
     "text": [
      "\n",
      "[MoviePy] Running:\n",
      ">>> ffmpeg -y -i /home/sunjiajun/cs231n_project/datasets/videos/video505.mp4 -ss 19.23 -t 10.00 -vcodec copy -acodec copy /home/sunjiajun/cs231n_project/datasets/processed/processed_video505.mp4\n",
      "... command successful.\n",
      "\n",
      "[MoviePy] Running:\n",
      ">>> ffmpeg -y -i /home/sunjiajun/cs231n_project/datasets/videos/video506.mp4 -ss 1840.69 -t 10.00 -vcodec copy -acodec copy /home/sunjiajun/cs231n_project/datasets/processed/processed_video506.mp4\n",
      "... command successful.\n",
      "\n",
      "[MoviePy] Running:\n",
      ">>> ffmpeg -y -i /home/sunjiajun/cs231n_project/datasets/videos/video507.mp4 -ss 1331.81 -t 10.00 -vcodec copy -acodec copy /home/sunjiajun/cs231n_project/datasets/processed/processed_video507.mp4\n",
      "... command successful.\n",
      "\n",
      "[MoviePy] Running:\n",
      ">>> ffmpeg -y -i /home/sunjiajun/cs231n_project/datasets/videos/video508.mp4 -ss 8.31 -t 10.00 -vcodec copy -acodec copy /home/sunjiajun/cs231n_project/datasets/processed/processed_video508.mp4\n",
      "... command successful.\n",
      "\n",
      "[MoviePy] Running:\n",
      ">>> ffmpeg -y -i /home/sunjiajun/cs231n_project/datasets/videos/video509.mp4 -ss 14.65 -t 10.00 -vcodec copy -acodec copy /home/sunjiajun/cs231n_project/datasets/processed/processed_video509.mp4\n",
      "... command successful.\n",
      "\n",
      "[MoviePy] Running:\n",
      ">>> ffmpeg -y -i /home/sunjiajun/cs231n_project/datasets/videos/video510.mp4 -ss 193.51 -t 10.00 -vcodec copy -acodec copy /home/sunjiajun/cs231n_project/datasets/processed/processed_video510.mp4\n",
      "... command successful.\n",
      "\n",
      "[MoviePy] Running:\n",
      ">>> ffmpeg -y -i /home/sunjiajun/cs231n_project/datasets/videos/video511.mp4 -ss 52.98 -t 10.00 -vcodec copy -acodec copy /home/sunjiajun/cs231n_project/datasets/processed/processed_video511.mp4\n",
      "... command successful.\n",
      "\n",
      "[MoviePy] Running:\n",
      ">>> ffmpeg -y -i /home/sunjiajun/cs231n_project/datasets/videos/video512.mp4 -ss 40.34 -t 10.00 -vcodec copy -acodec copy /home/sunjiajun/cs231n_project/datasets/processed/processed_video512.mp4\n",
      "... command successful.\n"
     ]
    },
    {
     "name": "stderr",
     "output_type": "stream",
     "text": [
      "WARNING:py.warnings:/home/sunjiajun/cs231n_project/.env/lib/python3.5/site-packages/moviepy/video/io/ffmpeg_reader.py:132: UserWarning: Warning: in file /home/sunjiajun/cs231n_project/datasets/processed/processed_video512.mp4, 691200 bytes wanted but 0 bytes read,at frame 239/240, at time 9.97/9.99 sec. Using the last valid frame instead.\n",
      "  UserWarning)\n",
      "\n",
      "WARNING:py.warnings:/home/sunjiajun/cs231n_project/.env/lib/python3.5/site-packages/moviepy/video/io/ffmpeg_reader.py:132: UserWarning: Warning: in file /home/sunjiajun/cs231n_project/datasets/processed/processed_video512.mp4, 691200 bytes wanted but 0 bytes read,at frame 239/240, at time 9.97/9.99 sec. Using the last valid frame instead.\n",
      "  UserWarning)\n",
      "\n"
     ]
    },
    {
     "name": "stdout",
     "output_type": "stream",
     "text": [
      "\n",
      "[MoviePy] Running:\n",
      ">>> ffmpeg -y -i /home/sunjiajun/cs231n_project/datasets/videos/video513.mp4 -ss 360.61 -t 10.00 -vcodec copy -acodec copy /home/sunjiajun/cs231n_project/datasets/processed/processed_video513.mp4\n",
      "... command successful.\n",
      "\n",
      "[MoviePy] Running:\n",
      ">>> ffmpeg -y -i /home/sunjiajun/cs231n_project/datasets/videos/video514.mp4 -ss 46.28 -t 10.00 -vcodec copy -acodec copy /home/sunjiajun/cs231n_project/datasets/processed/processed_video514.mp4\n",
      "... command successful.\n",
      "\n",
      "[MoviePy] Running:\n",
      ">>> ffmpeg -y -i /home/sunjiajun/cs231n_project/datasets/videos/video515.mp4 -ss 3.34 -t 10.00 -vcodec copy -acodec copy /home/sunjiajun/cs231n_project/datasets/processed/processed_video515.mp4\n",
      "... command successful.\n",
      "\n",
      "[MoviePy] Running:\n",
      ">>> ffmpeg -y -i /home/sunjiajun/cs231n_project/datasets/videos/video516.mp4 -ss 54.37 -t 10.00 -vcodec copy -acodec copy /home/sunjiajun/cs231n_project/datasets/processed/processed_video516.mp4\n",
      "... command successful.\n",
      "\n",
      "[MoviePy] Running:\n",
      ">>> ffmpeg -y -i /home/sunjiajun/cs231n_project/datasets/videos/video517.mp4 -ss 17.38 -t 10.00 -vcodec copy -acodec copy /home/sunjiajun/cs231n_project/datasets/processed/processed_video517.mp4\n",
      "... command successful.\n"
     ]
    },
    {
     "name": "stderr",
     "output_type": "stream",
     "text": [
      "WARNING:py.warnings:/home/sunjiajun/cs231n_project/.env/lib/python3.5/site-packages/moviepy/video/io/ffmpeg_reader.py:132: UserWarning: Warning: in file /home/sunjiajun/cs231n_project/datasets/processed/processed_video517.mp4, 129600 bytes wanted but 0 bytes read,at frame 150/151, at time 10.00/10.01 sec. Using the last valid frame instead.\n",
      "  UserWarning)\n",
      "\n",
      "WARNING:py.warnings:/home/sunjiajun/cs231n_project/.env/lib/python3.5/site-packages/moviepy/video/io/ffmpeg_reader.py:132: UserWarning: Warning: in file /home/sunjiajun/cs231n_project/datasets/processed/processed_video517.mp4, 129600 bytes wanted but 0 bytes read,at frame 150/151, at time 10.00/10.01 sec. Using the last valid frame instead.\n",
      "  UserWarning)\n",
      "\n"
     ]
    },
    {
     "name": "stdout",
     "output_type": "stream",
     "text": [
      "\n",
      "[MoviePy] Running:\n",
      ">>> ffmpeg -y -i /home/sunjiajun/cs231n_project/datasets/videos/video518.mp4 -ss 91.85 -t 10.00 -vcodec copy -acodec copy /home/sunjiajun/cs231n_project/datasets/processed/processed_video518.mp4\n",
      "... command successful.\n",
      "\n",
      "[MoviePy] Running:\n",
      ">>> ffmpeg -y -i /home/sunjiajun/cs231n_project/datasets/videos/video519.mp4 -ss 389.76 -t 10.00 -vcodec copy -acodec copy /home/sunjiajun/cs231n_project/datasets/processed/processed_video519.mp4\n",
      "... command successful.\n",
      "\n",
      "[MoviePy] Running:\n",
      ">>> ffmpeg -y -i /home/sunjiajun/cs231n_project/datasets/videos/video520.mp4 -ss 156.47 -t 10.00 -vcodec copy -acodec copy /home/sunjiajun/cs231n_project/datasets/processed/processed_video520.mp4\n",
      "... command successful.\n",
      "video521 url is invalid\n",
      "\n",
      "[MoviePy] Running:\n",
      ">>> ffmpeg -y -i /home/sunjiajun/cs231n_project/datasets/videos/video522.mp4 -ss 135.85 -t 10.00 -vcodec copy -acodec copy /home/sunjiajun/cs231n_project/datasets/processed/processed_video522.mp4\n",
      "... command successful.\n",
      "\n",
      "[MoviePy] Running:\n",
      ">>> ffmpeg -y -i /home/sunjiajun/cs231n_project/datasets/videos/video523.mp4 -ss 13.80 -t 10.00 -vcodec copy -acodec copy /home/sunjiajun/cs231n_project/datasets/processed/processed_video523.mp4\n",
      "... command successful.\n",
      "\n",
      "[MoviePy] Running:\n",
      ">>> ffmpeg -y -i /home/sunjiajun/cs231n_project/datasets/videos/video524.mp4 -ss 175.61 -t 10.00 -vcodec copy -acodec copy /home/sunjiajun/cs231n_project/datasets/processed/processed_video524.mp4\n",
      "... command successful.\n",
      "\n",
      "[MoviePy] Running:\n",
      ">>> ffmpeg -y -i /home/sunjiajun/cs231n_project/datasets/videos/video525.mp4 -ss 121.18 -t 10.00 -vcodec copy -acodec copy /home/sunjiajun/cs231n_project/datasets/processed/processed_video525.mp4\n",
      "... command successful.\n",
      "\n",
      "[MoviePy] Running:\n",
      ">>> ffmpeg -y -i /home/sunjiajun/cs231n_project/datasets/videos/video526.mp4 -ss 216.93 -t 10.00 -vcodec copy -acodec copy /home/sunjiajun/cs231n_project/datasets/processed/processed_video526.mp4\n",
      "... command successful.\n",
      "\n",
      "[MoviePy] Running:\n",
      ">>> ffmpeg -y -i /home/sunjiajun/cs231n_project/datasets/videos/video527.mp4 -ss 72.95 -t 10.00 -vcodec copy -acodec copy /home/sunjiajun/cs231n_project/datasets/processed/processed_video527.mp4\n",
      "... command successful.\n",
      "\n",
      "[MoviePy] Running:\n",
      ">>> ffmpeg -y -i /home/sunjiajun/cs231n_project/datasets/videos/video528.mp4 -ss 136.62 -t 10.00 -vcodec copy -acodec copy /home/sunjiajun/cs231n_project/datasets/processed/processed_video528.mp4\n",
      "... command successful.\n",
      "\n",
      "[MoviePy] Running:\n",
      ">>> ffmpeg -y -i /home/sunjiajun/cs231n_project/datasets/videos/video529.mp4 -ss 34.92 -t 10.00 -vcodec copy -acodec copy /home/sunjiajun/cs231n_project/datasets/processed/processed_video529.mp4\n",
      "... command successful.\n",
      "\n",
      "[MoviePy] Running:\n",
      ">>> ffmpeg -y -i /home/sunjiajun/cs231n_project/datasets/videos/video530.mp4 -ss 82.55 -t 10.00 -vcodec copy -acodec copy /home/sunjiajun/cs231n_project/datasets/processed/processed_video530.mp4\n",
      "... command successful.\n",
      "\n",
      "[MoviePy] Running:\n",
      ">>> ffmpeg -y -i /home/sunjiajun/cs231n_project/datasets/videos/video531.mp4 -ss 705.38 -t 10.00 -vcodec copy -acodec copy /home/sunjiajun/cs231n_project/datasets/processed/processed_video531.mp4\n",
      "... command successful.\n",
      "\n",
      "[MoviePy] Running:\n",
      ">>> ffmpeg -y -i /home/sunjiajun/cs231n_project/datasets/videos/video532.mp4 -ss 10.16 -t 10.00 -vcodec copy -acodec copy /home/sunjiajun/cs231n_project/datasets/processed/processed_video532.mp4\n",
      "... command successful.\n",
      "\n",
      "[MoviePy] Running:\n",
      ">>> ffmpeg -y -i /home/sunjiajun/cs231n_project/datasets/videos/video533.mp4 -ss 125.76 -t 10.00 -vcodec copy -acodec copy /home/sunjiajun/cs231n_project/datasets/processed/processed_video533.mp4\n",
      "... command successful.\n"
     ]
    },
    {
     "name": "stderr",
     "output_type": "stream",
     "text": [
      "WARNING:py.warnings:/home/sunjiajun/cs231n_project/.env/lib/python3.5/site-packages/moviepy/video/io/ffmpeg_reader.py:132: UserWarning: Warning: in file /home/sunjiajun/cs231n_project/datasets/processed/processed_video533.mp4, 691200 bytes wanted but 0 bytes read,at frame 239/240, at time 9.97/9.99 sec. Using the last valid frame instead.\n",
      "  UserWarning)\n",
      "\n",
      "WARNING:py.warnings:/home/sunjiajun/cs231n_project/.env/lib/python3.5/site-packages/moviepy/video/io/ffmpeg_reader.py:132: UserWarning: Warning: in file /home/sunjiajun/cs231n_project/datasets/processed/processed_video533.mp4, 691200 bytes wanted but 0 bytes read,at frame 239/240, at time 9.97/9.99 sec. Using the last valid frame instead.\n",
      "  UserWarning)\n",
      "\n"
     ]
    },
    {
     "name": "stdout",
     "output_type": "stream",
     "text": [
      "video534 url is invalid\n",
      "\n",
      "[MoviePy] Running:\n",
      ">>> ffmpeg -y -i /home/sunjiajun/cs231n_project/datasets/videos/video535.mp4 -ss 260.77 -t 10.00 -vcodec copy -acodec copy /home/sunjiajun/cs231n_project/datasets/processed/processed_video535.mp4\n",
      "... command successful.\n"
     ]
    },
    {
     "name": "stderr",
     "output_type": "stream",
     "text": [
      "WARNING:py.warnings:/home/sunjiajun/cs231n_project/.env/lib/python3.5/site-packages/moviepy/video/io/ffmpeg_reader.py:132: UserWarning: Warning: in file /home/sunjiajun/cs231n_project/datasets/processed/processed_video535.mp4, 691200 bytes wanted but 0 bytes read,at frame 299/301, at time 9.98/10.01 sec. Using the last valid frame instead.\n",
      "  UserWarning)\n",
      "\n",
      "WARNING:py.warnings:/home/sunjiajun/cs231n_project/.env/lib/python3.5/site-packages/moviepy/video/io/ffmpeg_reader.py:132: UserWarning: Warning: in file /home/sunjiajun/cs231n_project/datasets/processed/processed_video535.mp4, 691200 bytes wanted but 0 bytes read,at frame 299/301, at time 9.98/10.01 sec. Using the last valid frame instead.\n",
      "  UserWarning)\n",
      "\n"
     ]
    },
    {
     "name": "stdout",
     "output_type": "stream",
     "text": [
      "video536 url is invalid\n",
      "video537 url is invalid\n",
      "\n",
      "[MoviePy] Running:\n",
      ">>> ffmpeg -y -i /home/sunjiajun/cs231n_project/datasets/videos/video538.mp4 -ss 221.20 -t 10.00 -vcodec copy -acodec copy /home/sunjiajun/cs231n_project/datasets/processed/processed_video538.mp4\n",
      "... command successful.\n",
      "\n",
      "[MoviePy] Running:\n",
      ">>> ffmpeg -y -i /home/sunjiajun/cs231n_project/datasets/videos/video539.mp4 -ss 169.02 -t 10.00 -vcodec copy -acodec copy /home/sunjiajun/cs231n_project/datasets/processed/processed_video539.mp4\n",
      "... command successful.\n",
      "\n",
      "[MoviePy] Running:\n",
      ">>> ffmpeg -y -i /home/sunjiajun/cs231n_project/datasets/videos/video540.mp4 -ss 519.17 -t 10.00 -vcodec copy -acodec copy /home/sunjiajun/cs231n_project/datasets/processed/processed_video540.mp4\n",
      "... command successful.\n",
      "\n",
      "[MoviePy] Running:\n",
      ">>> ffmpeg -y -i /home/sunjiajun/cs231n_project/datasets/videos/video541.mp4 -ss 108.41 -t 10.00 -vcodec copy -acodec copy /home/sunjiajun/cs231n_project/datasets/processed/processed_video541.mp4\n",
      "... command successful.\n",
      "\n",
      "[MoviePy] Running:\n",
      ">>> ffmpeg -y -i /home/sunjiajun/cs231n_project/datasets/videos/video542.mp4 -ss 669.58 -t 10.00 -vcodec copy -acodec copy /home/sunjiajun/cs231n_project/datasets/processed/processed_video542.mp4\n",
      "... command successful.\n"
     ]
    },
    {
     "name": "stderr",
     "output_type": "stream",
     "text": [
      "WARNING:py.warnings:/home/sunjiajun/cs231n_project/.env/lib/python3.5/site-packages/moviepy/video/io/ffmpeg_reader.py:132: UserWarning: Warning: in file /home/sunjiajun/cs231n_project/datasets/processed/processed_video542.mp4, 691200 bytes wanted but 0 bytes read,at frame 150/151, at time 10.01/10.01 sec. Using the last valid frame instead.\n",
      "  UserWarning)\n",
      "\n",
      "WARNING:py.warnings:/home/sunjiajun/cs231n_project/.env/lib/python3.5/site-packages/moviepy/video/io/ffmpeg_reader.py:132: UserWarning: Warning: in file /home/sunjiajun/cs231n_project/datasets/processed/processed_video542.mp4, 691200 bytes wanted but 0 bytes read,at frame 150/151, at time 10.01/10.01 sec. Using the last valid frame instead.\n",
      "  UserWarning)\n",
      "\n"
     ]
    },
    {
     "name": "stdout",
     "output_type": "stream",
     "text": [
      "\n",
      "[MoviePy] Running:\n",
      ">>> ffmpeg -y -i /home/sunjiajun/cs231n_project/datasets/videos/video543.mp4 -ss 167.45 -t 10.00 -vcodec copy -acodec copy /home/sunjiajun/cs231n_project/datasets/processed/processed_video543.mp4\n",
      "... command successful.\n",
      "video544 url is invalid\n",
      "video545 url is invalid\n",
      "\n",
      "[MoviePy] Running:\n",
      ">>> ffmpeg -y -i /home/sunjiajun/cs231n_project/datasets/videos/video546.mp4 -ss 126.13 -t 10.00 -vcodec copy -acodec copy /home/sunjiajun/cs231n_project/datasets/processed/processed_video546.mp4\n",
      "... command successful.\n"
     ]
    },
    {
     "name": "stderr",
     "output_type": "stream",
     "text": [
      "WARNING:py.warnings:/home/sunjiajun/cs231n_project/.env/lib/python3.5/site-packages/moviepy/video/io/ffmpeg_reader.py:132: UserWarning: Warning: in file /home/sunjiajun/cs231n_project/datasets/processed/processed_video546.mp4, 691200 bytes wanted but 0 bytes read,at frame 300/301, at time 10.00/10.01 sec. Using the last valid frame instead.\n",
      "  UserWarning)\n",
      "\n",
      "WARNING:py.warnings:/home/sunjiajun/cs231n_project/.env/lib/python3.5/site-packages/moviepy/video/io/ffmpeg_reader.py:132: UserWarning: Warning: in file /home/sunjiajun/cs231n_project/datasets/processed/processed_video546.mp4, 691200 bytes wanted but 0 bytes read,at frame 300/301, at time 10.00/10.01 sec. Using the last valid frame instead.\n",
      "  UserWarning)\n",
      "\n"
     ]
    },
    {
     "name": "stdout",
     "output_type": "stream",
     "text": [
      "\n",
      "[MoviePy] Running:\n",
      ">>> ffmpeg -y -i /home/sunjiajun/cs231n_project/datasets/videos/video547.mp4 -ss 143.49 -t 10.00 -vcodec copy -acodec copy /home/sunjiajun/cs231n_project/datasets/processed/processed_video547.mp4\n",
      "... command successful.\n",
      "\n",
      "[MoviePy] Running:\n",
      ">>> ffmpeg -y -i /home/sunjiajun/cs231n_project/datasets/videos/video548.mp4 -ss 20.92 -t 10.00 -vcodec copy -acodec copy /home/sunjiajun/cs231n_project/datasets/processed/processed_video548.mp4\n",
      "... command successful.\n",
      "\n",
      "[MoviePy] Running:\n",
      ">>> ffmpeg -y -i /home/sunjiajun/cs231n_project/datasets/videos/video549.mp4 -ss 13.13 -t 10.00 -vcodec copy -acodec copy /home/sunjiajun/cs231n_project/datasets/processed/processed_video549.mp4\n",
      "... command successful.\n",
      "\n",
      "[MoviePy] Running:\n",
      ">>> ffmpeg -y -i /home/sunjiajun/cs231n_project/datasets/videos/video550.mp4 -ss 40.59 -t 10.00 -vcodec copy -acodec copy /home/sunjiajun/cs231n_project/datasets/processed/processed_video550.mp4\n",
      "... command successful.\n"
     ]
    },
    {
     "name": "stderr",
     "output_type": "stream",
     "text": [
      "WARNING:py.warnings:/home/sunjiajun/cs231n_project/.env/lib/python3.5/site-packages/moviepy/video/io/ffmpeg_reader.py:132: UserWarning: Warning: in file /home/sunjiajun/cs231n_project/datasets/processed/processed_video550.mp4, 691200 bytes wanted but 0 bytes read,at frame 239/240, at time 9.97/9.99 sec. Using the last valid frame instead.\n",
      "  UserWarning)\n",
      "\n",
      "WARNING:py.warnings:/home/sunjiajun/cs231n_project/.env/lib/python3.5/site-packages/moviepy/video/io/ffmpeg_reader.py:132: UserWarning: Warning: in file /home/sunjiajun/cs231n_project/datasets/processed/processed_video550.mp4, 691200 bytes wanted but 0 bytes read,at frame 239/240, at time 9.97/9.99 sec. Using the last valid frame instead.\n",
      "  UserWarning)\n",
      "\n"
     ]
    },
    {
     "name": "stdout",
     "output_type": "stream",
     "text": [
      "\n",
      "[MoviePy] Running:\n",
      ">>> ffmpeg -y -i /home/sunjiajun/cs231n_project/datasets/videos/video551.mp4 -ss 73.29 -t 10.00 -vcodec copy -acodec copy /home/sunjiajun/cs231n_project/datasets/processed/processed_video551.mp4\n",
      "... command successful.\n"
     ]
    },
    {
     "name": "stderr",
     "output_type": "stream",
     "text": [
      "WARNING:py.warnings:/home/sunjiajun/cs231n_project/.env/lib/python3.5/site-packages/moviepy/video/io/ffmpeg_reader.py:132: UserWarning: Warning: in file /home/sunjiajun/cs231n_project/datasets/processed/processed_video551.mp4, 691200 bytes wanted but 0 bytes read,at frame 239/241, at time 9.97/10.01 sec. Using the last valid frame instead.\n",
      "  UserWarning)\n",
      "\n",
      "WARNING:py.warnings:/home/sunjiajun/cs231n_project/.env/lib/python3.5/site-packages/moviepy/video/io/ffmpeg_reader.py:132: UserWarning: Warning: in file /home/sunjiajun/cs231n_project/datasets/processed/processed_video551.mp4, 691200 bytes wanted but 0 bytes read,at frame 239/241, at time 9.97/10.01 sec. Using the last valid frame instead.\n",
      "  UserWarning)\n",
      "\n"
     ]
    },
    {
     "name": "stdout",
     "output_type": "stream",
     "text": [
      "\n",
      "[MoviePy] Running:\n",
      ">>> ffmpeg -y -i /home/sunjiajun/cs231n_project/datasets/videos/video552.mp4 -ss 666.42 -t 10.00 -vcodec copy -acodec copy /home/sunjiajun/cs231n_project/datasets/processed/processed_video552.mp4\n",
      "... command successful.\n",
      "\n",
      "[MoviePy] Running:\n",
      ">>> ffmpeg -y -i /home/sunjiajun/cs231n_project/datasets/videos/video553.mp4 -ss 232.28 -t 10.00 -vcodec copy -acodec copy /home/sunjiajun/cs231n_project/datasets/processed/processed_video553.mp4\n",
      "... command successful.\n"
     ]
    },
    {
     "name": "stderr",
     "output_type": "stream",
     "text": [
      "WARNING:py.warnings:/home/sunjiajun/cs231n_project/.env/lib/python3.5/site-packages/moviepy/video/io/ffmpeg_reader.py:132: UserWarning: Warning: in file /home/sunjiajun/cs231n_project/datasets/processed/processed_video553.mp4, 691200 bytes wanted but 0 bytes read,at frame 250/251, at time 10.00/10.01 sec. Using the last valid frame instead.\n",
      "  UserWarning)\n",
      "\n",
      "WARNING:py.warnings:/home/sunjiajun/cs231n_project/.env/lib/python3.5/site-packages/moviepy/video/io/ffmpeg_reader.py:132: UserWarning: Warning: in file /home/sunjiajun/cs231n_project/datasets/processed/processed_video553.mp4, 691200 bytes wanted but 0 bytes read,at frame 250/251, at time 10.00/10.01 sec. Using the last valid frame instead.\n",
      "  UserWarning)\n",
      "\n"
     ]
    },
    {
     "name": "stdout",
     "output_type": "stream",
     "text": [
      "\n",
      "[MoviePy] Running:\n",
      ">>> ffmpeg -y -i /home/sunjiajun/cs231n_project/datasets/videos/video554.mp4 -ss 106.77 -t 10.00 -vcodec copy -acodec copy /home/sunjiajun/cs231n_project/datasets/processed/processed_video554.mp4\n",
      "... command successful.\n",
      "\n",
      "[MoviePy] Running:\n",
      ">>> ffmpeg -y -i /home/sunjiajun/cs231n_project/datasets/videos/video555.mp4 -ss 0.00 -t 10.00 -vcodec copy -acodec copy /home/sunjiajun/cs231n_project/datasets/processed/processed_video555.mp4\n",
      "... command successful.\n"
     ]
    },
    {
     "name": "stderr",
     "output_type": "stream",
     "text": [
      "WARNING:py.warnings:/home/sunjiajun/cs231n_project/.env/lib/python3.5/site-packages/moviepy/video/io/ffmpeg_reader.py:132: UserWarning: Warning: in file /home/sunjiajun/cs231n_project/datasets/processed/processed_video555.mp4, 691200 bytes wanted but 0 bytes read,at frame 250/251, at time 10.00/10.01 sec. Using the last valid frame instead.\n",
      "  UserWarning)\n",
      "\n",
      "WARNING:py.warnings:/home/sunjiajun/cs231n_project/.env/lib/python3.5/site-packages/moviepy/video/io/ffmpeg_reader.py:132: UserWarning: Warning: in file /home/sunjiajun/cs231n_project/datasets/processed/processed_video555.mp4, 691200 bytes wanted but 0 bytes read,at frame 250/251, at time 10.00/10.01 sec. Using the last valid frame instead.\n",
      "  UserWarning)\n",
      "\n"
     ]
    },
    {
     "name": "stdout",
     "output_type": "stream",
     "text": [
      "\n",
      "[MoviePy] Running:\n",
      ">>> ffmpeg -y -i /home/sunjiajun/cs231n_project/datasets/videos/video556.mp4 -ss 722.01 -t 10.00 -vcodec copy -acodec copy /home/sunjiajun/cs231n_project/datasets/processed/processed_video556.mp4\n",
      "... command successful.\n"
     ]
    },
    {
     "name": "stderr",
     "output_type": "stream",
     "text": [
      "WARNING:py.warnings:/home/sunjiajun/cs231n_project/.env/lib/python3.5/site-packages/moviepy/video/io/ffmpeg_reader.py:132: UserWarning: Warning: in file /home/sunjiajun/cs231n_project/datasets/processed/processed_video556.mp4, 691200 bytes wanted but 0 bytes read,at frame 300/301, at time 10.00/10.01 sec. Using the last valid frame instead.\n",
      "  UserWarning)\n",
      "\n",
      "WARNING:py.warnings:/home/sunjiajun/cs231n_project/.env/lib/python3.5/site-packages/moviepy/video/io/ffmpeg_reader.py:132: UserWarning: Warning: in file /home/sunjiajun/cs231n_project/datasets/processed/processed_video556.mp4, 691200 bytes wanted but 0 bytes read,at frame 300/301, at time 10.00/10.01 sec. Using the last valid frame instead.\n",
      "  UserWarning)\n",
      "\n"
     ]
    },
    {
     "name": "stdout",
     "output_type": "stream",
     "text": [
      "\n",
      "[MoviePy] Running:\n",
      ">>> ffmpeg -y -i /home/sunjiajun/cs231n_project/datasets/videos/video557.mp4 -ss 104.48 -t 10.00 -vcodec copy -acodec copy /home/sunjiajun/cs231n_project/datasets/processed/processed_video557.mp4\n",
      "... command successful.\n"
     ]
    },
    {
     "name": "stderr",
     "output_type": "stream",
     "text": [
      "WARNING:py.warnings:/home/sunjiajun/cs231n_project/.env/lib/python3.5/site-packages/moviepy/video/io/ffmpeg_reader.py:132: UserWarning: Warning: in file /home/sunjiajun/cs231n_project/datasets/processed/processed_video557.mp4, 691200 bytes wanted but 0 bytes read,at frame 300/301, at time 10.00/10.01 sec. Using the last valid frame instead.\n",
      "  UserWarning)\n",
      "\n",
      "WARNING:py.warnings:/home/sunjiajun/cs231n_project/.env/lib/python3.5/site-packages/moviepy/video/io/ffmpeg_reader.py:132: UserWarning: Warning: in file /home/sunjiajun/cs231n_project/datasets/processed/processed_video557.mp4, 691200 bytes wanted but 0 bytes read,at frame 300/301, at time 10.00/10.01 sec. Using the last valid frame instead.\n",
      "  UserWarning)\n",
      "\n"
     ]
    },
    {
     "name": "stdout",
     "output_type": "stream",
     "text": [
      "\n",
      "[MoviePy] Running:\n",
      ">>> ffmpeg -y -i /home/sunjiajun/cs231n_project/datasets/videos/video558.mp4 -ss 657.37 -t 10.00 -vcodec copy -acodec copy /home/sunjiajun/cs231n_project/datasets/processed/processed_video558.mp4\n",
      "... command successful.\n",
      "\n",
      "[MoviePy] Running:\n",
      ">>> ffmpeg -y -i /home/sunjiajun/cs231n_project/datasets/videos/video559.mp4 -ss 150.73 -t 10.00 -vcodec copy -acodec copy /home/sunjiajun/cs231n_project/datasets/processed/processed_video559.mp4\n",
      "... command successful.\n",
      "\n",
      "[MoviePy] Running:\n",
      ">>> ffmpeg -y -i /home/sunjiajun/cs231n_project/datasets/videos/video560.mp4 -ss 29.90 -t 10.00 -vcodec copy -acodec copy /home/sunjiajun/cs231n_project/datasets/processed/processed_video560.mp4\n",
      "... command successful.\n"
     ]
    },
    {
     "name": "stderr",
     "output_type": "stream",
     "text": [
      "WARNING:py.warnings:/home/sunjiajun/cs231n_project/.env/lib/python3.5/site-packages/moviepy/video/io/ffmpeg_reader.py:132: UserWarning: Warning: in file /home/sunjiajun/cs231n_project/datasets/processed/processed_video560.mp4, 230400 bytes wanted but 0 bytes read,at frame 200/201, at time 10.00/10.01 sec. Using the last valid frame instead.\n",
      "  UserWarning)\n",
      "\n",
      "WARNING:py.warnings:/home/sunjiajun/cs231n_project/.env/lib/python3.5/site-packages/moviepy/video/io/ffmpeg_reader.py:132: UserWarning: Warning: in file /home/sunjiajun/cs231n_project/datasets/processed/processed_video560.mp4, 230400 bytes wanted but 0 bytes read,at frame 200/201, at time 10.00/10.01 sec. Using the last valid frame instead.\n",
      "  UserWarning)\n",
      "\n"
     ]
    },
    {
     "name": "stdout",
     "output_type": "stream",
     "text": [
      "\n",
      "[MoviePy] Running:\n",
      ">>> ffmpeg -y -i /home/sunjiajun/cs231n_project/datasets/videos/video561.mp4 -ss 81.43 -t 10.00 -vcodec copy -acodec copy /home/sunjiajun/cs231n_project/datasets/processed/processed_video561.mp4\n",
      "... command successful.\n",
      "\n",
      "[MoviePy] Running:\n",
      ">>> ffmpeg -y -i /home/sunjiajun/cs231n_project/datasets/videos/video562.mp4 -ss 601.69 -t 10.00 -vcodec copy -acodec copy /home/sunjiajun/cs231n_project/datasets/processed/processed_video562.mp4\n",
      "... command successful.\n",
      "\n",
      "[MoviePy] Running:\n",
      ">>> ffmpeg -y -i /home/sunjiajun/cs231n_project/datasets/videos/video563.mp4 -ss 101.94 -t 10.00 -vcodec copy -acodec copy /home/sunjiajun/cs231n_project/datasets/processed/processed_video563.mp4\n",
      "... command successful.\n"
     ]
    },
    {
     "name": "stderr",
     "output_type": "stream",
     "text": [
      "WARNING:py.warnings:/home/sunjiajun/cs231n_project/.env/lib/python3.5/site-packages/moviepy/video/io/ffmpeg_reader.py:132: UserWarning: Warning: in file /home/sunjiajun/cs231n_project/datasets/processed/processed_video563.mp4, 691200 bytes wanted but 0 bytes read,at frame 239/240, at time 9.97/9.99 sec. Using the last valid frame instead.\n",
      "  UserWarning)\n",
      "\n",
      "WARNING:py.warnings:/home/sunjiajun/cs231n_project/.env/lib/python3.5/site-packages/moviepy/video/io/ffmpeg_reader.py:132: UserWarning: Warning: in file /home/sunjiajun/cs231n_project/datasets/processed/processed_video563.mp4, 691200 bytes wanted but 0 bytes read,at frame 239/240, at time 9.97/9.99 sec. Using the last valid frame instead.\n",
      "  UserWarning)\n",
      "\n"
     ]
    },
    {
     "name": "stdout",
     "output_type": "stream",
     "text": [
      "\n",
      "[MoviePy] Running:\n",
      ">>> ffmpeg -y -i /home/sunjiajun/cs231n_project/datasets/videos/video564.mp4 -ss 789.29 -t 10.00 -vcodec copy -acodec copy /home/sunjiajun/cs231n_project/datasets/processed/processed_video564.mp4\n",
      "... command successful.\n",
      "Finish preprocess all videos\n",
      "Process time 0:09:42.413916\n"
     ]
    }
   ],
   "source": [
    "tic = datetime.now()\n",
    "d.preprocess()\n",
    "toc = datetime.now()\n",
    "print('Process time {0}'.format(toc-tic))"
   ]
  },
  {
   "cell_type": "code",
   "execution_count": 15,
   "metadata": {
    "collapsed": false
   },
   "outputs": [
    {
     "name": "stdout",
     "output_type": "stream",
     "text": [
      "Feature fusion time:  0:02:43.906579\n"
     ]
    }
   ],
   "source": [
    "# model\n",
    "model = video_classification()\n",
    "curr_path = os.getcwd()\n",
    "frame_dir = curr_path + '/datasets/frames'\n",
    "num_videos = 500\n",
    "tic = datetime.now()\n",
    "features = model.load_features(frame_dir, num_videos)\n",
    "toc = datetime.now()\n",
    "print('Feature fusion time: ', toc-tic)"
   ]
  },
  {
   "cell_type": "code",
   "execution_count": 16,
   "metadata": {
    "collapsed": false
   },
   "outputs": [
    {
     "name": "stdout",
     "output_type": "stream",
     "text": [
      "(500,)\n",
      "(500, 10, 7, 7, 512)\n",
      "[ 9 16  9  8 14 13 13 17  3  5  6 13  7  3  7 12  2  1  3 19  3 16 10  9  6\n",
      "  0  3  3  4  3 19 18 16 10 18 14 13  6  4  9  0  3  3 10  0  3 19 13 14  2\n",
      "  7  0 14 12 18  3 10 18  3  9 14  0 16  6  8  4  2 17 17  6 12 12  7  3  7\n",
      " 18  9  8 16 17 13 13  3  1 10  0 18  3 12  7 12 16  7  0 11 17  8  7  4 11\n",
      "  4  3  9  4 12  0  9  3 16 14  9 18  0 10  7 18 14 11  3 12  2 13  9  7  7\n",
      " 10  9  7 17  2  9  3  7 16  7  3  3 13 13  6 14  6  3 13  7  7 11 12  9 19\n",
      " 16 14  7  5 19 13  7  2 11  3 13  0 13  2 12  9 10 17 18 13 13 12  7  2 13\n",
      " 16 15  3  1  0 10 10 18 12 14  4 16  7  8 12  6  1 16  7  2 16  1  0  2  9\n",
      "  5  2  4 17  4  5  0  4 14  4 13  7  9 11  7  7  3 12  6  9  3 17  3  9  2\n",
      " 19 10  9  3  4  2 14  3 12  3 17  2 12  3  7  4 16 10  4  3  5  3 14  7 13\n",
      "  5  5 16  8  3  8  7 12  2  3 17  2 12  9 17 18 14 12 13  3 14 13  9 16  2\n",
      "  7 13  9  7 18 16 19 16 18  2 16  4  0  0 13  1  0 14  7  7 12 15 12 11  6\n",
      "  3  0  3  0  7  3 16  9  2 10  0 14  1  7 14 13  0  7  9 14  7  4 17  3  5\n",
      " 10 18 14  8  9  1 14  4  3  0 13  4  6  0 19  8  9  5  0 13  7  7  7  3  7\n",
      "  2  2 13 16  3  7  8  9  7  2 18 10  9 16 16  6  3  0 16  3 14 16  6 14  7\n",
      " 18  0  7  7 13  4  2  4 16 16  7  0 16 17 10  4  0 12 17 17  4 10  1  9 13\n",
      "  7  9  4  5 12 13  6 17  9  9 10 13  7 12 13  2  8  0  4 12  9 14  3 16 16\n",
      "  2  3 14  0 17 10 11  9  3 13  7  3  8 10  7 12  8  9  3 17  9  4 13  3  9\n",
      "  9  2  0  1  3  2  7  0 19  6 12  3  3  7 18  1  9 10 13  3 14 17 11  3 17\n",
      "  9 11  6  9 19 11 16 13 13  4  7 13  4  5 17  4  2  2 17 10  9 13  9 13 14]\n"
     ]
    }
   ],
   "source": [
    "# check\n",
    "import numpy as np\n",
    "y = np.load(curr_path+'/datasets/category.npy')\n",
    "y = y[:num_videos]\n",
    "print(y.shape)\n",
    "print(features.shape)\n",
    "print(y)"
   ]
  },
  {
   "cell_type": "code",
   "execution_count": 24,
   "metadata": {
    "collapsed": false
   },
   "outputs": [
    {
     "name": "stdout",
     "output_type": "stream",
     "text": [
      "Model is Training...\n",
      "dict_keys(['loss', 'val_loss', 'val_acc', 'acc'])\n"
     ]
    },
    {
     "data": {
      "image/png": "[encoded data removed]",
      "text/plain": [
       "<matplotlib.figure.Figure at 0x7f4a33c1bc18>"
      ]
     },
     "metadata": {},
     "output_type": "display_data"
    }
   ],
   "source": [
    "import matplotlib.pyplot as plt\n",
    "%matplotlib inline\n",
    "hist = model.train(features, y, lr = 1e-3)\n",
    "print(hist.history.keys())\n",
    "\n",
    "# summarize history for accuracy\n",
    "plt.subplot(121)\n",
    "plt.plot(hist.history['loss'])\n",
    "plt.plot(hist.history['val_loss'])\n",
    "plt.title('model loss')\n",
    "plt.ylabel('loss')\n",
    "plt.xlabel('epoch')\n",
    "plt.legend(['train', 'validation'], loc='upper left')\n",
    "plt.subplot(122)\n",
    "plt.plot(hist.history['acc'])\n",
    "plt.plot(hist.history['val_acc'])\n",
    "plt.title('model acc')\n",
    "plt.ylabel('accuracy')\n",
    "plt.xlabel('epoch')\n",
    "plt.legend(['train', 'validation'], loc='upper left')\n",
    "plt.show()"
   ]
  },
  {
   "cell_type": "code",
   "execution_count": 25,
   "metadata": {
    "collapsed": false
   },
   "outputs": [
    {
     "name": "stdout",
     "output_type": "stream",
     "text": [
      "Video Classification Accuracy: 0.104\n"
     ]
    }
   ],
   "source": [
    "model.predict(features, y)"
   ]
  },
  {
   "cell_type": "code",
   "execution_count": 11,
   "metadata": {
    "collapsed": false
   },
   "outputs": [
    {
     "name": "stdout",
     "output_type": "stream",
     "text": [
      "dict_keys(['val_loss', 'val_acc', 'loss', 'acc'])\n"
     ]
    },
    {
     "data": {
      "image/png": "[encoded data removed]",
      "text/plain": [
       "<matplotlib.figure.Figure at 0x7fa83106bf60>"
      ]
     },
     "metadata": {},
     "output_type": "display_data"
    }
   ],
   "source": [
    "# test model train example\n",
    "\n",
    "from keras.models import Sequential\n",
    "from keras.layers import Dense, Activation\n",
    "import matplotlib.pyplot as plt\n",
    "%matplotlib inline\n",
    "\n",
    "m = Sequential()\n",
    "m.add(Dense(32, activation='relu', input_dim=100))\n",
    "m.add(Dense(1, activation='sigmoid'))\n",
    "m.compile(optimizer='rmsprop',\n",
    "              loss='binary_crossentropy',\n",
    "              metrics=['accuracy'])\n",
    "\n",
    "# Generate dummy data\n",
    "import numpy as np\n",
    "data = np.random.random((1000, 100))\n",
    "labels = np.random.randint(2, size=(1000, 1))\n",
    "\n",
    "# Train the model, iterating on the data in batches of 32 samples\n",
    "history = m.fit(data, labels, epochs=150, batch_size=32, validation_split = 0.2, verbose = 0)\n",
    "# list all data in history\n",
    "print(history.history.keys())\n",
    "# summarize history for accuracy\n",
    "plt.plot(history.history['acc'])\n",
    "plt.plot(history.history['val_acc'])\n",
    "plt.title('model accuracy')\n",
    "plt.ylabel('accuracy')\n",
    "plt.xlabel('epoch')\n",
    "plt.legend(['train', 'test'], loc='upper left')\n",
    "plt.show()"
   ]
  },
  {
   "cell_type": "code",
   "execution_count": 11,
   "metadata": {
    "collapsed": false
   },
   "outputs": [],
   "source": [
    "from keras.utils import to_categorical"
   ]
  },
  {
   "cell_type": "code",
   "execution_count": null,
   "metadata": {
    "collapsed": true
   },
   "outputs": [],
   "source": []
  }
 ],
 "metadata": {
  "kernelspec": {
   "display_name": "Python 3",
   "language": "python",
   "name": "python3"
  },
  "language_info": {
   "codemirror_mode": {
    "name": "ipython",
    "version": 3
   },
   "file_extension": ".py",
   "mimetype": "text/x-python",
   "name": "python",
   "nbconvert_exporter": "python",
   "pygments_lexer": "ipython3",
   "version": "3.5.2"
  }
 },
 "nbformat": 4,
 "nbformat_minor": 0
}
