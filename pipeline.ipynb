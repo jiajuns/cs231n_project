{
 "cells": [
  {
   "cell_type": "markdown",
   "metadata": {},
   "source": [
    "## Data load and preprocess"
   ]
  },
  {
   "cell_type": "code",
   "execution_count": 42,
   "metadata": {
    "collapsed": false
   },
   "outputs": [
    {
     "name": "stdout",
     "output_type": "stream",
     "text": [
      "The autoreload extension is already loaded. To reload it, use:\n",
      "  %reload_ext autoreload\n"
     ]
    }
   ],
   "source": [
    "# !usr/env/python in .env\n",
    "from load_data import Download_Video\n",
    "from datetime import datetime\n",
    "import os\n",
    "import logging\n",
    "import numpy as np\n",
    "from collections import Counter\n",
    "import matplotlib.pyplot as plt\n",
    "\n",
    "%load_ext autoreload\n",
    "%autoreload 2\n",
    "%matplotlib inline\n",
    "\n",
    "plt.rcParams['figure.figsize'] = (10.0, 8.0) # set default size of plots\n",
    "plt.rcParams['image.interpolation'] = 'nearest'\n",
    "plt.rcParams['image.cmap'] = 'gray'"
   ]
  },
  {
   "cell_type": "code",
   "execution_count": null,
   "metadata": {
    "collapsed": true
   },
   "outputs": [],
   "source": [
    "# load data\n",
    "video_num = 10000 # originally, 10000 urls\n",
    "frame_count = 10\n",
    "video_time = 10\n",
    "d = Download_Video(video_num, frame_count, video_time)\n",
    "tic = datetime.now()\n",
    "d.download_organizer()\n",
    "toc = datetime.now()\n",
    "print('Download time {0}'.format(toc-tic))"
   ]
  },
  {
   "cell_type": "code",
   "execution_count": 44,
   "metadata": {
    "collapsed": true
   },
   "outputs": [],
   "source": [
    "# process data\n",
    "video_num = 10000\n",
    "frame_count = 10\n",
    "video_time = 10\n",
    "d = Download_Video(video_num, frame_count, video_time)\n",
    "tic = datetime.now()\n",
    "d.preprocess_organizer()\n",
    "toc = datetime.now()\n",
    "print('Process time {0}'.format(toc-tic))"
   ]
  },
  {
   "cell_type": "code",
   "execution_count": 45,
   "metadata": {
    "collapsed": false
   },
   "outputs": [
    {
     "name": "stdout",
     "output_type": "stream",
     "text": [
      "Total number of videos: 8633\n",
      "There exists invalid video url!\n"
     ]
    }
   ],
   "source": [
    "# data check\n",
    "curr = os.getcwd() + '/datasets/category.npy'\n",
    "y = np.load(curr)\n",
    "print('Total number of videos: {0}'.format(y.shape[0]))\n",
    "if y.shape[0] < video_num:\n",
    "    print ('There exists invalid video url!')"
   ]
  },
  {
   "cell_type": "code",
   "execution_count": 43,
   "metadata": {
    "collapsed": false
   },
   "outputs": [
    {
     "name": "stdout",
     "output_type": "stream",
     "text": [
      "Average Video Count: 431.65\n"
     ]
    },
    {
     "data": {
      "text/plain": [
       "<matplotlib.text.Text at 0x7fab4bfec940>"
      ]
     },
     "execution_count": 43,
     "metadata": {},
     "output_type": "execute_result"
    },
    {
     "data": {
      "image/png": "[encoded data removed]",
      "text/plain": [
       "<matplotlib.figure.Figure at 0x7fab4be87d68>"
      ]
     },
     "metadata": {},
     "output_type": "display_data"
    }
   ],
   "source": [
    "# classes balance check\n",
    "categories = y[:, 1]\n",
    "video_dic = Counter(categories)\n",
    "video_dic = {int(key): value for key, value in video_dic.items()}\n",
    "cat = list(video_dic.keys())\n",
    "cat_count = list(video_dic.values())\n",
    "print('Average Video Count: {0}'.format(sum(cat_count) / float(len(cat_count))))\n",
    "\n",
    "# plotting\n",
    "plt.bar(cat, cat_count, align='center',color='blue', alpha=0.5)\n",
    "plt.grid()\n",
    "plt.xlabel('Video Category', fontsize = 13)\n",
    "plt.ylabel('Video Count', fontsize = 13)\n",
    "plt.title('Video Category Distribution', fontsize = 15)"
   ]
  },
  {
   "cell_type": "code",
   "execution_count": null,
   "metadata": {
    "collapsed": true
   },
   "outputs": [],
   "source": [
    "# balance data"
   ]
  },
  {
   "cell_type": "markdown",
   "metadata": {},
   "source": [
    "## Video classification model"
   ]
  },
  {
   "cell_type": "markdown",
   "metadata": {},
   "source": [
    "### pretrained vgg16 and 3D temporal max pooling"
   ]
  },
  {
   "cell_type": "code",
   "execution_count": 1,
   "metadata": {
    "collapsed": false
   },
   "outputs": [
    {
     "name": "stderr",
     "output_type": "stream",
     "text": [
      "Using TensorFlow backend.\n"
     ]
    }
   ],
   "source": [
    "# !usr/env python 3.5 in .env\n",
    "from pretrained_model import video_classification\n",
    "from datetime import datetime\n",
    "import os\n",
    "import h5py\n",
    "import sys\n",
    "import numpy as np\n",
    "import matplotlib.pyplot as plt\n",
    "from keras import optimizers\n",
    "import random\n",
    "\n",
    "%matplotlib inline\n",
    "%load_ext autoreload\n",
    "%autoreload 2"
   ]
  },
  {
   "cell_type": "code",
   "execution_count": 2,
   "metadata": {
    "collapsed": false
   },
   "outputs": [
    {
     "name": "stdout",
     "output_type": "stream",
     "text": [
      "Training sets size: 4270\n",
      "Test sets size: 1830\n",
      "Xtrain index shape:  (4270,)\n",
      "ytrain shape:  (4270,)\n",
      "Xtest index shape:  (1830,)\n",
      "ytest shape:  (1830,)\n"
     ]
    }
   ],
   "source": [
    "npy_path = os.getcwd() + '/datasets/'\n",
    "Xtr_ind = np.load(npy_path + 'x_train_ind_above400.npy')\n",
    "Xte_ind = np.load(npy_path + 'x_test_ind_above400.npy')\n",
    "ytr = np.load(npy_path + 'y_train_mapped_above400.npy')\n",
    "yte = np.load(npy_path + 'y_test_mapped_above400.npy')\n",
    "\n",
    "assert len(Xtr_ind) == len(ytr)\n",
    "assert len(Xte_ind) == len(yte)\n",
    "\n",
    "print('Training sets size: {0}'.format(len(Xtr_ind)))\n",
    "print('Test sets size: {0}'.format(len(Xte_ind)))\n",
    "print('Xtrain index shape: ', Xtr_ind.shape)\n",
    "print('ytrain shape: ', ytr.shape)\n",
    "print('Xtest index shape: ', Xte_ind.shape)\n",
    "print('ytest shape: ', yte.shape)"
   ]
  },
  {
   "cell_type": "code",
   "execution_count": 3,
   "metadata": {
    "collapsed": false
   },
   "outputs": [
    {
     "name": "stderr",
     "output_type": "stream",
     "text": [
      "100%|██████████| 4270/4270 [24:46<00:00,  2.91it/s]"
     ]
    },
    {
     "name": "stdout",
     "output_type": "stream",
     "text": [
      "Feature fusion time:  0:24:46.187513\n"
     ]
    },
    {
     "name": "stderr",
     "output_type": "stream",
     "text": [
      "\n"
     ]
    }
   ],
   "source": [
    "# model\n",
    "\n",
    "curr_path = os.getcwd()\n",
    "frame_dir = curr_path + '/datasets/frames'\n",
    "\n",
    "# set test video num\n",
    "num_videos = 1000\n",
    "\n",
    "# fuse features\n",
    "model = video_classification()\n",
    "tic = datetime.now()\n",
    "# features = model.load_features(frame_dir, num_videos)\n",
    "features = model.load_features_update(Xtr_ind, ytr)\n",
    "toc = datetime.now()\n",
    "print('Feature fusion time: ', toc-tic)"
   ]
  },
  {
   "cell_type": "code",
   "execution_count": 3,
   "metadata": {
    "collapsed": false
   },
   "outputs": [],
   "source": [
    "# save features\n",
    "np.save(os.getcwd() + '/datasets/pretrained_fuse_features.npy', features)"
   ]
  },
  {
   "cell_type": "code",
   "execution_count": 3,
   "metadata": {
    "collapsed": false
   },
   "outputs": [
    {
     "name": "stdout",
     "output_type": "stream",
     "text": [
      "Xtrain shape:  (4270, 10, 7, 7, 512)\n"
     ]
    }
   ],
   "source": [
    "# train model\n",
    "Xtr = np.load(os.getcwd() + '/datasets/pretrained_fuse_features.npy')\n",
    "print('Xtrain shape: ', Xtr.shape)"
   ]
  },
  {
   "cell_type": "code",
   "execution_count": 4,
   "metadata": {
    "collapsed": false
   },
   "outputs": [
    {
     "name": "stdout",
     "output_type": "stream",
     "text": [
      "Model is Training...\n",
      "Train on 3416 samples, validate on 854 samples\n",
      "Epoch 1/40\n",
      "3416/3416 [==============================] - 17s - loss: 11.8616 - acc: 0.2518 - val_loss: 9.8844 - val_acc: 0.3806\n",
      "Epoch 2/40\n",
      "3416/3416 [==============================] - 15s - loss: 9.3722 - acc: 0.4245 - val_loss: 9.0388 - val_acc: 0.4485\n",
      "Epoch 3/40\n",
      "3416/3416 [==============================] - 15s - loss: 8.5143 - acc: 0.4725 - val_loss: 8.8818 - val_acc: 0.4567\n",
      "Epoch 4/40\n",
      "3416/3416 [==============================] - 15s - loss: 7.6221 - acc: 0.5354 - val_loss: 8.1793 - val_acc: 0.4883\n",
      "Epoch 5/40\n",
      "3416/3416 [==============================] - 15s - loss: 7.1757 - acc: 0.5621 - val_loss: 8.6433 - val_acc: 0.4625\n",
      "Epoch 6/40\n",
      "3416/3416 [==============================] - 15s - loss: 6.6311 - acc: 0.5987 - val_loss: 8.0193 - val_acc: 0.5176\n",
      "Epoch 7/40\n",
      "3416/3416 [==============================] - 15s - loss: 6.2920 - acc: 0.6247 - val_loss: 7.9483 - val_acc: 0.5094\n",
      "Epoch 8/40\n",
      "3416/3416 [==============================] - 15s - loss: 6.0189 - acc: 0.6461 - val_loss: 7.7025 - val_acc: 0.5304\n",
      "Epoch 9/40\n",
      "3416/3416 [==============================] - 15s - loss: 5.7752 - acc: 0.6651 - val_loss: 7.7495 - val_acc: 0.5246\n",
      "Epoch 10/40\n",
      "3416/3416 [==============================] - 15s - loss: 5.6045 - acc: 0.6797 - val_loss: 7.6389 - val_acc: 0.5246\n",
      "Epoch 11/40\n",
      "3416/3416 [==============================] - 15s - loss: 5.5163 - acc: 0.6827 - val_loss: 7.5381 - val_acc: 0.5258\n",
      "Epoch 12/40\n",
      "3416/3416 [==============================] - 15s - loss: 5.3946 - acc: 0.6932 - val_loss: 7.7569 - val_acc: 0.5293\n",
      "Epoch 13/40\n",
      "3416/3416 [==============================] - 15s - loss: 5.2935 - acc: 0.7002 - val_loss: 7.7103 - val_acc: 0.5269\n",
      "Epoch 14/40\n",
      "3416/3416 [==============================] - 15s - loss: 5.1646 - acc: 0.7111 - val_loss: 7.6132 - val_acc: 0.5351\n",
      "Epoch 15/40\n",
      "3416/3416 [==============================] - 15s - loss: 5.1304 - acc: 0.7128 - val_loss: 7.5767 - val_acc: 0.5398\n",
      "Epoch 16/40\n",
      "3416/3416 [==============================] - 15s - loss: 5.0032 - acc: 0.7225 - val_loss: 7.5844 - val_acc: 0.5398\n",
      "Epoch 17/40\n",
      "3416/3416 [==============================] - 15s - loss: 4.9583 - acc: 0.7263 - val_loss: 7.5212 - val_acc: 0.5363\n",
      "Epoch 18/40\n",
      "3416/3416 [==============================] - 15s - loss: 4.9591 - acc: 0.7242 - val_loss: 7.4801 - val_acc: 0.5468\n",
      "Epoch 19/40\n",
      "3416/3416 [==============================] - 15s - loss: 4.8783 - acc: 0.7324 - val_loss: 7.4630 - val_acc: 0.5433\n",
      "Epoch 20/40\n",
      "3416/3416 [==============================] - 15s - loss: 4.8491 - acc: 0.7359 - val_loss: 7.4574 - val_acc: 0.5504\n",
      "Epoch 21/40\n",
      "3416/3416 [==============================] - 15s - loss: 4.8388 - acc: 0.7377 - val_loss: 7.5115 - val_acc: 0.5410\n",
      "Epoch 22/40\n",
      "3416/3416 [==============================] - 15s - loss: 4.8170 - acc: 0.7400 - val_loss: 7.5079 - val_acc: 0.5386\n",
      "Epoch 23/40\n",
      "3416/3416 [==============================] - 15s - loss: 4.8145 - acc: 0.7406 - val_loss: 7.5001 - val_acc: 0.5375\n",
      "Epoch 24/40\n",
      "3416/3416 [==============================] - 15s - loss: 4.8145 - acc: 0.7406 - val_loss: 7.4992 - val_acc: 0.5363\n",
      "Epoch 25/40\n",
      "3416/3416 [==============================] - 15s - loss: 4.8145 - acc: 0.7406 - val_loss: 7.4986 - val_acc: 0.5363\n",
      "Epoch 26/40\n",
      "3416/3416 [==============================] - 15s - loss: 4.8145 - acc: 0.7406 - val_loss: 7.4980 - val_acc: 0.5375\n",
      "Epoch 27/40\n",
      "3416/3416 [==============================] - 15s - loss: 4.8145 - acc: 0.7406 - val_loss: 7.4976 - val_acc: 0.5386\n",
      "Epoch 28/40\n",
      "3416/3416 [==============================] - 15s - loss: 4.8145 - acc: 0.7406 - val_loss: 7.4972 - val_acc: 0.5386\n",
      "Epoch 29/40\n",
      "3416/3416 [==============================] - 15s - loss: 4.8145 - acc: 0.7406 - val_loss: 7.4969 - val_acc: 0.5386\n",
      "Epoch 30/40\n",
      "3416/3416 [==============================] - 15s - loss: 4.8145 - acc: 0.7406 - val_loss: 7.4966 - val_acc: 0.5386\n",
      "Epoch 31/40\n",
      "3416/3416 [==============================] - 15s - loss: 4.8145 - acc: 0.7406 - val_loss: 7.4964 - val_acc: 0.5386\n",
      "Epoch 32/40\n",
      "3416/3416 [==============================] - 15s - loss: 4.8145 - acc: 0.7406 - val_loss: 7.4961 - val_acc: 0.5386\n",
      "Epoch 33/40\n",
      "3416/3416 [==============================] - 15s - loss: 4.8145 - acc: 0.7406 - val_loss: 7.4959 - val_acc: 0.5386\n",
      "Epoch 34/40\n",
      "3416/3416 [==============================] - 15s - loss: 4.8145 - acc: 0.7406 - val_loss: 7.4957 - val_acc: 0.5386\n",
      "Epoch 35/40\n",
      "3416/3416 [==============================] - 15s - loss: 4.8145 - acc: 0.7406 - val_loss: 7.4955 - val_acc: 0.5386\n",
      "Epoch 36/40\n",
      "3416/3416 [==============================] - 15s - loss: 4.8145 - acc: 0.7406 - val_loss: 7.4954 - val_acc: 0.5386\n",
      "Epoch 37/40\n",
      "3416/3416 [==============================] - 15s - loss: 4.8145 - acc: 0.7406 - val_loss: 7.4952 - val_acc: 0.5386\n",
      "Epoch 38/40\n",
      "3416/3416 [==============================] - 14s - loss: 4.8145 - acc: 0.7406 - val_loss: 7.4951 - val_acc: 0.5386\n",
      "Epoch 39/40\n",
      "3416/3416 [==============================] - 15s - loss: 4.8145 - acc: 0.7406 - val_loss: 7.4950 - val_acc: 0.5386\n",
      "Epoch 40/40\n",
      "3416/3416 [==============================] - 15s - loss: 4.8145 - acc: 0.7406 - val_loss: 7.4948 - val_acc: 0.5386\n"
     ]
    }
   ],
   "source": [
    "random.seed(100)\n",
    "model = video_classification()\n",
    "sgd_m = optimizers.SGD(lr=1e-5, decay=1e-6, momentum=0.9, nesterov=True)\n",
    "hist = model.train(Xtr, ytr, reg = 0.0001, optimizer = sgd_m, verbose = 1, epochs = 40, split_ratio = 0.2)"
   ]
  },
  {
   "cell_type": "code",
   "execution_count": 5,
   "metadata": {
    "collapsed": false
   },
   "outputs": [
    {
     "data": {
      "image/png": "[encoded data removed]",
      "text/plain": [
       "<matplotlib.figure.Figure at 0x7ffbd01f95c0>"
      ]
     },
     "metadata": {},
     "output_type": "display_data"
    }
   ],
   "source": [
    "# summarize history for accuracy\n",
    "model.plot()"
   ]
  },
  {
   "cell_type": "code",
   "execution_count": 15,
   "metadata": {
    "collapsed": false
   },
   "outputs": [
    {
     "data": {
      "image/png": "[encoded data removed]",
      "text/plain": [
       "<matplotlib.figure.Figure at 0x7ff95fe20b38>"
      ]
     },
     "metadata": {},
     "output_type": "display_data"
    }
   ],
   "source": [
    "# save figure\n",
    "hist = model.hist\n",
    "# plt.plot(hist.history['loss'])\n",
    "# plt.plot(hist.history['val_loss'])\n",
    "# plt.title('model loss')\n",
    "# plt.ylabel('loss')\n",
    "# plt.xlabel('epoch')\n",
    "# plt.legend(['train', 'validation'], loc='upper right')\n",
    "# plt.grid()\n",
    "# plt.savefig('pretrained_model_loss.png')\n",
    "\n",
    "plt.plot(hist.history['acc'])\n",
    "plt.plot(hist.history['val_acc'])\n",
    "plt.title('model acc')\n",
    "plt.ylabel('accuracy')\n",
    "plt.xlabel('epoch')\n",
    "plt.legend(['train', 'validation'], loc='upper left')\n",
    "plt.grid()\n",
    "plt.savefig('pretrained_model_acc.png')"
   ]
  },
  {
   "cell_type": "code",
   "execution_count": 11,
   "metadata": {
    "collapsed": false
   },
   "outputs": [
    {
     "name": "stderr",
     "output_type": "stream",
     "text": [
      "100%|██████████| 1830/1830 [10:44<00:00,  2.84it/s]\n"
     ]
    }
   ],
   "source": [
    "Xte = model.load_features_update(Xte_ind, yte)"
   ]
  },
  {
   "cell_type": "code",
   "execution_count": 12,
   "metadata": {
    "collapsed": true
   },
   "outputs": [],
   "source": [
    "np.save(os.getcwd() + '/datasets/pretrained_fuse_Xtest.npy', Xte)"
   ]
  },
  {
   "cell_type": "code",
   "execution_count": 6,
   "metadata": {
    "collapsed": false
   },
   "outputs": [
    {
     "name": "stdout",
     "output_type": "stream",
     "text": [
      "Video Classification Accuracy: 0.526775956284153\n"
     ]
    }
   ],
   "source": [
    "Xte = np.load(os.getcwd() + '/datasets/pretrained_fuse_Xtest.npy')\n",
    "model.predict(Xte, yte)"
   ]
  },
  {
   "cell_type": "code",
   "execution_count": 20,
   "metadata": {
    "collapsed": false
   },
   "outputs": [
    {
     "name": "stdout",
     "output_type": "stream",
     "text": [
      "                      precision    recall  f1-score   support\n",
      "\n",
      "               music       0.36      0.35      0.36       195\n",
      "              gaming       0.49      0.59      0.54       122\n",
      "      sports/actions       0.60      0.71      0.65       288\n",
      "news/events/politics       0.00      0.00      0.00       133\n",
      "        movie/comedy       0.40      0.57      0.47       220\n",
      "      vehicles/autos       0.73      0.72      0.73       229\n",
      "               howto       0.53      0.48      0.50       163\n",
      "        animals/pets       0.51      0.54      0.52       145\n",
      "         kids/family       0.41      0.36      0.38       152\n",
      "          food/drink       0.65      0.63      0.64       183\n",
      "\n",
      "         avg / total       0.49      0.53      0.51      1830\n",
      "\n"
     ]
    },
    {
     "name": "stderr",
     "output_type": "stream",
     "text": [
      "/home/sunjiajun/cs231n_project/.env/lib/python3.5/site-packages/sklearn/metrics/classification.py:1113: UndefinedMetricWarning: Precision and F-score are ill-defined and being set to 0.0 in labels with no predicted samples.\n",
      "  'precision', 'predicted', average, warn_for)\n"
     ]
    }
   ],
   "source": [
    "from sklearn.metrics import classification_report\n",
    "from pprint import pprint\n",
    "ypred = model.add_model.predict(Xte)\n",
    "ypred = np.argmax(ypred, axis = 1)\n",
    "target_names = ['music', 'gaming', 'sports/actions', 'news/events/politics', 'movie/comedy', 'vehicles/autos',\\\n",
    "           'howto', 'animals/pets', 'kids/family', 'food/drink']\n",
    "print(classification_report(yte, ypred, target_names = target_names))"
   ]
  },
  {
   "cell_type": "code",
   "execution_count": 19,
   "metadata": {
    "collapsed": false
   },
   "outputs": [
    {
     "data": {
      "text/plain": [
       "Counter({0: 215, 2: 327, 3: 133, 4: 318, 5: 220, 6: 176, 7: 186, 9: 255})"
      ]
     },
     "execution_count": 19,
     "metadata": {},
     "output_type": "execute_result"
    }
   ],
   "source": []
  },
  {
   "cell_type": "code",
   "execution_count": 12,
   "metadata": {
    "collapsed": false
   },
   "outputs": [
    {
     "name": "stdout",
     "output_type": "stream",
     "text": [
      "Unknown\n",
      "Saved model to disk\n"
     ]
    }
   ],
   "source": [
    "# save model\n",
    "from models import models\n",
    "m = models(model = model.add_model, model_name = 'temporal_maxpool_model')\n",
    "m.save()"
   ]
  },
  {
   "cell_type": "markdown",
   "metadata": {},
   "source": [
    "### Direct 3D Convolutional "
   ]
  },
  {
   "cell_type": "code",
   "execution_count": null,
   "metadata": {
    "collapsed": true
   },
   "outputs": [],
   "source": [
    "from frame_classification_process import frame_process\n",
    "import numpy as np\n",
    "import os\n",
    "\n",
    "curr_path = os.getcwd()\n",
    "x_train_ind = np.load(curr_path+'/datasets/x_train_ind_above400.npy')\n",
    "y_train = np.load(curr_path+'/datasets/y_train_mapped_above400.npy')\n",
    "num_videos = len(y_train)\n",
    "fp = frame_process(num_videos, size = (80,80,3))\n",
    "X = fp.process_updates_frameSeq_stacked(x_train_ind, y_train, 10)\n",
    "\n"
   ]
  },
  {
   "cell_type": "markdown",
   "metadata": {},
   "source": [
    "## model Test in random data points"
   ]
  },
  {
   "cell_type": "code",
   "execution_count": 12,
   "metadata": {
    "collapsed": true
   },
   "outputs": [
    {
     "name": "stdout",
     "output_type": "stream",
     "text": [
      "Train on 3200 samples, validate on 800 samples\n",
      "Epoch 1/150\n",
      "3200/3200 [==============================] - 0s - loss: 3.5305 - acc: 0.9000 - val_loss: 3.5059 - val_acc: 0.9000\n",
      "Epoch 2/150\n",
      "3200/3200 [==============================] - 0s - loss: 3.4990 - acc: 0.9000 - val_loss: 3.4745 - val_acc: 0.9000\n",
      "Epoch 3/150\n",
      "3200/3200 [==============================] - 0s - loss: 3.4675 - acc: 0.9000 - val_loss: 3.4433 - val_acc: 0.9000\n",
      "Epoch 4/150\n",
      "3200/3200 [==============================] - 0s - loss: 3.4363 - acc: 0.9000 - val_loss: 3.4124 - val_acc: 0.9000\n",
      "Epoch 5/150\n",
      "3200/3200 [==============================] - 0s - loss: 3.4054 - acc: 0.9000 - val_loss: 3.3818 - val_acc: 0.9000\n",
      "Epoch 6/150\n",
      "3200/3200 [==============================] - 0s - loss: 3.3747 - acc: 0.9000 - val_loss: 3.3514 - val_acc: 0.9000\n",
      "Epoch 7/150\n",
      "3200/3200 [==============================] - 0s - loss: 3.3442 - acc: 0.9000 - val_loss: 3.3214 - val_acc: 0.9000\n",
      "Epoch 8/150\n",
      "3200/3200 [==============================] - 0s - loss: 3.3141 - acc: 0.9000 - val_loss: 3.2917 - val_acc: 0.9000\n",
      "Epoch 9/150\n",
      "3200/3200 [==============================] - 0s - loss: 3.2843 - acc: 0.9000 - val_loss: 3.2622 - val_acc: 0.9000\n",
      "Epoch 10/150\n",
      "3200/3200 [==============================] - 0s - loss: 3.2547 - acc: 0.9000 - val_loss: 3.2330 - val_acc: 0.9000\n",
      "Epoch 11/150\n",
      "3200/3200 [==============================] - 0s - loss: 3.2254 - acc: 0.9000 - val_loss: 3.2041 - val_acc: 0.9000\n",
      "Epoch 12/150\n",
      "3200/3200 [==============================] - 0s - loss: 3.1964 - acc: 0.9000 - val_loss: 3.1755 - val_acc: 0.9000\n",
      "Epoch 13/150\n",
      "3200/3200 [==============================] - 0s - loss: 3.1677 - acc: 0.9000 - val_loss: 3.1471 - val_acc: 0.9000\n",
      "Epoch 14/150\n",
      "3200/3200 [==============================] - 0s - loss: 3.1393 - acc: 0.9000 - val_loss: 3.1190 - val_acc: 0.9000\n",
      "Epoch 15/150\n",
      "3200/3200 [==============================] - 0s - loss: 3.1111 - acc: 0.9000 - val_loss: 3.0911 - val_acc: 0.9000\n",
      "Epoch 16/150\n",
      "3200/3200 [==============================] - 0s - loss: 3.0832 - acc: 0.9000 - val_loss: 3.0636 - val_acc: 0.9000\n",
      "Epoch 17/150\n",
      "3200/3200 [==============================] - 0s - loss: 3.0555 - acc: 0.9000 - val_loss: 3.0362 - val_acc: 0.9000\n",
      "Epoch 18/150\n",
      "3200/3200 [==============================] - 0s - loss: 3.0281 - acc: 0.9000 - val_loss: 3.0091 - val_acc: 0.9000\n",
      "Epoch 19/150\n",
      "3200/3200 [==============================] - 0s - loss: 3.0010 - acc: 0.9000 - val_loss: 2.9822 - val_acc: 0.9000\n",
      "Epoch 20/150\n",
      "3200/3200 [==============================] - 0s - loss: 2.9741 - acc: 0.9000 - val_loss: 2.9556 - val_acc: 0.9000\n",
      "Epoch 21/150\n",
      "3200/3200 [==============================] - 0s - loss: 2.9475 - acc: 0.9000 - val_loss: 2.9293 - val_acc: 0.9000\n",
      "Epoch 22/150\n",
      "3200/3200 [==============================] - 0s - loss: 2.9212 - acc: 0.9000 - val_loss: 2.9032 - val_acc: 0.9000\n",
      "Epoch 23/150\n",
      "3200/3200 [==============================] - 0s - loss: 2.8951 - acc: 0.9000 - val_loss: 2.8774 - val_acc: 0.9000\n",
      "Epoch 24/150\n",
      "3200/3200 [==============================] - 0s - loss: 2.8693 - acc: 0.9000 - val_loss: 2.8518 - val_acc: 0.9000\n",
      "Epoch 25/150\n",
      "1856/3200 [================>.............] - ETA: 0s - loss: 2.8436 - acc: 0.9000"
     ]
    },
    {
     "ename": "KeyboardInterrupt",
     "evalue": "",
     "output_type": "error",
     "traceback": [
      "\u001b[1;31m---------------------------------------------------------------------------\u001b[0m",
      "\u001b[1;31mKeyboardInterrupt\u001b[0m                         Traceback (most recent call last)",
      "\u001b[1;32m<ipython-input-12-685e22a484c3>\u001b[0m in \u001b[0;36m<module>\u001b[1;34m()\u001b[0m\n\u001b[0;32m     34\u001b[0m \u001b[1;33m\u001b[0m\u001b[0m\n\u001b[0;32m     35\u001b[0m \u001b[1;31m# Train the model, iterating on the data in batches of 32 samples\u001b[0m\u001b[1;33m\u001b[0m\u001b[1;33m\u001b[0m\u001b[0m\n\u001b[1;32m---> 36\u001b[1;33m \u001b[0mhistory\u001b[0m \u001b[1;33m=\u001b[0m \u001b[0mm\u001b[0m\u001b[1;33m.\u001b[0m\u001b[0mfit\u001b[0m\u001b[1;33m(\u001b[0m\u001b[0mXtr\u001b[0m\u001b[1;33m,\u001b[0m \u001b[0mytr\u001b[0m\u001b[1;33m,\u001b[0m \u001b[0mepochs\u001b[0m\u001b[1;33m=\u001b[0m\u001b[1;36m150\u001b[0m\u001b[1;33m,\u001b[0m \u001b[0mbatch_size\u001b[0m\u001b[1;33m=\u001b[0m\u001b[1;36m32\u001b[0m\u001b[1;33m,\u001b[0m \u001b[0mvalidation_split\u001b[0m \u001b[1;33m=\u001b[0m \u001b[1;36m0.2\u001b[0m\u001b[1;33m,\u001b[0m \u001b[0mverbose\u001b[0m \u001b[1;33m=\u001b[0m \u001b[1;36m1\u001b[0m\u001b[1;33m)\u001b[0m\u001b[1;33m\u001b[0m\u001b[0m\n\u001b[0m\u001b[0;32m     37\u001b[0m \u001b[1;31m# list all data in history\u001b[0m\u001b[1;33m\u001b[0m\u001b[1;33m\u001b[0m\u001b[0m\n\u001b[0;32m     38\u001b[0m \u001b[0mprint\u001b[0m\u001b[1;33m(\u001b[0m\u001b[0mhistory\u001b[0m\u001b[1;33m.\u001b[0m\u001b[0mhistory\u001b[0m\u001b[1;33m.\u001b[0m\u001b[0mkeys\u001b[0m\u001b[1;33m(\u001b[0m\u001b[1;33m)\u001b[0m\u001b[1;33m)\u001b[0m\u001b[1;33m\u001b[0m\u001b[0m\n",
      "\u001b[1;32m/home/sunjiajun/cs231n_project/.env/lib/python3.5/site-packages/keras/models.py\u001b[0m in \u001b[0;36mfit\u001b[1;34m(self, x, y, batch_size, epochs, verbose, callbacks, validation_split, validation_data, shuffle, class_weight, sample_weight, initial_epoch, **kwargs)\u001b[0m\n\u001b[0;32m    854\u001b[0m                               \u001b[0mclass_weight\u001b[0m\u001b[1;33m=\u001b[0m\u001b[0mclass_weight\u001b[0m\u001b[1;33m,\u001b[0m\u001b[1;33m\u001b[0m\u001b[0m\n\u001b[0;32m    855\u001b[0m                               \u001b[0msample_weight\u001b[0m\u001b[1;33m=\u001b[0m\u001b[0msample_weight\u001b[0m\u001b[1;33m,\u001b[0m\u001b[1;33m\u001b[0m\u001b[0m\n\u001b[1;32m--> 856\u001b[1;33m                               initial_epoch=initial_epoch)\n\u001b[0m\u001b[0;32m    857\u001b[0m \u001b[1;33m\u001b[0m\u001b[0m\n\u001b[0;32m    858\u001b[0m     def evaluate(self, x, y, batch_size=32, verbose=1,\n",
      "\u001b[1;32m/home/sunjiajun/cs231n_project/.env/lib/python3.5/site-packages/keras/engine/training.py\u001b[0m in \u001b[0;36mfit\u001b[1;34m(self, x, y, batch_size, epochs, verbose, callbacks, validation_split, validation_data, shuffle, class_weight, sample_weight, initial_epoch, **kwargs)\u001b[0m\n\u001b[0;32m   1496\u001b[0m                               \u001b[0mval_f\u001b[0m\u001b[1;33m=\u001b[0m\u001b[0mval_f\u001b[0m\u001b[1;33m,\u001b[0m \u001b[0mval_ins\u001b[0m\u001b[1;33m=\u001b[0m\u001b[0mval_ins\u001b[0m\u001b[1;33m,\u001b[0m \u001b[0mshuffle\u001b[0m\u001b[1;33m=\u001b[0m\u001b[0mshuffle\u001b[0m\u001b[1;33m,\u001b[0m\u001b[1;33m\u001b[0m\u001b[0m\n\u001b[0;32m   1497\u001b[0m                               \u001b[0mcallback_metrics\u001b[0m\u001b[1;33m=\u001b[0m\u001b[0mcallback_metrics\u001b[0m\u001b[1;33m,\u001b[0m\u001b[1;33m\u001b[0m\u001b[0m\n\u001b[1;32m-> 1498\u001b[1;33m                               initial_epoch=initial_epoch)\n\u001b[0m\u001b[0;32m   1499\u001b[0m \u001b[1;33m\u001b[0m\u001b[0m\n\u001b[0;32m   1500\u001b[0m     \u001b[1;32mdef\u001b[0m \u001b[0mevaluate\u001b[0m\u001b[1;33m(\u001b[0m\u001b[0mself\u001b[0m\u001b[1;33m,\u001b[0m \u001b[0mx\u001b[0m\u001b[1;33m,\u001b[0m \u001b[0my\u001b[0m\u001b[1;33m,\u001b[0m \u001b[0mbatch_size\u001b[0m\u001b[1;33m=\u001b[0m\u001b[1;36m32\u001b[0m\u001b[1;33m,\u001b[0m \u001b[0mverbose\u001b[0m\u001b[1;33m=\u001b[0m\u001b[1;36m1\u001b[0m\u001b[1;33m,\u001b[0m \u001b[0msample_weight\u001b[0m\u001b[1;33m=\u001b[0m\u001b[1;32mNone\u001b[0m\u001b[1;33m)\u001b[0m\u001b[1;33m:\u001b[0m\u001b[1;33m\u001b[0m\u001b[0m\n",
      "\u001b[1;32m/home/sunjiajun/cs231n_project/.env/lib/python3.5/site-packages/keras/engine/training.py\u001b[0m in \u001b[0;36m_fit_loop\u001b[1;34m(self, f, ins, out_labels, batch_size, epochs, verbose, callbacks, val_f, val_ins, shuffle, callback_metrics, initial_epoch)\u001b[0m\n\u001b[0;32m   1150\u001b[0m                 \u001b[0mbatch_logs\u001b[0m\u001b[1;33m[\u001b[0m\u001b[1;34m'size'\u001b[0m\u001b[1;33m]\u001b[0m \u001b[1;33m=\u001b[0m \u001b[0mlen\u001b[0m\u001b[1;33m(\u001b[0m\u001b[0mbatch_ids\u001b[0m\u001b[1;33m)\u001b[0m\u001b[1;33m\u001b[0m\u001b[0m\n\u001b[0;32m   1151\u001b[0m                 \u001b[0mcallbacks\u001b[0m\u001b[1;33m.\u001b[0m\u001b[0mon_batch_begin\u001b[0m\u001b[1;33m(\u001b[0m\u001b[0mbatch_index\u001b[0m\u001b[1;33m,\u001b[0m \u001b[0mbatch_logs\u001b[0m\u001b[1;33m)\u001b[0m\u001b[1;33m\u001b[0m\u001b[0m\n\u001b[1;32m-> 1152\u001b[1;33m                 \u001b[0mouts\u001b[0m \u001b[1;33m=\u001b[0m \u001b[0mf\u001b[0m\u001b[1;33m(\u001b[0m\u001b[0mins_batch\u001b[0m\u001b[1;33m)\u001b[0m\u001b[1;33m\u001b[0m\u001b[0m\n\u001b[0m\u001b[0;32m   1153\u001b[0m                 \u001b[1;32mif\u001b[0m \u001b[1;32mnot\u001b[0m \u001b[0misinstance\u001b[0m\u001b[1;33m(\u001b[0m\u001b[0mouts\u001b[0m\u001b[1;33m,\u001b[0m \u001b[0mlist\u001b[0m\u001b[1;33m)\u001b[0m\u001b[1;33m:\u001b[0m\u001b[1;33m\u001b[0m\u001b[0m\n\u001b[0;32m   1154\u001b[0m                     \u001b[0mouts\u001b[0m \u001b[1;33m=\u001b[0m \u001b[1;33m[\u001b[0m\u001b[0mouts\u001b[0m\u001b[1;33m]\u001b[0m\u001b[1;33m\u001b[0m\u001b[0m\n",
      "\u001b[1;32m/home/sunjiajun/cs231n_project/.env/lib/python3.5/site-packages/keras/backend/tensorflow_backend.py\u001b[0m in \u001b[0;36m__call__\u001b[1;34m(self, inputs)\u001b[0m\n\u001b[0;32m   2227\u001b[0m         \u001b[0msession\u001b[0m \u001b[1;33m=\u001b[0m \u001b[0mget_session\u001b[0m\u001b[1;33m(\u001b[0m\u001b[1;33m)\u001b[0m\u001b[1;33m\u001b[0m\u001b[0m\n\u001b[0;32m   2228\u001b[0m         updated = session.run(self.outputs + [self.updates_op],\n\u001b[1;32m-> 2229\u001b[1;33m                               feed_dict=feed_dict)\n\u001b[0m\u001b[0;32m   2230\u001b[0m         \u001b[1;32mreturn\u001b[0m \u001b[0mupdated\u001b[0m\u001b[1;33m[\u001b[0m\u001b[1;33m:\u001b[0m\u001b[0mlen\u001b[0m\u001b[1;33m(\u001b[0m\u001b[0mself\u001b[0m\u001b[1;33m.\u001b[0m\u001b[0moutputs\u001b[0m\u001b[1;33m)\u001b[0m\u001b[1;33m]\u001b[0m\u001b[1;33m\u001b[0m\u001b[0m\n\u001b[0;32m   2231\u001b[0m \u001b[1;33m\u001b[0m\u001b[0m\n",
      "\u001b[1;32m/home/sunjiajun/cs231n_project/.env/lib/python3.5/site-packages/tensorflow/python/client/session.py\u001b[0m in \u001b[0;36mrun\u001b[1;34m(self, fetches, feed_dict, options, run_metadata)\u001b[0m\n\u001b[0;32m    776\u001b[0m     \u001b[1;32mtry\u001b[0m\u001b[1;33m:\u001b[0m\u001b[1;33m\u001b[0m\u001b[0m\n\u001b[0;32m    777\u001b[0m       result = self._run(None, fetches, feed_dict, options_ptr,\n\u001b[1;32m--> 778\u001b[1;33m                          run_metadata_ptr)\n\u001b[0m\u001b[0;32m    779\u001b[0m       \u001b[1;32mif\u001b[0m \u001b[0mrun_metadata\u001b[0m\u001b[1;33m:\u001b[0m\u001b[1;33m\u001b[0m\u001b[0m\n\u001b[0;32m    780\u001b[0m         \u001b[0mproto_data\u001b[0m \u001b[1;33m=\u001b[0m \u001b[0mtf_session\u001b[0m\u001b[1;33m.\u001b[0m\u001b[0mTF_GetBuffer\u001b[0m\u001b[1;33m(\u001b[0m\u001b[0mrun_metadata_ptr\u001b[0m\u001b[1;33m)\u001b[0m\u001b[1;33m\u001b[0m\u001b[0m\n",
      "\u001b[1;32m/home/sunjiajun/cs231n_project/.env/lib/python3.5/site-packages/tensorflow/python/client/session.py\u001b[0m in \u001b[0;36m_run\u001b[1;34m(self, handle, fetches, feed_dict, options, run_metadata)\u001b[0m\n\u001b[0;32m    980\u001b[0m     \u001b[1;32mif\u001b[0m \u001b[0mfinal_fetches\u001b[0m \u001b[1;32mor\u001b[0m \u001b[0mfinal_targets\u001b[0m\u001b[1;33m:\u001b[0m\u001b[1;33m\u001b[0m\u001b[0m\n\u001b[0;32m    981\u001b[0m       results = self._do_run(handle, final_targets, final_fetches,\n\u001b[1;32m--> 982\u001b[1;33m                              feed_dict_string, options, run_metadata)\n\u001b[0m\u001b[0;32m    983\u001b[0m     \u001b[1;32melse\u001b[0m\u001b[1;33m:\u001b[0m\u001b[1;33m\u001b[0m\u001b[0m\n\u001b[0;32m    984\u001b[0m       \u001b[0mresults\u001b[0m \u001b[1;33m=\u001b[0m \u001b[1;33m[\u001b[0m\u001b[1;33m]\u001b[0m\u001b[1;33m\u001b[0m\u001b[0m\n",
      "\u001b[1;32m/home/sunjiajun/cs231n_project/.env/lib/python3.5/site-packages/tensorflow/python/client/session.py\u001b[0m in \u001b[0;36m_do_run\u001b[1;34m(self, handle, target_list, fetch_list, feed_dict, options, run_metadata)\u001b[0m\n\u001b[0;32m   1030\u001b[0m     \u001b[1;32mif\u001b[0m \u001b[0mhandle\u001b[0m \u001b[1;32mis\u001b[0m \u001b[1;32mNone\u001b[0m\u001b[1;33m:\u001b[0m\u001b[1;33m\u001b[0m\u001b[0m\n\u001b[0;32m   1031\u001b[0m       return self._do_call(_run_fn, self._session, feed_dict, fetch_list,\n\u001b[1;32m-> 1032\u001b[1;33m                            target_list, options, run_metadata)\n\u001b[0m\u001b[0;32m   1033\u001b[0m     \u001b[1;32melse\u001b[0m\u001b[1;33m:\u001b[0m\u001b[1;33m\u001b[0m\u001b[0m\n\u001b[0;32m   1034\u001b[0m       return self._do_call(_prun_fn, self._session, handle, feed_dict,\n",
      "\u001b[1;32m/home/sunjiajun/cs231n_project/.env/lib/python3.5/site-packages/tensorflow/python/client/session.py\u001b[0m in \u001b[0;36m_do_call\u001b[1;34m(self, fn, *args)\u001b[0m\n\u001b[0;32m   1037\u001b[0m   \u001b[1;32mdef\u001b[0m \u001b[0m_do_call\u001b[0m\u001b[1;33m(\u001b[0m\u001b[0mself\u001b[0m\u001b[1;33m,\u001b[0m \u001b[0mfn\u001b[0m\u001b[1;33m,\u001b[0m \u001b[1;33m*\u001b[0m\u001b[0margs\u001b[0m\u001b[1;33m)\u001b[0m\u001b[1;33m:\u001b[0m\u001b[1;33m\u001b[0m\u001b[0m\n\u001b[0;32m   1038\u001b[0m     \u001b[1;32mtry\u001b[0m\u001b[1;33m:\u001b[0m\u001b[1;33m\u001b[0m\u001b[0m\n\u001b[1;32m-> 1039\u001b[1;33m       \u001b[1;32mreturn\u001b[0m \u001b[0mfn\u001b[0m\u001b[1;33m(\u001b[0m\u001b[1;33m*\u001b[0m\u001b[0margs\u001b[0m\u001b[1;33m)\u001b[0m\u001b[1;33m\u001b[0m\u001b[0m\n\u001b[0m\u001b[0;32m   1040\u001b[0m     \u001b[1;32mexcept\u001b[0m \u001b[0merrors\u001b[0m\u001b[1;33m.\u001b[0m\u001b[0mOpError\u001b[0m \u001b[1;32mas\u001b[0m \u001b[0me\u001b[0m\u001b[1;33m:\u001b[0m\u001b[1;33m\u001b[0m\u001b[0m\n\u001b[0;32m   1041\u001b[0m       \u001b[0mmessage\u001b[0m \u001b[1;33m=\u001b[0m \u001b[0mcompat\u001b[0m\u001b[1;33m.\u001b[0m\u001b[0mas_text\u001b[0m\u001b[1;33m(\u001b[0m\u001b[0me\u001b[0m\u001b[1;33m.\u001b[0m\u001b[0mmessage\u001b[0m\u001b[1;33m)\u001b[0m\u001b[1;33m\u001b[0m\u001b[0m\n",
      "\u001b[1;32m/home/sunjiajun/cs231n_project/.env/lib/python3.5/site-packages/tensorflow/python/client/session.py\u001b[0m in \u001b[0;36m_run_fn\u001b[1;34m(session, feed_dict, fetch_list, target_list, options, run_metadata)\u001b[0m\n\u001b[0;32m   1019\u001b[0m         return tf_session.TF_Run(session, options,\n\u001b[0;32m   1020\u001b[0m                                  \u001b[0mfeed_dict\u001b[0m\u001b[1;33m,\u001b[0m \u001b[0mfetch_list\u001b[0m\u001b[1;33m,\u001b[0m \u001b[0mtarget_list\u001b[0m\u001b[1;33m,\u001b[0m\u001b[1;33m\u001b[0m\u001b[0m\n\u001b[1;32m-> 1021\u001b[1;33m                                  status, run_metadata)\n\u001b[0m\u001b[0;32m   1022\u001b[0m \u001b[1;33m\u001b[0m\u001b[0m\n\u001b[0;32m   1023\u001b[0m     \u001b[1;32mdef\u001b[0m \u001b[0m_prun_fn\u001b[0m\u001b[1;33m(\u001b[0m\u001b[0msession\u001b[0m\u001b[1;33m,\u001b[0m \u001b[0mhandle\u001b[0m\u001b[1;33m,\u001b[0m \u001b[0mfeed_dict\u001b[0m\u001b[1;33m,\u001b[0m \u001b[0mfetch_list\u001b[0m\u001b[1;33m)\u001b[0m\u001b[1;33m:\u001b[0m\u001b[1;33m\u001b[0m\u001b[0m\n",
      "\u001b[1;31mKeyboardInterrupt\u001b[0m: "
     ]
    }
   ],
   "source": [
    "# test model train example\n",
    "\n",
    "from keras.models import Sequential\n",
    "from keras.layers import Dense, Activation, Dropout\n",
    "import matplotlib.pyplot as plt\n",
    "from keras.utils import to_categorical\n",
    "import keras\n",
    "from keras import regularizers\n",
    "%matplotlib inline\n",
    "\n",
    "num_classes = 10\n",
    "m = Sequential()\n",
    "m.add(Dense(32, activation='relu', input_dim=100, kernel_regularizer=regularizers.l2(0.01), \n",
    "            activity_regularizer=regularizers.l1(0.01)))\n",
    "\n",
    "m.add(Dense(num_classes, activation='softmax', kernel_regularizer=regularizers.l2(0.01)))\n",
    "sgd_m = keras.optimizers.SGD(lr=1e-6, decay=1e-6, momentum=0.9, nesterov=True)\n",
    "m.compile(optimizer=sgd_m,\n",
    "              loss='binary_crossentropy',\n",
    "              metrics=['accuracy'])\n",
    "\n",
    "# Generate dummy data\n",
    "import numpy as np\n",
    "d1 = 5000\n",
    "d2 = int(d1 * 0.8)\n",
    "data = np.random.random((d1, 100))\n",
    "labels = np.random.randint(num_classes, size=(d1, 1))\n",
    "yte = labels[d2:]\n",
    "labels = to_categorical(labels, num_classes = num_classes)\n",
    "ytr = labels[:d2]\n",
    "Xtr = data[:d2]\n",
    "Xte = data[d2:]\n",
    "\n",
    "\n",
    "# Train the model, iterating on the data in batches of 32 samples\n",
    "history = m.fit(Xtr, ytr, epochs=150, batch_size=32, validation_split = 0.2, verbose = 1)\n",
    "# list all data in history\n",
    "print(history.history.keys())\n",
    "# summarize history for accuracy\n",
    "\n",
    "# plt.subplots(122)\n",
    "# plt.plot(history.history['loss'])\n",
    "# plt.plot(history.history['val_loss'])\n",
    "# plt.title('model loss')\n",
    "# plt.ylabel('loss')\n",
    "# plt.xlabel('epoch')\n",
    "# plt.legend(['train', 'val'], loc='upper left')\n",
    "# plt.show()"
   ]
  },
  {
   "cell_type": "code",
   "execution_count": 9,
   "metadata": {
    "collapsed": true
   },
   "outputs": [
    {
     "data": {
      "text/plain": [
       "<matplotlib.legend.Legend at 0x7f15d0daf940>"
      ]
     },
     "execution_count": 9,
     "metadata": {},
     "output_type": "execute_result"
    },
    {
     "data": {
      "image/png": "[encoded data removed]",
      "text/plain": [
       "<matplotlib.figure.Figure at 0x7f15d16241d0>"
      ]
     },
     "metadata": {},
     "output_type": "display_data"
    }
   ],
   "source": [
    "plt.plot(history.history['acc'])\n",
    "plt.plot(history.history['val_acc'])\n",
    "plt.title('model accuracy')\n",
    "plt.ylabel('accuracy')\n",
    "plt.xlabel('epoch')\n",
    "plt.legend(['train', 'val'], loc='upper left')"
   ]
  },
  {
   "cell_type": "code",
   "execution_count": 10,
   "metadata": {
    "collapsed": false
   },
   "outputs": [
    {
     "name": "stdout",
     "output_type": "stream",
     "text": [
      "Test Accuracy: 0.099345\n"
     ]
    }
   ],
   "source": [
    "# predict\n",
    "ypred = m.predict(Xte)\n",
    "ypred = np.argmax(ypred, axis = 1)\n",
    "print('Test Accuracy: {0}'.format(np.mean(ypred == yte)))"
   ]
  },
  {
   "cell_type": "markdown",
   "metadata": {
    "collapsed": false
   },
   "source": [
    "## frame classification"
   ]
  },
  {
   "cell_type": "code",
   "execution_count": 7,
   "metadata": {
    "collapsed": false
   },
   "outputs": [
    {
     "name": "stdout",
     "output_type": "stream",
     "text": [
      "The autoreload extension is already loaded. To reload it, use:\n",
      "  %reload_ext autoreload\n"
     ]
    }
   ],
   "source": [
    "from frame_classification import frame_classification\n",
    "from frame_classification_process import frame_process\n",
    "import matplotlib.pyplot as plt\n",
    "import numpy as np\n",
    "import os \n",
    "\n",
    "plt.rcParams['figure.figsize'] = (10.0, 8.0) # set default size of plots\n",
    "plt.rcParams['image.interpolation'] = 'nearest'\n",
    "plt.rcParams['image.cmap'] = 'gray'\n",
    "%matplotlib inline\n",
    "%load_ext autoreload\n",
    "%autoreload 2"
   ]
  },
  {
   "cell_type": "code",
   "execution_count": 8,
   "metadata": {
    "collapsed": false,
    "scrolled": true
   },
   "outputs": [],
   "source": [
    "num_video = 8000\n",
    "frame_idx = 1\n",
    "fp = frame_process(num_video, frame_idx)\n",
    "\n",
    "# raw process with num_video, frame_idx\n",
    "# X = fp.process_original()"
   ]
  },
  {
   "cell_type": "code",
   "execution_count": 3,
   "metadata": {
    "collapsed": false
   },
   "outputs": [
    {
     "name": "stdout",
     "output_type": "stream",
     "text": [
      "Training sets size: 4270\n",
      "Test sets size: 1830\n",
      "Xtrain index shape:  (4270,)\n",
      "ytrain shape:  (4270,)\n",
      "Xtest index shape:  (1830,)\n",
      "ytest shape:  (1830,)\n"
     ]
    }
   ],
   "source": [
    "# load balanced datasets index\n",
    "npy_path = os.getcwd() + '/datasets/'\n",
    "Xtr_ind = np.load(npy_path + 'x_train_ind_above400.npy')\n",
    "Xte_ind = np.load(npy_path + 'x_test_ind_above400.npy')\n",
    "ytr = np.load(npy_path + 'y_train_mapped_above400.npy')\n",
    "yte = np.load(npy_path + 'y_test_mapped_above400.npy')\n",
    "\n",
    "assert len(Xtr_ind) == len(ytr)\n",
    "assert len(Xte_ind) == len(yte)\n",
    "\n",
    "print('Training sets size: {0}'.format(len(Xtr_ind)))\n",
    "print('Test sets size: {0}'.format(len(Xte_ind)))\n",
    "print('Xtrain index shape: ', Xtr_ind.shape)\n",
    "print('ytrain shape: ', ytr.shape)\n",
    "print('Xtest index shape: ', Xte_ind.shape)\n",
    "print('ytest shape: ', yte.shape)"
   ]
  },
  {
   "cell_type": "code",
   "execution_count": 4,
   "metadata": {
    "collapsed": false
   },
   "outputs": [
    {
     "name": "stderr",
     "output_type": "stream",
     "text": [
      "100%|██████████| 4270/4270 [00:32<00:00, 131.09it/s]\n",
      "100%|██████████| 1830/1830 [00:13<00:00, 132.71it/s]\n"
     ]
    }
   ],
   "source": [
    "# load train and test from file folders\n",
    "Xtr = fp.process_updated(Xtr_ind, ytr)\n",
    "Xte = fp.process_updated(Xte_ind, yte)"
   ]
  },
  {
   "cell_type": "code",
   "execution_count": 5,
   "metadata": {
    "collapsed": false
   },
   "outputs": [
    {
     "name": "stdout",
     "output_type": "stream",
     "text": [
      "Xtrain shape:  (4270, 224, 224, 3)\n",
      "Xtest shape:  (1830, 224, 224, 3)\n",
      "Num of Classes in Training:  10\n"
     ]
    }
   ],
   "source": [
    "print('Xtrain shape: ', Xtr.shape)\n",
    "print('Xtest shape: ', Xte.shape)\n",
    "num_classes = len(np.unique(ytr))\n",
    "print('Num of Classes in Training: ', num_classes)"
   ]
  },
  {
   "cell_type": "code",
   "execution_count": 9,
   "metadata": {
    "collapsed": false
   },
   "outputs": [
    {
     "name": "stdout",
     "output_type": "stream",
     "text": [
      "Train on 400 samples, validate on 100 samples\n",
      "Epoch 1/10\n",
      "400/400 [==============================] - 14s - loss: 3.9140 - acc: 0.1225 - val_loss: 3.4807 - val_acc: 0.1900\n",
      "Epoch 2/10\n",
      "400/400 [==============================] - 8s - loss: 3.2177 - acc: 0.1550 - val_loss: 2.9365 - val_acc: 0.1600\n",
      "Epoch 3/10\n",
      "400/400 [==============================] - 8s - loss: 2.7802 - acc: 0.1725 - val_loss: 2.6200 - val_acc: 0.1300\n",
      "Epoch 4/10\n",
      "400/400 [==============================] - 8s - loss: 2.5340 - acc: 0.1650 - val_loss: 2.4502 - val_acc: 0.1200\n",
      "Epoch 5/10\n",
      "400/400 [==============================] - 8s - loss: 2.4049 - acc: 0.1675 - val_loss: 2.3653 - val_acc: 0.1100\n",
      "Epoch 6/10\n",
      "400/400 [==============================] - 8s - loss: 2.3415 - acc: 0.1675 - val_loss: 2.3257 - val_acc: 0.1100\n",
      "Epoch 7/10\n",
      "400/400 [==============================] - 8s - loss: 2.3124 - acc: 0.1675 - val_loss: 2.3083 - val_acc: 0.1100\n",
      "Epoch 8/10\n",
      "400/400 [==============================] - 8s - loss: 2.2995 - acc: 0.1675 - val_loss: 2.3013 - val_acc: 0.1100\n",
      "Epoch 9/10\n",
      "400/400 [==============================] - 8s - loss: 2.2939 - acc: 0.1675 - val_loss: 2.2985 - val_acc: 0.1100\n",
      "Epoch 10/10\n",
      "400/400 [==============================] - 8s - loss: 2.2914 - acc: 0.1675 - val_loss: 2.2973 - val_acc: 0.1100\n"
     ]
    }
   ],
   "source": [
    "# hyperparameters\n",
    "lr = 1e-3\n",
    "num_classes = num_classes\n",
    "reg = 0.1\n",
    "decay = 1e-8\n",
    "\n",
    "fc = frame_classification(lr, num_classes, reg = reg, decay = decay)\n",
    "\n",
    "# load true labels\n",
    "# curr = os.getcwd() + '/datasets/category.npy'\n",
    "# y = np.load(curr)[:num_video, 1]\n",
    "\n",
    "# random labels trial\n",
    "# y = np.random.randint(num_classes, size = (num_video, 1))\n",
    "Xtr_ex = Xtr[:500]\n",
    "ytr_ex = ytr[:500]\n",
    "bsize = 32; epoch = 10; verbose = 1; split_ratio = 0.2\n",
    "fc.train(Xtr_ex, ytr_ex, bsize, epoch, verbose, split_ratio)"
   ]
  },
  {
   "cell_type": "code",
   "execution_count": 10,
   "metadata": {
    "collapsed": false
   },
   "outputs": [
    {
     "data": {
      "image/png": "[encoded data removed]",
      "text/plain": [
       "<matplotlib.figure.Figure at 0x7f54c09b7ef0>"
      ]
     },
     "metadata": {},
     "output_type": "display_data"
    }
   ],
   "source": [
    "# plot loss and accuracy\n",
    "fc.plot()"
   ]
  },
  {
   "cell_type": "code",
   "execution_count": null,
   "metadata": {
    "collapsed": false
   },
   "outputs": [],
   "source": [
    "# test accuracy\n",
    "fc.predict(Xte, yte)"
   ]
  },
  {
   "cell_type": "code",
   "execution_count": 16,
   "metadata": {
    "collapsed": false
   },
   "outputs": [
    {
     "ename": "NameError",
     "evalue": "name 'sess' is not defined",
     "output_type": "error",
     "traceback": [
      "\u001b[1;31m---------------------------------------------------------------------------\u001b[0m",
      "\u001b[1;31mNameError\u001b[0m                                 Traceback (most recent call last)",
      "\u001b[1;32m<ipython-input-16-98f5b3025695>\u001b[0m in \u001b[0;36m<module>\u001b[1;34m()\u001b[0m\n\u001b[1;32m----> 1\u001b[1;33m \u001b[1;32mdel\u001b[0m \u001b[0msess\u001b[0m\u001b[1;33m\u001b[0m\u001b[0m\n\u001b[0m",
      "\u001b[1;31mNameError\u001b[0m: name 'sess' is not defined"
     ]
    }
   ],
   "source": []
  },
  {
   "cell_type": "code",
   "execution_count": null,
   "metadata": {
    "collapsed": true
   },
   "outputs": [],
   "source": []
  }
 ],
 "metadata": {
  "kernelspec": {
   "display_name": "Python 3",
   "language": "python",
   "name": "python3"
  },
  "language_info": {
   "codemirror_mode": {
    "name": "ipython",
    "version": 3
   },
   "file_extension": ".py",
   "mimetype": "text/x-python",
   "name": "python",
   "nbconvert_exporter": "python",
   "pygments_lexer": "ipython3",
   "version": "3.5.2"
  }
 },
 "nbformat": 4,
 "nbformat_minor": 0
}
