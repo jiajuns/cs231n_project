{
 "cells": [
  {
   "cell_type": "code",
   "execution_count": 76,
   "metadata": {
    "collapsed": true
   },
   "outputs": [],
   "source": [
    "# !usr/env python 3.5\n",
    "from load_data import Download_Video\n",
    "from pretrained_model import video_classification\n",
    "from datetime import datetime\n",
    "import os"
   ]
  },
  {
   "cell_type": "code",
   "execution_count": 2,
   "metadata": {
    "collapsed": true
   },
   "outputs": [],
   "source": [
    "# load data\n",
    "video_num = 100\n",
    "frame_count = 10\n",
    "video_time = 10\n",
    "d = Download_Video(video_num, frame_count, video_time)\n",
    "tic = datetime.now()\n",
    "d.download()\n",
    "toc = datetime.now()\n",
    "print('Download time {0}'.format(toc-tic))\n",
    "tic = datetime.now()\n",
    "d.preprocess()\n",
    "toc = datetime.now()\n",
    "print('Process time {0}'.format(toc-tic))"
   ]
  },
  {
   "cell_type": "code",
   "execution_count": 9,
   "metadata": {
    "collapsed": true
   },
   "outputs": [],
   "source": [
    "model = video_classification()\n",
    "curr_path = os.getcwd()\n",
    "frame_dir = curr_path + '/datasets/frames'\n",
    "num_videos = 100\n",
    "features = model.load_features()"
   ]
  },
  {
   "cell_type": "code",
   "execution_count": 3,
   "metadata": {},
   "outputs": [
    {
     "name": "stdout",
     "output_type": "stream",
     "text": [
      "The autoreload extension is already loaded. To reload it, use:\n",
      "  %reload_ext autoreload\n"
     ]
    }
   ],
   "source": [
    "# !usr/env python 3.5\n",
    "from load_data import Download_Video\n",
    "from datetime import datetime\n",
    "import os\n",
    "import logging\n",
    "\n",
    "%load_ext autoreload\n",
    "%autoreload 2"
   ]
  },
  {
   "cell_type": "code",
   "execution_count": 4,
   "metadata": {
    "scrolled": false
   },
   "outputs": [
    {
     "name": "stderr",
     "output_type": "stream",
     "text": [
      "ERROR: wi3PGpmtxH8: YouTube said: This video is no longer available because the YouTube account associated with this video has been terminated.\n",
      "ERROR: 9NYdnRAGvO8: YouTube said: This video is no longer available because the YouTube account associated with this video has been terminated.\n",
      "ERROR: 2WDnKNLxPKE: YouTube said: \"Dragon Ball Z - Episode 94 ...\"\n",
      "This video is no longer available due to a copyright claim by TOEI ANIMATION CO.,LTD..\n",
      "ERROR: AZZME-uNC0I: YouTube said: This video does not exist.\n",
      "ERROR: JfSMzxjIjbY: YouTube said: \"Full House Korean ...\"\n",
      "This video is no longer available due to a copyright claim by Arastoo Saadati.\n"
     ]
    },
    {
     "name": "stdout",
     "output_type": "stream",
     "text": [
      "Download time 0:01:26.892676\n"
     ]
    }
   ],
   "source": [
    "# load data\n",
    "video_num = 20\n",
    "frame_count = 10\n",
    "video_time = 10\n",
    "d = Download_Video(video_num, frame_count, video_time)\n",
    "tic = datetime.now()\n",
    "d.download_organizer()\n",
    "toc = datetime.now()\n",
    "print('Download time {0}'.format(toc-tic))\n",
    "tic = datetime.now()"
   ]
  },
  {
   "cell_type": "code",
   "execution_count": null,
   "metadata": {
    "scrolled": false
   },
   "outputs": [
    {
     "name": "stdout",
     "output_type": "stream",
     "text": [
      "\n",
      "[MoviePy] Running:\n",
      ">>> /Users/sunjiajun/Library/Application Support/imageio/ffmpeg/ffmpeg.osx -y -i /Users/sunjiajun/cs231n_project/datasets/videos/video10.mp4 -ss 33.33 -t 10.00 -vcodec copy -acodec copy /Users/sunjiajun/cs231n_project/datasets/processed/processed_video10.mp4\n",
      "[MoviePy] Running:\n",
      ">>> /Users/sunjiajun/Library/Application Support/imageio/ffmpeg/ffmpeg.osx -y -i /Users/sunjiajun/cs231n_project/datasets/videos/video14.mp4 -ss 81.69 -t 10.00 -vcodec copy -acodec copy /Users/sunjiajun/cs231n_project/datasets/processed/processed_video14.mp4\n",
      "[MoviePy] Running:\n",
      ">>> /Users/sunjiajun/Library/Application Support/imageio/ffmpeg/ffmpeg.osx -y -i /Users/sunjiajun/cs231n_project/datasets/videos/video22.mp4 -ss 20.05 -t 10.00 -vcodec copy -acodec copy /Users/sunjiajun/cs231n_project/datasets/processed/processed_video22.mp4\n",
      "[MoviePy] Running:\n",
      ">>> /Users/sunjiajun/Library/Application Support/imageio/ffmpeg/ffmpeg.osx -y -i /Users/sunjiajun/cs231n_project/datasets/videos/video28.mp4 -ss 50.97 -t 10.00 -vcodec copy -acodec copy /Users/sunjiajun/cs231n_project/datasets/processed/processed_video28.mp4\n",
      "... command successful.\n",
      "\n",
      "... command successful.\n",
      "\n",
      "... command successful.\n",
      "\n",
      "... command successful.\n",
      "\n",
      "[MoviePy] Running:\n",
      ">>> /Users/sunjiajun/Library/Application Support/imageio/ffmpeg/ffmpeg.osx -y -i /Users/sunjiajun/cs231n_project/datasets/videos/video32.mp4 -ss 28.56 -t 10.00 -vcodec copy -acodec copy /Users/sunjiajun/cs231n_project/datasets/processed/processed_video32.mp4\n",
      "... command successful.\n",
      "\n",
      "[MoviePy] Running:\n",
      ">>> /Users/sunjiajun/Library/Application Support/imageio/ffmpeg/ffmpeg.osx -y -i /Users/sunjiajun/cs231n_project/datasets/videos/video38.mp4 -ss 49.06 -t 10.00 -vcodec copy -acodec copy /Users/sunjiajun/cs231n_project/datasets/processed/processed_video38.mp4\n",
      "... command successful.\n",
      "\n",
      "[MoviePy] Running:\n",
      ">>> /Users/sunjiajun/Library/Application Support/imageio/ffmpeg/ffmpeg.osx -y -i /Users/sunjiajun/cs231n_project/datasets/videos/video42.mp4 -ss 81.00 -t 10.00 -vcodec copy -acodec copy /Users/sunjiajun/cs231n_project/datasets/processed/processed_video42.mp4\n",
      "[MoviePy] Running:\n",
      ">>> /Users/sunjiajun/Library/Application Support/imageio/ffmpeg/ffmpeg.osx -y -i /Users/sunjiajun/cs231n_project/datasets/videos/video49.mp4 -ss 52.97 -t 10.00 -vcodec copy -acodec copy /Users/sunjiajun/cs231n_project/datasets/processed/processed_video49.mp4\n",
      "... command successful.\n",
      "\n",
      "... command successful.\n",
      "\n",
      "[MoviePy] Running:\n",
      ">>> /Users/sunjiajun/Library/Application Support/imageio/ffmpeg/ffmpeg.osx -y -i /Users/sunjiajun/cs231n_project/datasets/videos/video55.mp4 -ss 1.55 -t 10.00 -vcodec copy -acodec copy /Users/sunjiajun/cs231n_project/datasets/processed/processed_video55.mp4\n",
      "[MoviePy] Running:\n",
      ">>> /Users/sunjiajun/Library/Application Support/imageio/ffmpeg/ffmpeg.osx -y -i /Users/sunjiajun/cs231n_project/datasets/videos/video58.mp4 -ss 181.46 -t 10.00 -vcodec copy -acodec copy /Users/sunjiajun/cs231n_project/datasets/processed/processed_video58.mp4\n",
      "... command successful.\n",
      "\n",
      "... command successful.\n"
     ]
    }
   ],
   "source": [
    "video_num = 20\n",
    "frame_count = 10\n",
    "video_time = 10\n",
    "d = Download_Video(video_num, frame_count, video_time)\n",
    "tic = datetime.now()\n",
    "d.preprocess_organizer()\n",
    "toc = datetime.now()\n",
    "print('Process time {0}'.format(toc-tic))"
   ]
  },
  {
   "cell_type": "code",
   "execution_count": null,
   "metadata": {
    "collapsed": true
   },
   "outputs": [],
   "source": []
  }
 ],
 "metadata": {
  "anaconda-cloud": {},
  "kernelspec": {
   "display_name": "Python [Root]",
   "language": "python",
   "name": "Python [Root]"
  },
  "language_info": {
   "codemirror_mode": {
    "name": "ipython",
    "version": 3
   },
   "file_extension": ".py",
   "mimetype": "text/x-python",
   "name": "python",
   "nbconvert_exporter": "python",
   "pygments_lexer": "ipython3",
   "version": "3.5.1"
  }
 },
 "nbformat": 4,
 "nbformat_minor": 1
}
