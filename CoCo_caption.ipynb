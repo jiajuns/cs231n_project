{
 "cells": [
  {
   "cell_type": "code",
   "execution_count": null,
   "metadata": {
    "collapsed": false
   },
   "outputs": [],
   "source": [
    "from __future__ import print_function\n",
    "import time, os, json\n",
    "import tensorflow as tf\n",
    "import pickle\n",
    "import os\n",
    "import numpy as np\n",
    "import logging\n",
    "import matplotlib.pyplot as plt\n",
    "\n",
    "from util import *\n",
    "from model.video_caption import sequence_2_sequence_LSTM\n",
    "from model.image_caption import image_caption_LSTM\n",
    "\n",
    "from cs231n.coco_utils import load_coco_data, sample_coco_minibatch, decode_captions\n",
    "from cs231n.image_utils import image_from_url\n",
    "\n",
    "%matplotlib inline\n",
    "plt.rcParams['figure.figsize'] = (10.0, 8.0) # set default size of plots\n",
    "plt.rcParams['image.interpolation'] = 'nearest'\n",
    "plt.rcParams['image.cmap'] = 'gray'\n",
    "\n",
    "# for auto-reloading external modules\n",
    "# see http://stackoverflow.com/questions/1907993/autoreload-of-modules-in-ipython\n",
    "%load_ext autoreload\n",
    "%autoreload 2"
   ]
  },
  {
   "cell_type": "markdown",
   "metadata": {},
   "source": [
    "# Build Model"
   ]
  },
  {
   "cell_type": "code",
   "execution_count": null,
   "metadata": {
    "collapsed": false
   },
   "outputs": [],
   "source": [
    "#=======Change These===============================\n",
    "max_train = 10000\n",
    "word_vector_size = 50\n",
    "#==================================================\n",
    "\n",
    "\n",
    "data = load_coco_data(pca_features = False, max_train = max_train)\n",
    "input_size = data['train_features'].shape[1]\n",
    "maxLen = data['train_captions'].shape[1]\n",
    "wordLs = []\n",
    "\n",
    "for caption in data['train_captions']:\n",
    "    for word in caption:\n",
    "        wordLs.append(word)\n",
    "voc_size = len(list(set(wordLs)))\n",
    "\n",
    "# Print out all the keys and values from the data dictionary\n",
    "for k, v in data.items():\n",
    "    if type(v) == np.ndarray:\n",
    "        print(k, type(v), v.shape, v.dtype)\n",
    "    else:\n",
    "        print(k, type(v), len(v))\n",
    "print('\\ninput_size:', input_size, ' maxLen:', maxLen, ' voc_size:', voc_size)\n",
    "print('Finish loading training data!')"
   ]
  },
  {
   "cell_type": "code",
   "execution_count": null,
   "metadata": {
    "collapsed": false
   },
   "outputs": [],
   "source": [
    "# create word2ind and ind2word dictionary\n",
    "index2Word_ori = data['idx_to_word']\n",
    "word2Index_ori = data['word_to_idx']\n",
    "\n",
    "wordLs = sorted(list(set(wordLs)))\n",
    "word2index = {}\n",
    "index2word = {}\n",
    "for i, word_ind in enumerate(wordLs):\n",
    "    word = index2Word_ori[word_ind]\n",
    "    word2index[word] = i\n",
    "    index2word[i] = word\n",
    "print('finish building dictionary')"
   ]
  },
  {
   "cell_type": "markdown",
   "metadata": {},
   "source": [
    "build model"
   ]
  },
  {
   "cell_type": "code",
   "execution_count": null,
   "metadata": {
    "collapsed": false
   },
   "outputs": [],
   "source": [
    "captions_train = {}\n",
    "captions_corresponding_videoIds = []\n",
    "input_frames_train = {}\n",
    "\n",
    "captions_corresponding_videoIds = data['train_image_idxs']\n",
    "for i, ind in enumerate(data['train_image_idxs']):\n",
    "    caption = data['train_captions'][i]\n",
    "    caption_new = []\n",
    "    for word_ind in caption:\n",
    "        word = index2Word_ori[word_ind]\n",
    "        caption_new.append( word2index[word] )\n",
    "        \n",
    "    captions_train[ind] = list(caption_new)\n",
    "    input_frames_train[ind] = data['train_features'][ind].reshape(1, input_size)\n",
    "\n",
    "word_embedding = np.random.randn(voc_size, word_vector_size).astype(np.float32)\n",
    "\n",
    "def get_session():\n",
    "    config = tf.ConfigProto()\n",
    "    config.gpu_options.allow_growth = True\n",
    "    session = tf.Session(config=config)\n",
    "    return session"
   ]
  },
  {
   "cell_type": "code",
   "execution_count": null,
   "metadata": {
    "collapsed": false
   },
   "outputs": [],
   "source": [
    "# define parameters\n",
    "logging.basicConfig(level=logging.INFO)\n",
    "#=======Change These===============================\n",
    "state_size = 1024\n",
    "#==================================================\n",
    "\n",
    "tf.app.flags.DEFINE_string(\"model_name\", \"sequence2sequence\", \"name of the model\")\n",
    "tf.app.flags.DEFINE_integer(\"state_size\", state_size, \"Size of each model layer.\")\n",
    "tf.app.flags.DEFINE_float(\"input_size\", 4096, \"input size for each frame\")\n",
    "tf.app.flags.DEFINE_integer(\"max_sentence_length\", 17, \"maximum captioning sentence length\")\n",
    "tf.app.flags.DEFINE_integer(\"word_vector_size\", word_vector_size, \"word embedding dimension default is 25 for twitter glove\")\n",
    "tf.app.flags.DEFINE_integer(\"num_frames\", 1, \"number of frames per video\")\n",
    "FLAGS = tf.app.flags.FLAGS        "
   ]
  },
  {
   "cell_type": "code",
   "execution_count": null,
   "metadata": {
    "collapsed": false
   },
   "outputs": [],
   "source": [
    "# build model graph\n",
    "tf.reset_default_graph()\n",
    "#=======Change These===============================\n",
    "batch_size = 64\n",
    "epoch = 10\n",
    "lr = 5e-4\n",
    "hidden_size = 1024\n",
    "#==================================================\n",
    "\n",
    "# model = image_caption_LSTM(word_embedding, FLAGS, batch_size=batch_size, hidden_size=hidden_size,\n",
    "#         voc_size = voc_size, n_epochs = epoch, lr = lr, reg = 1e-3, mode = 'train')\n",
    "\n",
    "model = sequence_2_sequence_LSTM(word_embedding, FLAGS, batch_size=batch_size, hidden_size=hidden_size,\n",
    "        voc_size = voc_size, n_epochs = epoch, lr = lr, reg = 1e-3, mode = 'train')\n",
    "\n",
    "\n",
    "model.train_embedding = True\n",
    "model.build()"
   ]
  },
  {
   "cell_type": "code",
   "execution_count": null,
   "metadata": {
    "collapsed": false
   },
   "outputs": [],
   "source": [
    "# check variables\n",
    "for v in tf.trainable_variables():\n",
    "    print(v)"
   ]
  },
  {
   "cell_type": "code",
   "execution_count": null,
   "metadata": {
    "collapsed": false,
    "scrolled": false
   },
   "outputs": [],
   "source": [
    "# run training mode\n",
    "# saver = tf.train.Saver()\n",
    "\n",
    "with get_session() as sess:\n",
    "    sess.run(tf.global_variables_initializer())\n",
    "    out = model.train(sess, (input_frames_train, captions_train), verbose = True)\n",
    "#     save_path = saver.save(sess, \"./saved_model/COCO_lstm.ckpt\")\n",
    "#     print(\"Model saved in file: %s\" % save_path)\n"
   ]
  },
  {
   "cell_type": "code",
   "execution_count": null,
   "metadata": {
    "collapsed": true
   },
   "outputs": [],
   "source": [
    "val_loss, tr_loss, tr_pred, val_pred, train_vid, val_vid = out"
   ]
  },
  {
   "cell_type": "code",
   "execution_count": null,
   "metadata": {
    "collapsed": false
   },
   "outputs": [],
   "source": [
    "# plot learning curve\n",
    "plt.plot(range(len(tr_loss)), tr_loss, 'r-', linewidth = 2, label = 'train')\n",
    "plt.plot(range(len(val_loss)), val_loss, 'b-', linewidth = 2, label = 'validation')\n",
    "plt.grid()\n",
    "plt.xlabel('iteration', fontsize = 13)\n",
    "plt.ylabel('loss', fontsize = 13)\n",
    "plt.title('iteration vs loss', fontsize = 15)\n",
    "plt.legend()\n",
    "# plt.savefig(os.getcwd() + '/output/CoCo_image_caption_learning_curve.png')\n",
    "plt.savefig(os.getcwd() + '/output/CoCo_seq2seq_learning_curve.png')"
   ]
  },
  {
   "cell_type": "code",
   "execution_count": null,
   "metadata": {
    "collapsed": false
   },
   "outputs": [],
   "source": [
    "# list_video_index, list_predict_index = out\n",
    "\n",
    "captions = captions_train\n",
    "train_urls = data['train_urls']\n",
    "# caption check\n",
    "for j in range(len(val_pred)):\n",
    "    words = []\n",
    "    trues = []\n",
    "    sample = val_pred[j]\n",
    "    vid = val_vid[j]\n",
    "    cap = captions[vid]\n",
    "    for idx, i in enumerate(sample):\n",
    "        word = index2word[i]\n",
    "        true = index2word[cap[idx]]\n",
    "        if word not in ['<START>', '<END>', '<pad>']:\n",
    "            words.append(word)\n",
    "        if true not in ['<START>', '<END>', '<pad>']:\n",
    "            trues.append(true)  \n",
    "#     if j<5:\n",
    "#         url = train_urls[vid]\n",
    "#         plt.imshow(image_from_url(url))\n",
    "#         plt.axis('off')\n",
    "#         plt.show()\n",
    "    print('Pred Caption: ', ' '.join(w for w in words))\n",
    "    print('True Caption: ', ' '.join(t for t in trues))\n",
    "    print('-'*50)"
   ]
  },
  {
   "cell_type": "code",
   "execution_count": null,
   "metadata": {
    "collapsed": true
   },
   "outputs": [],
   "source": []
  },
  {
   "cell_type": "markdown",
   "metadata": {},
   "source": [
    "# Look At Data"
   ]
  },
  {
   "cell_type": "code",
   "execution_count": null,
   "metadata": {
    "collapsed": false
   },
   "outputs": [],
   "source": [
    "\n",
    "\n",
    "url = train_urls[vid]\n",
    "plt.imshow(image_from_url(url))\n",
    "plt.axis('off')\n",
    "caption_str = decode_captions(caption, data['idx_to_word'])\n",
    "plt.title(caption_str)\n",
    "plt.show()\n",
    "\n",
    "# # Sample a minibatch and show the images and captions\n",
    "# batch_size = 1\n",
    "# captions, features, urls = sample_coco_minibatch(data, batch_size=batch_size)\n",
    "# for i, (caption, url) in enumerate(zip(captions, urls)):\n",
    "#     plt.imshow(image_from_url(url))\n",
    "#     plt.axis('off')\n",
    "#     caption_str = decode_captions(caption, data['idx_to_word'])\n",
    "#     plt.title(caption_str)\n",
    "#     plt.show()"
   ]
  }
 ],
 "metadata": {
  "kernelspec": {
   "display_name": "Python 3",
   "language": "python",
   "name": "python3"
  },
  "language_info": {
   "codemirror_mode": {
    "name": "ipython",
    "version": 3
   },
   "file_extension": ".py",
   "mimetype": "text/x-python",
   "name": "python",
   "nbconvert_exporter": "python",
   "pygments_lexer": "ipython3",
   "version": "3.5.2"
  }
 },
 "nbformat": 4,
 "nbformat_minor": 0
}
