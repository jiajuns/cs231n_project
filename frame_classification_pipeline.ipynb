{
 "cells": [
  {
   "cell_type": "code",
   "execution_count": null,
   "metadata": {
    "collapsed": false
   },
   "outputs": [],
   "source": [
    "# set up\n",
    "import numpy as np\n",
    "import os\n",
    "from keras.applications.vgg16 import VGG16\n",
    "from keras.applications.vgg16 import preprocess_input\n",
    "from keras.callbacks import ModelCheckpoint, ReduceLROnPlateau\n",
    "from keras.layers import Dense, Activation\n",
    "from keras.layers import Input, Flatten, Dense\n",
    "from keras.models import Model\n",
    "from keras import optimizers\n",
    "from keras import regularizers\n",
    "from keras.utils import to_categorical\n",
    "import gc"
   ]
  },
  {
   "cell_type": "code",
   "execution_count": null,
   "metadata": {
    "collapsed": false
   },
   "outputs": [],
   "source": [
    "# load data\n",
    "num_frames = 15\n",
    "npy_path = os.getcwd() + '/datasets/'\n",
    "train = np.load(npy_path + 'cache/train_num_videos4270_num_frame15.npz')\n",
    "Xtr = train['Xtrain']\n",
    "ytr = train['ytrain']\n",
    "print('Xtrain shape: ', Xtr.shape)\n",
    "print('ytrain shape: ', ytr.shape)"
   ]
  },
  {
   "cell_type": "code",
   "execution_count": null,
   "metadata": {
    "collapsed": false
   },
   "outputs": [],
   "source": [
    "# extract sample images per video\n",
    "sample = 3\n",
    "Xtr_re = Xtr.reshape((-1, 15, 7, 7, 512))[:, :sample, :, :, :]\n",
    "Xtr_re = Xtr_re.reshape((-1, 7, 7, 512))\n",
    "print('reshape xtrain: ', Xtr_re.shape)"
   ]
  },
  {
   "cell_type": "code",
   "execution_count": null,
   "metadata": {
    "collapsed": false
   },
   "outputs": [],
   "source": [
    "ytr_re = ytr.reshape((-1, 1))\n",
    "ytr_re = np.repeat(ytr_re, sample, axis = 1).reshape((Xtr_re.shape[0],))\n",
    "print('reshape ytrain: ', ytr_re.shape)"
   ]
  },
  {
   "cell_type": "code",
   "execution_count": null,
   "metadata": {
    "collapsed": true
   },
   "outputs": [],
   "source": [
    "del Xtr\n",
    "del ytr\n",
    "gc.collect()"
   ]
  },
  {
   "cell_type": "code",
   "execution_count": null,
   "metadata": {
    "collapsed": false
   },
   "outputs": [],
   "source": [
    "def classifier(optimizer, reg = 0.01):\n",
    "    x = Input(shape = (7, 7, 512))\n",
    "    x_flat = Flatten()(x)\n",
    "    fc1 = Dense(units = 4096, kernel_regularizer=regularizers.l2(reg))(x_flat)\n",
    "    fc2 = Dense(units = 256, kernel_regularizer=regularizers.l2(reg))(fc1)\n",
    "    fc3 = Dense(units = 10, kernel_regularizer=regularizers.l2(reg))(fc2)\n",
    "    sf = Activation('softmax')(fc3)\n",
    "    model = Model(inputs=x, outputs=sf)\n",
    "    model.compile(optimizer=optimizer,\n",
    "                      loss='categorical_crossentropy',\n",
    "                      metrics=['accuracy'])\n",
    "    return model"
   ]
  },
  {
   "cell_type": "code",
   "execution_count": null,
   "metadata": {
    "collapsed": true
   },
   "outputs": [],
   "source": [
    "def train(Xtr, ytr, model, epochs, bsize, split_ratio = 0.2, verbose = False):\n",
    "    \n",
    "    print('Model is Training...')\n",
    "    checkpointer = ModelCheckpoint(filepath='frame_classification_weights.hdf5', verbose=1, save_best_only=True)\n",
    "\n",
    "    # reduce learning rate when on plateau\n",
    "    reduceLR = ReduceLROnPlateau(monitor='val_loss', factor=0.1, patience=10, verbose=0, mode='auto', epsilon=0.0001, cooldown=0, min_lr=0)\n",
    "    \n",
    "    hist = model.fit(Xtr, ytr, epochs=epochs, batch_size= bsize, validation_split = split_ratio, \\\n",
    "                             verbose = verbose, callbacks=[checkpointer, reduceLR])\n",
    "    return hist"
   ]
  },
  {
   "cell_type": "code",
   "execution_count": null,
   "metadata": {
    "collapsed": false
   },
   "outputs": [],
   "source": [
    "# training\n",
    "adam = optimizers.Adam(lr=3e-6, beta_1=0.9, beta_2=0.999, epsilon=1e-8, decay=1e-6)\n",
    "cf = classifier(optimizer = adam, reg = 0.01)\n",
    "ytr_re = to_categorical(ytr_re, num_classes = 10)\n",
    "hist = train(Xtr_re, ytr_re, cf, epochs = 10, bsize = 64, verbose = True)"
   ]
  },
  {
   "cell_type": "code",
   "execution_count": null,
   "metadata": {
    "collapsed": true
   },
   "outputs": [],
   "source": [
    "# clear model\n",
    "cf = None\n",
    "gc.collect()"
   ]
  }
 ],
 "metadata": {
  "kernelspec": {
   "display_name": "Python 3",
   "language": "python",
   "name": "python3"
  },
  "language_info": {
   "codemirror_mode": {
    "name": "ipython",
    "version": 3
   },
   "file_extension": ".py",
   "mimetype": "text/x-python",
   "name": "python",
   "nbconvert_exporter": "python",
   "pygments_lexer": "ipython3",
   "version": "3.5.2"
  }
 },
 "nbformat": 4,
 "nbformat_minor": 0
}
