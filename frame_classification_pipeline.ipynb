{
 "cells": [
  {
   "cell_type": "code",
   "execution_count": 1,
   "metadata": {
    "collapsed": false
   },
   "outputs": [
    {
     "name": "stderr",
     "output_type": "stream",
     "text": [
      "Using TensorFlow backend.\n"
     ]
    }
   ],
   "source": [
    "# set up\n",
    "import numpy as np\n",
    "import os\n",
    "from keras.applications.vgg16 import VGG16\n",
    "from keras.applications.vgg16 import preprocess_input\n",
    "from keras.callbacks import ModelCheckpoint, ReduceLROnPlateau\n",
    "from keras.layers import Dense, Activation\n",
    "from keras.layers import Input, Flatten, Dense\n",
    "from keras.models import Model\n",
    "from keras import optimizers\n",
    "from keras import regularizers\n",
    "from keras.utils import to_categorical\n",
    "import gc"
   ]
  },
  {
   "cell_type": "code",
   "execution_count": 2,
   "metadata": {
    "collapsed": false
   },
   "outputs": [
    {
     "name": "stdout",
     "output_type": "stream",
     "text": [
      "Xtrain shape:  (64050, 7, 7, 512)\n",
      "ytrain shape:  (4270,)\n"
     ]
    }
   ],
   "source": [
    "# load data\n",
    "num_frames = 15\n",
    "npy_path = os.getcwd() + '/datasets/'\n",
    "train = np.load(npy_path + 'cache/train_num_videos4270_num_frame15.npz')\n",
    "Xtr = train['Xtrain']\n",
    "ytr = train['ytrain']\n",
    "print('Xtrain shape: ', Xtr.shape)\n",
    "print('ytrain shape: ', ytr.shape)"
   ]
  },
  {
   "cell_type": "code",
   "execution_count": 3,
   "metadata": {
    "collapsed": false
   },
   "outputs": [
    {
     "name": "stdout",
     "output_type": "stream",
     "text": [
      "reshape xtrain:  (42700, 7, 7, 512)\n"
     ]
    }
   ],
   "source": [
    "# extract sample images per video\n",
    "sample = 10\n",
    "Xtr_re = Xtr.reshape((-1, 15, 7, 7, 512))[:, :sample, :, :, :]\n",
    "Xtr_re = Xtr_re.reshape((-1, 7, 7, 512))\n",
    "print('reshape xtrain: ', Xtr_re.shape)"
   ]
  },
  {
   "cell_type": "code",
   "execution_count": 4,
   "metadata": {
    "collapsed": false
   },
   "outputs": [
    {
     "name": "stdout",
     "output_type": "stream",
     "text": [
      "reshape ytrain:  (42700,)\n"
     ]
    }
   ],
   "source": [
    "ytr_re = ytr.reshape((-1, 1))\n",
    "ytr_re = np.repeat(ytr_re, sample, axis = 1).reshape((Xtr_re.shape[0],))\n",
    "print('reshape ytrain: ', ytr_re.shape)"
   ]
  },
  {
   "cell_type": "code",
   "execution_count": 5,
   "metadata": {
    "collapsed": false
   },
   "outputs": [
    {
     "data": {
      "text/plain": [
       "6"
      ]
     },
     "execution_count": 5,
     "metadata": {},
     "output_type": "execute_result"
    }
   ],
   "source": [
    "del Xtr\n",
    "del ytr\n",
    "gc.collect()"
   ]
  },
  {
   "cell_type": "code",
   "execution_count": 6,
   "metadata": {
    "collapsed": false
   },
   "outputs": [],
   "source": [
    "def classifier(optimizer, reg = 0.01):\n",
    "    x = Input(shape = (7, 7, 512))\n",
    "    x_flat = Flatten()(x)\n",
    "    fc1 = Dense(units = 4096, kernel_regularizer=regularizers.l2(reg))(x_flat)\n",
    "    fc2 = Dense(units = 256, kernel_regularizer=regularizers.l2(reg))(fc1)\n",
    "    fc3 = Dense(units = 10, kernel_regularizer=regularizers.l2(reg))(fc2)\n",
    "    sf = Activation('softmax')(fc3)\n",
    "    model = Model(inputs=x, outputs=sf)\n",
    "    model.compile(optimizer=optimizer,\n",
    "                      loss='categorical_crossentropy',\n",
    "                      metrics=['accuracy'])\n",
    "    return model"
   ]
  },
  {
   "cell_type": "code",
   "execution_count": 7,
   "metadata": {
    "collapsed": true
   },
   "outputs": [],
   "source": [
    "def train(Xtr, ytr, model, epochs, bsize, split_ratio = 0.2, verbose = False):\n",
    "    \n",
    "    print('Model is Training...')\n",
    "    checkpointer = ModelCheckpoint(filepath='frame_classification_weights.hdf5', verbose=1, save_best_only=True)\n",
    "\n",
    "    # reduce learning rate when on plateau\n",
    "    reduceLR = ReduceLROnPlateau(monitor='val_loss', factor=0.1, patience=10, verbose=0, mode='auto', epsilon=0.0001, cooldown=0, min_lr=0)\n",
    "    \n",
    "    hist = model.fit(Xtr, ytr, epochs=epochs, batch_size= bsize, validation_split = split_ratio, \\\n",
    "                             verbose = verbose, callbacks=[checkpointer, reduceLR])\n",
    "    return hist"
   ]
  },
  {
   "cell_type": "code",
   "execution_count": 12,
   "metadata": {
    "collapsed": false
   },
   "outputs": [
    {
     "data": {
      "text/plain": [
       "0"
      ]
     },
     "execution_count": 12,
     "metadata": {},
     "output_type": "execute_result"
    }
   ],
   "source": [
    "cf = None\n",
    "gc.collect()"
   ]
  },
  {
   "cell_type": "code",
   "execution_count": 8,
   "metadata": {
    "collapsed": false,
    "scrolled": true
   },
   "outputs": [
    {
     "name": "stdout",
     "output_type": "stream",
     "text": [
      "Model is Training...\n",
      "Train on 34160 samples, validate on 8540 samples\n",
      "Epoch 1/20\n",
      "34112/34160 [============================>.] - ETA: 0s - loss: 82.3590 - acc: 0.4498Epoch 00000: val_loss improved from inf to 81.76278, saving model to frame_classification_weights.hdf5\n",
      "34160/34160 [==============================] - 118s - loss: 82.3526 - acc: 0.4502 - val_loss: 81.7628 - val_acc: 0.4219\n",
      "Epoch 2/20\n",
      "34112/34160 [============================>.] - ETA: 0s - loss: 77.0274 - acc: 0.6628Epoch 00001: val_loss improved from 81.76278 to 77.84330, saving model to frame_classification_weights.hdf5\n",
      "34160/34160 [==============================] - 115s - loss: 77.0249 - acc: 0.6629 - val_loss: 77.8433 - val_acc: 0.5294\n",
      "Epoch 3/20\n",
      "34112/34160 [============================>.] - ETA: 0s - loss: 73.5167 - acc: 0.7466Epoch 00002: val_loss improved from 77.84330 to 75.82894, saving model to frame_classification_weights.hdf5\n",
      "34160/34160 [==============================] - 115s - loss: 73.5146 - acc: 0.7467 - val_loss: 75.8289 - val_acc: 0.5138\n",
      "Epoch 4/20\n",
      "34112/34160 [============================>.] - ETA: 0s - loss: 70.5853 - acc: 0.7843Epoch 00003: val_loss improved from 75.82894 to 73.16956, saving model to frame_classification_weights.hdf5\n",
      "34160/34160 [==============================] - 115s - loss: 70.5824 - acc: 0.7844 - val_loss: 73.1696 - val_acc: 0.5287\n",
      "Epoch 5/20\n",
      "34112/34160 [============================>.] - ETA: 0s - loss: 67.7787 - acc: 0.8024Epoch 00004: val_loss improved from 73.16956 to 70.56595, saving model to frame_classification_weights.hdf5\n",
      "34160/34160 [==============================] - 115s - loss: 67.7758 - acc: 0.8025 - val_loss: 70.5660 - val_acc: 0.5290\n",
      "Epoch 6/20\n",
      "34112/34160 [============================>.] - ETA: 0s - loss: 64.8557 - acc: 0.8250Epoch 00005: val_loss improved from 70.56595 to 67.98050, saving model to frame_classification_weights.hdf5\n",
      "34160/34160 [==============================] - 116s - loss: 64.8525 - acc: 0.8251 - val_loss: 67.9805 - val_acc: 0.5219\n",
      "Epoch 7/20\n",
      "34112/34160 [============================>.] - ETA: 0s - loss: 61.9640 - acc: 0.8382Epoch 00006: val_loss improved from 67.98050 to 65.11199, saving model to frame_classification_weights.hdf5\n",
      "34160/34160 [==============================] - 115s - loss: 61.9627 - acc: 0.8381 - val_loss: 65.1120 - val_acc: 0.5316\n",
      "Epoch 8/20\n",
      "34112/34160 [============================>.] - ETA: 0s - loss: 59.0933 - acc: 0.8448Epoch 00007: val_loss improved from 65.11199 to 62.32540, saving model to frame_classification_weights.hdf5\n",
      "34160/34160 [==============================] - 115s - loss: 59.0931 - acc: 0.8447 - val_loss: 62.3254 - val_acc: 0.5326\n",
      "Epoch 9/20\n",
      "34112/34160 [============================>.] - ETA: 0s - loss: 56.1710 - acc: 0.8500Epoch 00008: val_loss improved from 62.32540 to 59.69522, saving model to frame_classification_weights.hdf5\n",
      "34160/34160 [==============================] - 115s - loss: 56.1695 - acc: 0.8499 - val_loss: 59.6952 - val_acc: 0.5191\n",
      "Epoch 10/20\n",
      "34112/34160 [============================>.] - ETA: 0s - loss: 53.2600 - acc: 0.8569Epoch 00009: val_loss improved from 59.69522 to 56.89892, saving model to frame_classification_weights.hdf5\n",
      "34160/34160 [==============================] - 115s - loss: 53.2578 - acc: 0.8569 - val_loss: 56.8989 - val_acc: 0.5181\n",
      "Epoch 11/20\n",
      "34112/34160 [============================>.] - ETA: 0s - loss: 50.4128 - acc: 0.8639Epoch 00010: val_loss improved from 56.89892 to 54.01225, saving model to frame_classification_weights.hdf5\n",
      "34160/34160 [==============================] - 115s - loss: 50.4111 - acc: 0.8639 - val_loss: 54.0123 - val_acc: 0.5322\n",
      "Epoch 12/20\n",
      "34112/34160 [============================>.] - ETA: 0s - loss: 47.6898 - acc: 0.8665Epoch 00011: val_loss improved from 54.01225 to 51.49769, saving model to frame_classification_weights.hdf5\n",
      "34160/34160 [==============================] - 115s - loss: 47.6883 - acc: 0.8665 - val_loss: 51.4977 - val_acc: 0.5301\n",
      "Epoch 13/20\n",
      "34112/34160 [============================>.] - ETA: 0s - loss: 45.1192 - acc: 0.8708Epoch 00012: val_loss improved from 51.49769 to 49.02242, saving model to frame_classification_weights.hdf5\n",
      "34160/34160 [==============================] - 115s - loss: 45.1165 - acc: 0.8709 - val_loss: 49.0224 - val_acc: 0.5340\n",
      "Epoch 14/20\n",
      "34112/34160 [============================>.] - ETA: 0s - loss: 42.6626 - acc: 0.8752Epoch 00013: val_loss improved from 49.02242 to 46.87020, saving model to frame_classification_weights.hdf5\n",
      "34160/34160 [==============================] - 116s - loss: 42.6598 - acc: 0.8752 - val_loss: 46.8702 - val_acc: 0.5184\n",
      "Epoch 15/20\n",
      "34112/34160 [============================>.] - ETA: 0s - loss: 40.3031 - acc: 0.8814Epoch 00014: val_loss improved from 46.87020 to 44.44794, saving model to frame_classification_weights.hdf5\n",
      "34160/34160 [==============================] - 115s - loss: 40.3017 - acc: 0.8814 - val_loss: 44.4479 - val_acc: 0.5303\n",
      "Epoch 16/20\n",
      "34112/34160 [============================>.] - ETA: 0s - loss: 38.0477 - acc: 0.8840Epoch 00015: val_loss improved from 44.44794 to 42.30103, saving model to frame_classification_weights.hdf5\n",
      "34160/34160 [==============================] - 115s - loss: 38.0461 - acc: 0.8840 - val_loss: 42.3010 - val_acc: 0.5281\n",
      "Epoch 17/20\n",
      "34112/34160 [============================>.] - ETA: 0s - loss: 35.8802 - acc: 0.8877Epoch 00016: val_loss improved from 42.30103 to 40.18445, saving model to frame_classification_weights.hdf5\n",
      "34160/34160 [==============================] - 115s - loss: 35.8764 - acc: 0.8879 - val_loss: 40.1844 - val_acc: 0.5322\n",
      "Epoch 18/20\n",
      "34112/34160 [============================>.] - ETA: 0s - loss: 33.8031 - acc: 0.8918Epoch 00017: val_loss improved from 40.18445 to 38.13964, saving model to frame_classification_weights.hdf5\n",
      "34160/34160 [==============================] - 115s - loss: 33.8009 - acc: 0.8919 - val_loss: 38.1396 - val_acc: 0.5335\n",
      "Epoch 19/20\n",
      "34112/34160 [============================>.] - ETA: 0s - loss: 31.8029 - acc: 0.8934Epoch 00018: val_loss improved from 38.13964 to 36.30027, saving model to frame_classification_weights.hdf5\n",
      "34160/34160 [==============================] - 115s - loss: 31.8036 - acc: 0.8933 - val_loss: 36.3003 - val_acc: 0.5256\n",
      "Epoch 20/20\n",
      "34112/34160 [============================>.] - ETA: 0s - loss: 29.9317 - acc: 0.8950Epoch 00019: val_loss improved from 36.30027 to 34.61454, saving model to frame_classification_weights.hdf5\n",
      "34160/34160 [==============================] - 115s - loss: 29.9311 - acc: 0.8950 - val_loss: 34.6145 - val_acc: 0.5246\n"
     ]
    }
   ],
   "source": [
    "# training\n",
    "adam = optimizers.Adam(lr=1e-5, beta_1=0.9, beta_2=0.999, epsilon=1e-8, decay=1e-6)\n",
    "cf = classifier(optimizer = adam, reg = 0.01)\n",
    "ytr_re = to_categorical(ytr_re, num_classes = 10)\n",
    "hist = train(Xtr_re, ytr_re, cf, epochs = 20, bsize = 64, verbose = True)"
   ]
  },
  {
   "cell_type": "code",
   "execution_count": 9,
   "metadata": {
    "collapsed": false
   },
   "outputs": [
    {
     "data": {
      "image/png": "[encoded data removed]",
      "text/plain": [
       "<matplotlib.figure.Figure at 0x7fe153748518>"
      ]
     },
     "metadata": {},
     "output_type": "display_data"
    }
   ],
   "source": [
    "import matplotlib.pyplot as plt\n",
    "%matplotlib inline\n",
    "def plot(hist):\n",
    "    '''\n",
    "    plot training history accuracy and loss between training sets and validation sets\n",
    "    '''\n",
    "    plt.subplot(121)\n",
    "    plt.plot(hist.history['loss'])\n",
    "    plt.plot(hist.history['val_loss'])\n",
    "    plt.title('model loss')\n",
    "    plt.ylabel('loss')\n",
    "    plt.xlabel('epoch')\n",
    "    plt.legend(['train', 'validation'], loc='upper right')\n",
    "\n",
    "    plt.subplot(122)\n",
    "    plt.plot(hist.history['acc'])\n",
    "    plt.plot(hist.history['val_acc'])\n",
    "    plt.title('model acc')\n",
    "    plt.ylabel('accuracy')\n",
    "    plt.xlabel('epoch')\n",
    "    plt.legend(['train', 'validation'], loc='upper left')\n",
    "    plt.show()\n",
    "plot(hist)"
   ]
  },
  {
   "cell_type": "code",
   "execution_count": 29,
   "metadata": {
    "collapsed": true
   },
   "outputs": [],
   "source": [
    "from collections import Counter\n",
    "def predict(Xte, yte, model):\n",
    "    '''\n",
    "    Xte: test feature data (sample_size, temporal/frames, height, width, filter_num/channels)\n",
    "    yte: test true labels (sample_size, )\n",
    "    '''\n",
    "    model.load_weights('frame_classification_weights.hdf5')\n",
    "    ypred = model.predict(Xte)\n",
    "    ypred = np.argmax(ypred, axis = 1)\n",
    "    ypred = ypred.reshape((-1, 15))\n",
    "    ypred_test = []\n",
    "    for s in range(ypred.shape[0]):\n",
    "        yr = ypred[s, :].ravel()\n",
    "        counts = Counter(yr)\n",
    "        ypred_test.append(counts.most_common(1)[0][0])\n",
    "    \n",
    "    acc = np.mean(yte == ypred_test)\n",
    "    print('Video Classification Accuracy: {0}'.format(acc))\n",
    "    return ypred_test"
   ]
  },
  {
   "cell_type": "code",
   "execution_count": 20,
   "metadata": {
    "collapsed": false
   },
   "outputs": [
    {
     "data": {
      "text/plain": [
       "42"
      ]
     },
     "execution_count": 20,
     "metadata": {},
     "output_type": "execute_result"
    }
   ],
   "source": [
    "# clear memory\n",
    "# del Xtr_re\n",
    "# del ytr_re\n",
    "gc.collect()"
   ]
  },
  {
   "cell_type": "code",
   "execution_count": 21,
   "metadata": {
    "collapsed": false
   },
   "outputs": [
    {
     "name": "stdout",
     "output_type": "stream",
     "text": [
      "Xtest shape:  (27450, 7, 7, 512)\n",
      "ytest shape:  (1830,)\n"
     ]
    }
   ],
   "source": [
    "# load test data\n",
    "Xte = np.load(npy_path + 'Xtest_all_' + str(num_frames) + 'frames.npy')\n",
    "yte = np.load(npy_path + 'ytest_all_' + str(num_frames) + 'frames.npy')\n",
    "print('Xtest shape: ', Xte.shape)\n",
    "print('ytest shape: ', yte.shape)"
   ]
  },
  {
   "cell_type": "code",
   "execution_count": 26,
   "metadata": {
    "collapsed": false
   },
   "outputs": [
    {
     "name": "stdout",
     "output_type": "stream",
     "text": [
      "reshape Xte:  (27450, 7, 7, 512)\n",
      "reshape yte:  (1830,)\n"
     ]
    }
   ],
   "source": [
    "Xte_re = Xte.reshape((-17, 7, 7, 512))\n",
    "yte_re = yte.copy()\n",
    "print('reshape Xte: ', Xte_re.shape)\n",
    "print('reshape yte: ', yte_re.shape)"
   ]
  },
  {
   "cell_type": "code",
   "execution_count": 30,
   "metadata": {
    "collapsed": false
   },
   "outputs": [
    {
     "name": "stdout",
     "output_type": "stream",
     "text": [
      "Video Classification Accuracy: 0.5781420765027322\n"
     ]
    }
   ],
   "source": [
    "ypred = predict(Xte_re, yte_re, cf)"
   ]
  },
  {
   "cell_type": "code",
   "execution_count": 32,
   "metadata": {
    "collapsed": false
   },
   "outputs": [
    {
     "name": "stdout",
     "output_type": "stream",
     "text": [
      "                      precision    recall  f1-score   support\n",
      "\n",
      "               music       0.53      0.29      0.37       195\n",
      "              gaming       0.52      0.64      0.58       122\n",
      "      sports/actions       0.62      0.77      0.69       288\n",
      "news/events/politics       0.45      0.45      0.45       133\n",
      "        movie/comedy       0.43      0.62      0.51       220\n",
      "      vehicles/autos       0.77      0.77      0.77       229\n",
      "               howto       0.64      0.48      0.55       163\n",
      "        animals/pets       0.58      0.50      0.53       145\n",
      "         kids/family       0.49      0.51      0.50       152\n",
      "          food/drink       0.79      0.55      0.65       183\n",
      "\n",
      "         avg / total       0.59      0.58      0.57      1830\n",
      "\n"
     ]
    }
   ],
   "source": [
    "from sklearn.metrics import classification_report\n",
    "def classification_report_func(model, yte, ypred):\n",
    "    target_names = ['music', 'gaming', 'sports/actions', 'news/events/politics', 'movie/comedy', 'vehicles/autos',\\\n",
    "               'howto', 'animals/pets', 'kids/family', 'food/drink']\n",
    "    print(classification_report(yte, ypred, target_names = target_names))\n",
    "classification_report_func(cf, yte, ypred)"
   ]
  },
  {
   "cell_type": "code",
   "execution_count": 33,
   "metadata": {
    "collapsed": false
   },
   "outputs": [],
   "source": [
    "del Xte_re\n",
    "del yte_re"
   ]
  },
  {
   "cell_type": "code",
   "execution_count": 35,
   "metadata": {
    "collapsed": false
   },
   "outputs": [
    {
     "data": {
      "text/plain": [
       "0"
      ]
     },
     "execution_count": 35,
     "metadata": {},
     "output_type": "execute_result"
    }
   ],
   "source": [
    "gc.collect()"
   ]
  },
  {
   "cell_type": "code",
   "execution_count": null,
   "metadata": {
    "collapsed": true
   },
   "outputs": [],
   "source": []
  }
 ],
 "metadata": {
  "kernelspec": {
   "display_name": "Python 3",
   "language": "python",
   "name": "python3"
  },
  "language_info": {
   "codemirror_mode": {
    "name": "ipython",
    "version": 3
   },
   "file_extension": ".py",
   "mimetype": "text/x-python",
   "name": "python",
   "nbconvert_exporter": "python",
   "pygments_lexer": "ipython3",
   "version": "3.5.2"
  }
 },
 "nbformat": 4,
 "nbformat_minor": 0
}
