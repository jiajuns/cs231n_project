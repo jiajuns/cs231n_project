{
 "cells": [
  {
   "cell_type": "code",
   "execution_count": 1,
   "metadata": {},
   "outputs": [],
   "source": [
    "# !usr/env python 3.5\n",
    "from load_data import Download_Video\n",
    "from datetime import datetime\n",
    "import os\n",
    "import logging\n",
    "\n",
    "%load_ext autoreload\n",
    "%autoreload 2"
   ]
  },
  {
   "cell_type": "markdown",
   "metadata": {},
   "source": [
    "# download data"
   ]
  },
  {
   "cell_type": "code",
   "execution_count": 2,
   "metadata": {
    "scrolled": true
   },
   "outputs": [
    {
     "name": "stdout",
     "output_type": "stream",
     "text": [
      "Download time 0:00:17.639549\n"
     ]
    }
   ],
   "source": [
    "# load data\n",
    "video_num = 5\n",
    "frame_count = 10\n",
    "video_time = 10\n",
    "d = Download_Video(video_num, frame_count, video_time)\n",
    "tic = datetime.now()\n",
    "d.download_organizer()\n",
    "toc = datetime.now()\n",
    "print('Download time {0}'.format(toc-tic))"
   ]
  },
  {
   "cell_type": "markdown",
   "metadata": {},
   "source": [
    "# process data"
   ]
  },
  {
   "cell_type": "code",
   "execution_count": 3,
   "metadata": {},
   "outputs": [
    {
     "name": "stdout",
     "output_type": "stream",
     "text": [
      "\n",
      "[MoviePy] Running:\n",
      ">>> /Users/sunjiajun/Library/Application Support/imageio/ffmpeg/ffmpeg.osx -y -i /Users/sunjiajun/cs231n_project/datasets/videos/video2.mp4 -ss 31.17 -t 10.00 -vcodec copy -acodec copy /Users/sunjiajun/cs231n_project/datasets/processed/processed_video2.mp4\n",
      "[MoviePy] Running:\n",
      ">>> /Users/sunjiajun/Library/Application Support/imageio/ffmpeg/ffmpeg.osx -y -i /Users/sunjiajun/cs231n_project/datasets/videos/video1.mp4 -ss 184.33 -t 10.00 -vcodec copy -acodec copy /Users/sunjiajun/cs231n_project/datasets/processed/processed_video1.mp4\n",
      "[MoviePy] Running:\n",
      ">>> /Users/sunjiajun/Library/Application Support/imageio/ffmpeg/ffmpeg.osx -y -i /Users/sunjiajun/cs231n_project/datasets/videos/video3.mp4 -ss 48.26 -t 10.00 -vcodec copy -acodec copy /Users/sunjiajun/cs231n_project/datasets/processed/processed_video3.mp4\n",
      "[MoviePy] Running:\n",
      ">>> /Users/sunjiajun/Library/Application Support/imageio/ffmpeg/ffmpeg.osx -y -i /Users/sunjiajun/cs231n_project/datasets/videos/video0.mp4 -ss 137.72 -t 10.00 -vcodec copy -acodec copy /Users/sunjiajun/cs231n_project/datasets/processed/processed_video0.mp4\n",
      "... command successful.\n",
      "\n",
      "... command successful.\n",
      "\n",
      "... command successful.\n",
      "\n",
      "... command successful.\n",
      "\n",
      "[MoviePy] Running:\n",
      ">>> /Users/sunjiajun/Library/Application Support/imageio/ffmpeg/ffmpeg.osx -y -i /Users/sunjiajun/cs231n_project/datasets/videos/video4.mp4 -ss 268.58 -t 10.00 -vcodec copy -acodec copy /Users/sunjiajun/cs231n_project/datasets/processed/processed_video4.mp4\n",
      "... command successful.\n",
      "Download time 0:00:05.407386\n"
     ]
    }
   ],
   "source": [
    "# process data\n",
    "video_num = 5\n",
    "frame_count = 10\n",
    "video_time = 10\n",
    "d = Download_Video(video_num, frame_count, video_time)\n",
    "tic = datetime.now()\n",
    "d.preprocess_organizer()\n",
    "toc = datetime.now()\n",
    "print('Download time {0}'.format(toc-tic))"
   ]
  },
  {
   "cell_type": "markdown",
   "metadata": {},
   "source": [
    "# Check label file"
   ]
  },
  {
   "cell_type": "code",
   "execution_count": 26,
   "metadata": {
    "collapsed": true
   },
   "outputs": [],
   "source": [
    "import numpy as np"
   ]
  },
  {
   "cell_type": "code",
   "execution_count": 27,
   "metadata": {},
   "outputs": [
    {
     "data": {
      "text/plain": [
       "(8633, 2)"
      ]
     },
     "execution_count": 27,
     "metadata": {},
     "output_type": "execute_result"
    }
   ],
   "source": [
    "curr = os.getcwd() + '/datasets/category.npy'\n",
    "y = np.load(curr)\n",
    "y.shape"
   ]
  },
  {
   "cell_type": "code",
   "execution_count": null,
   "metadata": {
    "collapsed": true
   },
   "outputs": [],
   "source": []
  }
 ],
 "metadata": {
  "kernelspec": {
   "display_name": "Python [Root]",
   "language": "python",
   "name": "Python [Root]"
  },
  "language_info": {
   "codemirror_mode": {
    "name": "ipython",
    "version": 3
   },
   "file_extension": ".py",
   "mimetype": "text/x-python",
   "name": "python",
   "nbconvert_exporter": "python",
   "pygments_lexer": "ipython3",
   "version": "3.5.1"
  }
 },
 "nbformat": 4,
 "nbformat_minor": 1
}
