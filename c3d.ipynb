{
 "cells": [
  {
   "cell_type": "code",
   "execution_count": 24,
   "metadata": {
    "collapsed": false
   },
   "outputs": [
    {
     "name": "stderr",
     "output_type": "stream",
     "text": [
      "100%|██████████| 1000/1000 [01:51<00:00,  5.26it/s]\n"
     ]
    }
   ],
   "source": [
    "from frame_classification_process import frame_process\n",
    "from keras.utils import to_categorical\n",
    "import numpy as np\n",
    "import os\n",
    "\n",
    "curr_path = os.getcwd()\n",
    "x_train_ind = np.load(curr_path+'/datasets/x_train_ind_above400.npy')\n",
    "y_train = np.load(curr_path+'/datasets/y_train_mapped_above400.npy')\n",
    "num_videos = len(y_train)\n",
    "num_classes = len(np.unique(y_train))\n",
    "\n",
    " \n",
    "num_videos = 1000 # parameter setting\n",
    "if num_videos > len(y_train) or None: \n",
    "    num_videos = len(y_train)\n",
    "\n",
    "    \n",
    "x_train_ind = x_train_ind[:num_videos]\n",
    "y_train = to_categorical(y_train[:num_videos], num_classes=num_classes)\n",
    "\n",
    "fp = frame_process(num_videos, size = (80,80,3))\n",
    "X = fp.process_updates_frameSeq_stacked(x_train_ind, y_train, 10, \"c3d_X_train\")"
   ]
  },
  {
   "cell_type": "code",
   "execution_count": 25,
   "metadata": {
    "collapsed": false
   },
   "outputs": [
    {
     "name": "stdout",
     "output_type": "stream",
     "text": [
      "(10, 80, 80, 3)\n",
      "(None, 4, 38, 38, 32)\n",
      "(None, 2, 17, 17, 64)\n",
      "(None, 1, 7, 7, 128)\n",
      "(None, 256)\n",
      "(None, 256)\n",
      "(None, 10)\n",
      "Train on 800 samples, validate on 200 samples\n",
      "Epoch 1/30\n",
      "800/800 [==============================] - 3s - loss: 6.2494 - acc: 0.0975 - val_loss: 11.4986 - val_acc: 0.1000\n",
      "Epoch 2/30\n",
      "800/800 [==============================] - 2s - loss: 2.8962 - acc: 0.1113 - val_loss: 12.3264 - val_acc: 0.1400\n",
      "Epoch 3/30\n",
      "800/800 [==============================] - 2s - loss: 2.6805 - acc: 0.0938 - val_loss: 9.8190 - val_acc: 0.1000\n",
      "Epoch 4/30\n",
      "800/800 [==============================] - 3s - loss: 2.6338 - acc: 0.1175 - val_loss: 7.9450 - val_acc: 0.1000\n",
      "Epoch 5/30\n",
      "800/800 [==============================] - 3s - loss: 2.5336 - acc: 0.1050 - val_loss: 4.8469 - val_acc: 0.1000\n",
      "Epoch 6/30\n",
      "800/800 [==============================] - 2s - loss: 2.5412 - acc: 0.0925 - val_loss: 3.2546 - val_acc: 0.1000\n",
      "Epoch 7/30\n",
      "800/800 [==============================] - 2s - loss: 2.4993 - acc: 0.1162 - val_loss: 2.8774 - val_acc: 0.1000\n",
      "Epoch 8/30\n",
      "800/800 [==============================] - 2s - loss: 2.4409 - acc: 0.1125 - val_loss: 2.5161 - val_acc: 0.0600\n",
      "Epoch 9/30\n",
      "800/800 [==============================] - 2s - loss: 2.4108 - acc: 0.1387 - val_loss: 2.3850 - val_acc: 0.1000\n",
      "Epoch 10/30\n",
      "800/800 [==============================] - 2s - loss: 2.4021 - acc: 0.1000 - val_loss: 2.3649 - val_acc: 0.1000\n",
      "Epoch 11/30\n",
      "800/800 [==============================] - 2s - loss: 2.3983 - acc: 0.1250 - val_loss: 2.3227 - val_acc: 0.1400\n",
      "Epoch 12/30\n",
      "800/800 [==============================] - 2s - loss: 2.3731 - acc: 0.0987 - val_loss: 2.3097 - val_acc: 0.1000\n",
      "Epoch 13/30\n",
      "800/800 [==============================] - 2s - loss: 2.3600 - acc: 0.1300 - val_loss: 2.3063 - val_acc: 0.1150\n",
      "Epoch 14/30\n",
      "800/800 [==============================] - 2s - loss: 2.3237 - acc: 0.1313 - val_loss: 2.6301 - val_acc: 0.1400\n",
      "Epoch 15/30\n",
      "800/800 [==============================] - 2s - loss: 2.3481 - acc: 0.1050 - val_loss: 2.2966 - val_acc: 0.1150\n",
      "Epoch 16/30\n",
      "800/800 [==============================] - 2s - loss: 2.3403 - acc: 0.1100 - val_loss: 2.2764 - val_acc: 0.1300\n",
      "Epoch 17/30\n",
      "800/800 [==============================] - 2s - loss: 2.3136 - acc: 0.1400 - val_loss: 2.2889 - val_acc: 0.1150\n",
      "Epoch 18/30\n",
      "800/800 [==============================] - 2s - loss: 2.3126 - acc: 0.1175 - val_loss: 2.2790 - val_acc: 0.1400\n",
      "Epoch 19/30\n",
      "800/800 [==============================] - 2s - loss: 2.3197 - acc: 0.1150 - val_loss: 2.2852 - val_acc: 0.1300\n",
      "Epoch 20/30\n",
      "800/800 [==============================] - 2s - loss: 2.3132 - acc: 0.1300 - val_loss: 2.2931 - val_acc: 0.1400\n",
      "Epoch 21/30\n",
      "800/800 [==============================] - 2s - loss: 2.3023 - acc: 0.1450 - val_loss: 2.3121 - val_acc: 0.1400\n",
      "Epoch 22/30\n",
      "800/800 [==============================] - 2s - loss: 2.2991 - acc: 0.1387 - val_loss: 2.2797 - val_acc: 0.1400\n",
      "Epoch 23/30\n",
      "800/800 [==============================] - 2s - loss: 2.3045 - acc: 0.1325 - val_loss: 2.3141 - val_acc: 0.1400\n",
      "Epoch 24/30\n",
      "800/800 [==============================] - 2s - loss: 2.2877 - acc: 0.1487 - val_loss: 2.2868 - val_acc: 0.1400\n",
      "Epoch 25/30\n",
      "800/800 [==============================] - 2s - loss: 2.2923 - acc: 0.1225 - val_loss: 2.2800 - val_acc: 0.1400\n",
      "Epoch 26/30\n",
      "800/800 [==============================] - 2s - loss: 2.2857 - acc: 0.1263 - val_loss: 2.2939 - val_acc: 0.1400\n",
      "Epoch 27/30\n",
      "800/800 [==============================] - 2s - loss: 2.2885 - acc: 0.1425 - val_loss: 2.3393 - val_acc: 0.1400\n",
      "Epoch 28/30\n",
      "800/800 [==============================] - 2s - loss: 2.2888 - acc: 0.1463 - val_loss: 2.2808 - val_acc: 0.1150\n",
      "Epoch 29/30\n",
      "800/800 [==============================] - 2s - loss: 2.2882 - acc: 0.1350 - val_loss: 2.2802 - val_acc: 0.1400\n",
      "Epoch 30/30\n",
      "800/800 [==============================] - 2s - loss: 2.2746 - acc: 0.1500 - val_loss: 2.2769 - val_acc: 0.1400\n"
     ]
    }
   ],
   "source": [
    "from models import models\n",
    "\n",
    "\n",
    "model = models(num_classes, \"c3d\", num_frames = 10, reg = 0)\n",
    "history = model.model.fit(X, y_train, epochs=30, batch_size=32, validation_split = 0.2, verbose = 1)\n"
   ]
  },
  {
   "cell_type": "code",
   "execution_count": 19,
   "metadata": {
    "collapsed": false
   },
   "outputs": [
    {
     "name": "stdout",
     "output_type": "stream",
     "text": [
      "(5, 10, 80, 80, 3)\n",
      "{8: 1, 1: 1, 2: 1, 9: 2}\n"
     ]
    }
   ],
   "source": [
    "print (X.shape)\n",
    "y_train = np.load(curr_path+'/datasets/y_train_mapped_above400.npy')\n",
    "y_train = y_train[:num_videos]\n",
    "unique, counts = np.unique(y_train, return_counts=True)\n",
    "y_count = dict(zip(unique, counts))\n",
    "print (y_count)"
   ]
  },
  {
   "cell_type": "code",
   "execution_count": null,
   "metadata": {
    "collapsed": true
   },
   "outputs": [],
   "source": [
    "# plot training history\n",
    "# print(history.history.keys())\n",
    "# plt.subplots(121)\n",
    "plt.plot(history.history['acc'])\n",
    "# # plt.plot(history.history['val_acc'])"
   ]
  }
 ],
 "metadata": {
  "kernelspec": {
   "display_name": "Python 3",
   "language": "python",
   "name": "python3"
  },
  "language_info": {
   "codemirror_mode": {
    "name": "ipython",
    "version": 3
   },
   "file_extension": ".py",
   "mimetype": "text/x-python",
   "name": "python",
   "nbconvert_exporter": "python",
   "pygments_lexer": "ipython3",
   "version": "3.5.2"
  }
 },
 "nbformat": 4,
 "nbformat_minor": 0
}
