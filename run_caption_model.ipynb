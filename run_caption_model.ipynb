{
 "cells": [
  {
   "cell_type": "code",
   "execution_count": 1,
   "metadata": {
    "collapsed": false
   },
   "outputs": [
    {
     "name": "stdout",
     "output_type": "stream",
     "text": [
      "captions shape:  4\n",
      "start building model ...\n",
      "(?, 15, 25088)\n",
      "caption embedding shape:  (?, 4, 50)\n",
      "word vecs shape:  (?, 4, 50)\n",
      "total number of parameter 10141050\n"
     ]
    },
    {
     "name": "stderr",
     "output_type": "stream",
     "text": [
      "100%|██████████| 500/500 [03:33<00:00,  2.40it/s]\n"
     ]
    }
   ],
   "source": [
    "# !/usr/env python3\n",
    "\n",
    "'''\n",
    "Output:\n",
    "video captioning model itself and produce loss curve\n",
    "\n",
    "Usage:\n",
    "main document to train the video captioning model\n",
    "'''\n",
    "\n",
    "from __future__ import print_function\n",
    "import tensorflow as tf\n",
    "import pickle\n",
    "import os\n",
    "import numpy as np\n",
    "import logging\n",
    "import matplotlib.pyplot as plt\n",
    "%matplotlib inline\n",
    "from model.caption_model import sequence_2_sequence_LSTM\n",
    "\n",
    "\n",
    "logging.basicConfig(level=logging.INFO)\n",
    "#=======Change These===============================\n",
    "tf.app.flags.DEFINE_string(\"model_name\", \"baseline_1\", \"name of the model\")\n",
    "tf.app.flags.DEFINE_integer(\"state_size\", 100, \"Size of each model layer.\")\n",
    "tf.app.flags.DEFINE_float(\"learning_rate\", 0.001, \"Base Learning rate.\")\n",
    "#==================================================\n",
    "\n",
    "tf.app.flags.DEFINE_float(\"input_size\", 7*7*512, \"input size for each frame\")\n",
    "tf.app.flags.DEFINE_integer(\"batch_size\", 64, \"how many videos put per run\")\n",
    "tf.app.flags.DEFINE_integer(\"max_sentence_length\", 4, \"maximum captioning sentence length\")\n",
    "tf.app.flags.DEFINE_integer(\"word_vector_size\", 50, \"word embedding dimension default is 25 for twitter glove\")\n",
    "tf.app.flags.DEFINE_integer(\"n_epochs\", 500, \"number of epoch to run\")\n",
    "tf.app.flags.DEFINE_integer(\"num_frames\", 15, \"number of frames per video\")\n",
    "tf.app.flags.DEFINE_integer(\"hidden_size\", 100, \"output size of LSTM encoder and decoder\")\n",
    "tf.app.flags.DEFINE_float(\"dropout_rate\", 0.5, \"dropout probability for LSTM layers\")\n",
    "FLAGS = tf.app.flags.FLAGS        \n",
    "\n",
    "\n",
    "def get_session():\n",
    "    config = tf.ConfigProto()\n",
    "    config.gpu_options.allow_growth = True\n",
    "    session = tf.Session(config=config)\n",
    "    return session\n",
    "\n",
    "if __name__ == '__main__':\n",
    "    curPath = os.getcwd()\n",
    "    dataPath = curPath + \"/datasets/\"\n",
    "\n",
    "    # only pick first 100 for debugging purpose\n",
    "    captions = pickle.load(open(dataPath+\"id_captionInd_pairs.pickle\", \"rb\"))[:100]\n",
    "    print('captions shape: ', len(captions[0][1]))\n",
    "    input_frames = np.random.randn(100, 15, 7*7*512)\n",
    "    word_dict = pickle.load(open(dataPath + \"word2Vector.pickle\", \"rb\"))\n",
    "    word_2_index = pickle.load(open(dataPath + 'word2index.pickle', 'rb'))\n",
    "\n",
    "    wvector_dimension = 50\n",
    "    word_embedding = np.zeros((len(word_dict), wvector_dimension))\n",
    "\n",
    "    for word, w_vector in word_dict.items():\n",
    "        if len(w_vector) != 0:\n",
    "            word_index = word_2_index[word]\n",
    "            word_embedding[word_index] = w_vector\n",
    "    \n",
    "    word_embedding = word_embedding.astype(np.float32)\n",
    "\n",
    "    model = sequence_2_sequence_LSTM(word_embedding, FLAGS)\n",
    "    model.build()\n",
    "\n",
    "    with get_session() as sess:\n",
    "        sess.run(tf.global_variables_initializer())\n",
    "        losses, predict = model.train(sess, (input_frames, captions))"
   ]
  },
  {
   "cell_type": "code",
   "execution_count": 2,
   "metadata": {
    "collapsed": false
   },
   "outputs": [
    {
     "data": {
      "image/png": "[encoded data removed]",
      "text/plain": [
       "<matplotlib.figure.Figure at 0x7fd6c4adcd30>"
      ]
     },
     "metadata": {},
     "output_type": "display_data"
    }
   ],
   "source": []
  },
  {
   "cell_type": "code",
   "execution_count": 19,
   "metadata": {
    "collapsed": false
   },
   "outputs": [
    {
     "data": {
      "text/plain": [
       "(4, 50)"
      ]
     },
     "execution_count": 19,
     "metadata": {},
     "output_type": "execute_result"
    }
   ],
   "source": [
    "sample1 = predict[0]\n",
    "sample1.shape"
   ]
  },
  {
   "cell_type": "code",
   "execution_count": 15,
   "metadata": {
    "collapsed": false
   },
   "outputs": [],
   "source": [
    "sample2 = predict[10]"
   ]
  },
  {
   "cell_type": "code",
   "execution_count": 16,
   "metadata": {
    "collapsed": false
   },
   "outputs": [
    {
     "data": {
      "text/plain": [
       "['<START>', 'a', 'young', 'woman']"
      ]
     },
     "execution_count": 16,
     "metadata": {},
     "output_type": "execute_result"
    }
   ],
   "source": [
    "words = []\n",
    "for i in range(4):\n",
    "    best_error = float('inf')\n",
    "    word_vec1 = sample2[i]\n",
    "    for word, vec in word_dict.items():\n",
    "        if len(vec) == 0:\n",
    "            continue\n",
    "        error = np.sum(np.square(word_vec1 - np.array(vec)))\n",
    "        if error < best_error:\n",
    "            word1 = word\n",
    "            best_error = error\n",
    "    words.append(word1)\n",
    "words"
   ]
  },
  {
   "cell_type": "code",
   "execution_count": 25,
   "metadata": {
    "collapsed": false
   },
   "outputs": [],
   "source": []
  },
  {
   "cell_type": "code",
   "execution_count": null,
   "metadata": {
    "collapsed": true
   },
   "outputs": [],
   "source": []
  }
 ],
 "metadata": {
  "kernelspec": {
   "display_name": "Python 3",
   "language": "python",
   "name": "python3"
  },
  "language_info": {
   "codemirror_mode": {
    "name": "ipython",
    "version": 3
   },
   "file_extension": ".py",
   "mimetype": "text/x-python",
   "name": "python",
   "nbconvert_exporter": "python",
   "pygments_lexer": "ipython3",
   "version": "3.5.3"
  }
 },
 "nbformat": 4,
 "nbformat_minor": 0
}
