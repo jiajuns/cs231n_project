{
 "cells": [
  {
   "cell_type": "code",
   "execution_count": 1,
   "metadata": {
    "collapsed": false
   },
   "outputs": [
    {
     "name": "stderr",
     "output_type": "stream",
     "text": [
      "Using TensorFlow backend.\n"
     ]
    }
   ],
   "source": [
    "# setup\n",
    "from load_feature import load_features\n",
    "from datetime import datetime\n",
    "from LSTM_model import video_classification\n",
    "import numpy as np\n",
    "import os\n",
    "from keras import optimizers\n",
    "\n",
    "%load_ext autoreload\n",
    "%autoreload 2\n",
    "%matplotlib inline"
   ]
  },
  {
   "cell_type": "markdown",
   "metadata": {},
   "source": [
    "# Load features"
   ]
  },
  {
   "cell_type": "code",
   "execution_count": 2,
   "metadata": {
    "collapsed": false
   },
   "outputs": [
    {
     "name": "stdout",
     "output_type": "stream",
     "text": [
      "find matched cache file /home/sunjiajun/cs231n_project/datasets/cache/train_num_videos4270_num_frame15.npz\n",
      "Feature fusion time:  0:00:19.581723\n"
     ]
    }
   ],
   "source": [
    "# load features for different number of frames\n",
    "skipnum = 0\n",
    "num_frames = 15\n",
    "size = (224, 224, 3)\n",
    "# num_videos = 1000\n",
    "\n",
    "# more balanced data\n",
    "idx_path = os.getcwd() + '/datasets/x_train_ind_above400.npy'\n",
    "Xtrain_idx = np.load(idx_path)\n",
    "labels = np.load(os.getcwd() + '/datasets/y_train_mapped_above400.npy')\n",
    "\n",
    "# if all videos then \n",
    "num_videos = len(Xtrain_idx)\n",
    "tic = datetime.now()\n",
    "Xtrain, ytrain = load_features(num_videos, num_frames, video_idx = Xtrain_idx, \\\n",
    "                               labels = labels, size = size, train_test_flag='train')\n",
    "toc = datetime.now()\n",
    "print('Feature fusion time: ', toc-tic)"
   ]
  },
  {
   "cell_type": "code",
   "execution_count": 3,
   "metadata": {
    "collapsed": false
   },
   "outputs": [
    {
     "name": "stdout",
     "output_type": "stream",
     "text": [
      "Xtrain shape:  (64050, 7, 7, 512)\n",
      "ytrain shape:  (4270,)\n"
     ]
    }
   ],
   "source": [
    "print('Xtrain shape: ', Xtrain.shape)\n",
    "print('ytrain shape: ', ytrain.shape)"
   ]
  },
  {
   "cell_type": "markdown",
   "metadata": {},
   "source": [
    "# Other data"
   ]
  },
  {
   "cell_type": "code",
   "execution_count": 29,
   "metadata": {
    "collapsed": true
   },
   "outputs": [],
   "source": [
    "np.save(os.getcwd() + '/datasets/Xtrain_lstm_1000.npy', Xtrain)\n",
    "np.save(os.getcwd() + '/datasets/ytrain_lstm_1000.npy', ytrain)"
   ]
  },
  {
   "cell_type": "code",
   "execution_count": 2,
   "metadata": {
    "collapsed": true
   },
   "outputs": [],
   "source": [
    "# small dataset 1000 videos with 20 frames\n",
    "Xtr = np.load(os.getcwd() + '/datasets/Xtrain_lstm_1000.npy')\n",
    "ytr = np.load(os.getcwd() + '/datasets/ytrain_lstm_1000.npy')"
   ]
  },
  {
   "cell_type": "code",
   "execution_count": 3,
   "metadata": {
    "collapsed": false
   },
   "outputs": [
    {
     "name": "stdout",
     "output_type": "stream",
     "text": [
      "Xtrain shape:  (4270, 10, 7, 7, 512)\n",
      "ytrain shape:  (4270,)\n"
     ]
    }
   ],
   "source": [
    "# pretrained data 10 frames in order to compare with temporal max pooling architecture\n",
    "Xtr = np.load(os.getcwd() + '/datasets/pretrained_fuse_features.npy')\n",
    "ytr = np.load(os.getcwd() + '/datasets/y_train_mapped_above400.npy')\n",
    "print('Xtrain shape: ', Xtr.shape)\n",
    "print('ytrain shape: ', ytr.shape)"
   ]
  },
  {
   "cell_type": "markdown",
   "metadata": {},
   "source": [
    "# LSTM model"
   ]
  },
  {
   "cell_type": "code",
   "execution_count": 4,
   "metadata": {
    "collapsed": false
   },
   "outputs": [
    {
     "name": "stdout",
     "output_type": "stream",
     "text": [
      "building model...\n",
      "LSTM model summary: \n",
      "_________________________________________________________________\n",
      "Layer (type)                 Output Shape              Param #   \n",
      "=================================================================\n",
      "lstm_1 (LSTM)                (None, 15, 256)           25953280  \n",
      "_________________________________________________________________\n",
      "lstm_2 (LSTM)                (None, 15, 256)           525312    \n",
      "_________________________________________________________________\n",
      "lstm_3 (LSTM)                (None, 256)               525312    \n",
      "_________________________________________________________________\n",
      "dense_1 (Dense)              (None, 10)                2570      \n",
      "=================================================================\n",
      "Total params: 27,006,474\n",
      "Trainable params: 27,006,474\n",
      "Non-trainable params: 0\n",
      "_________________________________________________________________\n",
      "None\n"
     ]
    }
   ],
   "source": [
    "# build up model \n",
    "num_classes = len(np.unique(ytrain))\n",
    "lstm = video_classification(num_frames=15, num_classes=num_classes)\n",
    "\n",
    "# cell_num depends on volume of datasets\n",
    "lstm.build_model(cell_num = 256, dropout_rate=0.5, reg=0.1)\n",
    "print('LSTM model summary: ')\n",
    "print(lstm.model.summary())"
   ]
  },
  {
   "cell_type": "code",
   "execution_count": null,
   "metadata": {
    "collapsed": false,
    "scrolled": false
   },
   "outputs": [
    {
     "name": "stdout",
     "output_type": "stream",
     "text": [
      "Model is Training...\n",
      "Train on 3843 samples, validate on 427 samples\n",
      "Epoch 1/20\n"
     ]
    }
   ],
   "source": [
    "# sgd_m = optimizers.SGD(lr=1e-3, decay=1e-6, momentum=0.9, nesterov=True)\n",
    "adam = optimizers.Adam(lr=1e-4, beta_1=0.9, beta_2=0.999, epsilon=1e-8, decay=1e-6)\n",
    "lstm.train(Xtr=Xtrain, ytr=ytrain, optimizer = adam, verbose=1, bsize=64, epochs=20, split_ratio=0.1)"
   ]
  },
  {
   "cell_type": "code",
   "execution_count": 24,
   "metadata": {
    "collapsed": false
   },
   "outputs": [
    {
     "data": {
      "image/png": "[encoded data removed]",
      "text/plain": [
       "<matplotlib.figure.Figure at 0x7fd38097be80>"
      ]
     },
     "metadata": {},
     "output_type": "display_data"
    }
   ],
   "source": [
    "lstm.plot()"
   ]
  },
  {
   "cell_type": "code",
   "execution_count": 25,
   "metadata": {
    "collapsed": false
   },
   "outputs": [
    {
     "name": "stdout",
     "output_type": "stream",
     "text": [
      "find matched cache file /home/sunjiajun/cs231n_project/datasets/cache/test_num_videos500_num_frame15.npz\n",
      "Feature fusion time:  0:00:03.770452\n"
     ]
    }
   ],
   "source": [
    "# test data loader\n",
    "num_videos_test = 500\n",
    "skipnum = 0\n",
    "num_frames = 15\n",
    "size = (224, 224, 3)\n",
    "\n",
    "# load test index\n",
    "Xtest_idx = np.load(os.getcwd() + '/datasets/x_test_ind_above400.npy')\n",
    "yte = np.load(os.getcwd() + '/datasets/y_test_mapped_above400.npy')\n",
    "\n",
    "tic = datetime.now()\n",
    "Xte, yte = load_features(num_videos = num_videos_test, num_frames = num_frames, size = size, \\\n",
    "                             video_idx = Xtest_idx, labels = yte, train_test_flag='test')\n",
    "toc = datetime.now()\n",
    "print('Feature fusion time: ', toc-tic)"
   ]
  },
  {
   "cell_type": "code",
   "execution_count": 29,
   "metadata": {
    "collapsed": false
   },
   "outputs": [
    {
     "name": "stdout",
     "output_type": "stream",
     "text": [
      "Video Classification Accuracy: 0.6027944111776448\n"
     ]
    }
   ],
   "source": [
    "Xte = Xte.reshape((-1, 15, 7*7*512))\n",
    "lstm.predict(Xte, yte)"
   ]
  },
  {
   "cell_type": "code",
   "execution_count": 30,
   "metadata": {
    "collapsed": false
   },
   "outputs": [
    {
     "name": "stdout",
     "output_type": "stream",
     "text": [
      "                      precision    recall  f1-score   support\n",
      "\n",
      "               music       0.50      0.44      0.47        54\n",
      "              gaming       0.54      0.73      0.62        37\n",
      "      sports/actions       0.82      0.62      0.71        76\n",
      "news/events/politics       0.45      0.40      0.42        35\n",
      "        movie/comedy       0.51      0.54      0.52        68\n",
      "      vehicles/autos       0.68      0.84      0.75        62\n",
      "               howto       0.57      0.53      0.55        43\n",
      "        animals/pets       0.64      0.68      0.66        41\n",
      "         kids/family       0.46      0.47      0.47        36\n",
      "          food/drink       0.73      0.67      0.70        49\n",
      "\n",
      "         avg / total       0.61      0.60      0.60       501\n",
      "\n"
     ]
    }
   ],
   "source": [
    "from sklearn.metrics import classification_report\n",
    "from pprint import pprint\n",
    "ypred = lstm.model.predict(Xte)\n",
    "ypred = np.argmax(ypred, axis = 1)\n",
    "target_names = ['music', 'gaming', 'sports/actions', 'news/events/politics', 'movie/comedy', 'vehicles/autos',\\\n",
    "           'howto', 'animals/pets', 'kids/family', 'food/drink']\n",
    "print(classification_report(yte, ypred, target_names = target_names))"
   ]
  },
  {
   "cell_type": "markdown",
   "metadata": {},
   "source": [
    "# Other test data"
   ]
  },
  {
   "cell_type": "code",
   "execution_count": 30,
   "metadata": {
    "collapsed": true
   },
   "outputs": [],
   "source": [
    "np.save(os.getcwd() + '/datasets/Xte_lstm_1000.npy', Xte)\n",
    "np.save(os.getcwd() + '/datasets/yte_lstm_1000.npy', yte)"
   ]
  },
  {
   "cell_type": "code",
   "execution_count": 29,
   "metadata": {
    "collapsed": true
   },
   "outputs": [],
   "source": [
    "# test accuracy\n",
    "Xte = np.load(os.getcwd() + '/datasets/Xte_lstm_1000.npy')\n",
    "yte = np.load(os.getcwd() + '/datasets/yte_lstm_1000.npy')"
   ]
  },
  {
   "cell_type": "code",
   "execution_count": 7,
   "metadata": {
    "collapsed": true
   },
   "outputs": [],
   "source": [
    "# pretrained data 10 frames\n",
    "Xte = np.load(os.getcwd() + '/datasets/pretrained_fuse_Xtest.npy')\n",
    "yte = np.load(os.getcwd() + '/datasets/y_test_mapped_above400.npy')"
   ]
  },
  {
   "cell_type": "code",
   "execution_count": null,
   "metadata": {
    "collapsed": true
   },
   "outputs": [],
   "source": []
  }
 ],
 "metadata": {
  "anaconda-cloud": {},
  "kernelspec": {
   "display_name": "Python 3",
   "language": "python",
   "name": "python3"
  },
  "language_info": {
   "codemirror_mode": {
    "name": "ipython",
    "version": 3
   },
   "file_extension": ".py",
   "mimetype": "text/x-python",
   "name": "python",
   "nbconvert_exporter": "python",
   "pygments_lexer": "ipython3",
   "version": "3.5.3"
  }
 },
 "nbformat": 4,
 "nbformat_minor": 1
}
