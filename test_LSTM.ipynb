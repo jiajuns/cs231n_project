{
 "cells": [
  {
   "cell_type": "code",
   "execution_count": 1,
   "metadata": {
    "collapsed": false
   },
   "outputs": [
    {
     "name": "stderr",
     "output_type": "stream",
     "text": [
      "Using TensorFlow backend.\n"
     ]
    }
   ],
   "source": [
    "from load_feature import load_features\n",
    "from datetime import datetime\n",
    "from LSTM_model import video_classification\n",
    "import numpy as np\n",
    "\n",
    "%load_ext autoreload\n",
    "%autoreload 2\n",
    "%matplotlib inline"
   ]
  },
  {
   "cell_type": "code",
   "execution_count": 10,
   "metadata": {
    "collapsed": false
   },
   "outputs": [
    {
     "name": "stdout",
     "output_type": "stream",
     "text": [
      "find matched cache file /home/sunjiajun/cs231n_project/datasets/cache/num_videos1000_skipnum0_num_frame30.npz\n",
      "Feature fusion time:  0:00:47.414372\n"
     ]
    }
   ],
   "source": [
    "num_videos = 1000\n",
    "skipnum = 0\n",
    "num_frames = 30\n",
    "h = 224\n",
    "w = 224\n",
    "c = 3\n",
    "\n",
    "tic = datetime.now()\n",
    "Xtrain, ytrain = load_features(num_videos, num_frames, h, w, c, skip_num=skipnum)\n",
    "toc = datetime.now()\n",
    "print('Feature fusion time: ', toc-tic)"
   ]
  },
  {
   "cell_type": "code",
   "execution_count": 4,
   "metadata": {
    "collapsed": false
   },
   "outputs": [
    {
     "name": "stdout",
     "output_type": "stream",
     "text": [
      "building model...\n"
     ]
    }
   ],
   "source": [
    "num_classes = len(np.unique(ytrain))\n",
    "lstm_model = video_classification(num_frames=30, num_classes=num_classes)"
   ]
  },
  {
   "cell_type": "code",
   "execution_count": 11,
   "metadata": {
    "collapsed": false
   },
   "outputs": [
    {
     "name": "stdout",
     "output_type": "stream",
     "text": [
      "Model is Training...\n",
      "(1000, 30, 25088)\n",
      "Train on 800 samples, validate on 200 samples\n",
      "Epoch 1/20\n",
      "800/800 [==============================] - 13s - loss: 2.8291 - acc: 0.2888 - val_loss: 2.4619 - val_acc: 0.3450\n",
      "Epoch 2/20\n",
      "800/800 [==============================] - 14s - loss: 2.2012 - acc: 0.4025 - val_loss: 2.4691 - val_acc: 0.3300\n",
      "Epoch 3/20\n",
      "800/800 [==============================] - 14s - loss: 1.9641 - acc: 0.4825 - val_loss: 2.3885 - val_acc: 0.3350\n",
      "Epoch 4/20\n",
      "800/800 [==============================] - 14s - loss: 1.7430 - acc: 0.5150 - val_loss: 2.4090 - val_acc: 0.3900\n",
      "Epoch 5/20\n",
      "800/800 [==============================] - 14s - loss: 1.7368 - acc: 0.5237 - val_loss: 2.5243 - val_acc: 0.3750\n",
      "Epoch 6/20\n",
      "800/800 [==============================] - 13s - loss: 1.5186 - acc: 0.6025 - val_loss: 2.5659 - val_acc: 0.3700\n",
      "Epoch 7/20\n",
      "800/800 [==============================] - 13s - loss: 1.4847 - acc: 0.6125 - val_loss: 2.7090 - val_acc: 0.3800\n",
      "Epoch 8/20\n",
      "800/800 [==============================] - 14s - loss: 1.4298 - acc: 0.6200 - val_loss: 2.5920 - val_acc: 0.3900\n",
      "Epoch 9/20\n",
      "800/800 [==============================] - 14s - loss: 1.2649 - acc: 0.6850 - val_loss: 2.6607 - val_acc: 0.3900\n",
      "Epoch 10/20\n",
      "800/800 [==============================] - 14s - loss: 1.1215 - acc: 0.7225 - val_loss: 2.8700 - val_acc: 0.3900\n",
      "Epoch 11/20\n",
      "800/800 [==============================] - 14s - loss: 1.2445 - acc: 0.6837 - val_loss: 2.8646 - val_acc: 0.3800\n",
      "Epoch 12/20\n",
      "800/800 [==============================] - 15s - loss: 1.1322 - acc: 0.7137 - val_loss: 2.7975 - val_acc: 0.3950\n",
      "Epoch 13/20\n",
      "800/800 [==============================] - 14s - loss: 1.0082 - acc: 0.7375 - val_loss: 3.0971 - val_acc: 0.3750\n",
      "Epoch 14/20\n",
      "800/800 [==============================] - 13s - loss: 0.9007 - acc: 0.7838 - val_loss: 3.2649 - val_acc: 0.3650\n",
      "Epoch 15/20\n",
      "800/800 [==============================] - 14s - loss: 0.8451 - acc: 0.8075 - val_loss: 3.1218 - val_acc: 0.3750\n",
      "Epoch 16/20\n",
      "800/800 [==============================] - 14s - loss: 0.8362 - acc: 0.8163 - val_loss: 3.3506 - val_acc: 0.3900\n",
      "Epoch 17/20\n",
      "800/800 [==============================] - 14s - loss: 0.8295 - acc: 0.8163 - val_loss: 3.1776 - val_acc: 0.3600\n",
      "Epoch 18/20\n",
      "800/800 [==============================] - 13s - loss: 0.7842 - acc: 0.8337 - val_loss: 3.3656 - val_acc: 0.4050\n",
      "Epoch 19/20\n",
      "800/800 [==============================] - 13s - loss: 0.6999 - acc: 0.8538 - val_loss: 3.2335 - val_acc: 0.3700\n",
      "Epoch 20/20\n",
      "800/800 [==============================] - 14s - loss: 0.6863 - acc: 0.8600 - val_loss: 3.5008 - val_acc: 0.3650\n"
     ]
    }
   ],
   "source": [
    "lstm_model.train(Xtr=Xtrain, ytr=ytrain, verbose=1, bsize=32, epochs=20)"
   ]
  },
  {
   "cell_type": "code",
   "execution_count": 12,
   "metadata": {
    "collapsed": false
   },
   "outputs": [
    {
     "data": {
      "image/png": "[encoded data removed]",
      "text/plain": [
       "<matplotlib.figure.Figure at 0x7f59e9bb3a90>"
      ]
     },
     "metadata": {},
     "output_type": "display_data"
    }
   ],
   "source": [
    "lstm_model.plot()"
   ]
  },
  {
   "cell_type": "code",
   "execution_count": 13,
   "metadata": {
    "collapsed": false
   },
   "outputs": [
    {
     "name": "stdout",
     "output_type": "stream",
     "text": [
      "find matched cache file /home/sunjiajun/cs231n_project/datasets/cache/num_videos1000_skipnum0_num_frame30.npz\n",
      "Feature fusion time:  0:00:10.385741\n"
     ]
    }
   ],
   "source": [
    "num_videos = 1000\n",
    "skipnum = 0\n",
    "num_frames = 30\n",
    "h = 224\n",
    "w = 224\n",
    "c = 3\n",
    "\n",
    "tic = datetime.now()\n",
    "Xtrain_1, ytrain_1 = load_features(num_videos, num_frames, h, w, c, skip_num=skipnum)\n",
    "toc = datetime.now()\n",
    "print('Feature fusion time: ', toc-tic)"
   ]
  },
  {
   "cell_type": "code",
   "execution_count": 14,
   "metadata": {
    "collapsed": false
   },
   "outputs": [
    {
     "name": "stdout",
     "output_type": "stream",
     "text": [
      "find matched cache file /home/sunjiajun/cs231n_project/datasets/cache/num_videos1000_skipnum1000_num_frame30.npz\n",
      "Feature fusion time:  0:00:47.317992\n"
     ]
    }
   ],
   "source": [
    "num_videos = 1000\n",
    "skipnum = 1000\n",
    "num_frames = 30\n",
    "h = 224\n",
    "w = 224\n",
    "c = 3\n",
    "\n",
    "tic = datetime.now()\n",
    "Xtrain_2, ytrain_2 = load_features(num_videos, num_frames, h, w, c, skip_num=skipnum)\n",
    "toc = datetime.now()\n",
    "print('Feature fusion time: ', toc-tic)"
   ]
  },
  {
   "cell_type": "code",
   "execution_count": 15,
   "metadata": {
    "collapsed": false
   },
   "outputs": [
    {
     "name": "stdout",
     "output_type": "stream",
     "text": [
      "find matched cache file /home/sunjiajun/cs231n_project/datasets/cache/num_videos1000_skipnum2000_num_frame30.npz\n",
      "Feature fusion time:  0:00:10.291387\n"
     ]
    }
   ],
   "source": [
    "num_videos = 1000\n",
    "skipnum = 2000\n",
    "num_frames = 30\n",
    "h = 224\n",
    "w = 224\n",
    "c = 3\n",
    "\n",
    "tic = datetime.now()\n",
    "Xtrain_3, ytrain_3 = load_features(num_videos, num_frames, h, w, c, skip_num=skipnum)\n",
    "toc = datetime.now()\n",
    "print('Feature fusion time: ', toc-tic)"
   ]
  },
  {
   "cell_type": "code",
   "execution_count": 16,
   "metadata": {
    "collapsed": false
   },
   "outputs": [
    {
     "name": "stdout",
     "output_type": "stream",
     "text": [
      "find matched cache file /home/sunjiajun/cs231n_project/datasets/cache/num_videos1000_skipnum3000_num_frame30.npz\n",
      "Feature fusion time:  0:00:11.380633\n"
     ]
    }
   ],
   "source": [
    "num_videos = 1000\n",
    "skipnum = 3000\n",
    "num_frames = 30\n",
    "h = 224\n",
    "w = 224\n",
    "c = 3\n",
    "\n",
    "tic = datetime.now()\n",
    "Xtrain_4, ytrain_4 = load_features(num_videos, num_frames, h, w, c, skip_num=skipnum)\n",
    "toc = datetime.now()\n",
    "print('Feature fusion time: ', toc-tic)"
   ]
  },
  {
   "cell_type": "code",
   "execution_count": null,
   "metadata": {
    "collapsed": true
   },
   "outputs": [],
   "source": []
  }
 ],
 "metadata": {
  "anaconda-cloud": {},
  "kernelspec": {
   "display_name": "Python 3",
   "language": "python",
   "name": "python3"
  },
  "language_info": {
   "codemirror_mode": {
    "name": "ipython",
    "version": 3
   },
   "file_extension": ".py",
   "mimetype": "text/x-python",
   "name": "python",
   "nbconvert_exporter": "python",
   "pygments_lexer": "ipython3",
   "version": "3.5.3"
  }
 },
 "nbformat": 4,
 "nbformat_minor": 1
}
