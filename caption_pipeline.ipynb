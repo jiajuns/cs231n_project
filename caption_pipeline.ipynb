{
 "cells": [
  {
   "cell_type": "markdown",
   "metadata": {},
   "source": [
    "## Set Up"
   ]
  },
  {
   "cell_type": "code",
   "execution_count": 1,
   "metadata": {
    "collapsed": false
   },
   "outputs": [
    {
     "name": "stderr",
     "output_type": "stream",
     "text": [
      "Using TensorFlow backend.\n"
     ]
    }
   ],
   "source": [
    "# !/usr/env python3\n",
    "\n",
    "'''\n",
    "Output:\n",
    "video captioning model itself and produce loss curve\n",
    "\n",
    "Usage:\n",
    "main document to train the video captioning model\n",
    "'''\n",
    "\n",
    "# set up\n",
    "from __future__ import print_function\n",
    "import tensorflow as tf\n",
    "import pickle\n",
    "import os\n",
    "import numpy as np\n",
    "import logging\n",
    "import matplotlib.pyplot as plt\n",
    "from util import *\n",
    "from model.video_caption import sequence_2_sequence_LSTM\n",
    "from load_caption_feature import *\n",
    "from datetime import datetime\n",
    "import warnings\n",
    "warnings.filterwarnings(\"ignore\")\n",
    "import gc\n",
    "\n",
    "%matplotlib inline\n",
    "%load_ext autoreload\n",
    "%autoreload 2"
   ]
  },
  {
   "cell_type": "markdown",
   "metadata": {},
   "source": [
    "## Process and save data  \n",
    "Load caption Xtrain, Xtest, ytrain, ytest, video_train, video_test and save them.  \n",
    "Here in details, see **load_caption_feature.py**. Only need to run once, codes are going to save the data file. "
   ]
  },
  {
   "cell_type": "code",
   "execution_count": null,
   "metadata": {
    "collapsed": false
   },
   "outputs": [],
   "source": [
    "# load and save training data\n",
    "num_frames = 15\n",
    "size = (224, 224, 3)\n",
    "\n",
    "# more balanced data\n",
    "idx_path = os.getcwd() + '/datasets/x_train_ind_above400.npy'\n",
    "Xtrain_idx = np.load(idx_path)\n",
    "labels = np.load(os.getcwd() + '/datasets/y_train_mapped_above400.npy')\n",
    "\n",
    "# if all videos then \n",
    "num_videos = len(Xtrain_idx)\n",
    "\n",
    "tic = datetime.now()\n",
    "# for clearing memory convenience\n",
    "model = vgg_16_pretrained()\n",
    "Xtr, ytr = load_features(model, num_videos, num_frames, Xtrain_idx, labels, size = (224, 224, 3), train_test_flag='train')"
   ]
  },
  {
   "cell_type": "code",
   "execution_count": 5,
   "metadata": {
    "collapsed": false
   },
   "outputs": [
    {
     "data": {
      "text/plain": [
       "0"
      ]
     },
     "execution_count": 5,
     "metadata": {},
     "output_type": "execute_result"
    }
   ],
   "source": [
    "# clear memory\n",
    "del Xtr\n",
    "del ytr\n",
    "model = None\n",
    "gc.collect()"
   ]
  },
  {
   "cell_type": "code",
   "execution_count": 3,
   "metadata": {
    "collapsed": false
   },
   "outputs": [],
   "source": [
    "# load and save test data\n",
    "num_frames_test = 15\n",
    "size = (224, 224, 3)\n",
    "\n",
    "# more balanced data\n",
    "idx_path = os.getcwd() + '/datasets/x_test_ind_above400.npy'\n",
    "Xtest_idx = np.load(idx_path)\n",
    "ytest = np.load(os.getcwd() + '/datasets/y_test_mapped_above400.npy')\n",
    "\n",
    "# if all videos then \n",
    "num_videos_test = len(Xtest_idx)\n",
    "\n",
    "model = vgg_16_pretrained()\n",
    "Xte, yte = load_features(model, num_videos_test, num_frames_test, Xtest_idx, ytest, size = (224, 224, 3), train_test_flag='test')"
   ]
  },
  {
   "cell_type": "code",
   "execution_count": 10,
   "metadata": {
    "collapsed": false
   },
   "outputs": [
    {
     "data": {
      "text/plain": [
       "0"
      ]
     },
     "execution_count": 10,
     "metadata": {},
     "output_type": "execute_result"
    }
   ],
   "source": [
    "# clean memory\n",
    "del Xte\n",
    "del yte\n",
    "model = None\n",
    "gc.collect()"
   ]
  },
  {
   "cell_type": "code",
   "execution_count": 11,
   "metadata": {
    "collapsed": false
   },
   "outputs": [],
   "source": [
    "# save input frames train and test\n",
    "curr = os.getcwd() + '/datasets'\n",
    "def save_frames(X, vid_ls, mode = 'train'):\n",
    "    X = X.reshape((-1, 15, 4096))\n",
    "    assert X.shape[0] == len(vid_ls)\n",
    "    input_frames = {}\n",
    "    for i in range(X.shape[0]):\n",
    "        vid = vid_ls[i]\n",
    "        input_frames[vid] = Xtr[i]\n",
    "    pickle.dump(input_frames, open(curr + '/input_frames_' + mode + '.pickle', 'wb'))\n",
    "\n",
    "vid_train = np.load(curr + '/videoIdtrain_allCap_15frames.npy')\n",
    "Xtr = np.load(curr + '/Xtrain_allCap_15frames.npy')\n",
    "Xte = np.load(curr + '/Xtest_allCap_15frames.npy')\n",
    "vid_test = np.load(curr + '/videoIdtest_allCap_15frames.npy')\n",
    "save_frames(Xtr, vid_train, mode = 'train')\n",
    "save_frames(Xte, vid_test, mode = 'test')"
   ]
  },
  {
   "cell_type": "markdown",
   "metadata": {},
   "source": [
    "## Model setup and train"
   ]
  },
  {
   "cell_type": "markdown",
   "metadata": {},
   "source": [
    "### Model Configuration and Parameters \n",
    "Parameters:  \n",
    "\n",
    "* model_name: the name of model, here we refer sequence to sequence model from [1](https://arxiv.org/abs/1505.00487);  \n",
    "* state_size: lstm encoder and encoder state dimension  \n",
    "* learning_rate: learning rate  \n",
    "* input_size: vector size input to lstm, here we use pretrained VGG16 output 4096 dimension  \n",
    "* batch_size: batch size  \n",
    "* max_sentence_length: fixed length for captions, default is 20 \n",
    "* word_vector_size: depends on vocabulary chosen, here is 50, but can be changed \n",
    "* voc_size: depends on vocabulary created, if self-created vocabulary, it is 6169, if glove\n",
    "* n_epoches: the number of epoches to run  \n",
    "* num_frames: frame number  \n",
    "* hidden_size: lstm encoder and encoder hidden dimension \n",
    "\n",
    "**Reference**  \n",
    "[1] Venugopalan, S., Rohrbach, M., Donahue, J., Mooney, R., Darrell, T., & Saenko, K. (2015). Sequence to sequence-video to text. In Proceedings of the IEEE International Conference on Computer Vision (pp. 4534-4542).  "
   ]
  },
  {
   "cell_type": "code",
   "execution_count": 2,
   "metadata": {
    "collapsed": false
   },
   "outputs": [],
   "source": [
    "# define parameters\n",
    "lr = 1e-6\n",
    "hidden_size = 100\n",
    "state_size = 100\n",
    "batch_size = 64\n",
    "voc_size = 6169\n",
    "epoch = 50\n",
    "word_dim = 50\n",
    "\n",
    "logging.basicConfig(level=logging.INFO)\n",
    "#=======Change These===============================\n",
    "tf.app.flags.DEFINE_string(\"model_name\", \"sequence2sequence\", \"name of the model\")\n",
    "tf.app.flags.DEFINE_integer(\"state_size\", state_size, \"Size of each model layer.\")\n",
    "tf.app.flags.DEFINE_float(\"learning_rate\", lr, \"Base Learning rate.\")\n",
    "#==================================================\n",
    "\n",
    "tf.app.flags.DEFINE_float(\"input_size\", 4096, \"input size for each frame\")\n",
    "tf.app.flags.DEFINE_integer(\"batch_size\", batch_size, \"how many videos put per run\")\n",
    "tf.app.flags.DEFINE_integer(\"max_sentence_length\", 20, \"maximum captioning sentence length\")\n",
    "tf.app.flags.DEFINE_integer(\"word_vector_size\", word_dim, \"word embedding dimension default is 25 for twitter glove\")\n",
    "tf.app.flags.DEFINE_integer(\"voc_size\", voc_size, \"vocabulary size\")\n",
    "tf.app.flags.DEFINE_integer(\"n_epochs\", epoch, \"number of epoch to run\")\n",
    "tf.app.flags.DEFINE_integer(\"num_frames\", 15, \"number of frames per video\")\n",
    "tf.app.flags.DEFINE_integer(\"hidden_size\", hidden_size, \"output size of LSTM encoder and decoder\")\n",
    "FLAGS = tf.app.flags.FLAGS        "
   ]
  },
  {
   "cell_type": "markdown",
   "metadata": {},
   "source": [
    "### Load Training Data"
   ]
  },
  {
   "cell_type": "code",
   "execution_count": 3,
   "metadata": {
    "collapsed": false
   },
   "outputs": [
    {
     "name": "stdout",
     "output_type": "stream",
     "text": [
      "Finish loading training data!\n"
     ]
    }
   ],
   "source": [
    "def get_session():\n",
    "    config = tf.ConfigProto()\n",
    "    config.gpu_options.allow_growth = True\n",
    "    session = tf.Session(config=config)\n",
    "    return session\n",
    "\n",
    "curPath = os.getcwd()\n",
    "dataPath = curPath + \"/datasets/\"\n",
    "\n",
    "# pick first 100 for debugging purpose\n",
    "# load data\n",
    "sample_size = 500\n",
    "wvector_dim = 50\n",
    "is_training = True\n",
    "input_frames_train, captions_train, \\\n",
    "        word_dict, word2Index, index2Word = load_caption_data(sample_size, dataPath, train = is_training)\n",
    "word_embedding = word_embedding_array(word_dict, wvector_dim, word2Index) \n",
    "print('Finish loading training data!')"
   ]
  },
  {
   "cell_type": "markdown",
   "metadata": {},
   "source": [
    "### Build Model Graph  \n",
    "In details, see **model/video_caption.py**.   \n",
    "We refer to sequence to sequence model to build two LSTM layers. One is encoder, and the other is decoder. The cell number of decoder depends on the maximum caption length we set. Here we choose 20 here by exploring the distribution of captions. In order to make encoder have same length of outputs, we add pad cells to encoder. Encoder accept 15 frames VGG16 outputs so that it has 15 cells. "
   ]
  },
  {
   "cell_type": "code",
   "execution_count": null,
   "metadata": {
    "collapsed": false
   },
   "outputs": [
    {
     "name": "stdout",
     "output_type": "stream",
     "text": [
      "start building model ...\n",
      "total number of parameter 2093900\n"
     ]
    }
   ],
   "source": [
    "# build model graph\n",
    "tf.reset_default_graph()\n",
    "model = sequence_2_sequence_LSTM(word_embedding, FLAGS)\n",
    "model.train_embedding = True\n",
    "model.build()"
   ]
  },
  {
   "cell_type": "code",
   "execution_count": 5,
   "metadata": {
    "collapsed": false
   },
   "outputs": [
    {
     "name": "stdout",
     "output_type": "stream",
     "text": [
      "<tf.Variable 'embeddings/embeddings:0' shape=(6169, 50) dtype=float32_ref>\n",
      "<tf.Variable 'LSTM_seq2seq/encoder/basic_lstm_cell/weights:0' shape=(4596, 2000) dtype=float32_ref>\n",
      "<tf.Variable 'LSTM_seq2seq/encoder/basic_lstm_cell/biases:0' shape=(2000,) dtype=float32_ref>\n",
      "<tf.Variable 'LSTM_seq2seq/decoder/basic_lstm_cell/weights:0' shape=(1050, 2000) dtype=float32_ref>\n",
      "<tf.Variable 'LSTM_seq2seq/decoder/basic_lstm_cell/biases:0' shape=(2000,) dtype=float32_ref>\n",
      "<tf.Variable 'LSTM_seq2seq/decoder/hidden_to_scores/kernel:0' shape=(500, 50) dtype=float32_ref>\n",
      "<tf.Variable 'LSTM_seq2seq/decoder/hidden_to_scores/bias:0' shape=(50,) dtype=float32_ref>\n"
     ]
    }
   ],
   "source": [
    "# check variables\n",
    "for v in tf.trainable_variables():\n",
    "    print(v)"
   ]
  },
  {
   "cell_type": "code",
   "execution_count": null,
   "metadata": {
    "collapsed": false,
    "scrolled": false
   },
   "outputs": [
    {
     "data": {
      "image/png": "[encoded data removed]",
      "text/plain": [
       "<matplotlib.figure.Figure at 0x7fb81c6912b0>"
      ]
     },
     "metadata": {},
     "output_type": "display_data"
    },
    {
     "name": "stdout",
     "output_type": "stream",
     "text": [
      " 1/50 [..............................] - ETA: 1525s - train loss: 9.9273 - dev loss: 10.3121 \n",
      "Validation loss improved, Save Model!\n"
     ]
    },
    {
     "data": {
      "image/png": "[encoded data removed]",
      "text/plain": [
       "<matplotlib.figure.Figure at 0x7fb819657208>"
      ]
     },
     "metadata": {},
     "output_type": "display_data"
    },
    {
     "name": "stdout",
     "output_type": "stream",
     "text": [
      "\b\b\b\b\b\b\b\b\b\b\b\b\b\b\b\b\b\b\b\b\b\b\b\b\b\b\b\b\b\b\b\b\b\b\b\b\b\b\b\b\b\b\b\b\b\b\b\b\b\b\b\b\b\b\b\b\b\b\b\b\b\b\b\b\b\b\b\b\b\b\b\b\b\b\b\b\b\b\b\b\b\b\b\b\b\b\b\b\b\b\b\b\r",
      " 2/50 [>.............................] - ETA: 1399s - train loss: 9.6935 - dev loss: 10.1089"
     ]
    }
   ],
   "source": [
    "# run training mode\n",
    "with get_session() as sess:\n",
    "    sess.run(tf.global_variables_initializer())\n",
    "    out = model.train(sess, (input_frames_train, captions_train), verbose = True)"
   ]
  },
  {
   "cell_type": "code",
   "execution_count": 7,
   "metadata": {
    "collapsed": false
   },
   "outputs": [],
   "source": [
    "# unpack\n",
    "val_loss, tr_loss, tr_pred, val_pred, train_vid, val_vid = out"
   ]
  },
  {
   "cell_type": "markdown",
   "metadata": {},
   "source": [
    "### Plot Learning Curves"
   ]
  },
  {
   "cell_type": "code",
   "execution_count": 8,
   "metadata": {
    "collapsed": false
   },
   "outputs": [
    {
     "data": {
      "image/png": "[encoded data removed]",
      "text/plain": [
       "<matplotlib.figure.Figure at 0x7f3ff37bd278>"
      ]
     },
     "metadata": {},
     "output_type": "display_data"
    }
   ],
   "source": [
    "# plot learning curve\n",
    "plt.plot(range(len(tr_loss)), tr_loss, 'r-', linewidth = 2, label = 'train')\n",
    "plt.plot(range(len(val_loss)), val_loss, 'b-', linewidth = 2, label = 'validation')\n",
    "plt.grid()\n",
    "plt.xlabel('iteration', fontsize = 13)\n",
    "plt.ylabel('loss', fontsize = 13)\n",
    "plt.title('iteration vs loss', fontsize = 15)\n",
    "plt.legend()\n",
    "plt.savefig(os.getcwd() + '/output/caption_learning_curve.png')"
   ]
  },
  {
   "cell_type": "markdown",
   "metadata": {},
   "source": [
    "### Check batch captions"
   ]
  },
  {
   "cell_type": "code",
   "execution_count": 11,
   "metadata": {
    "collapsed": false
   },
   "outputs": [
    {
     "name": "stdout",
     "output_type": "stream",
     "text": [
      "Pred Caption:  a a a a a a a\n",
      "True Caption:  drawn cry prepared with roasted pawns red child and gram nasal south indian style\n",
      "--------------------------------------------------\n",
      "Pred Caption:  a a a a a a\n",
      "True Caption:  one man and women talking something in a public\n",
      "--------------------------------------------------\n",
      "Pred Caption:  a a a a a a\n",
      "True Caption:  a cartoon character is jumping up a ledge\n",
      "--------------------------------------------------\n",
      "Pred Caption:  a a a a a a a a a a\n",
      "True Caption:  a man in a winter coat stand front of lights\n",
      "--------------------------------------------------\n",
      "Pred Caption:  a a a a a a a a a a a a\n",
      "True Caption:  a man is kissing a woman while a woman and a baby laugh\n",
      "--------------------------------------------------\n",
      "Pred Caption:  a a a a a a a a the a a a\n",
      "True Caption:  it is a collection of classic film quotes including james bond saying his name and the godfather says\n",
      "--------------------------------------------------\n",
      "Pred Caption:  a a a a a a\n",
      "True Caption:  a young girl showing how to make cake bump\n",
      "--------------------------------------------------\n",
      "Pred Caption:  a a a a a a a the\n",
      "True Caption:  a young girl dressed in pink and black plays tennis\n",
      "--------------------------------------------------\n",
      "Pred Caption:  a a a a a\n",
      "True Caption:  a person is dancing in the elevator\n",
      "--------------------------------------------------\n",
      "Pred Caption:  a a a a a a a\n",
      "True Caption:  a small boy crying while a star flies around him\n",
      "--------------------------------------------------\n",
      "Pred Caption:  a a a a a a a a a a\n",
      "True Caption:  man in blue shirt is hitting the ball and scoring a point\n",
      "--------------------------------------------------\n",
      "Pred Caption:  a a a a a a a\n",
      "True Caption:  a man is blow up and british soldiers carry a person away\n",
      "--------------------------------------------------\n",
      "Pred Caption:  a a a\n",
      "True Caption:  someone is watching shows\n",
      "--------------------------------------------------\n",
      "Pred Caption:  a a a a a a a a a a a a\n",
      "True Caption:  a brown color horse holding belt a white color dress lady speaking displaying on screen\n",
      "--------------------------------------------------\n",
      "Pred Caption:  a a\n",
      "True Caption:  someone folding a paper\n",
      "--------------------------------------------------\n",
      "Pred Caption:  a a a a a a a the\n",
      "True Caption:  there is a man is walking with a gun\n",
      "--------------------------------------------------\n",
      "Pred Caption:  a a a a a a a a a a\n",
      "True Caption:  two asia women having a conversation with the dialogue closed cautioned on the bottom\n",
      "--------------------------------------------------\n",
      "Pred Caption:  a a a a a a the a a\n",
      "True Caption:  a red car is sitting in the parking lot and a person is hold some keys\n",
      "--------------------------------------------------\n",
      "Pred Caption:  a a a a a a\n",
      "True Caption:  picture of an orange sports car\n",
      "--------------------------------------------------\n",
      "Pred Caption:  a a a a a a\n",
      "True Caption:  a person playing a leg game\n",
      "--------------------------------------------------\n",
      "Pred Caption:  a a a a a a a a\n",
      "True Caption:  a man preparing drill chicken and explaining about it\n",
      "--------------------------------------------------\n",
      "Pred Caption:  a a a a a a a a a\n",
      "True Caption:  a man and a woman or sitting on the couch talking\n",
      "--------------------------------------------------\n",
      "Pred Caption:  a a a a a a a a\n",
      "True Caption:  a kid plays with dinosaur toys and eggs wearing jurassic world white shirt\n",
      "--------------------------------------------------\n",
      "Pred Caption:  a a a a a\n",
      "True Caption:  a girl is telling something to people\n",
      "--------------------------------------------------\n"
     ]
    }
   ],
   "source": [
    "# check captions\n",
    "batch_size = 24\n",
    "# sample = tr_pred[idx] # training\n",
    "# # sample = val_pred[idx] # validation \n",
    "# words = []\n",
    "# embed_train = False # whether train embedding word\n",
    "\n",
    "captions = {k: v for k, v in captions_train}\n",
    "# caption check\n",
    "for j in range(batch_size):\n",
    "    words = []\n",
    "    trues = []\n",
    "    sample = tr_pred[j]\n",
    "    vid = train_vid[j]\n",
    "    cap = captions[vid]\n",
    "    for idx, i in enumerate(sample):\n",
    "        word = index2Word[i]\n",
    "        true = index2Word[cap[idx]]\n",
    "        if word not in ['<START>', '<END>', '<pad>']:\n",
    "            words.append(word)\n",
    "        if true not in ['<START>', '<END>', '<pad>']:\n",
    "            trues.append(true)   \n",
    "    print('Pred Caption: ', ' '.join(w for w in words))\n",
    "    print('True Caption: ', ' '.join(t for t in trues))\n",
    "    print('-'*50)"
   ]
  },
  {
   "cell_type": "markdown",
   "metadata": {
    "collapsed": false
   },
   "source": [
    "### Test Prediction and Evaluation"
   ]
  },
  {
   "cell_type": "code",
   "execution_count": 11,
   "metadata": {
    "collapsed": false
   },
   "outputs": [
    {
     "data": {
      "text/plain": [
       "24"
      ]
     },
     "execution_count": 11,
     "metadata": {},
     "output_type": "execute_result"
    }
   ],
   "source": []
  },
  {
   "cell_type": "code",
   "execution_count": null,
   "metadata": {
    "collapsed": true
   },
   "outputs": [],
   "source": []
  }
 ],
 "metadata": {
  "kernelspec": {
   "display_name": "Python 3",
   "language": "python",
   "name": "python3"
  },
  "language_info": {
   "codemirror_mode": {
    "name": "ipython",
    "version": 3
   },
   "file_extension": ".py",
   "mimetype": "text/x-python",
   "name": "python",
   "nbconvert_exporter": "python",
   "pygments_lexer": "ipython3",
   "version": "3.5.2"
  }
 },
 "nbformat": 4,
 "nbformat_minor": 0
}
