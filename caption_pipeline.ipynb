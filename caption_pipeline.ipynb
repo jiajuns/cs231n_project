{
 "cells": [
  {
   "cell_type": "code",
   "execution_count": 1,
   "metadata": {
    "collapsed": false
   },
   "outputs": [],
   "source": [
    "# !/usr/env python3\n",
    "\n",
    "'''\n",
    "Output:\n",
    "video captioning model itself and produce loss curve\n",
    "\n",
    "Usage:\n",
    "main document to train the video captioning model\n",
    "'''\n",
    "\n",
    "# set up\n",
    "from __future__ import print_function\n",
    "import tensorflow as tf\n",
    "import pickle\n",
    "import os\n",
    "import numpy as np\n",
    "import logging\n",
    "import matplotlib.pyplot as plt\n",
    "from util import *\n",
    "%matplotlib inline\n",
    "from model.video_caption import sequence_2_sequence_LSTM\n",
    "\n",
    "%load_ext autoreload\n",
    "%autoreload 2"
   ]
  },
  {
   "cell_type": "code",
   "execution_count": 2,
   "metadata": {
    "collapsed": false
   },
   "outputs": [],
   "source": [
    "# define parameters\n",
    "\n",
    "logging.basicConfig(level=logging.INFO)\n",
    "#=======Change These===============================\n",
    "tf.app.flags.DEFINE_string(\"model_name\", \"baseline_1\", \"name of the model\")\n",
    "tf.app.flags.DEFINE_integer(\"state_size\", 100, \"Size of each model layer.\")\n",
    "tf.app.flags.DEFINE_float(\"learning_rate\", 0.001, \"Base Learning rate.\")\n",
    "#=================================================="
   ]
  },
  {
   "cell_type": "code",
   "execution_count": 3,
   "metadata": {
    "collapsed": false
   },
   "outputs": [],
   "source": [
    "tf.app.flags.DEFINE_float(\"input_size\", 7*7*512, \"input size for each frame\")\n",
    "tf.app.flags.DEFINE_integer(\"batch_size\", 64, \"how many videos put per run\")\n",
    "tf.app.flags.DEFINE_integer(\"max_sentence_length\", 20, \"maximum captioning sentence length\")\n",
    "tf.app.flags.DEFINE_integer(\"word_vector_size\", 50, \"word embedding dimension default is 25 for twitter glove\")\n",
    "tf.app.flags.DEFINE_integer(\"n_epochs\", 500, \"number of epoch to run\")\n",
    "tf.app.flags.DEFINE_integer(\"num_frames\", 15, \"number of frames per video\")\n",
    "tf.app.flags.DEFINE_integer(\"hidden_size\", 100, \"output size of LSTM encoder and decoder\")\n",
    "tf.app.flags.DEFINE_float(\"dropout_rate\", 0.5, \"dropout probability for LSTM layers\")\n",
    "tf.app.flags.DEFINE_string(\"is_training\", 'train', \"train or predict mode\")\n",
    "FLAGS = tf.app.flags.FLAGS        "
   ]
  },
  {
   "cell_type": "code",
   "execution_count": 4,
   "metadata": {
    "collapsed": false
   },
   "outputs": [
    {
     "name": "stdout",
     "output_type": "stream",
     "text": [
      "Finish load data!\n"
     ]
    }
   ],
   "source": [
    "# training mode\n",
    "\n",
    "def get_session():\n",
    "    config = tf.ConfigProto()\n",
    "    config.gpu_options.allow_growth = True\n",
    "    session = tf.Session(config=config)\n",
    "    return session\n",
    "\n",
    "curPath = os.getcwd()\n",
    "dataPath = curPath + \"/datasets/\"\n",
    "\n",
    "# only pick first 100 for debugging purpose\n",
    "# load data\n",
    "sample_size = 100\n",
    "wvector_dim = 50\n",
    "input_frames_train, captions_train, \\\n",
    "    word_dict, word2Index, index2Word = load_caption_data(sample_size, dataPath, train = True)\n",
    "\n",
    "word_embedding = word_embedding_array(word_dict, wvector_dim, word2Index)\n",
    "    \n",
    "print('Finish load data!')"
   ]
  },
  {
   "cell_type": "code",
   "execution_count": 5,
   "metadata": {
    "collapsed": false
   },
   "outputs": [
    {
     "name": "stdout",
     "output_type": "stream",
     "text": [
      "start building model ...\n",
      "(?, 15, 25088)\n",
      "caption embedding shape:  (?, 20, 50)\n",
      "word vecs shape:  (?, 20, 50)\n",
      "total number of parameter 10141050"
     ]
    },
    {
     "name": "stderr",
     "output_type": "stream",
     "text": [
      "100%|██████████| 500/500 [02:37<00:00,  3.13it/s]"
     ]
    },
    {
     "name": "stdout",
     "output_type": "stream",
     "text": [
      "\n"
     ]
    },
    {
     "name": "stderr",
     "output_type": "stream",
     "text": [
      "\n"
     ]
    }
   ],
   "source": [
    "# build model graph\n",
    "model = sequence_2_sequence_LSTM(word_embedding, FLAGS)\n",
    "model.build()\n",
    "\n",
    "with get_session() as sess:\n",
    "    sess.run(tf.global_variables_initializer())\n",
    "    losses, train_predict = model.train(sess, (input_frames_train, captions_train))"
   ]
  },
  {
   "cell_type": "code",
   "execution_count": 6,
   "metadata": {
    "collapsed": false
   },
   "outputs": [
    {
     "data": {
      "image/png": "[encoded data removed]",
      "text/plain": [
       "<matplotlib.figure.Figure at 0x7ff2629f8f28>"
      ]
     },
     "metadata": {},
     "output_type": "display_data"
    }
   ],
   "source": [
    "# plot learning curve\n",
    "plt.plot(range(len(losses)), losses, 'r-', linewidth = 2)\n",
    "plt.grid()\n",
    "plt.xlabel('iteration', fontsize = 13)\n",
    "plt.ylabel('loss', fontsize = 13)\n",
    "plt.title('iteration vs loss', fontsize = 15)\n",
    "plt.savefig(os.getcwd() + '/output/caption_learning_curve_trial.png')"
   ]
  },
  {
   "cell_type": "code",
   "execution_count": 8,
   "metadata": {
    "collapsed": false
   },
   "outputs": [
    {
     "data": {
      "text/plain": [
       "['<START>',\n",
       " 'men',\n",
       " 'are',\n",
       " 'playing',\n",
       " 'in',\n",
       " 'a',\n",
       " 'soccer',\n",
       " 'match',\n",
       " '<unk>',\n",
       " '<unk>',\n",
       " '<unk>',\n",
       " '<unk>',\n",
       " '<unk>',\n",
       " '<unk>',\n",
       " '<unk>',\n",
       " '<unk>',\n",
       " '<unk>',\n",
       " '<unk>',\n",
       " '<unk>',\n",
       " '<unk>']"
      ]
     },
     "execution_count": 8,
     "metadata": {},
     "output_type": "execute_result"
    }
   ],
   "source": [
    "idx = np.random.randint(64)\n",
    "sample = train_predict[idx]\n",
    "words = []\n",
    "for i in range(20):\n",
    "    best_error = float('inf')\n",
    "    word_vec1 = sample[i]\n",
    "    for word, vec in word_dict.items():\n",
    "        if len(vec) == 0:\n",
    "            continue\n",
    "        error = np.sum(np.square(word_vec1 - np.array(vec)))\n",
    "        if error < best_error:\n",
    "            word1 = word\n",
    "            best_error = error\n",
    "    words.append(word1)\n",
    "words"
   ]
  },
  {
   "cell_type": "code",
   "execution_count": null,
   "metadata": {
    "collapsed": true
   },
   "outputs": [],
   "source": [
    "tf.app.flags.DEFINE_float(\"input_size\", 7*7*512, \"input size for each frame\")\n",
    "tf.app.flags.DEFINE_integer(\"batch_size\", 64, \"how many videos put per run\")\n",
    "tf.app.flags.DEFINE_integer(\"max_sentence_length\", 20, \"maximum captioning sentence length\")\n",
    "tf.app.flags.DEFINE_integer(\"word_vector_size\", 50, \"word embedding dimension default is 25 for twitter glove\")\n",
    "tf.app.flags.DEFINE_integer(\"n_epochs\", 500, \"number of epoch to run\")\n",
    "tf.app.flags.DEFINE_integer(\"num_frames\", 15, \"number of frames per video\")\n",
    "tf.app.flags.DEFINE_integer(\"hidden_size\", 100, \"output size of LSTM encoder and decoder\")\n",
    "tf.app.flags.DEFINE_float(\"dropout_rate\", 0.5, \"dropout probability for LSTM layers\")\n",
    "tf.app.flags.DEFINE_string(\"is_training\", 'predict', \"train or predict mode\")\n",
    "FLAGS = tf.app.flags.FLAGS "
   ]
  }
 ],
 "metadata": {
  "kernelspec": {
   "display_name": "Python 3",
   "language": "python",
   "name": "python3"
  },
  "language_info": {
   "codemirror_mode": {
    "name": "ipython",
    "version": 3
   },
   "file_extension": ".py",
   "mimetype": "text/x-python",
   "name": "python",
   "nbconvert_exporter": "python",
   "pygments_lexer": "ipython3",
   "version": "3.5.2"
  }
 },
 "nbformat": 4,
 "nbformat_minor": 0
}
