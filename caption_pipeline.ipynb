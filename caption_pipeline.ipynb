{
 "cells": [
  {
   "cell_type": "code",
   "execution_count": 1,
   "metadata": {
    "collapsed": false
   },
   "outputs": [
    {
     "name": "stderr",
     "output_type": "stream",
     "text": [
      "Using TensorFlow backend.\n"
     ]
    }
   ],
   "source": [
    "# !/usr/env python3\n",
    "\n",
    "'''\n",
    "Output:\n",
    "video captioning model itself and produce loss curve\n",
    "\n",
    "Usage:\n",
    "main document to train the video captioning model\n",
    "'''\n",
    "\n",
    "# set up\n",
    "from __future__ import print_function\n",
    "import tensorflow as tf\n",
    "import pickle\n",
    "import os\n",
    "import numpy as np\n",
    "import logging\n",
    "import matplotlib.pyplot as plt\n",
    "from util import *\n",
    "from model.video_caption import sequence_2_sequence_LSTM\n",
    "from load_caption_feature import *\n",
    "from datetime import datetime\n",
    "import warnings\n",
    "warnings.filterwarnings(\"ignore\")\n",
    "import gc\n",
    "\n",
    "%matplotlib inline\n",
    "%load_ext autoreload\n",
    "%autoreload 2"
   ]
  },
  {
   "cell_type": "markdown",
   "metadata": {},
   "source": [
    "## Load Data  \n",
    "load caption Xtrain, Xtest, ytrain, ytest, video_train, video_test and save them. "
   ]
  },
  {
   "cell_type": "code",
   "execution_count": 2,
   "metadata": {
    "collapsed": false
   },
   "outputs": [
    {
     "name": "stdout",
     "output_type": "stream",
     "text": [
      "processing videos...\n",
      "process 70/4270\n",
      "process 140/4270\n",
      "process 210/4270\n",
      "process 280/4270\n",
      "process 350/4270\n",
      "process 420/4270\n",
      "process 490/4270\n",
      "process 560/4270\n",
      "process 630/4270\n",
      "process 700/4270\n",
      "process 770/4270\n",
      "process 840/4270\n",
      "process 910/4270\n",
      "process 980/4270\n",
      "process 1050/4270\n",
      "process 1120/4270\n",
      "process 1190/4270\n",
      "process 1260/4270\n",
      "process 1330/4270\n",
      "process 1400/4270\n",
      "process 1470/4270\n",
      "process 1540/4270\n",
      "process 1610/4270\n",
      "process 1680/4270\n",
      "process 1750/4270\n",
      "process 1820/4270\n",
      "process 1890/4270\n",
      "process 1960/4270\n",
      "process 2030/4270\n",
      "process 2100/4270\n",
      "process 2170/4270\n",
      "process 2240/4270\n",
      "process 2310/4270\n",
      "process 2380/4270\n",
      "process 2450/4270\n",
      "process 2520/4270\n",
      "process 2590/4270\n",
      "process 2660/4270\n",
      "process 2730/4270\n",
      "process 2800/4270\n",
      "process 2870/4270\n",
      "process 2940/4270\n",
      "process 3010/4270\n",
      "process 3080/4270\n",
      "process 3150/4270\n",
      "process 3220/4270\n",
      "process 3290/4270\n",
      "process 3360/4270\n",
      "process 3430/4270\n",
      "process 3500/4270\n",
      "process 3570/4270\n",
      "process 3640/4270\n",
      "process 3710/4270\n",
      "process 3780/4270\n",
      "process 3850/4270\n",
      "process 3920/4270\n",
      "process 3990/4270\n",
      "process 4060/4270\n",
      "process 4130/4270\n",
      "process 4200/4270\n",
      "process 4270/4270\n",
      "cache processed data...\n"
     ]
    }
   ],
   "source": [
    "# load and save training data\n",
    "num_frames = 15\n",
    "size = (224, 224, 3)\n",
    "\n",
    "# more balanced data\n",
    "idx_path = os.getcwd() + '/datasets/x_train_ind_above400.npy'\n",
    "Xtrain_idx = np.load(idx_path)\n",
    "labels = np.load(os.getcwd() + '/datasets/y_train_mapped_above400.npy')\n",
    "\n",
    "# if all videos then \n",
    "num_videos = len(Xtrain_idx)\n",
    "\n",
    "tic = datetime.now()\n",
    "# for clearing memory convenience\n",
    "model = vgg_16_pretrained()\n",
    "Xtr, ytr = load_features(model, num_videos, num_frames, Xtrain_idx, labels, size = (224, 224, 3), train_test_flag='train')"
   ]
  },
  {
   "cell_type": "code",
   "execution_count": 5,
   "metadata": {
    "collapsed": false
   },
   "outputs": [
    {
     "data": {
      "text/plain": [
       "0"
      ]
     },
     "execution_count": 5,
     "metadata": {},
     "output_type": "execute_result"
    }
   ],
   "source": [
    "# clear memory\n",
    "# del Xtr\n",
    "# del ytr\n",
    "model = None\n",
    "gc.collect()"
   ]
  },
  {
   "cell_type": "code",
   "execution_count": 6,
   "metadata": {
    "collapsed": false
   },
   "outputs": [
    {
     "name": "stdout",
     "output_type": "stream",
     "text": [
      "processing videos...\n",
      "process 30/1830\n",
      "process 60/1830\n",
      "process 90/1830\n",
      "process 120/1830\n",
      "process 150/1830\n",
      "process 180/1830\n",
      "process 210/1830\n",
      "process 240/1830\n",
      "process 270/1830\n",
      "process 300/1830\n",
      "process 330/1830\n",
      "process 360/1830\n",
      "process 390/1830\n",
      "process 420/1830\n",
      "process 450/1830\n",
      "process 480/1830\n",
      "process 510/1830\n",
      "process 540/1830\n",
      "process 570/1830\n",
      "process 600/1830\n",
      "process 630/1830\n",
      "process 660/1830\n",
      "process 690/1830\n",
      "process 720/1830\n",
      "process 750/1830\n",
      "process 780/1830\n",
      "process 810/1830\n",
      "process 840/1830\n",
      "process 870/1830\n",
      "process 900/1830\n",
      "process 930/1830\n",
      "process 960/1830\n",
      "process 990/1830\n",
      "process 1020/1830\n",
      "process 1050/1830\n",
      "process 1080/1830\n",
      "process 1110/1830\n",
      "process 1140/1830\n",
      "process 1170/1830\n",
      "process 1200/1830\n",
      "process 1230/1830\n",
      "process 1260/1830\n",
      "process 1290/1830\n",
      "process 1320/1830\n",
      "process 1350/1830\n",
      "process 1380/1830\n",
      "process 1410/1830\n",
      "process 1440/1830\n",
      "process 1470/1830\n",
      "process 1500/1830\n",
      "process 1530/1830\n",
      "process 1560/1830\n",
      "process 1590/1830\n",
      "process 1620/1830\n",
      "process 1650/1830\n",
      "process 1680/1830\n",
      "process 1710/1830\n",
      "process 1740/1830\n",
      "process 1770/1830\n",
      "process 1800/1830\n",
      "process 1830/1830\n",
      "cache processed data...\n"
     ]
    }
   ],
   "source": [
    "# load and save test data\n",
    "num_frames_test = 15\n",
    "size = (224, 224, 3)\n",
    "\n",
    "# more balanced data\n",
    "idx_path = os.getcwd() + '/datasets/x_test_ind_above400.npy'\n",
    "Xtest_idx = np.load(idx_path)\n",
    "ytest = np.load(os.getcwd() + '/datasets/y_test_mapped_above400.npy')\n",
    "\n",
    "# if all videos then \n",
    "num_videos_test = len(Xtest_idx)\n",
    "\n",
    "model = vgg_16_pretrained()\n",
    "Xte, yte = load_features(model, num_videos_test, num_frames_test, video_idx = Xtest_idx, labels = ytest, size = (224, 224, 3), train_test_flag='test')"
   ]
  },
  {
   "cell_type": "code",
   "execution_count": 10,
   "metadata": {
    "collapsed": false
   },
   "outputs": [
    {
     "data": {
      "text/plain": [
       "0"
      ]
     },
     "execution_count": 10,
     "metadata": {},
     "output_type": "execute_result"
    }
   ],
   "source": [
    "# clean memory\n",
    "# del Xte\n",
    "# del yte\n",
    "model = None\n",
    "gc.collect()"
   ]
  },
  {
   "cell_type": "code",
   "execution_count": 7,
   "metadata": {
    "collapsed": true
   },
   "outputs": [],
   "source": [
    "curr = os.getcwd() + '/datasets'\n",
    "vid_ls = np.load(curr + '/videoIdtrain_allCap_15frames.npy')"
   ]
  },
  {
   "cell_type": "code",
   "execution_count": 11,
   "metadata": {
    "collapsed": false
   },
   "outputs": [],
   "source": [
    "Xtr = np.load(curr + '/Xtrain_allCap_15frames.npy')"
   ]
  },
  {
   "cell_type": "code",
   "execution_count": 18,
   "metadata": {
    "collapsed": false
   },
   "outputs": [
    {
     "name": "stdout",
     "output_type": "stream",
     "text": [
      "Xtrain shape:  (4270, 15, 4096)\n"
     ]
    }
   ],
   "source": [
    "Xtr = Xtr.reshape((-1, 15, 4096))\n",
    "print('Xtrain shape: ', Xtr.shape)\n",
    "assert Xtr.shape[0] == len(vid_ls)\n",
    "input_frames = {}\n",
    "for i in range(Xtr.shape[0]):\n",
    "    vid = vid_ls[i]\n",
    "    input_frames[vid] = Xtr[i]\n",
    "# save input_frames\n",
    "import pickle\n",
    "pickle.dump(input_frames, open(curr+ '/input_frames_train.pickle', 'wb'))"
   ]
  },
  {
   "cell_type": "code",
   "execution_count": 20,
   "metadata": {
    "collapsed": false
   },
   "outputs": [
    {
     "name": "stdout",
     "output_type": "stream",
     "text": [
      "Xtest shape:  (1830, 15, 4096)\n"
     ]
    }
   ],
   "source": [
    "Xte = np.load(curr + '/Xtest_allCap_15frames.npy')\n",
    "Xte = Xte.reshape((-1, 15, 4096))\n",
    "print('Xtest shape: ', Xte.shape)\n",
    "vid_test = np.load(curr + '/videoIdtest_allCap_15frames.npy')\n",
    "assert Xte.shape[0] == len(vid_test)\n",
    "input_frames_test = {}\n",
    "for i in range(Xte.shape[0]):\n",
    "    vid = vid_test[i]\n",
    "    input_frames_test[vid] = Xtr[i]\n",
    "# save input_frames\n",
    "import pickle\n",
    "pickle.dump(input_frames_test, open(curr+ '/input_frames_test.pickle', 'wb'))"
   ]
  },
  {
   "cell_type": "markdown",
   "metadata": {},
   "source": [
    "## Model setup and train"
   ]
  },
  {
   "cell_type": "markdown",
   "metadata": {},
   "source": [
    "### Model Configuration and Parameters"
   ]
  },
  {
   "cell_type": "code",
   "execution_count": 2,
   "metadata": {
    "collapsed": false
   },
   "outputs": [],
   "source": [
    "# define parameters\n",
    "\n",
    "logging.basicConfig(level=logging.INFO)\n",
    "#=======Change These===============================\n",
    "tf.app.flags.DEFINE_string(\"model_name\", \"baseline_1\", \"name of the model\")\n",
    "tf.app.flags.DEFINE_integer(\"state_size\", 100, \"Size of each model layer.\")\n",
    "tf.app.flags.DEFINE_float(\"learning_rate\", 1e-4, \"Base Learning rate.\")\n",
    "#==================================================\n",
    "\n",
    "tf.app.flags.DEFINE_float(\"input_size\", 4096, \"input size for each frame\")\n",
    "tf.app.flags.DEFINE_integer(\"batch_size\", 64, \"how many videos put per run\")\n",
    "tf.app.flags.DEFINE_integer(\"max_sentence_length\", 20, \"maximum captioning sentence length\")\n",
    "tf.app.flags.DEFINE_integer(\"word_vector_size\", 50, \"word embedding dimension default is 25 for twitter glove\")\n",
    "tf.app.flags.DEFINE_integer(\"voc_size\", 6169, \"vocabulary size\")\n",
    "tf.app.flags.DEFINE_integer(\"n_epochs\", 50, \"number of epoch to run\")\n",
    "tf.app.flags.DEFINE_integer(\"num_frames\", 15, \"number of frames per video\")\n",
    "tf.app.flags.DEFINE_integer(\"hidden_size\", 100, \"output size of LSTM encoder and decoder\")\n",
    "FLAGS = tf.app.flags.FLAGS        "
   ]
  },
  {
   "cell_type": "markdown",
   "metadata": {},
   "source": [
    "### Load Training Data"
   ]
  },
  {
   "cell_type": "code",
   "execution_count": 3,
   "metadata": {
    "collapsed": false
   },
   "outputs": [
    {
     "name": "stdout",
     "output_type": "stream",
     "text": [
      "Finish loading training data!\n"
     ]
    }
   ],
   "source": [
    "def get_session():\n",
    "    config = tf.ConfigProto()\n",
    "    config.gpu_options.allow_growth = True\n",
    "    session = tf.Session(config=config)\n",
    "    return session\n",
    "\n",
    "curPath = os.getcwd()\n",
    "dataPath = curPath + \"/datasets/\"\n",
    "\n",
    "# only pick first 100 for debugging purpose\n",
    "# load data\n",
    "sample_size = 1000\n",
    "wvector_dim = 50\n",
    "is_training = True\n",
    "input_frames_train, captions_train, \\\n",
    "        word_dict, word2Index, index2Word = load_caption_data(sample_size, dataPath, train = is_training)\n",
    "word_embedding = word_embedding_array(word_dict, wvector_dim, word2Index) \n",
    "print('Finish loading training data!')"
   ]
  },
  {
   "cell_type": "markdown",
   "metadata": {},
   "source": [
    "### Build Model Graph"
   ]
  },
  {
   "cell_type": "code",
   "execution_count": 6,
   "metadata": {
    "collapsed": false
   },
   "outputs": [
    {
     "name": "stdout",
     "output_type": "stream",
     "text": [
      "start building model ...\n",
      "total number of parameter 2710719\n"
     ]
    }
   ],
   "source": [
    "# build model graph\n",
    "tf.reset_default_graph()\n",
    "model = sequence_2_sequence_LSTM(word_embedding, FLAGS)\n",
    "model.build()"
   ]
  },
  {
   "cell_type": "code",
   "execution_count": 5,
   "metadata": {
    "collapsed": false
   },
   "outputs": [
    {
     "name": "stdout",
     "output_type": "stream",
     "text": [
      "<tf.Variable 'LSTM_seq2seq/encoder/basic_lstm_cell/weights:0' shape=(4196, 400) dtype=float32_ref>\n",
      "<tf.Variable 'LSTM_seq2seq/encoder/basic_lstm_cell/biases:0' shape=(400,) dtype=float32_ref>\n",
      "<tf.Variable 'LSTM_seq2seq/decoder/basic_lstm_cell/weights:0' shape=(250, 400) dtype=float32_ref>\n",
      "<tf.Variable 'LSTM_seq2seq/decoder/basic_lstm_cell/biases:0' shape=(400,) dtype=float32_ref>\n",
      "<tf.Variable 'LSTM_seq2seq/decoder/hidden_to_scores/kernel:0' shape=(100, 6169) dtype=float32_ref>\n",
      "<tf.Variable 'LSTM_seq2seq/decoder/hidden_to_scores/bias:0' shape=(6169,) dtype=float32_ref>\n"
     ]
    }
   ],
   "source": [
    "# check variables\n",
    "for v in tf.trainable_variables():\n",
    "    print(v)"
   ]
  },
  {
   "cell_type": "code",
   "execution_count": null,
   "metadata": {
    "collapsed": false,
    "scrolled": true
   },
   "outputs": [
    {
     "data": {
      "image/png": "[encoded data removed]",
      "text/plain": [
       "<matplotlib.figure.Figure at 0x7f48ff9f2fd0>"
      ]
     },
     "metadata": {},
     "output_type": "display_data"
    },
    {
     "name": "stdout",
     "output_type": "stream",
     "text": [
      "\r",
      " 1/50 [..............................] - ETA: 542s - train loss: 168.3773 - dev loss: 161.1737"
     ]
    },
    {
     "data": {
      "image/png": "[encoded data removed]",
      "text/plain": [
       "<matplotlib.figure.Figure at 0x7f48fe786f98>"
      ]
     },
     "metadata": {},
     "output_type": "display_data"
    },
    {
     "name": "stdout",
     "output_type": "stream",
     "text": [
      "\b\b\b\b\b\b\b\b\b\b\b\b\b\b\b\b\b\b\b\b\b\b\b\b\b\b\b\b\b\b\b\b\b\b\b\b\b\b\b\b\b\b\b\b\b\b\b\b\b\b\b\b\b\b\b\b\b\b\b\b\b\b\b\b\b\b\b\b\b\b\b\b\b\b\b\b\b\b\b\b\b\b\b\b\b\b\b\b\b\b\b\b\b\b\r",
      " 2/50 [>.............................] - ETA: 520s - train loss: 153.1176 - dev loss: 142.4813"
     ]
    },
    {
     "data": {
      "image/png": "[encoded data removed]",
      "text/plain": [
       "<matplotlib.figure.Figure at 0x7f48fc686978>"
      ]
     },
     "metadata": {},
     "output_type": "display_data"
    },
    {
     "name": "stdout",
     "output_type": "stream",
     "text": [
      "\b\b\b\b\b\b\b\b\b\b\b\b\b\b\b\b\b\b\b\b\b\b\b\b\b\b\b\b\b\b\b\b\b\b\b\b\b\b\b\b\b\b\b\b\b\b\b\b\b\b\b\b\b\b\b\b\b\b\b\b\b\b\b\b\b\b\b\b\b\b\b\b\b\b\b\b\b\b\b\b\b\b\b\b\b\b\b\b\b\b\b\b\b\b\r",
      " 3/50 [>.............................] - ETA: 506s - train loss: 134.1065 - dev loss: 124.3242"
     ]
    },
    {
     "data": {
      "image/png": "[encoded data removed]",
      "text/plain": [
       "<matplotlib.figure.Figure at 0x7f49b2fe9780>"
      ]
     },
     "metadata": {},
     "output_type": "display_data"
    },
    {
     "name": "stdout",
     "output_type": "stream",
     "text": [
      "\b\b\b\b\b\b\b\b\b\b\b\b\b\b\b\b\b\b\b\b\b\b\b\b\b\b\b\b\b\b\b\b\b\b\b\b\b\b\b\b\b\b\b\b\b\b\b\b\b\b\b\b\b\b\b\b\b\b\b\b\b\b\b\b\b\b\b\b\b\b\b\b\b\b\b\b\b\b\b\b\b\b\b\b\b\b\b\b\b\b\b\b\b\b\r",
      " 4/50 [=>............................] - ETA: 492s - train loss: 118.0719 - dev loss: 110.4437"
     ]
    },
    {
     "data": {
      "image/png": "[encoded data removed]",
      "text/plain": [
       "<matplotlib.figure.Figure at 0x7f48fc658940>"
      ]
     },
     "metadata": {},
     "output_type": "display_data"
    },
    {
     "name": "stdout",
     "output_type": "stream",
     "text": [
      "\b\b\b\b\b\b\b\b\b\b\b\b\b\b\b\b\b\b\b\b\b\b\b\b\b\b\b\b\b\b\b\b\b\b\b\b\b\b\b\b\b\b\b\b\b\b\b\b\b\b\b\b\b\b\b\b\b\b\b\b\b\b\b\b\b\b\b\b\b\b\b\b\b\b\b\b\b\b\b\b\b\b\b\b\b\b\b\b\b\b\b\b\b\b\r",
      " 5/50 [==>...........................] - ETA: 479s - train loss: 105.7415 - dev loss: 99.6686 "
     ]
    }
   ],
   "source": [
    "# run training mode\n",
    "with get_session() as sess:\n",
    "    sess.run(tf.global_variables_initializer())\n",
    "    out = model.train(sess, (input_frames_train, captions_train), verbose = True)"
   ]
  },
  {
   "cell_type": "code",
   "execution_count": 6,
   "metadata": {
    "collapsed": true
   },
   "outputs": [],
   "source": [
    "# unpack\n",
    "val_loss, tr_loss, tr_pred, val_pred, train_vid, val_vid = out"
   ]
  },
  {
   "cell_type": "markdown",
   "metadata": {},
   "source": [
    "### Plot Learning Curves"
   ]
  },
  {
   "cell_type": "code",
   "execution_count": 7,
   "metadata": {
    "collapsed": false
   },
   "outputs": [
    {
     "data": {
      "image/png": "[encoded data removed]",
      "text/plain": [
       "<matplotlib.figure.Figure at 0x7fa6e88acd68>"
      ]
     },
     "metadata": {},
     "output_type": "display_data"
    }
   ],
   "source": [
    "# plot learning curve\n",
    "plt.plot(range(len(tr_loss)), tr_loss, 'r-', linewidth = 2, label = 'train')\n",
    "plt.plot(range(len(val_loss)), val_loss, 'b-', linewidth = 2, label = 'validation')\n",
    "plt.grid()\n",
    "plt.xlabel('iteration', fontsize = 13)\n",
    "plt.ylabel('loss', fontsize = 13)\n",
    "plt.title('iteration vs loss', fontsize = 15)\n",
    "plt.legend()\n",
    "plt.savefig(os.getcwd() + '/output/caption_learning_curve.png')"
   ]
  },
  {
   "cell_type": "code",
   "execution_count": 12,
   "metadata": {
    "collapsed": false
   },
   "outputs": [
    {
     "name": "stdout",
     "output_type": "stream",
     "text": [
      "Pred Caption:  two leg people getting she\n",
      "True Caption:  two leg people getting married\n",
      "--------------------------------------------------\n",
      "Pred Caption:  a chef commercial dish place\n",
      "True Caption:  a beer commercial takes place\n",
      "--------------------------------------------------\n",
      "Pred Caption:  to for is holding up a gun\n",
      "True Caption:  will smith is holding up a gun\n",
      "--------------------------------------------------\n",
      "Pred Caption:  a person playing a piano\n",
      "True Caption:  a person playing a piano\n",
      "--------------------------------------------------\n",
      "Pred Caption:  a movie trailer shows some movie scenes\n",
      "True Caption:  a movie trailer shows some movie scenes\n",
      "--------------------------------------------------\n",
      "Pred Caption:  an vehicle is flying over a car\n",
      "True Caption:  an aircraft is flying over a car\n",
      "--------------------------------------------------\n",
      "Pred Caption:  a cartoon video song\n",
      "True Caption:  a animated video song\n",
      "--------------------------------------------------\n",
      "Pred Caption:  a man tries to set a dog to to a\n",
      "True Caption:  a man tries to lead a donkey to take a bath\n",
      "--------------------------------------------------\n",
      "Pred Caption:  a <unk> runs fast by preparing the ball and it has performance wall cooks a great\n",
      "True Caption:  a cheetah runs fast by forcing the legs and it has amazing toned muscles a great support\n",
      "--------------------------------------------------\n",
      "Pred Caption:  a female going through the ingredient for a recipe while the items are shown with their large use\n",
      "True Caption:  a female going through the ingredient for a recipe while the items are shown with their amounts needed\n",
      "--------------------------------------------------\n",
      "Pred Caption:  man to old woman grass over\n",
      "True Caption:  man helps old woman bend over\n",
      "--------------------------------------------------\n",
      "Pred Caption:  a man playing video game\n",
      "True Caption:  a man playing video games\n",
      "--------------------------------------------------\n",
      "Pred Caption:  a live performance by a band of women\n",
      "True Caption:  a live performance by a band of women\n",
      "--------------------------------------------------\n",
      "Pred Caption:  it is the part of online game\n",
      "True Caption:  it is the part of online game\n",
      "--------------------------------------------------\n",
      "Pred Caption:  demonstration of how to the a outside in a video game\n",
      "True Caption:  demonstration of how to complete a level in a video game\n",
      "--------------------------------------------------\n",
      "Pred Caption:  boy tutoring in his white the and long ingredient around his foot\n",
      "True Caption:  boy tapping in his white the and long chain around his neck\n",
      "--------------------------------------------------\n",
      "Pred Caption:  a man is intervening a man in front of an audience\n",
      "True Caption:  a man is intervening a man in front of an audience\n",
      "--------------------------------------------------\n",
      "Pred Caption:  a is being shown in slow motion\n",
      "True Caption:  a goat is being shown in slow motion\n",
      "--------------------------------------------------\n",
      "Pred Caption:  a women is making some being using the ingredient as as blue onion the spoon and pot\n",
      "True Caption:  a women is making some received using the ingredient such as red onion green chill and lemon\n",
      "--------------------------------------------------\n",
      "Pred Caption:  a game is being played\n",
      "True Caption:  a game is being played\n",
      "--------------------------------------------------\n",
      "Pred Caption:  a man is playing the guitar\n",
      "True Caption:  a man is playing the guitar\n",
      "--------------------------------------------------\n",
      "Pred Caption:  man in blue shirt is describing the news news\n",
      "True Caption:  man in blue shirt is presenting the latest news\n",
      "--------------------------------------------------\n",
      "Pred Caption:  a man is performing a match man in basketball\n",
      "True Caption:  a man is performing a slam drunk in basketball\n",
      "--------------------------------------------------\n",
      "Pred Caption:  the crowd is standing\n",
      "True Caption:  the crowd is cheering\n",
      "--------------------------------------------------\n"
     ]
    }
   ],
   "source": [
    "# check captions\n",
    "batch_size = 24\n",
    "# sample = tr_pred[idx] # training\n",
    "# # sample = val_pred[idx] # validation \n",
    "# words = []\n",
    "# embed_train = False # whether train embedding word\n",
    "\n",
    "captions = {k: v for k, v in captions_train}\n",
    "# caption check\n",
    "for j in range(batch_size):\n",
    "    words = []\n",
    "    trues = []\n",
    "    sample = tr_pred[j]\n",
    "    vid = train_vid[j]\n",
    "    cap = captions[vid]\n",
    "    for idx, i in enumerate(sample):\n",
    "        word = index2Word[i]\n",
    "        true = index2Word[cap[idx]]\n",
    "        if word not in ['<START>', '<END>', '<pad>']:\n",
    "            words.append(word)\n",
    "        if true not in ['<START>', '<END>', '<pad>']:\n",
    "            trues.append(true)   \n",
    "    print('Pred Caption: ', ' '.join(w for w in words))\n",
    "    print('True Caption: ', ' '.join(t for t in trues))\n",
    "    print('-'*50)"
   ]
  },
  {
   "cell_type": "markdown",
   "metadata": {
    "collapsed": false
   },
   "source": [
    "### Check Test Prediction and Evaluation"
   ]
  },
  {
   "cell_type": "code",
   "execution_count": 11,
   "metadata": {
    "collapsed": false
   },
   "outputs": [
    {
     "data": {
      "text/plain": [
       "24"
      ]
     },
     "execution_count": 11,
     "metadata": {},
     "output_type": "execute_result"
    }
   ],
   "source": [
    "len(tr_pred)"
   ]
  },
  {
   "cell_type": "code",
   "execution_count": null,
   "metadata": {
    "collapsed": true
   },
   "outputs": [],
   "source": []
  }
 ],
 "metadata": {
  "kernelspec": {
   "display_name": "Python 3",
   "language": "python",
   "name": "python3"
  },
  "language_info": {
   "codemirror_mode": {
    "name": "ipython",
    "version": 3
   },
   "file_extension": ".py",
   "mimetype": "text/x-python",
   "name": "python",
   "nbconvert_exporter": "python",
   "pygments_lexer": "ipython3",
   "version": "3.5.2"
  }
 },
 "nbformat": 4,
 "nbformat_minor": 0
}
