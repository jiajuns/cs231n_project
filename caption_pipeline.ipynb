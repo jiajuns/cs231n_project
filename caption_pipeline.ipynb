{
 "cells": [
  {
   "cell_type": "code",
   "execution_count": 1,
   "metadata": {
    "collapsed": false
   },
   "outputs": [],
   "source": [
    "# !/usr/env python3\n",
    "\n",
    "'''\n",
    "Output:\n",
    "video captioning model itself and produce loss curve\n",
    "\n",
    "Usage:\n",
    "main document to train the video captioning model\n",
    "'''\n",
    "\n",
    "# set up\n",
    "from __future__ import print_function\n",
    "import tensorflow as tf\n",
    "import pickle\n",
    "import os\n",
    "import numpy as np\n",
    "import logging\n",
    "import matplotlib.pyplot as plt\n",
    "from util import *\n",
    "%matplotlib inline\n",
    "from model.video_caption import sequence_2_sequence_LSTM\n",
    "\n",
    "%load_ext autoreload\n",
    "%autoreload 2"
   ]
  },
  {
   "cell_type": "code",
   "execution_count": 2,
   "metadata": {
    "collapsed": false
   },
   "outputs": [],
   "source": [
    "# define parameters\n",
    "\n",
    "logging.basicConfig(level=logging.INFO)\n",
    "#=======Change These===============================\n",
    "tf.app.flags.DEFINE_string(\"model_name\", \"baseline_1\", \"name of the model\")\n",
    "tf.app.flags.DEFINE_integer(\"state_size\", 100, \"Size of each model layer.\")\n",
    "tf.app.flags.DEFINE_float(\"learning_rate\", 0.001, \"Base Learning rate.\")\n",
    "#==================================================\n",
    "\n",
    "tf.app.flags.DEFINE_float(\"input_size\", 7*7*512, \"input size for each frame\")\n",
    "tf.app.flags.DEFINE_integer(\"batch_size\", 50, \"how many videos put per run\")\n",
    "tf.app.flags.DEFINE_integer(\"max_sentence_length\", 20, \"maximum captioning sentence length\")\n",
    "tf.app.flags.DEFINE_integer(\"word_vector_size\", 50, \"word embedding dimension default is 25 for twitter glove\")\n",
    "tf.app.flags.DEFINE_integer(\"n_epochs\", 200, \"number of epoch to run\")\n",
    "tf.app.flags.DEFINE_integer(\"num_frames\", 15, \"number of frames per video\")\n",
    "tf.app.flags.DEFINE_integer(\"hidden_size\", 100, \"output size of LSTM encoder and decoder\")\n",
    "tf.app.flags.DEFINE_float(\"dropout_rate\", 0.5, \"dropout probability for LSTM layers\")\n",
    "FLAGS = tf.app.flags.FLAGS        "
   ]
  },
  {
   "cell_type": "code",
   "execution_count": 3,
   "metadata": {
    "collapsed": false
   },
   "outputs": [
    {
     "name": "stdout",
     "output_type": "stream",
     "text": [
      "Finish load training data!\n"
     ]
    }
   ],
   "source": [
    "def get_session():\n",
    "    config = tf.ConfigProto()\n",
    "    config.gpu_options.allow_growth = True\n",
    "    session = tf.Session(config=config)\n",
    "    return session\n",
    "\n",
    "curPath = os.getcwd()\n",
    "dataPath = curPath + \"/datasets/\"\n",
    "\n",
    "# only pick first 100 for debugging purpose\n",
    "# load data\n",
    "sample_size = 100\n",
    "wvector_dim = 50\n",
    "is_training = True\n",
    "input_frames_train, captions_train, \\\n",
    "        word_dict, word2Index, index2Word = load_caption_data(sample_size, dataPath, train = is_training)\n",
    "word_embedding = word_embedding_array(word_dict, wvector_dim, word2Index) \n",
    "print('Finish load training data!')"
   ]
  },
  {
   "cell_type": "code",
   "execution_count": 4,
   "metadata": {
    "collapsed": false
   },
   "outputs": [
    {
     "name": "stdout",
     "output_type": "stream",
     "text": [
      "start building model ...\n",
      "caption embedding shape:  (?, 20, 50)\n",
      "word vecs shape:  (?, 20, 50)\n",
      "total number of parameter 10141050\n"
     ]
    }
   ],
   "source": [
    "# build model graph\n",
    "tf.reset_default_graph()\n",
    "model = sequence_2_sequence_LSTM(word_embedding, FLAGS)\n",
    "model.build()"
   ]
  },
  {
   "cell_type": "code",
   "execution_count": 13,
   "metadata": {
    "collapsed": false
   },
   "outputs": [
    {
     "name": "stdout",
     "output_type": "stream",
     "text": [
      "<tf.Variable 'LSTM_seq2seq/encoder/basic_lstm_cell/weights:0' shape=(25188, 400) dtype=float32_ref>\n",
      "<tf.Variable 'LSTM_seq2seq/encoder/basic_lstm_cell/biases:0' shape=(400,) dtype=float32_ref>\n",
      "<tf.Variable 'LSTM_seq2seq/decoder/basic_lstm_cell/weights:0' shape=(150, 400) dtype=float32_ref>\n",
      "<tf.Variable 'LSTM_seq2seq/decoder/basic_lstm_cell/biases:0' shape=(400,) dtype=float32_ref>\n",
      "<tf.Variable 'LSTM_seq2seq/decoder/hidden_to_word/kernel:0' shape=(100, 50) dtype=float32_ref>\n",
      "<tf.Variable 'LSTM_seq2seq/decoder/hidden_to_word/bias:0' shape=(50,) dtype=float32_ref>\n"
     ]
    }
   ],
   "source": [
    "for v in tf.trainable_variables():\n",
    "    print(v)"
   ]
  },
  {
   "cell_type": "code",
   "execution_count": 5,
   "metadata": {
    "collapsed": false
   },
   "outputs": [
    {
     "name": "stderr",
     "output_type": "stream",
     "text": [
      "100%|██████████| 200/200 [03:05<00:00,  1.07it/s]\n"
     ]
    }
   ],
   "source": [
    "with get_session() as sess:\n",
    "    sess.run(tf.global_variables_initializer())\n",
    "    losses = model.train(sess, (input_frames_train, captions_train))"
   ]
  },
  {
   "cell_type": "code",
   "execution_count": 6,
   "metadata": {
    "collapsed": false
   },
   "outputs": [
    {
     "data": {
      "image/png": "[encoded data removed]",
      "text/plain": [
       "<matplotlib.figure.Figure at 0x7efe58dc3be0>"
      ]
     },
     "metadata": {},
     "output_type": "display_data"
    }
   ],
   "source": [
    "# plot learning curve\n",
    "plt.plot(range(len(losses)), losses, 'r-', linewidth = 2)\n",
    "plt.grid()\n",
    "plt.xlabel('iteration', fontsize = 13)\n",
    "plt.ylabel('loss', fontsize = 13)\n",
    "plt.title('iteration vs loss', fontsize = 15)\n",
    "plt.savefig(os.getcwd() + '/output/caption_learning_curve_trial.png')"
   ]
  },
  {
   "cell_type": "code",
   "execution_count": 9,
   "metadata": {
    "collapsed": false
   },
   "outputs": [
    {
     "name": "stdout",
     "output_type": "stream",
     "text": [
      "Test Caption:  <START> men singing besides dancing <unk> <unk> <unk> <unk> <unk> <unk> <unk> <unk> <unk> <unk> <unk> <unk> <unk> <unk> <unk>\n"
     ]
    }
   ],
   "source": [
    "# check one caption\n",
    "batch_size = 64\n",
    "idx = np.random.randint(batch_size)\n",
    "sample = predict[idx]\n",
    "words = []\n",
    "\n",
    "# nearest neighbor searching\n",
    "for i in range(20):\n",
    "    best_error = float('inf')\n",
    "    word_vec = sample[i]\n",
    "    for word, vec in word_dict.items():\n",
    "        if len(vec) == 0:\n",
    "            continue\n",
    "        error = np.sum(np.square(word_vec - np.array(vec)))\n",
    "        if error < best_error:\n",
    "            w = word\n",
    "            best_error = error\n",
    "    words.append(w)\n",
    "    \n",
    "print('Test Caption: ', ' '.join(w for w in words))"
   ]
  },
  {
   "cell_type": "code",
   "execution_count": null,
   "metadata": {
    "collapsed": true
   },
   "outputs": [],
   "source": []
  }
 ],
 "metadata": {
  "kernelspec": {
   "display_name": "Python 3",
   "language": "python",
   "name": "python3"
  },
  "language_info": {
   "codemirror_mode": {
    "name": "ipython",
    "version": 3
   },
   "file_extension": ".py",
   "mimetype": "text/x-python",
   "name": "python",
   "nbconvert_exporter": "python",
   "pygments_lexer": "ipython3",
   "version": "3.5.2"
  }
 },
 "nbformat": 4,
 "nbformat_minor": 0
}
