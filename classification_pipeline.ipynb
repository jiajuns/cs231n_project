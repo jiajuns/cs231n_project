{
 "cells": [
  {
   "cell_type": "markdown",
   "metadata": {},
   "source": [
    "## Data load and preprocess"
   ]
  },
  {
   "cell_type": "code",
   "execution_count": 1,
   "metadata": {
    "collapsed": false
   },
   "outputs": [
    {
     "name": "stderr",
     "output_type": "stream",
     "text": [
      "Using TensorFlow backend.\n"
     ]
    }
   ],
   "source": [
    "# !usr/env/python in .env\n",
    "# setup\n",
    "from load_data import Download_Video\n",
    "from datetime import datetime\n",
    "import os\n",
    "import logging\n",
    "import numpy as np\n",
    "from collections import Counter\n",
    "import matplotlib.pyplot as plt\n",
    "from load_feature import load_features\n",
    "\n",
    "# filter out unnecessary warnings\n",
    "import warnings\n",
    "warnings.filterwarnings(\"ignore\")\n",
    "\n",
    "%load_ext autoreload\n",
    "%autoreload 2\n",
    "%matplotlib inline\n",
    "\n",
    "# figure parameters\n",
    "plt.rcParams['figure.figsize'] = (10.0, 8.0) # set default size of plots\n",
    "plt.rcParams['image.interpolation'] = 'nearest'\n",
    "plt.rcParams['image.cmap'] = 'gray'"
   ]
  },
  {
   "cell_type": "markdown",
   "metadata": {},
   "source": [
    "Download data based on url. The data information is from json files. The json file format is like the following: \n",
    "  \n",
    "\"videos\": [{\"category\": 9, \"url\": \"https://www.youtube.com/watch?v=9lZi22qLlEo\", \"video_id\": \"video0\", \"start time\": 137.72, \"end time\": 149.44, \"split\": \"train\", \"id\": 0}  \n",
    "  \n",
    "Categories:"
   ]
  },
  {
   "cell_type": "code",
   "execution_count": null,
   "metadata": {
    "collapsed": true
   },
   "outputs": [],
   "source": [
    "# load data\n",
    "video_num = 10000 # originally, 10000 urls\n",
    "frame_count = 10\n",
    "video_time = 10\n",
    "d = Download_Video(video_num, frame_count, video_time)\n",
    "tic = datetime.now()\n",
    "d.download_organizer()\n",
    "toc = datetime.now()\n",
    "print('Download time {0}'.format(toc-tic))"
   ]
  },
  {
   "cell_type": "code",
   "execution_count": 44,
   "metadata": {
    "collapsed": true
   },
   "outputs": [],
   "source": [
    "# process data\n",
    "video_num = 10000\n",
    "frame_count = 10\n",
    "video_time = 10\n",
    "d = Download_Video(video_num, frame_count, video_time)\n",
    "tic = datetime.now()\n",
    "d.preprocess_organizer()\n",
    "toc = datetime.now()\n",
    "print('Process time {0}'.format(toc-tic))"
   ]
  },
  {
   "cell_type": "code",
   "execution_count": 45,
   "metadata": {
    "collapsed": false
   },
   "outputs": [
    {
     "name": "stdout",
     "output_type": "stream",
     "text": [
      "Total number of videos: 8633\n",
      "There exists invalid video url!\n"
     ]
    }
   ],
   "source": [
    "# data check\n",
    "curr = os.getcwd() + '/datasets/category.npy'\n",
    "y = np.load(curr)\n",
    "print('Total number of videos: {0}'.format(y.shape[0]))\n",
    "if y.shape[0] < video_num:\n",
    "    print ('There exists invalid video url!')"
   ]
  },
  {
   "cell_type": "code",
   "execution_count": 43,
   "metadata": {
    "collapsed": false
   },
   "outputs": [
    {
     "name": "stdout",
     "output_type": "stream",
     "text": [
      "Average Video Count: 431.65\n"
     ]
    },
    {
     "data": {
      "text/plain": [
       "<matplotlib.text.Text at 0x7fab4bfec940>"
      ]
     },
     "execution_count": 43,
     "metadata": {},
     "output_type": "execute_result"
    },
    {
     "data": {
      "image/png": "[encoded data removed]",
      "text/plain": [
       "<matplotlib.figure.Figure at 0x7fab4be87d68>"
      ]
     },
     "metadata": {},
     "output_type": "display_data"
    }
   ],
   "source": [
    "# classes balance check\n",
    "categories = y[:, 1]\n",
    "video_dic = Counter(categories)\n",
    "video_dic = {int(key): value for key, value in video_dic.items()}\n",
    "cat = list(video_dic.keys())\n",
    "cat_count = list(video_dic.values())\n",
    "print('Average Video Count: {0}'.format(sum(cat_count) / float(len(cat_count))))\n",
    "\n",
    "# plotting\n",
    "plt.bar(cat, cat_count, align='center',color='blue', alpha=0.5)\n",
    "plt.grid()\n",
    "plt.xlabel('Video Category', fontsize = 13)\n",
    "plt.ylabel('Video Count', fontsize = 13)\n",
    "plt.title('Video Category Distribution', fontsize = 15)"
   ]
  },
  {
   "cell_type": "markdown",
   "metadata": {},
   "source": [
    "The distribution offers the intuition of category. The average count of video category is 423. We remove the categories with low count. Here the threshold is 400. "
   ]
  },
  {
   "cell_type": "code",
   "execution_count": null,
   "metadata": {
    "collapsed": true
   },
   "outputs": [],
   "source": [
    "# balance data"
   ]
  },
  {
   "cell_type": "markdown",
   "metadata": {},
   "source": [
    "Now load Xtrain, ytrain, Xtest, and ytest data. Since we obtain more balanced data from above, and save video indices and their corresponding labels to npy files. We could directly read these indices and labels to retrieve and combine video frames and give correspondent output from pretrained model. The cell below is to load concatenate features. Note: be careful to choose number of frames. If the number of frames is too big, it will produce memory error, which means the system could not load the entire datasets. Here we first choose 15 frames. More details could be seen in **load_feature.py**."
   ]
  },
  {
   "cell_type": "code",
   "execution_count": 2,
   "metadata": {
    "collapsed": false
   },
   "outputs": [
    {
     "name": "stdout",
     "output_type": "stream",
     "text": [
      "processing videos...\n",
      "process 64/4270\n",
      "process 128/4270\n",
      "process 192/4270\n",
      "process 256/4270\n",
      "process 320/4270\n",
      "process 384/4270\n",
      "process 448/4270\n",
      "process 512/4270\n",
      "process 576/4270\n",
      "process 640/4270\n",
      "process 704/4270\n",
      "process 768/4270\n",
      "process 832/4270\n",
      "process 896/4270\n",
      "process 960/4270\n",
      "process 1024/4270\n",
      "process 1088/4270\n",
      "process 1152/4270\n",
      "process 1216/4270\n",
      "process 1280/4270\n",
      "process 1344/4270\n",
      "process 1408/4270\n",
      "process 1472/4270\n",
      "process 1536/4270\n",
      "process 1600/4270\n",
      "process 1664/4270\n",
      "process 1728/4270\n",
      "process 1792/4270\n",
      "process 1856/4270\n",
      "process 1920/4270\n",
      "process 1984/4270\n",
      "process 2048/4270\n",
      "process 2112/4270\n",
      "process 2176/4270\n",
      "process 2240/4270\n",
      "process 2304/4270\n",
      "process 2368/4270\n",
      "process 2432/4270\n",
      "process 2496/4270\n",
      "process 2560/4270\n",
      "process 2624/4270\n",
      "process 2688/4270\n",
      "process 2752/4270\n",
      "process 2816/4270\n",
      "process 2880/4270\n",
      "process 2944/4270\n",
      "process 3008/4270\n",
      "process 3072/4270\n",
      "process 3136/4270\n",
      "process 3200/4270\n",
      "process 3264/4270\n",
      "process 3328/4270\n",
      "process 3392/4270\n",
      "process 3456/4270\n",
      "process 3520/4270\n",
      "process 3584/4270\n",
      "process 3648/4270\n",
      "process 3712/4270\n",
      "process 3776/4270\n",
      "process 3840/4270\n",
      "process 3904/4270\n",
      "process 3968/4270\n",
      "process 4032/4270\n",
      "process 4096/4270\n",
      "process 4160/4270\n",
      "process 4224/4270\n",
      "cache processed data...\n",
      "Feature fusion time:  0:21:53.217311\n"
     ]
    }
   ],
   "source": [
    "# load features training data\n",
    "skipnum = 0\n",
    "num_frames = 15\n",
    "size = (224, 224, 3)\n",
    "\n",
    "# more balanced data\n",
    "idx_path = os.getcwd() + '/datasets/x_train_ind_above400.npy'\n",
    "Xtrain_idx = np.load(idx_path)\n",
    "labels = np.load(os.getcwd() + '/datasets/y_train_mapped_above400.npy')\n",
    "\n",
    "# if all videos then \n",
    "num_videos = len(Xtrain_idx)\n",
    "\n",
    "tic = datetime.now()\n",
    "Xtr, ytr = load_features(num_videos, num_frames, video_idx = Xtrain_idx, \\\n",
    "                               labels = labels, size = size, skip_num=skipnum)\n",
    "toc = datetime.now()\n",
    "print('Feature fusion time: ', toc-tic)"
   ]
  },
  {
   "cell_type": "code",
   "execution_count": 6,
   "metadata": {
    "collapsed": false
   },
   "outputs": [
    {
     "name": "stdout",
     "output_type": "stream",
     "text": [
      "Xtrain shape:  (64050, 7, 7, 512)\n",
      "ytrain shape:  (4270,)\n"
     ]
    }
   ],
   "source": [
    "print('Xtrain shape: ', Xtr.shape) # should be four dimensions, the first one is num_videos * num_frames\n",
    "print('ytrain shape: ', ytr.shape)\n",
    "assert Xtr.shape[0] == num_videos * num_frames"
   ]
  },
  {
   "cell_type": "code",
   "execution_count": 7,
   "metadata": {
    "collapsed": true
   },
   "outputs": [],
   "source": [
    "# save processed data for convenient in future \n",
    "np.save(os.getcwd() + '/datasets/Xtrain_all_' + str(num_frames) + 'frames.npy', Xtr)\n",
    "np.save(os.getcwd() + '/datasets/ytrain_all_' + str(num_frames) + 'frames.npy', ytr)"
   ]
  },
  {
   "cell_type": "code",
   "execution_count": 11,
   "metadata": {
    "collapsed": false
   },
   "outputs": [
    {
     "name": "stdout",
     "output_type": "stream",
     "text": [
      "processing videos...\n",
      "process 64/1830\n",
      "process 128/1830\n",
      "process 192/1830\n",
      "process 256/1830\n",
      "process 320/1830\n",
      "process 384/1830\n",
      "process 448/1830\n",
      "process 512/1830\n",
      "process 576/1830\n",
      "process 640/1830\n",
      "process 704/1830\n",
      "process 768/1830\n",
      "process 832/1830\n",
      "process 896/1830\n",
      "process 960/1830\n",
      "process 1024/1830\n",
      "process 1088/1830\n",
      "process 1152/1830\n",
      "process 1216/1830\n",
      "process 1280/1830\n",
      "process 1344/1830\n",
      "process 1408/1830\n",
      "process 1472/1830\n",
      "process 1536/1830\n",
      "process 1600/1830\n",
      "process 1664/1830\n",
      "process 1728/1830\n",
      "process 1792/1830\n",
      "cache processed data...\n",
      "Feature fusion time:  0:10:32.829278\n"
     ]
    }
   ],
   "source": [
    "# load test data\n",
    "'''\n",
    "Here may have memory issue after loading training data, \n",
    "thus we need to clear data first\n",
    "'''\n",
    "import gc \n",
    "gc.collect()\n",
    "del Xtr\n",
    "del ytr\n",
    "\n",
    "skipnum = 0\n",
    "num_frames_test = 15\n",
    "size = (224, 224, 3)\n",
    "\n",
    "# more balanced data\n",
    "idx_path = os.getcwd() + '/datasets/x_test_ind_above400.npy'\n",
    "Xtest_idx = np.load(idx_path)\n",
    "ytest = np.load(os.getcwd() + '/datasets/y_test_mapped_above400.npy')\n",
    "\n",
    "# if all videos then \n",
    "num_videos_test = len(Xtest_idx)\n",
    "\n",
    "tic = datetime.now()\n",
    "Xte, yte = load_features(num_videos_test, num_frames_test, video_idx = Xtest_idx, \\\n",
    "                               labels = ytest, size = size, skip_num=skipnum)\n",
    "toc = datetime.now()\n",
    "print('Feature fusion time: ', toc-tic)"
   ]
  },
  {
   "cell_type": "code",
   "execution_count": 12,
   "metadata": {
    "collapsed": false
   },
   "outputs": [
    {
     "name": "stdout",
     "output_type": "stream",
     "text": [
      "Xtest shape:  (27450, 7, 7, 512)\n",
      "ytest shape:  (1830,)\n"
     ]
    }
   ],
   "source": [
    "print('Xtest shape: ', Xte.shape)\n",
    "print('ytest shape: ', yte.shape)\n",
    "assert Xte.shape[0] == num_videos_test * num_frames_test"
   ]
  },
  {
   "cell_type": "code",
   "execution_count": 13,
   "metadata": {
    "collapsed": true
   },
   "outputs": [],
   "source": [
    "# save processed data\n",
    "np.save(os.getcwd() + '/datasets/Xtest_all_' + str(num_frames) + 'frames.npy', Xte)\n",
    "np.save(os.getcwd() + '/datasets/ytest_all_' + str(num_frames) + 'frames.npy', yte)"
   ]
  },
  {
   "cell_type": "code",
   "execution_count": 14,
   "metadata": {
    "collapsed": false
   },
   "outputs": [
    {
     "data": {
      "text/plain": [
       "0"
      ]
     },
     "execution_count": 14,
     "metadata": {},
     "output_type": "execute_result"
    }
   ],
   "source": [
    "# clear memory\n",
    "del Xte\n",
    "del yte\n",
    "gc.collect()"
   ]
  },
  {
   "cell_type": "markdown",
   "metadata": {},
   "source": [
    "## Video classification model"
   ]
  },
  {
   "cell_type": "markdown",
   "metadata": {},
   "source": [
    "In this part, we are going to build up our model. For CNN architecture, we select pretrained imagenet CNN model for convenience. Here pretrained VGG16 is applied. The biggest challenge to classify videos is how to fuse different frames and give single prediction for every video. By reading several paper, we are going to do the following:  \n",
    "* 3D Temporal Max Pooling over frame size and timesteps  \n",
    "* 3D Convolution + 3D Pooling without pretrained model\n",
    "* VGG16 + LSTM achitectures"
   ]
  },
  {
   "cell_type": "code",
   "execution_count": 52,
   "metadata": {
    "collapsed": true
   },
   "outputs": [],
   "source": [
    "from sklearn.metrics import classification_report\n",
    "import gc\n",
    "# some util functions\n",
    "\n",
    "# precision-recall report function\n",
    "def classification_report_func(model, Xte, yte):\n",
    "    ypred = model.predict(Xte)\n",
    "    ypred = np.argmax(ypred, axis = 1)\n",
    "    target_names = ['music', 'gaming', 'sports/actions', 'news/events/politics', 'movie/comedy', 'vehicles/autos',\\\n",
    "               'howto', 'animals/pets', 'kids/family', 'food/drink']\n",
    "    print(classification_report(yte, ypred, target_names = target_names))\n",
    "\n",
    "def loss_plot(hist, title, filename):\n",
    "    plt.plot(hist.history['loss'])\n",
    "    plt.plot(hist.history['val_loss'])\n",
    "    plt.title(title)\n",
    "    plt.ylabel('loss')\n",
    "    plt.xlabel('epoch')\n",
    "    plt.legend(['train', 'validation'], loc='upper right')\n",
    "    plt.savefig(os.getcwd() + '/output/' + filename)\n",
    "\n",
    "def acc_plot(hist, title, filename):\n",
    "    plt.plot(hist.history['acc'])\n",
    "    plt.plot(hist.history['val_acc'])\n",
    "    plt.title(title)\n",
    "    plt.ylabel('accuracy')\n",
    "    plt.xlabel('epoch')\n",
    "    plt.legend(['train', 'validation'], loc='upper left')\n",
    "    plt.savefig(os.getcwd() + '/output/' + filename)"
   ]
  },
  {
   "cell_type": "markdown",
   "metadata": {},
   "source": [
    "### 3D temporal max pooling  \n",
    "In [[1]](https://arxiv.org/abs/1503.08909), Yue-Hei Ng *et al* describes specifically 3D features max pooling method: Conv Pooling, Late Pooling, Slow Pooling, Local Pooling, and Time-Domain Pooling. After running several experiments, it turns out Conv Pooling performs best. Here we follow this Conv Pooling Method. In terms of how to do 3D Max Pooling, Feichtenhofer *et al* give more details and practices [[2]](http://www.cv-foundation.org/openaccess/content_cvpr_2016/papers/Feichtenhofer_Convolutional_Two-Stream_Network_CVPR_2016_paper.pdf). \n",
    "\n",
    "Our model architecture:  \n",
    "* Pretrained VGG16 --> 3D Temporal Max Pooling --> Fully-Connected 4096 units --> Fully-Connected 10 units --> Softmax\n",
    "\n",
    "This model should achieve at least **50%** test accuracy and F-1 score. The model file could be seen in **t3d.py**. \n",
    "\n",
    "Reference:  \n",
    "[1] Yue-Hei Ng, J., Hausknecht, M., Vijayanarasimhan, S., Vinyals, O., Monga, R., & Toderici, G. (2015). Beyond short snippets: Deep networks for video classification. In Proceedings of the IEEE conference on computer vision and pattern recognition (pp. 4694-4702).  \n",
    "[2] Feichtenhofer, C., Pinz, A., & Zisserman, A. (2016). Convolutional two-stream network fusion for video action recognition. In Proceedings of the IEEE Conference on Computer Vision and Pattern Recognition (pp. 1933-1941)."
   ]
  },
  {
   "cell_type": "code",
   "execution_count": 2,
   "metadata": {
    "collapsed": false
   },
   "outputs": [
    {
     "name": "stderr",
     "output_type": "stream",
     "text": [
      "Using TensorFlow backend.\n"
     ]
    }
   ],
   "source": [
    "# !usr/env python 3.5 in .env\n",
    "\n",
    "# set up\n",
    "from model.t3d import video_classification\n",
    "from datetime import datetime\n",
    "import os\n",
    "import h5py\n",
    "import sys\n",
    "import numpy as np\n",
    "import matplotlib.pyplot as plt\n",
    "from keras import optimizers\n",
    "import random\n",
    "\n",
    "%matplotlib inline\n",
    "%load_ext autoreload\n",
    "%autoreload 2"
   ]
  },
  {
   "cell_type": "code",
   "execution_count": 3,
   "metadata": {
    "collapsed": false
   },
   "outputs": [
    {
     "name": "stdout",
     "output_type": "stream",
     "text": [
      "Xtrain shape:  (64050, 7, 7, 512)\n",
      "ytrain shape:  (4270,)\n",
      "Reshape Xtrain:  (4270, 15, 7, 7, 512)\n"
     ]
    }
   ],
   "source": [
    "num_frames = 15\n",
    "npy_path = os.getcwd() + '/datasets/'\n",
    "Xtr = np.load(npy_path + 'Xtrain_all_' + str(num_frames) + 'frames.npy')\n",
    "ytr = np.load(npy_path + 'ytrain_all_' + str(num_frames) + 'frames.npy')\n",
    "print('Xtrain shape: ', Xtr.shape)\n",
    "print('ytrain shape: ', ytr.shape)\n",
    "\n",
    "# reshape Xtrain to train\n",
    "Xtr = Xtr.reshape((-1, num_frames, Xtr.shape[1], Xtr.shape[2], Xtr.shape[3]))\n",
    "print('Reshape Xtrain: ', Xtr.shape)"
   ]
  },
  {
   "cell_type": "code",
   "execution_count": 4,
   "metadata": {
    "collapsed": false
   },
   "outputs": [],
   "source": [
    "'''You could also try small frames number data, \n",
    "the following is just 10 frames. \n",
    "'''\n",
    "\n",
    "# Xtr = np.load(os.getcwd() + '/datasets/pretrained_fuse_features.npy')\n",
    "# print('Xtrain shape: ', Xtr.shape)\n",
    "# shape (4270, 10, 7, 7, 512)"
   ]
  },
  {
   "cell_type": "markdown",
   "metadata": {},
   "source": [
    "Not let's train our model. The model architecture is the following:  \n",
    "* Pretrained VGG16 --> Max Pooling Over (H, W, T) --> Fully-Connected 4096 units --> Fully-Connected 10 units --> Softmax"
   ]
  },
  {
   "cell_type": "code",
   "execution_count": 6,
   "metadata": {
    "collapsed": false
   },
   "outputs": [
    {
     "name": "stdout",
     "output_type": "stream",
     "text": [
      "Model is Training...\n",
      "Train on 3416 samples, validate on 854 samples\n",
      "Epoch 1/50\n",
      "3392/3416 [============================>.] - ETA: 0s - loss: 12.6484 - acc: 0.2185Epoch 00000: val_loss improved from inf to 11.11831, saving model to maxpool3D_classification_weights.hdf5\n",
      "3416/3416 [==============================] - 38s - loss: 12.6378 - acc: 0.2190 - val_loss: 11.1183 - val_acc: 0.3115\n",
      "Epoch 2/50\n",
      "3392/3416 [============================>.] - ETA: 0s - loss: 9.9161 - acc: 0.4009Epoch 00001: val_loss improved from 11.11831 to 9.94814, saving model to maxpool3D_classification_weights.hdf5\n",
      "3416/3416 [==============================] - 38s - loss: 9.8893 - acc: 0.4028 - val_loss: 9.9481 - val_acc: 0.3899\n",
      "Epoch 3/50\n",
      "3392/3416 [============================>.] - ETA: 0s - loss: 9.1279 - acc: 0.4484Epoch 00002: val_loss improved from 9.94814 to 9.62213, saving model to maxpool3D_classification_weights.hdf5\n",
      "3416/3416 [==============================] - 38s - loss: 9.1201 - acc: 0.4482 - val_loss: 9.6221 - val_acc: 0.4192\n",
      "Epoch 4/50\n",
      "3392/3416 [============================>.] - ETA: 0s - loss: 8.3909 - acc: 0.4956Epoch 00003: val_loss did not improve\n",
      "3416/3416 [==============================] - 28s - loss: 8.4161 - acc: 0.4939 - val_loss: 9.8519 - val_acc: 0.3888\n",
      "Epoch 5/50\n",
      "3392/3416 [============================>.] - ETA: 0s - loss: 7.8097 - acc: 0.5286Epoch 00004: val_loss improved from 9.62213 to 8.74319, saving model to maxpool3D_classification_weights.hdf5\n",
      "3416/3416 [==============================] - 38s - loss: 7.8104 - acc: 0.5287 - val_loss: 8.7432 - val_acc: 0.4567\n",
      "Epoch 6/50\n",
      "3392/3416 [============================>.] - ETA: 0s - loss: 7.2548 - acc: 0.5699Epoch 00005: val_loss improved from 8.74319 to 8.56814, saving model to maxpool3D_classification_weights.hdf5\n",
      "3416/3416 [==============================] - 37s - loss: 7.2631 - acc: 0.5691 - val_loss: 8.5681 - val_acc: 0.4813\n",
      "Epoch 7/50\n",
      "3392/3416 [============================>.] - ETA: 0s - loss: 6.9621 - acc: 0.5896Epoch 00006: val_loss improved from 8.56814 to 8.40201, saving model to maxpool3D_classification_weights.hdf5\n",
      "3416/3416 [==============================] - 37s - loss: 6.9568 - acc: 0.5893 - val_loss: 8.4020 - val_acc: 0.4848\n",
      "Epoch 8/50\n",
      "3392/3416 [============================>.] - ETA: 0s - loss: 6.5646 - acc: 0.6123Epoch 00007: val_loss improved from 8.40201 to 8.36007, saving model to maxpool3D_classification_weights.hdf5\n",
      "3416/3416 [==============================] - 38s - loss: 6.5711 - acc: 0.6115 - val_loss: 8.3601 - val_acc: 0.4930\n",
      "Epoch 9/50\n",
      "3392/3416 [============================>.] - ETA: 0s - loss: 6.2062 - acc: 0.6392Epoch 00008: val_loss improved from 8.36007 to 8.12700, saving model to maxpool3D_classification_weights.hdf5\n",
      "3416/3416 [==============================] - 38s - loss: 6.1959 - acc: 0.6399 - val_loss: 8.1270 - val_acc: 0.4941\n",
      "Epoch 10/50\n",
      "3392/3416 [============================>.] - ETA: 0s - loss: 5.8199 - acc: 0.6677Epoch 00009: val_loss improved from 8.12700 to 8.09410, saving model to maxpool3D_classification_weights.hdf5\n",
      "3416/3416 [==============================] - 37s - loss: 5.8312 - acc: 0.6672 - val_loss: 8.0941 - val_acc: 0.5070\n",
      "Epoch 11/50\n",
      "3392/3416 [============================>.] - ETA: 0s - loss: 5.5964 - acc: 0.6884Epoch 00010: val_loss improved from 8.09410 to 7.97685, saving model to maxpool3D_classification_weights.hdf5\n",
      "3416/3416 [==============================] - 38s - loss: 5.5997 - acc: 0.6882 - val_loss: 7.9769 - val_acc: 0.5199\n",
      "Epoch 12/50\n",
      "3392/3416 [============================>.] - ETA: 0s - loss: 5.5969 - acc: 0.6840Epoch 00011: val_loss did not improve\n",
      "3416/3416 [==============================] - 27s - loss: 5.5861 - acc: 0.6847 - val_loss: 8.2976 - val_acc: 0.5000\n",
      "Epoch 13/50\n",
      "3392/3416 [============================>.] - ETA: 0s - loss: 5.4717 - acc: 0.6940Epoch 00012: val_loss improved from 7.97685 to 7.96149, saving model to maxpool3D_classification_weights.hdf5\n",
      "3416/3416 [==============================] - 38s - loss: 5.4759 - acc: 0.6938 - val_loss: 7.9615 - val_acc: 0.5105\n",
      "Epoch 14/50\n",
      "3392/3416 [============================>.] - ETA: 0s - loss: 5.3567 - acc: 0.7034Epoch 00013: val_loss improved from 7.96149 to 7.93966, saving model to maxpool3D_classification_weights.hdf5\n",
      "3416/3416 [==============================] - 38s - loss: 5.3536 - acc: 0.7035 - val_loss: 7.9397 - val_acc: 0.5258\n",
      "Epoch 15/50\n",
      "3392/3416 [============================>.] - ETA: 0s - loss: 5.2173 - acc: 0.7149Epoch 00014: val_loss did not improve\n",
      "3416/3416 [==============================] - 27s - loss: 5.2327 - acc: 0.7140 - val_loss: 7.9924 - val_acc: 0.5176\n",
      "Epoch 16/50\n",
      "3392/3416 [============================>.] - ETA: 0s - loss: 5.1892 - acc: 0.7143Epoch 00015: val_loss did not improve\n",
      "3416/3416 [==============================] - 27s - loss: 5.2009 - acc: 0.7134 - val_loss: 8.0436 - val_acc: 0.5129\n",
      "Epoch 17/50\n",
      "3392/3416 [============================>.] - ETA: 0s - loss: 5.1869 - acc: 0.7146Epoch 00016: val_loss did not improve\n",
      "3416/3416 [==============================] - 28s - loss: 5.1742 - acc: 0.7155 - val_loss: 7.9721 - val_acc: 0.5176\n",
      "Epoch 18/50\n",
      "3392/3416 [============================>.] - ETA: 0s - loss: 5.0679 - acc: 0.7246Epoch 00017: val_loss improved from 7.93966 to 7.72518, saving model to maxpool3D_classification_weights.hdf5\n",
      "3416/3416 [==============================] - 38s - loss: 5.0844 - acc: 0.7237 - val_loss: 7.7252 - val_acc: 0.5351\n",
      "Epoch 19/50\n",
      "3392/3416 [============================>.] - ETA: 0s - loss: 5.0650 - acc: 0.7241Epoch 00018: val_loss did not improve\n",
      "3416/3416 [==============================] - 28s - loss: 5.0579 - acc: 0.7245 - val_loss: 7.9603 - val_acc: 0.5152\n",
      "Epoch 20/50\n",
      "3392/3416 [============================>.] - ETA: 0s - loss: 5.0854 - acc: 0.7176Epoch 00019: val_loss did not improve\n",
      "3416/3416 [==============================] - 27s - loss: 5.0782 - acc: 0.7181 - val_loss: 7.9302 - val_acc: 0.5293\n",
      "Epoch 21/50\n",
      "3392/3416 [============================>.] - ETA: 0s - loss: 4.9424 - acc: 0.7285Epoch 00020: val_loss did not improve\n",
      "3416/3416 [==============================] - 28s - loss: 4.9314 - acc: 0.7292 - val_loss: 7.7909 - val_acc: 0.5281\n",
      "Epoch 22/50\n",
      "3392/3416 [============================>.] - ETA: 0s - loss: 4.8996 - acc: 0.7311Epoch 00021: val_loss did not improve\n",
      "3416/3416 [==============================] - 28s - loss: 4.8937 - acc: 0.7316 - val_loss: 7.8968 - val_acc: 0.5152\n",
      "Epoch 23/50\n",
      "3392/3416 [============================>.] - ETA: 0s - loss: 4.6400 - acc: 0.7423Epoch 00022: val_loss improved from 7.72518 to 7.45293, saving model to maxpool3D_classification_weights.hdf5\n",
      "3416/3416 [==============================] - 38s - loss: 4.6453 - acc: 0.7421 - val_loss: 7.4529 - val_acc: 0.5457\n",
      "Epoch 24/50\n",
      "3392/3416 [============================>.] - ETA: 0s - loss: 4.3981 - acc: 0.7624Epoch 00023: val_loss improved from 7.45293 to 7.43006, saving model to maxpool3D_classification_weights.hdf5\n",
      "3416/3416 [==============================] - 38s - loss: 4.3957 - acc: 0.7626 - val_loss: 7.4301 - val_acc: 0.5468\n",
      "Epoch 25/50\n",
      "3392/3416 [============================>.] - ETA: 0s - loss: 4.3035 - acc: 0.7650Epoch 00024: val_loss did not improve\n",
      "3416/3416 [==============================] - 28s - loss: 4.2970 - acc: 0.7655 - val_loss: 7.6004 - val_acc: 0.5398\n",
      "Epoch 26/50\n",
      "3392/3416 [============================>.] - ETA: 0s - loss: 4.2525 - acc: 0.7700Epoch 00025: val_loss did not improve\n",
      "3416/3416 [==============================] - 28s - loss: 4.2605 - acc: 0.7696 - val_loss: 7.8264 - val_acc: 0.5293\n",
      "Epoch 27/50\n",
      "3392/3416 [============================>.] - ETA: 0s - loss: 4.2037 - acc: 0.7721Epoch 00026: val_loss did not improve\n",
      "3416/3416 [==============================] - 27s - loss: 4.1979 - acc: 0.7725 - val_loss: 7.6131 - val_acc: 0.5398\n",
      "Epoch 28/50\n",
      "3392/3416 [============================>.] - ETA: 0s - loss: 4.0403 - acc: 0.7871Epoch 00027: val_loss did not improve\n",
      "3416/3416 [==============================] - 27s - loss: 4.0528 - acc: 0.7863 - val_loss: 7.9052 - val_acc: 0.5199\n",
      "Epoch 29/50\n",
      "3392/3416 [============================>.] - ETA: 0s - loss: 4.0284 - acc: 0.7857Epoch 00028: val_loss improved from 7.43006 to 7.28312, saving model to maxpool3D_classification_weights.hdf5\n",
      "3416/3416 [==============================] - 38s - loss: 4.0380 - acc: 0.7851 - val_loss: 7.2831 - val_acc: 0.5585\n",
      "Epoch 30/50\n",
      "3392/3416 [============================>.] - ETA: 0s - loss: 3.9565 - acc: 0.7910Epoch 00029: val_loss did not improve\n",
      "3416/3416 [==============================] - 28s - loss: 3.9761 - acc: 0.7898 - val_loss: 7.2897 - val_acc: 0.5609\n",
      "Epoch 31/50\n",
      "3392/3416 [============================>.] - ETA: 0s - loss: 3.8566 - acc: 0.7978Epoch 00030: val_loss did not improve\n",
      "3416/3416 [==============================] - 28s - loss: 3.8688 - acc: 0.7968 - val_loss: 7.3766 - val_acc: 0.5609\n",
      "Epoch 32/50\n",
      "3392/3416 [============================>.] - ETA: 0s - loss: 3.8488 - acc: 0.7978Epoch 00031: val_loss did not improve\n",
      "3416/3416 [==============================] - 28s - loss: 3.8409 - acc: 0.7983 - val_loss: 7.7036 - val_acc: 0.5351\n",
      "Epoch 33/50\n",
      "3392/3416 [============================>.] - ETA: 0s - loss: 3.8094 - acc: 0.8025Epoch 00032: val_loss did not improve\n",
      "3416/3416 [==============================] - 28s - loss: 3.8065 - acc: 0.8027 - val_loss: 7.3583 - val_acc: 0.5410\n",
      "Epoch 34/50\n",
      "3392/3416 [============================>.] - ETA: 0s - loss: 3.7576 - acc: 0.8069Epoch 00033: val_loss improved from 7.28312 to 7.17103, saving model to maxpool3D_classification_weights.hdf5\n",
      "3416/3416 [==============================] - 37s - loss: 3.7550 - acc: 0.8071 - val_loss: 7.1710 - val_acc: 0.5691\n",
      "Epoch 35/50\n",
      "3392/3416 [============================>.] - ETA: 0s - loss: 3.7019 - acc: 0.8104Epoch 00034: val_loss did not improve\n",
      "3416/3416 [==============================] - 27s - loss: 3.7052 - acc: 0.8100 - val_loss: 7.5756 - val_acc: 0.5340\n",
      "Epoch 36/50\n",
      "3392/3416 [============================>.] - ETA: 0s - loss: 3.6795 - acc: 0.8096Epoch 00035: val_loss did not improve\n",
      "3416/3416 [==============================] - 27s - loss: 3.6877 - acc: 0.8088 - val_loss: 7.3505 - val_acc: 0.5562\n",
      "Epoch 37/50\n",
      "3392/3416 [============================>.] - ETA: 0s - loss: 3.6041 - acc: 0.8172Epoch 00036: val_loss did not improve\n",
      "3416/3416 [==============================] - 27s - loss: 3.6214 - acc: 0.8162 - val_loss: 7.5088 - val_acc: 0.5515\n",
      "Epoch 38/50\n",
      "3392/3416 [============================>.] - ETA: 0s - loss: 3.6300 - acc: 0.8160Epoch 00037: val_loss did not improve\n",
      "3416/3416 [==============================] - 28s - loss: 3.6093 - acc: 0.8173 - val_loss: 7.3682 - val_acc: 0.5644\n",
      "Epoch 39/50\n",
      "3392/3416 [============================>.] - ETA: 0s - loss: 3.6299 - acc: 0.8137Epoch 00038: val_loss did not improve\n",
      "3416/3416 [==============================] - 27s - loss: 3.6329 - acc: 0.8135 - val_loss: 7.1954 - val_acc: 0.5621\n",
      "Epoch 40/50\n",
      "3392/3416 [============================>.] - ETA: 0s - loss: 3.5786 - acc: 0.8190Epoch 00039: val_loss improved from 7.17103 to 7.08633, saving model to maxpool3D_classification_weights.hdf5\n",
      "3416/3416 [==============================] - 37s - loss: 3.5819 - acc: 0.8188 - val_loss: 7.0863 - val_acc: 0.5726\n",
      "Epoch 41/50\n",
      "3392/3416 [============================>.] - ETA: 0s - loss: 3.5759 - acc: 0.8187Epoch 00040: val_loss did not improve\n",
      "3416/3416 [==============================] - 27s - loss: 3.5651 - acc: 0.8194 - val_loss: 7.1732 - val_acc: 0.5574\n",
      "Epoch 42/50\n",
      "3392/3416 [============================>.] - ETA: 0s - loss: 3.6023 - acc: 0.8140Epoch 00041: val_loss did not improve\n",
      "3416/3416 [==============================] - 28s - loss: 3.6102 - acc: 0.8135 - val_loss: 7.4708 - val_acc: 0.5527\n",
      "Epoch 43/50\n",
      "3392/3416 [============================>.] - ETA: 0s - loss: 3.5281 - acc: 0.8219Epoch 00042: val_loss did not improve\n",
      "3416/3416 [==============================] - 28s - loss: 3.5413 - acc: 0.8211 - val_loss: 7.1381 - val_acc: 0.5726\n",
      "Epoch 44/50\n",
      "3392/3416 [============================>.] - ETA: 0s - loss: 3.5261 - acc: 0.8210Epoch 00043: val_loss did not improve\n",
      "3416/3416 [==============================] - 27s - loss: 3.5299 - acc: 0.8208 - val_loss: 7.6584 - val_acc: 0.5316\n",
      "Epoch 45/50\n",
      "3392/3416 [============================>.] - ETA: 0s - loss: 3.5221 - acc: 0.8219Epoch 00044: val_loss did not improve\n",
      "3416/3416 [==============================] - 27s - loss: 3.5272 - acc: 0.8214 - val_loss: 7.3687 - val_acc: 0.5574\n",
      "Epoch 46/50\n",
      "3392/3416 [============================>.] - ETA: 0s - loss: 3.4923 - acc: 0.8237Epoch 00045: val_loss did not improve\n",
      "3416/3416 [==============================] - 27s - loss: 3.4827 - acc: 0.8241 - val_loss: 7.5603 - val_acc: 0.5433\n",
      "Epoch 47/50\n",
      "3392/3416 [============================>.] - ETA: 0s - loss: 3.5089 - acc: 0.8222Epoch 00046: val_loss did not improve\n",
      "3416/3416 [==============================] - 27s - loss: 3.5033 - acc: 0.8226 - val_loss: 7.1557 - val_acc: 0.5773\n",
      "Epoch 48/50\n",
      "3392/3416 [============================>.] - ETA: 0s - loss: 3.4457 - acc: 0.8267Epoch 00047: val_loss did not improve\n",
      "3416/3416 [==============================] - 27s - loss: 3.4641 - acc: 0.8255 - val_loss: 7.1407 - val_acc: 0.5679\n",
      "Epoch 49/50\n",
      "3392/3416 [============================>.] - ETA: 0s - loss: 3.4940 - acc: 0.8219Epoch 00048: val_loss did not improve\n",
      "3416/3416 [==============================] - 28s - loss: 3.4885 - acc: 0.8223 - val_loss: 7.3736 - val_acc: 0.5562\n",
      "Epoch 50/50\n",
      "3392/3416 [============================>.] - ETA: 0s - loss: 3.4171 - acc: 0.8275Epoch 00049: val_loss did not improve\n",
      "3416/3416 [==============================] - 28s - loss: 3.4216 - acc: 0.8273 - val_loss: 7.3874 - val_acc: 0.5527\n"
     ]
    }
   ],
   "source": [
    "# let's train our model \n",
    "random.seed(100)\n",
    "t3d = video_classification()\n",
    "\n",
    "'''feel free to try different optimizer'''\n",
    "# sgd_m = optimizers.SGD(lr=1e-5, decay=1e-6, momentum=0.9, nesterov=True)\n",
    "adam = optimizers.Adam(lr=3e-6, beta_1=0.9, beta_2=0.999, epsilon=1e-8, decay=1e-6)\n",
    "hist = t3d.train(num_frames, Xtr, ytr, reg = 0.0001, optimizer = adam, verbose = 1, epochs = 50, split_ratio = 0.2)"
   ]
  },
  {
   "cell_type": "code",
   "execution_count": 7,
   "metadata": {
    "collapsed": false
   },
   "outputs": [
    {
     "data": {
      "image/png": "[encoded data removed]",
      "text/plain": [
       "<matplotlib.figure.Figure at 0x7f4235c34b70>"
      ]
     },
     "metadata": {},
     "output_type": "display_data"
    }
   ],
   "source": [
    "# summarize history for accuracy\n",
    "t3d.plot()"
   ]
  },
  {
   "cell_type": "code",
   "execution_count": 8,
   "metadata": {
    "collapsed": false
   },
   "outputs": [
    {
     "data": {
      "image/png": "[encoded data removed]",
      "text/plain": [
       "<matplotlib.figure.Figure at 0x7f3f302ce438>"
      ]
     },
     "metadata": {},
     "output_type": "display_data"
    },
    {
     "data": {
      "image/png": "[encoded data removed]",
      "text/plain": [
       "<matplotlib.figure.Figure at 0x7f3f302a6860>"
      ]
     },
     "metadata": {},
     "output_type": "display_data"
    }
   ],
   "source": [
    "filename1 = 't3d_loss_' + str(num_frames) + 'frames.png'\n",
    "plt.figure(1)\n",
    "title1 = 'Temporal 3D Max Pooling Loss'\n",
    "loss_plot(t3d.hist, title1, filename1)\n",
    "filename2 = 't3d_accuracy_' + str(num_frames) + 'frames.png'\n",
    "title2 = 'Temporal 3D Max Pooling Accuracy'\n",
    "plt.figure(2)\n",
    "acc_plot(t3d.hist, title2, filename2)"
   ]
  },
  {
   "cell_type": "code",
   "execution_count": 9,
   "metadata": {
    "collapsed": false
   },
   "outputs": [
    {
     "name": "stdout",
     "output_type": "stream",
     "text": [
      "Xtest shape:  (27450, 7, 7, 512)\n",
      "ytest shape:  (1830,)\n",
      "Reshape Xtest:  (1830, 15, 7, 7, 512)\n"
     ]
    }
   ],
   "source": [
    "# clear memory first\n",
    "del Xtr\n",
    "del ytr\n",
    "gc.collect()\n",
    "\n",
    "# load test data\n",
    "Xte = np.load(npy_path + 'Xtest_all_' + str(num_frames) + 'frames.npy')\n",
    "yte = np.load(npy_path + 'ytest_all_' + str(num_frames) + 'frames.npy')\n",
    "print('Xtest shape: ', Xte.shape)\n",
    "print('ytest shape: ', yte.shape)\n",
    "\n",
    "# reshape Xtrain to train\n",
    "Xte = Xte.reshape((-1, num_frames, Xte.shape[1], Xte.shape[2], Xte.shape[3]))\n",
    "print('Reshape Xtest: ', Xte.shape)"
   ]
  },
  {
   "cell_type": "code",
   "execution_count": null,
   "metadata": {
    "collapsed": true
   },
   "outputs": [],
   "source": [
    "# small test data sets\n",
    "# Xte = np.load(os.getcwd() + '/datasets/pretrained_fuse_Xtest.npy')"
   ]
  },
  {
   "cell_type": "code",
   "execution_count": 10,
   "metadata": {
    "collapsed": false
   },
   "outputs": [
    {
     "name": "stdout",
     "output_type": "stream",
     "text": [
      "Video Classification Accuracy: 0.5693989071038251\n"
     ]
    }
   ],
   "source": [
    "# prediction \n",
    "t3d.predict(Xte, yte)"
   ]
  },
  {
   "cell_type": "code",
   "execution_count": 11,
   "metadata": {
    "collapsed": false
   },
   "outputs": [
    {
     "name": "stdout",
     "output_type": "stream",
     "text": [
      "                      precision    recall  f1-score   support\n",
      "\n",
      "               music       0.33      0.37      0.35       195\n",
      "              gaming       0.52      0.62      0.57       122\n",
      "      sports/actions       0.69      0.71      0.70       288\n",
      "news/events/politics       0.45      0.49      0.47       133\n",
      "        movie/comedy       0.51      0.58      0.54       220\n",
      "      vehicles/autos       0.73      0.77      0.75       229\n",
      "               howto       0.51      0.45      0.48       163\n",
      "        animals/pets       0.62      0.50      0.55       145\n",
      "         kids/family       0.51      0.38      0.44       152\n",
      "          food/drink       0.72      0.64      0.68       183\n",
      "\n",
      "         avg / total       0.57      0.57      0.57      1830\n",
      "\n"
     ]
    }
   ],
   "source": [
    "# output classification report, precision-recall matrix\n",
    "classification_report_func(t3d.add_model, Xte, yte)"
   ]
  },
  {
   "cell_type": "code",
   "execution_count": 12,
   "metadata": {
    "collapsed": false
   },
   "outputs": [
    {
     "name": "stdout",
     "output_type": "stream",
     "text": [
      "Unknown\n",
      "Saved model to disk\n"
     ]
    }
   ],
   "source": [
    "# save model\n",
    "from models import models\n",
    "m = models(model = t3d.add_model, model_name = 'temporal_maxpool_model')\n",
    "m.save()"
   ]
  },
  {
   "cell_type": "code",
   "execution_count": 17,
   "metadata": {
    "collapsed": false
   },
   "outputs": [
    {
     "data": {
      "text/plain": [
       "0"
      ]
     },
     "execution_count": 17,
     "metadata": {},
     "output_type": "execute_result"
    }
   ],
   "source": [
    "# clear memory until gc.collect() output is 0\n",
    "del Xte\n",
    "del yte\n",
    "t3d.add_model = None\n",
    "t3d = None\n",
    "# until gc.collect() == 0\n",
    "gc.collect()"
   ]
  },
  {
   "cell_type": "markdown",
   "metadata": {},
   "source": [
    "## CNN + LSTM model  \n",
    "In [[1]](https://arxiv.org/abs/1503.08909), Yue-Hei Ng *et al* also describes LSTM model to fuse video frames. As stated in the article, LSTM could maintain dynamic contents of videos to make more accurate predictions. The authors create five stacked LSTM architecture and output softmax score for every frame. In order to give the final single prediction, they come up with four approaches:  \n",
    "* returning the prediction at the last time step T \n",
    "* max-pooling the predictions over time \n",
    "* summing the predictions over time and return the max \n",
    "* linearly weighting the predictions over time by g then sum and return the max.  \n",
    "\n",
    "As a result, The accuracy for all four approaches was less than 1% different, but the weighted one give the best results. In our project, we apply the max score method. Our architecture refers to it,   \n",
    "\n",
    "* Pretrained VGG16 Output --> Stacked LSTM with 512 cells each --> Fully-Connected 10 units --> Softmax\n",
    "\n",
    "This model should achieve around **60%** test accuracy and F-1 score. The model file is **LSTM_model.py**\n",
    "\n",
    "Reference:  \n",
    "[1] Yue-Hei Ng, J., Hausknecht, M., Vijayanarasimhan, S., Vinyals, O., Monga, R., & Toderici, G. (2015). Beyond short snippets: Deep networks for video classification. In Proceedings of the IEEE conference on computer vision and pattern recognition (pp. 4694-4702).  "
   ]
  },
  {
   "cell_type": "code",
   "execution_count": 69,
   "metadata": {
    "collapsed": false
   },
   "outputs": [
    {
     "name": "stdout",
     "output_type": "stream",
     "text": [
      "The autoreload extension is already loaded. To reload it, use:\n",
      "  %reload_ext autoreload\n"
     ]
    }
   ],
   "source": [
    "# set up\n",
    "from load_feature import load_features\n",
    "from datetime import datetime\n",
    "from model.LSTM_model import video_classification\n",
    "import numpy as np\n",
    "import os\n",
    "import gc\n",
    "from keras import optimizers\n",
    "import matplotlib.pyplot as plt\n",
    "\n",
    "%load_ext autoreload\n",
    "%autoreload 2\n",
    "%matplotlib inline"
   ]
  },
  {
   "cell_type": "code",
   "execution_count": 74,
   "metadata": {
    "collapsed": false
   },
   "outputs": [],
   "source": [
    "# load train data\n",
    "npy_path = os.getcwd() + '/datasets/'\n",
    "num_frames = 15\n",
    "Xtr = np.load(npy_path + 'Xtrain_all_' + str(num_frames) + 'frames.npy')\n",
    "ytr = np.load(npy_path + 'ytrain_all_' + str(num_frames) + 'frames.npy')"
   ]
  },
  {
   "cell_type": "markdown",
   "metadata": {},
   "source": [
    "**Note**: LSTM model is easy to overfit when training. One of the reasons is that the datasets should match with the cell number of LSTM layers. Usually, if the volume of datasets are too small, LSTM with big cell numbers should overfit. The training accuracy will reach 100%. But if we set cell numbers small, although the model may not overfit, we could not achieve high enough validation accuracy compared to big cell numbers. Thus, in this case, we build up LSTM model with big cell numbers (Here 128 each). In order to reduce overfitting (not prevent), we add network dropout , recurrent dropout and adjust regularizations. In common case, we should make sure regularization parameter should not be too big so that it will dominate softmax loss. But here, we balance these two losses to penalize the weights. Although overfitting is not easy to avoid in this case, but bigger cell numbers LSTM also achieve higher validation and test accuracy. Here we train smaller epoches to achieve high enough accuracy and stop.  "
   ]
  },
  {
   "cell_type": "code",
   "execution_count": 75,
   "metadata": {
    "collapsed": false
   },
   "outputs": [
    {
     "name": "stdout",
     "output_type": "stream",
     "text": [
      "building model...\n",
      "LSTM model summary: \n",
      "_________________________________________________________________\n",
      "Layer (type)                 Output Shape              Param #   \n",
      "=================================================================\n",
      "lstm_31 (LSTM)               (None, 15, 128)           12911104  \n",
      "_________________________________________________________________\n",
      "lstm_32 (LSTM)               (None, 128)               131584    \n",
      "_________________________________________________________________\n",
      "dense_16 (Dense)             (None, 10)                1290      \n",
      "=================================================================\n",
      "Total params: 13,043,978\n",
      "Trainable params: 13,043,978\n",
      "Non-trainable params: 0\n",
      "_________________________________________________________________\n",
      "None\n"
     ]
    }
   ],
   "source": [
    "# build up model \n",
    "num_classes = len(np.unique(ytr))\n",
    "lstm = video_classification(num_frames=num_frames, num_classes=num_classes)\n",
    "\n",
    "# cell_num depends on volume of datasets\n",
    "lstm.build_model(cell_num = 128, dropout_rate=0.5, reg=0.1)\n",
    "print('LSTM model summary: ')\n",
    "print(lstm.model.summary())"
   ]
  },
  {
   "cell_type": "code",
   "execution_count": 63,
   "metadata": {
    "collapsed": false
   },
   "outputs": [
    {
     "data": {
      "text/plain": [
       "0"
      ]
     },
     "execution_count": 63,
     "metadata": {},
     "output_type": "execute_result"
    }
   ],
   "source": [
    "'''\n",
    "Every time you adjust regularization or learning rate, you should release memory first\n",
    "by running the following codes until output is 0 and then build up new class by \n",
    "running codes in the cell above. \n",
    "'''\n",
    "import gc\n",
    "lstm.model = None\n",
    "gc.collect() "
   ]
  },
  {
   "cell_type": "code",
   "execution_count": 76,
   "metadata": {
    "collapsed": false
   },
   "outputs": [
    {
     "name": "stdout",
     "output_type": "stream",
     "text": [
      "Model is Training...\n",
      "Train on 3416 samples, validate on 854 samples\n",
      "Epoch 1/15\n",
      "3392/3416 [============================>.] - ETA: 0s - loss: 3.9727 - acc: 0.2426Epoch 00000: val_loss improved from inf to 3.69999, saving model to lstm_classification_weights.hdf5\n",
      "3416/3416 [==============================] - 25s - loss: 3.9717 - acc: 0.2430 - val_loss: 3.7000 - val_acc: 0.3829\n",
      "Epoch 2/15\n",
      "3392/3416 [============================>.] - ETA: 0s - loss: 3.5352 - acc: 0.4475Epoch 00001: val_loss improved from 3.69999 to 3.34838, saving model to lstm_classification_weights.hdf5\n",
      "3416/3416 [==============================] - 21s - loss: 3.5344 - acc: 0.4476 - val_loss: 3.3484 - val_acc: 0.4789\n",
      "Epoch 3/15\n",
      "3392/3416 [============================>.] - ETA: 0s - loss: 3.1940 - acc: 0.5318Epoch 00002: val_loss improved from 3.34838 to 3.09628, saving model to lstm_classification_weights.hdf5\n",
      "3416/3416 [==============================] - 21s - loss: 3.1924 - acc: 0.5328 - val_loss: 3.0963 - val_acc: 0.5152\n",
      "Epoch 4/15\n",
      "3392/3416 [============================>.] - ETA: 0s - loss: 2.8902 - acc: 0.6064Epoch 00003: val_loss improved from 3.09628 to 2.89628, saving model to lstm_classification_weights.hdf5\n",
      "3416/3416 [==============================] - 21s - loss: 2.8883 - acc: 0.6074 - val_loss: 2.8963 - val_acc: 0.5187\n",
      "Epoch 5/15\n",
      "3392/3416 [============================>.] - ETA: 0s - loss: 2.6076 - acc: 0.6739Epoch 00004: val_loss improved from 2.89628 to 2.70205, saving model to lstm_classification_weights.hdf5\n",
      "3416/3416 [==============================] - 21s - loss: 2.6049 - acc: 0.6748 - val_loss: 2.7021 - val_acc: 0.5597\n",
      "Epoch 6/15\n",
      "3392/3416 [============================>.] - ETA: 0s - loss: 2.3507 - acc: 0.7338Epoch 00005: val_loss improved from 2.70205 to 2.54421, saving model to lstm_classification_weights.hdf5\n",
      "3416/3416 [==============================] - 21s - loss: 2.3500 - acc: 0.7339 - val_loss: 2.5442 - val_acc: 0.5902\n",
      "Epoch 7/15\n",
      "3392/3416 [============================>.] - ETA: 0s - loss: 2.1241 - acc: 0.7883Epoch 00006: val_loss improved from 2.54421 to 2.45160, saving model to lstm_classification_weights.hdf5\n",
      "3416/3416 [==============================] - 21s - loss: 2.1220 - acc: 0.7886 - val_loss: 2.4516 - val_acc: 0.5761\n",
      "Epoch 8/15\n",
      "3392/3416 [============================>.] - ETA: 0s - loss: 1.9143 - acc: 0.8293Epoch 00007: val_loss improved from 2.45160 to 2.32750, saving model to lstm_classification_weights.hdf5\n",
      "3416/3416 [==============================] - 21s - loss: 1.9145 - acc: 0.8290 - val_loss: 2.3275 - val_acc: 0.5878\n",
      "Epoch 9/15\n",
      "3392/3416 [============================>.] - ETA: 0s - loss: 1.7173 - acc: 0.8659Epoch 00008: val_loss improved from 2.32750 to 2.23917, saving model to lstm_classification_weights.hdf5\n",
      "3416/3416 [==============================] - 21s - loss: 1.7175 - acc: 0.8650 - val_loss: 2.2392 - val_acc: 0.5913\n",
      "Epoch 10/15\n",
      "3392/3416 [============================>.] - ETA: 0s - loss: 1.5428 - acc: 0.8965Epoch 00009: val_loss improved from 2.23917 to 2.19069, saving model to lstm_classification_weights.hdf5\n",
      "3416/3416 [==============================] - 21s - loss: 1.5442 - acc: 0.8955 - val_loss: 2.1907 - val_acc: 0.5855\n",
      "Epoch 11/15\n",
      "3392/3416 [============================>.] - ETA: 0s - loss: 1.4019 - acc: 0.9092Epoch 00010: val_loss improved from 2.19069 to 2.10254, saving model to lstm_classification_weights.hdf5\n",
      "3416/3416 [==============================] - 21s - loss: 1.4015 - acc: 0.9095 - val_loss: 2.1025 - val_acc: 0.6148\n",
      "Epoch 12/15\n",
      "3392/3416 [============================>.] - ETA: 0s - loss: 1.2603 - acc: 0.9334Epoch 00011: val_loss improved from 2.10254 to 2.05037, saving model to lstm_classification_weights.hdf5\n",
      "3416/3416 [==============================] - 21s - loss: 1.2616 - acc: 0.9330 - val_loss: 2.0504 - val_acc: 0.5984\n",
      "Epoch 13/15\n",
      "3392/3416 [============================>.] - ETA: 0s - loss: 1.1520 - acc: 0.9393Epoch 00012: val_loss improved from 2.05037 to 2.02987, saving model to lstm_classification_weights.hdf5\n",
      "3416/3416 [==============================] - 21s - loss: 1.1519 - acc: 0.9391 - val_loss: 2.0299 - val_acc: 0.5984\n",
      "Epoch 14/15\n",
      "3392/3416 [============================>.] - ETA: 0s - loss: 1.0433 - acc: 0.9525Epoch 00013: val_loss improved from 2.02987 to 1.96779, saving model to lstm_classification_weights.hdf5\n",
      "3416/3416 [==============================] - 21s - loss: 1.0430 - acc: 0.9526 - val_loss: 1.9678 - val_acc: 0.6054\n",
      "Epoch 15/15\n",
      "3392/3416 [============================>.] - ETA: 0s - loss: 0.9490 - acc: 0.9649Epoch 00014: val_loss did not improve\n",
      "3416/3416 [==============================] - 20s - loss: 0.9489 - acc: 0.9649 - val_loss: 1.9770 - val_acc: 0.5890\n"
     ]
    }
   ],
   "source": [
    "# let's train our model\n",
    "# sgd_m = optimizers.SGD(lr=1e-3, decay=1e-6, momentum=0.9, nesterov=True)\n",
    "adam = optimizers.Adam(lr=1e-4, beta_1=0.5, beta_2=0.9, epsilon=1e-8, decay=1e-6)\n",
    "lstm.train(Xtr=Xtr, ytr=ytr, optimizer = adam, verbose=1, bsize=64, epochs=15)"
   ]
  },
  {
   "cell_type": "code",
   "execution_count": 77,
   "metadata": {
    "collapsed": false
   },
   "outputs": [
    {
     "data": {
      "image/png": "[encoded data removed]",
      "text/plain": [
       "<matplotlib.figure.Figure at 0x7f3682e88eb8>"
      ]
     },
     "metadata": {},
     "output_type": "display_data"
    }
   ],
   "source": [
    "lstm.plot()"
   ]
  },
  {
   "cell_type": "code",
   "execution_count": 78,
   "metadata": {
    "collapsed": false
   },
   "outputs": [
    {
     "data": {
      "image/png": "[encoded data removed]",
      "text/plain": [
       "<matplotlib.figure.Figure at 0x7f3a07bc7e80>"
      ]
     },
     "metadata": {},
     "output_type": "display_data"
    },
    {
     "data": {
      "image/png": "[encoded data removed]",
      "text/plain": [
       "<matplotlib.figure.Figure at 0x7f3a07adbb00>"
      ]
     },
     "metadata": {},
     "output_type": "display_data"
    }
   ],
   "source": [
    "filename1 = 'lstm_loss_' + str(num_frames) + 'frames.png'\n",
    "plt.figure(1)\n",
    "title1 = 'LSTM Loss'\n",
    "loss_plot(lstm.hist, title1, filename1)\n",
    "filename2 = 'lstm_accuracy_' + str(num_frames) + 'frames.png'\n",
    "title2 = 'LSTM Accuracy'\n",
    "plt.figure(2)\n",
    "acc_plot(lstm.hist, title2, filename2)"
   ]
  },
  {
   "cell_type": "code",
   "execution_count": 79,
   "metadata": {
    "collapsed": false
   },
   "outputs": [],
   "source": [
    "# clear memory\n",
    "del Xtr\n",
    "del ytr\n",
    "gc.collect() \n",
    "\n",
    "# load test data\n",
    "Xte = np.load(npy_path + 'Xtest_all_' + str(num_frames) + 'frames.npy')\n",
    "yte = np.load(npy_path + 'ytest_all_' + str(num_frames) + 'frames.npy')\n",
    "\n",
    "# reshape Xtrain to train\n",
    "Xte = Xte.reshape((-1, num_frames, Xte.shape[1]*Xte.shape[2]*Xte.shape[3]))"
   ]
  },
  {
   "cell_type": "code",
   "execution_count": 80,
   "metadata": {
    "collapsed": false
   },
   "outputs": [
    {
     "name": "stdout",
     "output_type": "stream",
     "text": [
      "Video Classification Accuracy: 0.6060109289617487\n"
     ]
    }
   ],
   "source": [
    "lstm.predict(Xte, yte)"
   ]
  },
  {
   "cell_type": "code",
   "execution_count": 81,
   "metadata": {
    "collapsed": false
   },
   "outputs": [
    {
     "name": "stdout",
     "output_type": "stream",
     "text": [
      "                      precision    recall  f1-score   support\n",
      "\n",
      "               music       0.41      0.53      0.46       195\n",
      "              gaming       0.59      0.67      0.63       122\n",
      "      sports/actions       0.74      0.72      0.73       288\n",
      "news/events/politics       0.59      0.47      0.53       133\n",
      "        movie/comedy       0.49      0.59      0.54       220\n",
      "      vehicles/autos       0.73      0.82      0.77       229\n",
      "               howto       0.69      0.44      0.53       163\n",
      "        animals/pets       0.62      0.50      0.55       145\n",
      "         kids/family       0.54      0.45      0.49       152\n",
      "          food/drink       0.69      0.68      0.68       183\n",
      "\n",
      "         avg / total       0.62      0.61      0.61      1830\n",
      "\n"
     ]
    }
   ],
   "source": [
    "classification_report_func(lstm.model, Xte, yte)"
   ]
  },
  {
   "cell_type": "markdown",
   "metadata": {},
   "source": [
    "### Direct 3D Convolutional "
   ]
  },
  {
   "cell_type": "code",
   "execution_count": null,
   "metadata": {
    "collapsed": true
   },
   "outputs": [],
   "source": []
  }
 ],
 "metadata": {
  "kernelspec": {
   "display_name": "Python 3",
   "language": "python",
   "name": "python3"
  },
  "language_info": {
   "codemirror_mode": {
    "name": "ipython",
    "version": 3
   },
   "file_extension": ".py",
   "mimetype": "text/x-python",
   "name": "python",
   "nbconvert_exporter": "python",
   "pygments_lexer": "ipython3",
   "version": "3.5.3"
  }
 },
 "nbformat": 4,
 "nbformat_minor": 0
}
